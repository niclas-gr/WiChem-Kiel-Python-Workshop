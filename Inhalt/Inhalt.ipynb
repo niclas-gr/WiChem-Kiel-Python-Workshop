{
 "cells": [
  {
   "cell_type": "markdown",
   "metadata": {
    "cell_id": "e7bd87efffe34ad29b5336b9689ffaf6",
    "deepnote_cell_type": "markdown",
    "tags": []
   },
   "source": [
    "# The Programming Language Python"
   ]
  },
  {
   "cell_type": "markdown",
   "metadata": {
    "cell_id": "6267db27c3ec4fa0bec4e52bad086ce2",
    "deepnote_cell_type": "markdown",
    "tags": []
   },
   "source": [
    "## Output"
   ]
  },
  {
   "cell_type": "markdown",
   "metadata": {
    "cell_id": "2f01365a578b4f9d9319c9ce15e20613",
    "deepnote_cell_type": "markdown",
    "tags": []
   },
   "source": [
    "- the upper, grey-shaded part of a \"code cell\" contains the input (meaning the code that you write) while the lower, white-shaded part contains the output\n",
    "- in addition to code cells, this \"notebook\" also contains text cells (like this one)\n",
    "\n",
    "<br>\n",
    "\n",
    "- it is possible to generate output from code cells in *interactive mode* where only the last output is printed to the output field \n",
    "- to output more than one line the *script mode* using ```print(<message>)``` function must be used &rarr; accepts any kind of printable output, e.g. strings, lists, numbers"
   ]
  },
  {
   "cell_type": "code",
   "execution_count": 1,
   "metadata": {
    "cell_id": "97248c62b78f47fbbd036963b1096749",
    "deepnote_cell_type": "code",
    "deepnote_to_be_reexecuted": false,
    "execution_millis": 41,
    "execution_start": 1671710044505,
    "source_hash": "329b73"
   },
   "outputs": [
    {
     "data": {
      "text/plain": [
       "'Hello World!'"
      ]
     },
     "execution_count": 1,
     "metadata": {},
     "output_type": "execute_result"
    }
   ],
   "source": [
    "\"Moin Kiel!\" # this isn't printed\n",
    "\"Hello World!\""
   ]
  },
  {
   "cell_type": "code",
   "execution_count": 2,
   "metadata": {
    "cell_id": "4a8c8718148749c5ba1a3e811c806545",
    "deepnote_cell_type": "code",
    "deepnote_to_be_reexecuted": false,
    "execution_millis": 2,
    "execution_start": 1671710325007,
    "source_hash": "1012a0f7"
   },
   "outputs": [
    {
     "name": "stdout",
     "output_type": "stream",
     "text": [
      "Moin Kiel!\n",
      "Hello World!\n"
     ]
    }
   ],
   "source": [
    "print(\"Moin Kiel!\")\n",
    "print(\"Hello World!\")  # the famous \"Hello World\" program"
   ]
  },
  {
   "cell_type": "markdown",
   "metadata": {
    "cell_id": "fa03f7404226464aaf4973e2ea614cce",
    "deepnote_cell_type": "markdown",
    "tags": []
   },
   "source": [
    "## Variables"
   ]
  },
  {
   "cell_type": "markdown",
   "metadata": {
    "cell_id": "0d801b4b210b475e9f5a01727ee81550",
    "deepnote_cell_type": "markdown",
    "tags": []
   },
   "source": [
    "### Definition"
   ]
  },
  {
   "cell_type": "markdown",
   "metadata": {
    "cell_id": "5b3b3e516b7442a5b7321f32076e1ba7",
    "deepnote_cell_type": "markdown"
   },
   "source": [
    "- are symbolic names for addressing an area of the main memory &rarr; placeholders used to store values\n",
    "- have *name*, *value*, and *data type* &rarr; variable is *declared* and value is *assigned*"
   ]
  },
  {
   "cell_type": "markdown",
   "metadata": {
    "cell_id": "374846f544cd45ea95b9238282e3fc4e",
    "deepnote_cell_type": "markdown"
   },
   "source": [
    "#### Types"
   ]
  },
  {
   "cell_type": "markdown",
   "metadata": {},
   "source": [
    "- data type of variable determines\n",
    "    - what values variable can hold,\n",
    "    - how variable is stored in main memory of computer\n",
    "- type of variable does not have to be defined like in other programming languages (e.g. Java: ```int mynumber;```) &rarr; type is deducted from value of variable\n",
    "- type ran be read using the ```type(<var>)``` function"
   ]
  },
  {
   "cell_type": "code",
   "execution_count": 3,
   "metadata": {
    "cell_id": "f21f562bd7a2464f902c084737c5a590",
    "deepnote_cell_type": "code"
   },
   "outputs": [
    {
     "name": "stdout",
     "output_type": "stream",
     "text": [
      "<class 'str'>\n",
      "<class 'int'>\n",
      "<class 'float'>\n",
      "<class 'bool'>\n"
     ]
    }
   ],
   "source": [
    "# str (string): \"Hi\"\n",
    "print(type(\"Hi\"))\n",
    "\n",
    "# int (integer -> whole number): 5\n",
    "print(type(5))\n",
    "\n",
    "# float (floating-point number -> numbers with decimal point): 3.141\n",
    "print(type(3.141))\n",
    "\n",
    "# bool (boolean -> True or False): True\n",
    "print(type(True))"
   ]
  },
  {
   "cell_type": "markdown",
   "metadata": {
    "cell_id": "912f23941f8b4d7ca6b223daed936cb1",
    "deepnote_cell_type": "markdown"
   },
   "source": [
    "#### Illegal Names"
   ]
  },
  {
   "cell_type": "markdown",
   "metadata": {},
   "source": [
    "Some variable names are not allowed. Such are:\n",
    "- starting with a number\n",
    "- using illegal characters like '@'\n",
    "- keywords like ```for```"
   ]
  },
  {
   "cell_type": "code",
   "execution_count": 4,
   "metadata": {
    "cell_id": "65f01b7a91c8420b9c797a5fd9407c6a",
    "deepnote_cell_type": "code"
   },
   "outputs": [
    {
     "ename": "SyntaxError",
     "evalue": "invalid decimal literal (779308888.py, line 1)",
     "output_type": "error",
     "traceback": [
      "\u001b[1;36m  Cell \u001b[1;32mIn [4], line 1\u001b[1;36m\u001b[0m\n\u001b[1;33m    1st_illegal_variable = 1\u001b[0m\n\u001b[1;37m    ^\u001b[0m\n\u001b[1;31mSyntaxError\u001b[0m\u001b[1;31m:\u001b[0m invalid decimal literal\n"
     ]
    }
   ],
   "source": [
    "1st_illegal_variable = 1"
   ]
  },
  {
   "cell_type": "code",
   "execution_count": 5,
   "metadata": {
    "cell_id": "a568fbdf0e5d4ba19f7d3e68a6fdee88",
    "deepnote_cell_type": "code"
   },
   "outputs": [
    {
     "ename": "SyntaxError",
     "evalue": "cannot assign to expression here. Maybe you meant '==' instead of '='? (4269118391.py, line 1)",
     "output_type": "error",
     "traceback": [
      "\u001b[1;36m  Cell \u001b[1;32mIn [5], line 1\u001b[1;36m\u001b[0m\n\u001b[1;33m    illeg@l_variable = 1\u001b[0m\n\u001b[1;37m    ^\u001b[0m\n\u001b[1;31mSyntaxError\u001b[0m\u001b[1;31m:\u001b[0m cannot assign to expression here. Maybe you meant '==' instead of '='?\n"
     ]
    }
   ],
   "source": [
    "illeg@l_variable = 1"
   ]
  },
  {
   "cell_type": "code",
   "execution_count": 6,
   "metadata": {
    "cell_id": "6de99ef5abf741f984e8987594c386a4",
    "deepnote_cell_type": "code"
   },
   "outputs": [
    {
     "ename": "SyntaxError",
     "evalue": "invalid syntax (1069989890.py, line 1)",
     "output_type": "error",
     "traceback": [
      "\u001b[1;36m  Cell \u001b[1;32mIn [6], line 1\u001b[1;36m\u001b[0m\n\u001b[1;33m    for = 1\u001b[0m\n\u001b[1;37m        ^\u001b[0m\n\u001b[1;31mSyntaxError\u001b[0m\u001b[1;31m:\u001b[0m invalid syntax\n"
     ]
    }
   ],
   "source": [
    "for = 1"
   ]
  },
  {
   "cell_type": "markdown",
   "metadata": {
    "cell_id": "52a889f4b53247dd90189521974cfbab",
    "deepnote_cell_type": "markdown"
   },
   "source": [
    "#### Case sensitivity"
   ]
  },
  {
   "cell_type": "markdown",
   "metadata": {},
   "source": [
    "- Python variable names are case sensitive"
   ]
  },
  {
   "cell_type": "code",
   "execution_count": 7,
   "metadata": {
    "cell_id": "f91d0e79bd234e1e8aa5ba04702750b7",
    "deepnote_cell_type": "code"
   },
   "outputs": [
    {
     "name": "stdout",
     "output_type": "stream",
     "text": [
      "False\n"
     ]
    }
   ],
   "source": [
    "Bob = \"Bob\"\n",
    "bob = \"bob\"\n",
    "\n",
    "print(Bob == bob) # is 'bob' the same as 'Bob'?"
   ]
  },
  {
   "cell_type": "markdown",
   "metadata": {
    "cell_id": "f3cf8118c9064554b330f04fb799a9a7",
    "deepnote_cell_type": "markdown"
   },
   "source": [
    "### Typecasting"
   ]
  },
  {
   "cell_type": "markdown",
   "metadata": {
    "cell_id": "ffd12820737944cb973bf52ccb2d9b07",
    "deepnote_cell_type": "markdown"
   },
   "source": [
    "- process of converting type of variable - all build-in types in Python can be found [here](https://www.w3schools.com/python/python_datatypes.asp)\n",
    "- done by enclosing variable inside variable type function\n",
    "    - ```str(<var>)``` &rarr; conversion to string\n",
    "    - ```int(<var>)``` &rarr; conversion to integer\n",
    "    - ```float(<var>)``` &rarr; conversion to floating-point\n",
    "    - ```bool(<var>)``` &rarr; conversion to boolean\n",
    "\n",
    "<br/>\n",
    "\n",
    "- sometimes necessary as certain operation can only work with certain variable types &rarr; e.g.only strings can be concatenated, not strings and integers"
   ]
  },
  {
   "cell_type": "code",
   "execution_count": 8,
   "metadata": {
    "cell_id": "c67703e0726044ea83091a53855b3dfb",
    "deepnote_cell_type": "code"
   },
   "outputs": [
    {
     "ename": "TypeError",
     "evalue": "can only concatenate str (not \"int\") to str",
     "output_type": "error",
     "traceback": [
      "\u001b[1;31m---------------------------------------------------------------------------\u001b[0m",
      "\u001b[1;31mTypeError\u001b[0m                                 Traceback (most recent call last)",
      "Cell \u001b[1;32mIn [8], line 1\u001b[0m\n\u001b[1;32m----> 1\u001b[0m \u001b[38;5;124;43m\"\u001b[39;49m\u001b[38;5;124;43mThis is number\u001b[39;49m\u001b[38;5;124;43m\"\u001b[39;49m\u001b[43m \u001b[49m\u001b[38;5;241;43m+\u001b[39;49m\u001b[43m \u001b[49m\u001b[38;5;241;43m3\u001b[39;49m\n",
      "\u001b[1;31mTypeError\u001b[0m: can only concatenate str (not \"int\") to str"
     ]
    }
   ],
   "source": [
    "\"This is number\" + 3"
   ]
  },
  {
   "cell_type": "code",
   "execution_count": 9,
   "metadata": {
    "cell_id": "d13467b447684158a8c51a2761946d39",
    "deepnote_cell_type": "code"
   },
   "outputs": [
    {
     "data": {
      "text/plain": [
       "'This is number 3'"
      ]
     },
     "execution_count": 9,
     "metadata": {},
     "output_type": "execute_result"
    }
   ],
   "source": [
    "\"This is number \" + str(3)"
   ]
  },
  {
   "cell_type": "markdown",
   "metadata": {
    "cell_id": "34e3203d8f854f5ba29db0c1195f5db2",
    "deepnote_cell_type": "markdown"
   },
   "source": [
    "### User input"
   ]
  },
  {
   "cell_type": "markdown",
   "metadata": {
    "cell_id": "beeaccdb8aad405ca866e0962cfa1376",
    "deepnote_cell_type": "markdown"
   },
   "source": [
    "Variables values can be assigned by user input:\n",
    "\n",
    "- input into program can be provided using the ```input(<message>)``` function\n",
    "- input is string datatype\n",
    "- input can be assigned to variable: ```var = input(<message>)```"
   ]
  },
  {
   "cell_type": "code",
   "execution_count": 10,
   "metadata": {
    "cell_id": "dacfed7cb8a64e859b26805ca2fddd9c",
    "deepnote_cell_type": "code"
   },
   "outputs": [
    {
     "name": "stdin",
     "output_type": "stream",
     "text": [
      "What is your name? Niclas\n"
     ]
    },
    {
     "name": "stdout",
     "output_type": "stream",
     "text": [
      "Niclas\n",
      "<class 'str'>\n"
     ]
    }
   ],
   "source": [
    "input_variable = input(\"What is your name?\")\n",
    "\n",
    "print(input_variable)\n",
    "print(type(input_variable))  # str-type"
   ]
  },
  {
   "cell_type": "markdown",
   "metadata": {
    "cell_id": "ce68d4f2b1cc4f4e9a8e5d7e23a67f07",
    "deepnote_cell_type": "markdown",
    "tags": []
   },
   "source": [
    "## Operators"
   ]
  },
  {
   "cell_type": "markdown",
   "metadata": {
    "cell_id": "5375d65f411047e1978dd720ee286b45",
    "deepnote_cell_type": "markdown"
   },
   "source": [
    "### Mathematical operators"
   ]
  },
  {
   "cell_type": "markdown",
   "metadata": {},
   "source": [
    "- to execute numerical calculations"
   ]
  },
  {
   "cell_type": "code",
   "execution_count": 11,
   "metadata": {
    "cell_id": "3a416c79f299487093816b76c6798b32",
    "deepnote_cell_type": "code"
   },
   "outputs": [
    {
     "data": {
      "text/plain": [
       "6"
      ]
     },
     "execution_count": 11,
     "metadata": {},
     "output_type": "execute_result"
    }
   ],
   "source": [
    "4 + 2  # Addition"
   ]
  },
  {
   "cell_type": "code",
   "execution_count": 12,
   "metadata": {
    "cell_id": "8ffaa55c24104f95943725498ebc70ac",
    "deepnote_cell_type": "code"
   },
   "outputs": [
    {
     "data": {
      "text/plain": [
       "2"
      ]
     },
     "execution_count": 12,
     "metadata": {},
     "output_type": "execute_result"
    }
   ],
   "source": [
    "4 - 2  # Subtraction"
   ]
  },
  {
   "cell_type": "code",
   "execution_count": 13,
   "metadata": {
    "cell_id": "5511b65ded134a58b53d23e3c7dcb058",
    "deepnote_cell_type": "code"
   },
   "outputs": [
    {
     "data": {
      "text/plain": [
       "8"
      ]
     },
     "execution_count": 13,
     "metadata": {},
     "output_type": "execute_result"
    }
   ],
   "source": [
    "4 * 2  # Multiplication"
   ]
  },
  {
   "cell_type": "code",
   "execution_count": 14,
   "metadata": {
    "cell_id": "a2b7740f181246778c7ccc78c69c9119",
    "deepnote_cell_type": "code"
   },
   "outputs": [
    {
     "data": {
      "text/plain": [
       "6561"
      ]
     },
     "execution_count": 14,
     "metadata": {},
     "output_type": "execute_result"
    }
   ],
   "source": [
    "9 ** 4  # Exponent"
   ]
  },
  {
   "cell_type": "code",
   "execution_count": 15,
   "metadata": {
    "cell_id": "4b3e49af927f4719b0fcce0d30d61b61",
    "deepnote_cell_type": "code"
   },
   "outputs": [
    {
     "data": {
      "text/plain": [
       "2.25"
      ]
     },
     "execution_count": 15,
     "metadata": {},
     "output_type": "execute_result"
    }
   ],
   "source": [
    "9 / 4  # Division: creates floating-point number"
   ]
  },
  {
   "cell_type": "code",
   "execution_count": 16,
   "metadata": {
    "cell_id": "95071a31ddd2457e971eede642d99af7",
    "deepnote_cell_type": "code"
   },
   "outputs": [
    {
     "data": {
      "text/plain": [
       "2"
      ]
     },
     "execution_count": 16,
     "metadata": {},
     "output_type": "execute_result"
    }
   ],
   "source": [
    "9 // 4  # Integer Division: Division with an integer result. The remainder is of no interest."
   ]
  },
  {
   "cell_type": "code",
   "execution_count": 17,
   "metadata": {
    "cell_id": "305bcc92b99f4a73b8c2e77f768f4d6f",
    "deepnote_cell_type": "code"
   },
   "outputs": [
    {
     "data": {
      "text/plain": [
       "1"
      ]
     },
     "execution_count": 17,
     "metadata": {},
     "output_type": "execute_result"
    }
   ],
   "source": [
    "9 % 4  # Modulus: Calculation of remainder of an integer division?"
   ]
  },
  {
   "cell_type": "markdown",
   "metadata": {
    "cell_id": "6211827c5c33402b8a596ed90b13b27e",
    "deepnote_cell_type": "markdown"
   },
   "source": [
    "### Assignment (in-place) operators"
   ]
  },
  {
   "cell_type": "markdown",
   "metadata": {
    "cell_id": "e88b5e9a72de413fbef8dc1b92714024",
    "deepnote_cell_type": "markdown"
   },
   "source": [
    "- mathematical operators to update existing variable values\n",
    "- generate another number\n",
    "- an overview of (additional) in-place operators can be found [in the official Python documentation](https://docs.python.org/3/library/operator.html#in-place-operators)"
   ]
  },
  {
   "cell_type": "code",
   "execution_count": 18,
   "metadata": {
    "cell_id": "030715829c1740b9a29823cc16742b25",
    "deepnote_cell_type": "code",
    "deepnote_to_be_reexecuted": false,
    "execution_millis": 3,
    "execution_start": 1671710678319,
    "source_hash": "b1db7905"
   },
   "outputs": [
    {
     "name": "stdout",
     "output_type": "stream",
     "text": [
      "12\n",
      "Hello World\n"
     ]
    }
   ],
   "source": [
    "n = 10\n",
    "n += 2  # Addition: replaces n = n + 2\n",
    "\n",
    "print(n)\n",
    "\n",
    "n = \"Hello\"  # with strings this method only works for \"+\" and \"+=\" - here, it is used to concatenate strings\n",
    "n += \" World\"\n",
    "\n",
    "print(n)"
   ]
  },
  {
   "cell_type": "code",
   "execution_count": 19,
   "metadata": {
    "cell_id": "d1cace7979c14b98a20c81a438b663e6",
    "deepnote_cell_type": "code"
   },
   "outputs": [
    {
     "name": "stdout",
     "output_type": "stream",
     "text": [
      "8\n"
     ]
    }
   ],
   "source": [
    "n = 10\n",
    "n -= 2  # Subtraction\n",
    "\n",
    "print(n)"
   ]
  },
  {
   "cell_type": "code",
   "execution_count": 20,
   "metadata": {
    "cell_id": "ac4970912ff24a71aa7ad12f8d199c89",
    "deepnote_cell_type": "code"
   },
   "outputs": [
    {
     "name": "stdout",
     "output_type": "stream",
     "text": [
      "20\n"
     ]
    }
   ],
   "source": [
    "n = 10\n",
    "n *= 2  # Multiplication\n",
    "\n",
    "print(n)"
   ]
  },
  {
   "cell_type": "code",
   "execution_count": 21,
   "metadata": {
    "cell_id": "fdb655f1413a42eb8dbf327b63854fb8",
    "deepnote_cell_type": "code"
   },
   "outputs": [
    {
     "name": "stdout",
     "output_type": "stream",
     "text": [
      "100\n"
     ]
    }
   ],
   "source": [
    "n = 10\n",
    "n **= 2  # Power\n",
    "\n",
    "print(n)"
   ]
  },
  {
   "cell_type": "code",
   "execution_count": 22,
   "metadata": {
    "cell_id": "705e8f2135114bb8a95939b11e32b3fa",
    "deepnote_cell_type": "code"
   },
   "outputs": [
    {
     "name": "stdout",
     "output_type": "stream",
     "text": [
      "5.0\n"
     ]
    }
   ],
   "source": [
    "n = 10\n",
    "n /= 2  # Division\n",
    "\n",
    "print(n)"
   ]
  },
  {
   "cell_type": "code",
   "execution_count": 23,
   "metadata": {
    "cell_id": "9fbca331a2dd4acf9036c547e6a26770",
    "deepnote_cell_type": "code"
   },
   "outputs": [
    {
     "name": "stdout",
     "output_type": "stream",
     "text": [
      "5\n"
     ]
    }
   ],
   "source": [
    "n = 10\n",
    "n //= 2  # Integer Division\n",
    "\n",
    "print(n)"
   ]
  },
  {
   "cell_type": "code",
   "execution_count": 24,
   "metadata": {
    "cell_id": "aafddedb42344884959ef91e3c4cea09",
    "deepnote_cell_type": "code"
   },
   "outputs": [
    {
     "name": "stdout",
     "output_type": "stream",
     "text": [
      "0\n"
     ]
    }
   ],
   "source": [
    "n = 10\n",
    "n %= 2  # Modulus\n",
    "\n",
    "print(n)"
   ]
  },
  {
   "cell_type": "markdown",
   "metadata": {
    "cell_id": "12a32f1b0ac0452e9ca60c5f4fe73567",
    "deepnote_cell_type": "markdown"
   },
   "source": [
    "### Relational operators"
   ]
  },
  {
   "cell_type": "markdown",
   "metadata": {
    "cell_id": "808ae93e9fcb46e5bb68f06ece66cc5e",
    "deepnote_cell_type": "markdown",
    "tags": []
   },
   "source": [
    "- generate a boolean value\n",
    "- can also be chained"
   ]
  },
  {
   "cell_type": "code",
   "execution_count": 25,
   "metadata": {
    "cell_id": "f204e45e312c4930b6ee36ee0bfc99bb",
    "deepnote_cell_type": "code",
    "deepnote_to_be_reexecuted": false,
    "execution_millis": 6,
    "execution_start": 1671714825650,
    "source_hash": "e8280827"
   },
   "outputs": [
    {
     "name": "stdout",
     "output_type": "stream",
     "text": [
      "True\n",
      "True\n"
     ]
    }
   ],
   "source": [
    "print(4 > 2)  # greater: also greater-equal '>=', smaller '<', and smaller-equal '<='\n",
    "print(4 > 2 > 0)  # this is equal to '4 > 2 and 2 > 0' -> this chaining principle also works for other operators"
   ]
  },
  {
   "cell_type": "code",
   "execution_count": 26,
   "metadata": {
    "cell_id": "ba8533de630141789ef50a42d5b76341",
    "deepnote_cell_type": "code",
    "deepnote_to_be_reexecuted": false,
    "execution_millis": 4,
    "execution_start": 1671712461011,
    "source_hash": "c5667a89"
   },
   "outputs": [
    {
     "name": "stdout",
     "output_type": "stream",
     "text": [
      "True\n",
      "True\n",
      "\n",
      "True\n",
      "False\n"
     ]
    }
   ],
   "source": [
    "my_int_1 = 4\n",
    "my_int_2 = 4\n",
    "my_int_3 = 2\n",
    "\n",
    "my_float_1 = 4.0\n",
    "my_float_2 = 4.0\n",
    "my_float_3 = 2.0\n",
    "\n",
    "# comparing ints and floats:\n",
    "print(my_int_1 == my_int_2)\n",
    "print(my_float_1 == my_float_2)\n",
    "print()\n",
    "\n",
    "print(my_int_1 == my_float_1)\n",
    "print(my_int_3 == my_float_1)"
   ]
  },
  {
   "cell_type": "markdown",
   "metadata": {},
   "source": [
    "- the function combination ```hex(id(<object>)``` allows checking for the memory address of objects\n",
    "- objects with the same memory address are aliases (\"the same\", not only identical in value)"
   ]
  },
  {
   "cell_type": "code",
   "execution_count": 27,
   "metadata": {
    "cell_id": "ba8533de630141789ef50a42d5b76341",
    "deepnote_cell_type": "code",
    "deepnote_to_be_reexecuted": false,
    "execution_millis": 4,
    "execution_start": 1671712461011,
    "source_hash": "c5667a89"
   },
   "outputs": [
    {
     "name": "stdout",
     "output_type": "stream",
     "text": [
      "True\n",
      "0x7ffb39a3e388 0x7ffb39a3e388\n",
      "\n",
      "False\n",
      "0x1af9614ac30 0x1af95f48a30\n"
     ]
    }
   ],
   "source": [
    "# equality vs being the same:\n",
    "print(my_int_1 is my_int_2)  # comparison for being same only works with ints, not with floats\n",
    "print(hex(id(my_int_1)), hex(id(my_int_2)))\n",
    "print()\n",
    "\n",
    "print(my_float_1 is my_float_2)\n",
    "print(hex(id(my_float_1)), hex(id(my_float_2)))"
   ]
  },
  {
   "cell_type": "code",
   "execution_count": 28,
   "metadata": {
    "cell_id": "45ef8daa8dcd414aa966ac3fddafb76a",
    "deepnote_cell_type": "code"
   },
   "outputs": [
    {
     "data": {
      "text/plain": [
       "True"
      ]
     },
     "execution_count": 28,
     "metadata": {},
     "output_type": "execute_result"
    }
   ],
   "source": [
    "4 != 2  # unequal"
   ]
  },
  {
   "cell_type": "markdown",
   "metadata": {
    "cell_id": "72a9599df4614c8c92ad85153e2c370f",
    "deepnote_cell_type": "markdown"
   },
   "source": [
    "### Logical Operators"
   ]
  },
  {
   "cell_type": "code",
   "execution_count": 29,
   "metadata": {
    "cell_id": "9f496e94d4554b7c99926c32a90aa524",
    "deepnote_cell_type": "code"
   },
   "outputs": [
    {
     "data": {
      "text/plain": [
       "False"
      ]
     },
     "execution_count": 29,
     "metadata": {},
     "output_type": "execute_result"
    }
   ],
   "source": [
    "not True  # inversion with 'not' (NOT)"
   ]
  },
  {
   "cell_type": "code",
   "execution_count": 30,
   "metadata": {
    "cell_id": "46d3caacc44245f3be62861e6a42d14a",
    "deepnote_cell_type": "code"
   },
   "outputs": [
    {
     "name": "stdout",
     "output_type": "stream",
     "text": [
      "True\n",
      "False\n",
      "False\n"
     ]
    }
   ],
   "source": [
    "# combination with 'and' - both conditions must be fulfilled (AND):\n",
    "\n",
    "print(True and True)\n",
    "print(False and True)\n",
    "print(False and False)"
   ]
  },
  {
   "cell_type": "code",
   "execution_count": 31,
   "metadata": {
    "cell_id": "f805a17050044d8197d55c268116034c",
    "deepnote_cell_type": "code"
   },
   "outputs": [
    {
     "name": "stdout",
     "output_type": "stream",
     "text": [
      "True\n",
      "True\n",
      "False\n"
     ]
    }
   ],
   "source": [
    "# exclusion with 'or' - one or both conditions must be met (OR):\n",
    "\n",
    "print(True or True)\n",
    "print(False or True)\n",
    "print(False or False)"
   ]
  },
  {
   "cell_type": "code",
   "execution_count": 32,
   "metadata": {
    "cell_id": "24fe076dcc0b4e948fe5b15145ef6efe",
    "deepnote_cell_type": "code"
   },
   "outputs": [
    {
     "name": "stdout",
     "output_type": "stream",
     "text": [
      "False\n",
      "True\n",
      "False\n"
     ]
    }
   ],
   "source": [
    "# exclusion with '^' - exactly one condition must be fulfilled (XOR):\n",
    "\n",
    "print(True ^ True)\n",
    "print(False ^ True)\n",
    "print(False ^ False)"
   ]
  },
  {
   "cell_type": "markdown",
   "metadata": {
    "cell_id": "e2ec5bd4dc924cd0a2106b21005a06b6",
    "deepnote_cell_type": "markdown",
    "tags": []
   },
   "source": [
    "- booleans are a subclass of integers, ```True``` is equivalent to ```1``` and ```False``` equivalent to ```0``` \n",
    "- therefore, ```True``` and ```False``` can be calculated with like integers "
   ]
  },
  {
   "cell_type": "code",
   "execution_count": 33,
   "metadata": {
    "cell_id": "0fc26ff1c0ba4462a64bab4b624bf514",
    "deepnote_cell_type": "code",
    "deepnote_to_be_reexecuted": false,
    "execution_millis": 2,
    "execution_start": 1671711248163,
    "source_hash": "61ec47cc",
    "tags": []
   },
   "outputs": [
    {
     "name": "stdout",
     "output_type": "stream",
     "text": [
      "1\n",
      "0\n"
     ]
    }
   ],
   "source": [
    "print(int(True))\n",
    "print(int(False))"
   ]
  },
  {
   "cell_type": "code",
   "execution_count": 34,
   "metadata": {
    "cell_id": "690a672ad96544e0a595471f175bfcf2",
    "deepnote_cell_type": "code",
    "deepnote_to_be_reexecuted": false,
    "execution_millis": 2,
    "execution_start": 1671711318639,
    "source_hash": "3fc4f261",
    "tags": []
   },
   "outputs": [
    {
     "name": "stdout",
     "output_type": "stream",
     "text": [
      "2\n",
      "10\n"
     ]
    }
   ],
   "source": [
    "print(True + True)\n",
    "print(True * 10)"
   ]
  },
  {
   "cell_type": "markdown",
   "metadata": {},
   "source": [
    "- with typecasting, emtpy objects (like strings) and ```None``` result in ```False```, all others in ```True```"
   ]
  },
  {
   "cell_type": "code",
   "execution_count": 35,
   "metadata": {
    "cell_id": "e8d2711085ac46758c0e1c346b73f03e",
    "deepnote_cell_type": "code",
    "deepnote_to_be_reexecuted": false,
    "execution_millis": 4,
    "execution_start": 1671711519654,
    "source_hash": "6295dd3d",
    "tags": []
   },
   "outputs": [
    {
     "name": "stdout",
     "output_type": "stream",
     "text": [
      "False\n",
      "False\n",
      "False\n",
      "False\n",
      "False\n"
     ]
    }
   ],
   "source": [
    "print(bool(\"\"))  # empty string\n",
    "print(bool([]))  # empty list\n",
    "print(bool(()))  # empty tuple\n",
    "print(bool({}))  # empty dict / set\n",
    "print(bool(None))"
   ]
  },
  {
   "cell_type": "code",
   "execution_count": 36,
   "metadata": {
    "cell_id": "e8d2711085ac46758c0e1c346b73f03e",
    "deepnote_cell_type": "code",
    "deepnote_to_be_reexecuted": false,
    "execution_millis": 4,
    "execution_start": 1671711519654,
    "source_hash": "6295dd3d",
    "tags": []
   },
   "outputs": [
    {
     "name": "stdout",
     "output_type": "stream",
     "text": [
      "True\n"
     ]
    }
   ],
   "source": [
    "print(bool(\"Moin\"))"
   ]
  },
  {
   "cell_type": "markdown",
   "metadata": {
    "cell_id": "73db06eb62cb4c4ea63629a9c6d96b79",
    "deepnote_cell_type": "markdown",
    "tags": []
   },
   "source": [
    "## Data Types 1: Strings"
   ]
  },
  {
   "cell_type": "markdown",
   "metadata": {
    "jp-MarkdownHeadingCollapsed": true,
    "tags": []
   },
   "source": [
    "### String formatting & concatenation"
   ]
  },
  {
   "cell_type": "markdown",
   "metadata": {
    "cell_id": "6395247535b941d4929b595bdc45f550",
    "deepnote_cell_type": "markdown"
   },
   "source": [
    "- can be nested by alternate usage of single quotes ```\"``` and ```'```\n",
    "- can be concatenated using different methods. f-strings (with leading ```f\"```) are the most elegant method, so please don't use the ```format``` and ```%``` methods!"
   ]
  },
  {
   "cell_type": "code",
   "execution_count": 37,
   "metadata": {
    "cell_id": "dabd863f2bd84506a4abf746ab46bda0",
    "deepnote_cell_type": "code"
   },
   "outputs": [
    {
     "name": "stdout",
     "output_type": "stream",
     "text": [
      "This is a string using 3 and 4 as numbers.\n",
      "\n"
     ]
    }
   ],
   "source": [
    "print(\"This is a string using \" + str(3) + \" and \" + str(4) + \" as numbers.\")  # using +-signs\n",
    "print()"
   ]
  },
  {
   "cell_type": "code",
   "execution_count": 38,
   "metadata": {
    "collapsed": false,
    "jupyter": {
     "outputs_hidden": false
    }
   },
   "outputs": [
    {
     "name": "stdout",
     "output_type": "stream",
     "text": [
      "This is a string using 3 and 4 as numbers.\n",
      "\n"
     ]
    }
   ],
   "source": [
    "print(\"This is a string using\", str(3), \"and\", str(4), \"as numbers.\")  # using commas -> adds a space in between\n",
    "print()"
   ]
  },
  {
   "cell_type": "code",
   "execution_count": 39,
   "metadata": {
    "collapsed": false,
    "jupyter": {
     "outputs_hidden": false
    }
   },
   "outputs": [
    {
     "name": "stdout",
     "output_type": "stream",
     "text": [
      "This is a string using 3 and 4 as numbers.\n",
      "This is a string using 3 and 4 as numbers.\n",
      "This is a string using 3.00 and 4.000 as numbers.\n",
      "\n"
     ]
    }
   ],
   "source": [
    "print(\"This is a string using %s and %s as numbers.\" % (3, 4))  # using %s-Operator (strings or any object with a string representation)\n",
    "print(\"This is a string using %d and %d as numbers.\" % (3, 4))  # using %d-Operator (integers)\n",
    "print(\"This is a string using %.2f and %.3f as numbers.\" % (3, 4))  # using %.<no of digits>f-Operator (floating-point values)\n",
    "print()"
   ]
  },
  {
   "cell_type": "code",
   "execution_count": 40,
   "metadata": {
    "collapsed": false,
    "jupyter": {
     "outputs_hidden": false
    }
   },
   "outputs": [
    {
     "name": "stdout",
     "output_type": "stream",
     "text": [
      "This is a string using 3 and 4 as numbers.\n",
      "\n"
     ]
    }
   ],
   "source": [
    "print(\"This is a string using {} and {} as numbers.\".format(3, 4))  # using format()-function\n",
    "print()"
   ]
  },
  {
   "cell_type": "code",
   "execution_count": 41,
   "metadata": {
    "collapsed": false,
    "jupyter": {
     "outputs_hidden": false
    }
   },
   "outputs": [
    {
     "name": "stdout",
     "output_type": "stream",
     "text": [
      "This is a string using 3 and 4 as numbers.\n",
      "This is a string using 3.00 and 4 as numbers.\n",
      "This is a string using 123 and 34 as numbers.\n",
      "This is a string using   3 and  4 as numbers.\n",
      "This is a string using 3.000000e+00 and 4.000000e+00 as numbers.\n",
      "This is a string using string_integer_1 = 3 and string_integer_2 = 4 as numbers.\n"
     ]
    }
   ],
   "source": [
    "print(f\"This is a string using {3} and {4} as numbers.\")  # using f-string\n",
    "print(f\"This is a string using {3:.2f} and {4:.3g} as numbers.\")  # using f-string with format\n",
    "\n",
    "print(f\"This is a string using {123:>3} and {34:>2} as numbers.\")  # using f-string with right alignment\n",
    "print(f\"This is a string using {3:>3} and {4:>2} as numbers.\")\n",
    "\n",
    "print(f\"This is a string using {3:e} and {4:e} as numbers.\")  # using f-string with exponential notation\n",
    "\n",
    "string_integer_1 = 3\n",
    "string_integer_2 = 4\n",
    "print(f\"This is a string using {string_integer_1 = } and {string_integer_2 = } as numbers.\")  # f-string with debugging feature"
   ]
  },
  {
   "cell_type": "markdown",
   "metadata": {
    "cell_id": "22e915aba7ec4fd58cff75ff8cec9f78",
    "deepnote_cell_type": "markdown"
   },
   "source": [
    "- docstrings, enclosed in triple quotes ```\"\"\"``` and ```'''```, allow for multi-line strings"
   ]
  },
  {
   "cell_type": "code",
   "execution_count": 42,
   "metadata": {
    "cell_id": "2e3c5f24dd7349dd8b50b348978f0070",
    "deepnote_cell_type": "code"
   },
   "outputs": [
    {
     "name": "stdout",
     "output_type": "stream",
     "text": [
      "This is a\n",
      "multi-line\n",
      "string\n"
     ]
    }
   ],
   "source": [
    "print(\"\"\"This is a\n",
    "multi-line\n",
    "string\"\"\")"
   ]
  },
  {
   "cell_type": "markdown",
   "metadata": {
    "cell_id": "631402b892f04b6b849913548b5deb3e",
    "deepnote_cell_type": "markdown"
   },
   "source": [
    "- special characters \"\\n\" for linebreak and \"\\t\" for tab &rarr; \"\\n\" allows building multi-line strings in single-quotes\n",
    "\n",
    "- the ```repr()``` methods shows us these special characters\n",
    "- alternatively, you can provide a *raw string* using the r-notation ```r\"<WHATEVER>\"``` (similar to-fstrings) to print the special characters"
   ]
  },
  {
   "cell_type": "code",
   "execution_count": 43,
   "metadata": {
    "cell_id": "73ba04e8ed954b9f94359a4c9dae2648",
    "deepnote_cell_type": "code",
    "deepnote_to_be_reexecuted": false,
    "execution_millis": 2,
    "execution_start": 1671713093647,
    "source_hash": "c7579d6b"
   },
   "outputs": [
    {
     "name": "stdout",
     "output_type": "stream",
     "text": [
      "This is a message with a tab \t to demonstrate special characters. \n",
      " That's it.\n"
     ]
    },
    {
     "data": {
      "text/plain": [
       "'\"This is a message with a tab \\\\t to demonstrate special characters. \\\\n That\\'s it.\"'"
      ]
     },
     "execution_count": 43,
     "metadata": {},
     "output_type": "execute_result"
    }
   ],
   "source": [
    "string_with_special_chars = \"This is a message with a tab \\t to demonstrate special characters. \\n That's it.\"\n",
    "\n",
    "print(string_with_special_chars)\n",
    "repr(string_with_special_chars)"
   ]
  },
  {
   "cell_type": "markdown",
   "metadata": {},
   "source": [
    "### Manipulation of existing strings"
   ]
  },
  {
   "cell_type": "markdown",
   "metadata": {
    "cell_id": "0b807679f4324754afc94dd366514849",
    "deepnote_cell_type": "markdown"
   },
   "source": [
    "- special characters and whitespaces at the beginning and end of strings can be removed using the ```<string>.strip()``` function"
   ]
  },
  {
   "cell_type": "code",
   "execution_count": 44,
   "metadata": {
    "cell_id": "6bea8b6364df43e8a4050b1dd55557d0",
    "deepnote_cell_type": "code",
    "deepnote_to_be_reexecuted": false,
    "execution_millis": 3,
    "execution_start": 1671713327794,
    "source_hash": "2a9b5cd5"
   },
   "outputs": [
    {
     "name": "stdout",
     "output_type": "stream",
     "text": [
      "'\\n This is a string with leading and trailing whitespaces. \\t '\n",
      "'This is a string with leading and trailing whitespaces.'\n",
      "'\\n This is a string with leading and trailing whitespaces.'\n",
      "'This is a string with leading and trailing whitespaces. \\t '\n"
     ]
    }
   ],
   "source": [
    "string_with_whitespaces = \"\\n This is a string with leading and trailing whitespaces. \\t \"\n",
    "\n",
    "print(repr(string_with_whitespaces))\n",
    "print(repr(string_with_whitespaces.strip()))\n",
    "print(repr(string_with_whitespaces.rstrip()))  # remove only at the end\n",
    "print(repr(string_with_whitespaces.lstrip()))  # remove only at the beginning"
   ]
  },
  {
   "cell_type": "markdown",
   "metadata": {
    "cell_id": "10e57f7ea95c43d98184c60d00a1d2e7",
    "deepnote_cell_type": "markdown"
   },
   "source": [
    "- converting strings between different cases is possible using the ```<string>.upper()``` and ```<string>.lower()``` function\n",
    "- capitalise a word using the ```<string>.capitalize()``` function"
   ]
  },
  {
   "cell_type": "code",
   "execution_count": 45,
   "metadata": {
    "cell_id": "3067c10f464046ada919dc4eed170177",
    "deepnote_cell_type": "code"
   },
   "outputs": [
    {
     "name": "stdout",
     "output_type": "stream",
     "text": [
      "HELLO!\n",
      "hello!\n",
      "Hello!\n"
     ]
    }
   ],
   "source": [
    "print(\"HeLlO!\".upper())\n",
    "print(\"HeLlO!\".lower())\n",
    "print(\"HeLlO!\".capitalize())"
   ]
  },
  {
   "cell_type": "markdown",
   "metadata": {
    "cell_id": "221dbb2da8fa4e73ab992dd5d1858a3f",
    "deepnote_cell_type": "markdown"
   },
   "source": [
    "character (sequence) instances in a string can be \n",
    "- counted using the ```<string>.count()``` function &rarr; adds up the number of times they appear in the string\n",
    "- found using the ```<string>.find()``` function &rarr; returns the position number of the first character of the sequence in the string\n",
    "- replaced using the ```<string>.replace()``` function"
   ]
  },
  {
   "cell_type": "code",
   "execution_count": 46,
   "metadata": {
    "cell_id": "bef94df5d5134a9a8f700cf6383cfb85",
    "deepnote_cell_type": "code"
   },
   "outputs": [
    {
     "name": "stdout",
     "output_type": "stream",
     "text": [
      "2\n",
      "1\n",
      "Hellouuouuouu!\n"
     ]
    }
   ],
   "source": [
    "print(\"Hellooo!\".count(\"l\"))\n",
    "print(\"Hellooo!\".find(\"e\"))\n",
    "print(\"Hellooo!\".replace(\"o\", \"ouu\"))"
   ]
  },
  {
   "cell_type": "markdown",
   "metadata": {
    "cell_id": "c9f0e5a562cc4667a75db88b07acdea4",
    "deepnote_cell_type": "markdown",
    "tags": []
   },
   "source": [
    "- other string-methods can be found [here](https://www.w3schools.com/python/python_ref_string.asp)"
   ]
  },
  {
   "cell_type": "markdown",
   "metadata": {
    "cell_id": "0223a7b85fdb4944a6d535eb75b9a5e3",
    "deepnote_cell_type": "markdown",
    "tags": []
   },
   "source": [
    "## Decision structures"
   ]
  },
  {
   "cell_type": "markdown",
   "metadata": {
    "cell_id": "ac2298bbaecb4a36ab054ea271749117",
    "deepnote_cell_type": "markdown"
   },
   "source": [
    "The execution of statements can be linked to conditions:\n",
    "- If the condition is ```TRUE```, the ```Then``` statement block is executed\n",
    "- If the condition is ```FALSE```, all the ```Elif``` statement blocks are executed one-after-one\n",
    "- Else, the ```Else``` block is executed\n",
    "\n",
    "<br/>\n",
    "\n",
    "- If-else-trees can be nested\n",
    "- writing ```if <CONDITION> is True:``` is not necessary - ```if <CONDITION>:``` suffices\n",
    "\n",
    "<br/>\n",
    "\n",
    "- Python relies on indentation (whitespace at beginning of line) to define scope in code"
   ]
  },
  {
   "cell_type": "code",
   "execution_count": 47,
   "metadata": {
    "cell_id": "e7cf51a701e9400c9976b0db2227a956",
    "deepnote_cell_type": "code"
   },
   "outputs": [
    {
     "name": "stdout",
     "output_type": "stream",
     "text": [
      "This is the 'then' block of the first tree.\n",
      "This is the 'else' block of the second tree.\n"
     ]
    }
   ],
   "source": [
    "condition = True  # False\n",
    "other_condition = True  # False\n",
    "\n",
    "if condition:\n",
    "    print(\"This is the 'then' block of the first tree.\")\n",
    "    \n",
    "    if not condition:\n",
    "        print(\"This is the 'then' block of the second tree.\")  # this won't be executed\n",
    "    elif not other_condition:\n",
    "        print(\"This is the first (and only) 'elif' block of the second tree.\")\n",
    "    else:\n",
    "        print(\"This is the 'else' block of the second tree.\")\n",
    "    \n",
    "elif other_condition:\n",
    "    print(\"This is the first (and only) 'elif' block of the first tree.\")\n",
    "else:\n",
    "    print(\"This is the 'else' block of the first tree.\")"
   ]
  },
  {
   "cell_type": "markdown",
   "metadata": {
    "cell_id": "e303bde0e05345c2b35edca6c74ea8e2",
    "deepnote_cell_type": "markdown",
    "tags": []
   },
   "source": [
    "## Errors and Exceptions"
   ]
  },
  {
   "cell_type": "markdown",
   "metadata": {
    "cell_id": "a124fa227be549f89bcdbcd4ed0dd149",
    "deepnote_cell_type": "markdown"
   },
   "source": [
    "- when you know that something may go wrong, you can catch the exception with a try-statement \n",
    "\n",
    "<br/>\n",
    "\n",
    "- the ```try``` clause is execuded &rarr; in case of an exception the ```except``` clause is executed\n",
    "- the ```else``` clause is executed when there is no error\n",
    "- in any case (so regardless of the outcome) the ```finally``` clause is executed in the end\n",
    "\n",
    "<br/>\n",
    "\n",
    "- the ```except``` condition should always include a specific exception so that it does not catch unexpected errors"
   ]
  },
  {
   "cell_type": "code",
   "execution_count": 48,
   "metadata": {
    "cell_id": "267c731263f447f3903173c8513d7cd8",
    "deepnote_cell_type": "code"
   },
   "outputs": [
    {
     "name": "stdout",
     "output_type": "stream",
     "text": [
      "Gotcha! It seems like there is a syntax error with the message 'can only concatenate str (not \"int\") to str'.\n",
      "I'm the finally clause which is always executed.\n"
     ]
    }
   ],
   "source": [
    "integer = 5  # only works with \"str(5)\"\n",
    "\n",
    "try:\n",
    "    print(\"It is not possible to concatenate this string with the integer \" + integer + \".\")\n",
    "\n",
    "except TypeError as e: \n",
    "    print(f\"Gotcha! It seems like there is a syntax error with the message '{e}'.\")\n",
    "\n",
    "else:\n",
    "    print(\"No error found.\")\n",
    "\n",
    "finally:\n",
    "    print(\"I'm the finally clause which is always executed.\")"
   ]
  },
  {
   "cell_type": "markdown",
   "metadata": {
    "cell_id": "f4841ca844aa4a8ea1d7df4b743cae57",
    "deepnote_cell_type": "markdown"
   },
   "source": [
    "- exceptions are raised using the ```raise``` keyword and can include a message for the user\n",
    "- a list of exceptions can be found in the [Python Documentation](https://docs.python.org/3/library/exceptions.html)"
   ]
  },
  {
   "cell_type": "code",
   "execution_count": 49,
   "metadata": {
    "cell_id": "38c7bd12095d43a098babf9a0a7a1fab",
    "deepnote_cell_type": "code"
   },
   "outputs": [
    {
     "ename": "Exception",
     "evalue": "Die!",
     "output_type": "error",
     "traceback": [
      "\u001b[1;31m---------------------------------------------------------------------------\u001b[0m",
      "\u001b[1;31mException\u001b[0m                                 Traceback (most recent call last)",
      "Cell \u001b[1;32mIn [49], line 1\u001b[0m\n\u001b[1;32m----> 1\u001b[0m \u001b[38;5;28;01mraise\u001b[39;00m \u001b[38;5;167;01mException\u001b[39;00m(\u001b[38;5;124m\"\u001b[39m\u001b[38;5;124mDie!\u001b[39m\u001b[38;5;124m\"\u001b[39m)\n",
      "\u001b[1;31mException\u001b[0m: Die!"
     ]
    }
   ],
   "source": [
    "raise Exception(\"Die!\")"
   ]
  },
  {
   "cell_type": "markdown",
   "metadata": {
    "cell_id": "2e8bb1a1ebc14e6aa806b9bafafa2250",
    "deepnote_cell_type": "markdown",
    "tags": []
   },
   "source": [
    "## Loops"
   ]
  },
  {
   "cell_type": "markdown",
   "metadata": {
    "cell_id": "963ef24509074cc2b12d5ae97fb1dbf8",
    "deepnote_cell_type": "markdown"
   },
   "source": [
    "- execute instruction blocks more than once – also called iterations\n",
    "\n",
    "Common elements of all loop types:\n",
    "1. Initialization of a counter variable (often ```i```, then ```j```, ...) &rarr; same variable can (oftentimes) only be used in non-nested loops - nested ones ofentimes require using different ones\n",
    "2. counting function\n",
    "3. termination condition"
   ]
  },
  {
   "cell_type": "markdown",
   "metadata": {
    "cell_id": "b8722201ab044d61a70d5791e73db0e1",
    "deepnote_cell_type": "markdown"
   },
   "source": [
    "### The for-loop"
   ]
  },
  {
   "cell_type": "markdown",
   "metadata": {
    "cell_id": "9fec750478704d698757239cded4ffd2",
    "deepnote_cell_type": "markdown"
   },
   "source": [
    "- fixed number of iterations\n",
    "    - in range of numbers ```<start>``` and ```<end>``` using ```range``` function &rarr; starting with ```<start>``` value and ending with ```<end>-1``` (!) value\n",
    "    - in *iterable objects* like strings, lists, tuples, dictionaries"
   ]
  },
  {
   "cell_type": "code",
   "execution_count": 50,
   "metadata": {
    "cell_id": "eb1ee2c457f240039be43407e189c88d",
    "deepnote_cell_type": "code"
   },
   "outputs": [
    {
     "name": "stdout",
     "output_type": "stream",
     "text": [
      "<class 'range'>\n"
     ]
    }
   ],
   "source": [
    "print(type(range(1)))  # 'range' function returns object of type 'range' (and not list -> introduced later)"
   ]
  },
  {
   "cell_type": "code",
   "execution_count": 51,
   "metadata": {
    "cell_id": "a70bb8c787404058ac1c0de176da7825",
    "deepnote_cell_type": "code"
   },
   "outputs": [
    {
     "name": "stdout",
     "output_type": "stream",
     "text": [
      "0\n",
      "1\n",
      "2\n",
      "3\n",
      "4\n",
      "---\n",
      "0\n",
      "2\n",
      "4\n",
      "6\n",
      "8\n",
      "---\n",
      "0\n",
      "1\n",
      "2\n",
      "3\n",
      "4\n",
      "---\n",
      "10\n",
      "9\n",
      "8\n",
      "7\n",
      "6\n"
     ]
    }
   ],
   "source": [
    "for i in range(0, 5):\n",
    "    print(i)\n",
    "print(\"---\")\n",
    "    \n",
    "# range function also supports step sizes:\n",
    "for i in range(0, 10, 2):\n",
    "    print(i)\n",
    "print(\"---\")\n",
    "\n",
    "# in the range function the start value defaults to 0 and can be omitted in this case:\n",
    "for i in range(5):\n",
    "    print(i)\n",
    "print(\"---\")\n",
    "\n",
    "# range function can also run backwards using a negative step size:\n",
    "for i in range(10, 5, -1):\n",
    "    print(i)"
   ]
  },
  {
   "cell_type": "code",
   "execution_count": 52,
   "metadata": {
    "cell_id": "79a0c3604a6b42be86ebc8d98853c324",
    "deepnote_cell_type": "code"
   },
   "outputs": [
    {
     "name": "stdout",
     "output_type": "stream",
     "text": [
      "H\n",
      "a\n",
      "l\n",
      "l\n",
      "e\n",
      "l\n",
      "u\n",
      "j\n",
      "a\n",
      "h\n",
      "!\n"
     ]
    }
   ],
   "source": [
    "for letter in \"Hallelujah!\":  # looping through a string\n",
    "    print(letter)"
   ]
  },
  {
   "cell_type": "markdown",
   "metadata": {
    "cell_id": "c62c3e49c6944a10adc7fe4a439b3d5a",
    "deepnote_cell_type": "markdown"
   },
   "source": [
    "### The while-loop"
   ]
  },
  {
   "cell_type": "markdown",
   "metadata": {
    "cell_id": "1a4f679af04c484d962fbab16cc24b8d",
    "deepnote_cell_type": "markdown"
   },
   "source": [
    "- Loop is executed as long as the condition is true &rarr; condition can be changed inside the loop to break it\n",
    "- ```while True``` loops run indefinitively"
   ]
  },
  {
   "cell_type": "code",
   "execution_count": 53,
   "metadata": {
    "cell_id": "b34a10db446740cbb11eae1f85623ed9",
    "deepnote_cell_type": "code"
   },
   "outputs": [
    {
     "name": "stdout",
     "output_type": "stream",
     "text": [
      "10\n",
      "9\n",
      "8\n",
      "7\n",
      "6\n",
      "5\n",
      "4\n",
      "3\n",
      "2\n",
      "1\n",
      "Lift off!\n"
     ]
    }
   ],
   "source": [
    "n = 10\n",
    "\n",
    "while n > 0:\n",
    "    print(n)\n",
    "    n -= 1\n",
    "print(\"Lift off!\")"
   ]
  },
  {
   "cell_type": "code",
   "execution_count": 54,
   "metadata": {
    "cell_id": "b6345042ad134b0e94470daf9d367052",
    "deepnote_cell_type": "code"
   },
   "outputs": [
    {
     "name": "stdout",
     "output_type": "stream",
     "text": [
      "Petra;Wagstädt;23-06-89;15.99\n",
      "\n",
      "Emil;Noltke;18-10-66;13.99\n",
      "\n",
      "Max;Mustermann;01-01-99;159.66\n",
      "\n"
     ]
    }
   ],
   "source": [
    "with open(\"customers.txt\", encoding=\"utf-8\") as file:\n",
    "    line = file.readline()\n",
    "    while line:                 # loop over each (non-empty) line (introduced later) -> empty lines return False, ending the loop\n",
    "        print(line)             # print each line's entry. \n",
    "        line = file.readline()  # read the next line"
   ]
  },
  {
   "cell_type": "markdown",
   "metadata": {
    "cell_id": "712956aac0814557aabd0da48bbc1ec3",
    "deepnote_cell_type": "markdown"
   },
   "source": [
    "### break and continue statements"
   ]
  },
  {
   "cell_type": "markdown",
   "metadata": {
    "cell_id": "afc13ef4e6b6417380fd06b38a6d10ea",
    "deepnote_cell_type": "markdown",
    "tags": []
   },
   "source": [
    "- a ```break``` statement, when used inside the loop, will terminate the loop and exit. If used inside nested loops, it will break out from the current loop.\n",
    "- a ```continue``` statement, when used inside a loop, will stop the current execution, and the control will go back to the start of the loop."
   ]
  },
  {
   "cell_type": "code",
   "execution_count": 55,
   "metadata": {
    "cell_id": "0bdb20af5b294b2394da9a768c1afc53",
    "deepnote_cell_type": "code"
   },
   "outputs": [
    {
     "name": "stdout",
     "output_type": "stream",
     "text": [
      "i = 0\n",
      "\t j = 0\n",
      "\t Let's get out of here...\n",
      "i = 1\n",
      "\t j = 0\n",
      "\t j = 1\n",
      "\t Let's get out of here...\n",
      "i = 2\n",
      "\t j = 0\n",
      "\t j = 1\n",
      "\t j = 2\n",
      "\t Let's get out of here...\n",
      "i = 3\n",
      "\t j = 0\n",
      "\t j = 1\n",
      "\t j = 2\n",
      "\t j = 3\n",
      "\t Let's get out of here...\n",
      "i = 4\n",
      "\t j = 0\n",
      "\t j = 1\n",
      "\t j = 2\n",
      "\t j = 3\n",
      "\t j = 4\n",
      "\t Let's get out of here...\n",
      "i = 5\n",
      "\t j = 0\n",
      "\t j = 1\n",
      "\t j = 2\n",
      "\t j = 3\n",
      "\t j = 4\n",
      "\t j = 5\n",
      "\t Let's get out of here...\n",
      "i = 6\n",
      "\t j = 0\n",
      "\t j = 1\n",
      "\t j = 2\n",
      "\t j = 3\n",
      "\t j = 4\n",
      "\t j = 5\n",
      "\t j = 6\n",
      "\t Let's get out of here...\n",
      "i = 7\n",
      "\t j = 0\n",
      "\t j = 1\n",
      "\t j = 2\n",
      "\t j = 3\n",
      "\t j = 4\n",
      "\t j = 5\n",
      "\t j = 6\n",
      "\t j = 7\n",
      "\t Let's get out of here...\n",
      "i = 8\n",
      "\t j = 0\n",
      "\t j = 1\n",
      "\t j = 2\n",
      "\t j = 3\n",
      "\t j = 4\n",
      "\t j = 5\n",
      "\t j = 6\n",
      "\t j = 7\n",
      "\t j = 8\n",
      "\t Let's get out of here...\n",
      "i = 9\n",
      "\t j = 0\n",
      "\t j = 1\n",
      "\t j = 2\n",
      "\t j = 3\n",
      "\t j = 4\n",
      "\t j = 5\n",
      "\t j = 6\n",
      "\t j = 7\n",
      "\t j = 8\n",
      "\t j = 9\n"
     ]
    }
   ],
   "source": [
    "for i in range(10):\n",
    "    print(f\"{i = }\")\n",
    "    \n",
    "    for j in range(10):\n",
    "        \n",
    "        if j > i:\n",
    "            print(\"\\t Let's get out of here...\")\n",
    "            break  # break also makes 'else'-statement redundant\n",
    "    \n",
    "        print(f\"\\t {j = }\")\n",
    "    \n",
    "    continue  # continue with next iteration here: the code behind this statement is unreachable\n",
    "    print(\"I am invisible.\")"
   ]
  },
  {
   "cell_type": "markdown",
   "metadata": {},
   "source": [
    "## Data Types 2"
   ]
  },
  {
   "cell_type": "markdown",
   "metadata": {
    "cell_id": "03de255616994f16b94af751a3732f42",
    "deepnote_cell_type": "markdown",
    "tags": []
   },
   "source": [
    "### Lists"
   ]
  },
  {
   "cell_type": "markdown",
   "metadata": {},
   "source": [
    "- data structure consisting of a sequence of values called elements or items "
   ]
  },
  {
   "cell_type": "markdown",
   "metadata": {},
   "source": [
    "#### Basic operations"
   ]
  },
  {
   "cell_type": "markdown",
   "metadata": {
    "cell_id": "7d8fe7641d2e4ce49dc05e94d46e1ccd",
    "deepnote_cell_type": "markdown"
   },
   "source": [
    "- empty lists are initiated by brackets ```my_list = []``` or via the ```my_list = list()``` function"
   ]
  },
  {
   "cell_type": "code",
   "execution_count": 56,
   "metadata": {
    "cell_id": "7f6248bf77974f989dd1ffa6fe016663",
    "deepnote_cell_type": "code",
    "deepnote_to_be_reexecuted": false,
    "execution_millis": 0,
    "execution_start": 1671714395571,
    "source_hash": "9702141b"
   },
   "outputs": [],
   "source": [
    "my_list = [\"Hi\", 3, [1.5, \"Bye\"]]  # list storing a string, an integer, and another list"
   ]
  },
  {
   "cell_type": "code",
   "execution_count": 57,
   "metadata": {
    "cell_id": "075568a32aa4450f811d47d9029ef430",
    "deepnote_cell_type": "code"
   },
   "outputs": [
    {
     "name": "stdout",
     "output_type": "stream",
     "text": [
      "3\n",
      "\n"
     ]
    }
   ],
   "source": [
    "# get the length of the list:\n",
    "print(len(my_list))\n",
    "print()"
   ]
  },
  {
   "cell_type": "code",
   "execution_count": 58,
   "metadata": {
    "cell_id": "6f583f0a38e94302836d5e1402b0f8d6",
    "deepnote_cell_type": "code"
   },
   "outputs": [
    {
     "name": "stdout",
     "output_type": "stream",
     "text": [
      "['Hi', 3, [1.5, 'Bye']]\n",
      "\n"
     ]
    }
   ],
   "source": [
    "# print the whole list:\n",
    "print(my_list)\n",
    "print()"
   ]
  },
  {
   "cell_type": "markdown",
   "metadata": {},
   "source": [
    "- elements can be all types of objects, and also of mixed type\n",
    "- elements can be addressed by list name and their index: ```<listname>[<index>]``` &rarr; lists are an ordered collection of elements\n",
    "\n",
    "<br/>\n",
    "\n",
    "- lists are zero-indexed (!) meaning that the first element is element number zero\n",
    "- negative indices start from the back of the list &rarr; ```<listname>[-1]``` accesses the last element of the list"
   ]
  },
  {
   "cell_type": "code",
   "execution_count": 59,
   "metadata": {
    "cell_id": "b1a49eba76c847bbbb923b286f3f8595",
    "deepnote_cell_type": "code"
   },
   "outputs": [
    {
     "name": "stdout",
     "output_type": "stream",
     "text": [
      "Hi\n",
      "\n"
     ]
    }
   ],
   "source": [
    "# print (or access) a single list element:\n",
    "print(my_list[0])\n",
    "print()\n",
    "\n",
    "hello_statement = my_list[0]"
   ]
  },
  {
   "cell_type": "markdown",
   "metadata": {},
   "source": [
    "- lists are *mutable* &rarr; they (and their elements) can be modified after being created\n",
    "- new items can be added to the list:\n",
    "    - using the ```<listname>.append(<item>)``` function at the end of the list\n",
    "    - using ```<listname>.insert(<index>, <item>)``` at a certain position &rarr; all elements after ```<item>``` are shifted to the right\n",
    "\n",
    "<br/>\n",
    "\n",
    "- items can be deleted in different ways:\n",
    "    - if the index is known: ```del <listname>[<index>]``` or ```<listname>.pop(<index>)``` &rarr; ```pop``` also returns the value, allowing it to be stored in a variable\n",
    "    - if the item is known: ```<listname>.remove(<item>)``` &rarr; searches from beginning to end, removing the first entry"
   ]
  },
  {
   "cell_type": "code",
   "execution_count": 60,
   "metadata": {
    "cell_id": "b66244ba3140451998d72d46fb0f7a40",
    "deepnote_cell_type": "code",
    "deepnote_to_be_reexecuted": false,
    "execution_millis": 3,
    "execution_start": 1671714506215,
    "source_hash": "4716bfb0"
   },
   "outputs": [
    {
     "name": "stdout",
     "output_type": "stream",
     "text": [
      "Hi\n",
      "[3, [1.5, 'Bye'], [3.141, 2.718], 3.141, 2.718]\n"
     ]
    }
   ],
   "source": [
    "# modify the list (in a Jupyter Notebook like this this will yield different results each time this cell is executed):\n",
    "my_other_list = [3.141, 2.718]\n",
    "\n",
    "my_list.append(my_other_list)  # add numbers as list element to list\n",
    "my_list.extend(my_other_list)  # add numbers elementwise as single elements to list\n",
    "\n",
    "first_deleted_element = my_list.pop(0)\n",
    "print(first_deleted_element)\n",
    "\n",
    "print(my_list)"
   ]
  },
  {
   "cell_type": "markdown",
   "metadata": {
    "cell_id": "e0bad6fa66ea4639a89363319028a06a",
    "deepnote_cell_type": "markdown"
   },
   "source": [
    "- strings can be split into lists using the ```<string>.split(<delimiter>)``` function\n",
    "- lists of strings can be joined using the ```<delimiter>.join(<listname>)``` function "
   ]
  },
  {
   "cell_type": "code",
   "execution_count": 61,
   "metadata": {
    "cell_id": "e240c5afa584408ba180b0a59ffe9520",
    "deepnote_cell_type": "code"
   },
   "outputs": [
    {
     "name": "stdout",
     "output_type": "stream",
     "text": [
      "['Simply', 'split', 'this', 'sentence', 'into', 'its', 'words']\n",
      "<class 'list'>\n",
      "\n",
      "Simply - split - this - sentence - into - its - words\n",
      "<class 'str'>\n"
     ]
    }
   ],
   "source": [
    "string_to_be_split = \"Simply split this sentence into its words\"\n",
    "\n",
    "splitted_string_list = string_to_be_split.split(\" \")\n",
    "concatenated_string = \" - \".join(splitted_string_list)\n",
    "\n",
    "print(splitted_string_list)\n",
    "print(type(splitted_string_list))\n",
    "\n",
    "print()\n",
    "\n",
    "print(concatenated_string)\n",
    "print(type(concatenated_string))"
   ]
  },
  {
   "cell_type": "markdown",
   "metadata": {
    "cell_id": "a504bf7b88f340908334bb520e39ec8b",
    "deepnote_cell_type": "markdown"
   },
   "source": [
    "#### List slicing"
   ]
  },
  {
   "cell_type": "markdown",
   "metadata": {
    "cell_id": "79b1c5c38d8f42e88033c7da805f3dc4",
    "deepnote_cell_type": "markdown"
   },
   "source": [
    "Sling describes taking a part of the list.\n",
    "\n",
    "- omitting the first index, the slice starts at the beginning\n",
    "- omitting the second index, the slice ends at the end"
   ]
  },
  {
   "cell_type": "code",
   "execution_count": 62,
   "metadata": {
    "cell_id": "1f73f540321b4d4b944e2d452084548f",
    "deepnote_cell_type": "code"
   },
   "outputs": [
    {
     "name": "stdout",
     "output_type": "stream",
     "text": [
      "[6, 7, 8]\n",
      "[1, 2, 3, 4, 5, 6, 7, 8]\n",
      "[9, 10]\n",
      "[1, 2, 3, 4, 5, 6, 7, 8, 9, 10]\n"
     ]
    }
   ],
   "source": [
    "list_to_slice = [1, 2, 3, 4, 5, 6, 7, 8, 9, 10]\n",
    "\n",
    "print(list_to_slice[5:8])\n",
    "print(list_to_slice[:8])  # everything up until (not including) index 8\n",
    "print(list_to_slice[8:])  # everything from (including) index 8 on\n",
    "print(list_to_slice[:])   # take whole list"
   ]
  },
  {
   "cell_type": "markdown",
   "metadata": {
    "cell_id": "a4e7f8ae7d2d499e94967d82eb3220c2",
    "deepnote_cell_type": "markdown"
   },
   "source": [
    "- a slice operator on the left side of an assignment can update multiple elements"
   ]
  },
  {
   "cell_type": "code",
   "execution_count": 63,
   "metadata": {
    "cell_id": "219f90f2f2aa445e935c58e3b6cef071",
    "deepnote_cell_type": "code"
   },
   "outputs": [
    {
     "name": "stdout",
     "output_type": "stream",
     "text": [
      "[1, 'x', 'y', 4, 5, 6, 7, 8, 9, 10]\n"
     ]
    }
   ],
   "source": [
    "list_to_slice = [1, 2, 3, 4, 5, 6, 7, 8, 9, 10]\n",
    "list_to_slice[1:3] = ['x', 'y']\n",
    "\n",
    "print(list_to_slice)"
   ]
  },
  {
   "cell_type": "markdown",
   "metadata": {
    "cell_id": "dd4367a26da54641b47116009534d04b",
    "deepnote_cell_type": "markdown"
   },
   "source": [
    "#### List combination"
   ]
  },
  {
   "cell_type": "markdown",
   "metadata": {
    "cell_id": "8cbb5311e3fd445ca26fd21650fe9d51",
    "deepnote_cell_type": "markdown"
   },
   "source": [
    "- lists can be combined by summing them up &rarr; other operations like subtraction do not work this way (even when both lists only contain numerical values)\n",
    "\n",
    "- alternatively the ```.extend()``` method could be used"
   ]
  },
  {
   "cell_type": "code",
   "execution_count": 64,
   "metadata": {
    "cell_id": "64f24cecfe4b49b49b88245864b5c109",
    "deepnote_cell_type": "code"
   },
   "outputs": [
    {
     "name": "stdout",
     "output_type": "stream",
     "text": [
      "[1, 2, 3, 'A', 'B', 'C']\n"
     ]
    }
   ],
   "source": [
    "list_1_to_combine = [1, 2, 3]\n",
    "list_2_to_combine = [\"A\", \"B\", \"C\"]\n",
    "\n",
    "print(list_1_to_combine + list_2_to_combine)"
   ]
  },
  {
   "cell_type": "markdown",
   "metadata": {
    "cell_id": "eaa848fea5e94b09a5aa5dc6e28e024f",
    "deepnote_cell_type": "markdown"
   },
   "source": [
    "#### Looping over lists"
   ]
  },
  {
   "cell_type": "markdown",
   "metadata": {
    "cell_id": "9f4b7282ee334d3fa91775592d2e7739",
    "deepnote_cell_type": "markdown"
   },
   "source": [
    "##### ... the classical, multi-line way"
   ]
  },
  {
   "cell_type": "code",
   "execution_count": 65,
   "metadata": {
    "cell_id": "7c7798b4235d4e609b101a3a31bda9b7",
    "deepnote_cell_type": "code"
   },
   "outputs": [
    {
     "name": "stdout",
     "output_type": "stream",
     "text": [
      "12\n",
      "3\n",
      "1.5\n",
      "\n",
      "12\n",
      "3\n",
      "1.5\n",
      "\n"
     ]
    }
   ],
   "source": [
    "loop_list = [12, 3, 1.5]\n",
    "\n",
    "# looping directly over items:\n",
    "for item in loop_list:\n",
    "    print(item)\n",
    "print()\n",
    "\n",
    "# looping over indices:\n",
    "for index in range(0, len(loop_list)):\n",
    "    print(loop_list[index])\n",
    "print()"
   ]
  },
  {
   "cell_type": "markdown",
   "metadata": {
    "cell_id": "cfc62f0520a24d5cb791d5b66c341d35",
    "deepnote_cell_type": "markdown"
   },
   "source": [
    "- a loop over an empty list never runs the instructions"
   ]
  },
  {
   "cell_type": "code",
   "execution_count": 66,
   "metadata": {
    "cell_id": "86783b4b06e64e5db95facb1b4258443",
    "deepnote_cell_type": "code"
   },
   "outputs": [
    {
     "name": "stdout",
     "output_type": "stream",
     "text": [
      "Done.\n"
     ]
    }
   ],
   "source": [
    "for i in []:\n",
    "    print(\"This never happens\")\n",
    "print(\"Done.\")"
   ]
  },
  {
   "cell_type": "markdown",
   "metadata": {
    "cell_id": "b99b5709ccac47cb8c8c99bf8f29c8cf",
    "deepnote_cell_type": "markdown"
   },
   "source": [
    "##### ... using list comprehensions"
   ]
  },
  {
   "cell_type": "markdown",
   "metadata": {
    "cell_id": "b2c07606399a423b96ae70e67a730e8d",
    "deepnote_cell_type": "markdown"
   },
   "source": [
    "- *list comprehensions* allow creating a new list from an old one (and other iterables) within one line of code\n",
    "- same works for tuples, dictionaries, sets (all mentioned later)\n",
    "\n",
    "*Syntax*: ```new_list = [this_expression if condition else other_expression for item in iterable]```\n",
    "\n",
    "- is theoretically also possible with nested expressions but much more difficult to decipher"
   ]
  },
  {
   "cell_type": "code",
   "execution_count": 67,
   "metadata": {
    "cell_id": "0eae709efa264f6a80b35b9e6cc8ba5b",
    "deepnote_cell_type": "code"
   },
   "outputs": [
    {
     "name": "stdout",
     "output_type": "stream",
     "text": [
      "[36, 6, 3.0, 12, 18, 300]\n",
      "[36, 6, 3.0, 12, 18, 300]\n"
     ]
    }
   ],
   "source": [
    "loop_list = [12, 3, 1.5, 6, 9, 100]\n",
    "\n",
    "# double items in value that are below 10, else triple them:\n",
    "\n",
    "doubled_loop_list = [2*item if item < 10 else 3*item for item in loop_list]  \n",
    "print(doubled_loop_list)\n",
    "\n",
    "# this is identical to (but much shorter than):\n",
    "\n",
    "doubled_loop_list = []\n",
    "for item in loop_list:\n",
    "    if item < 10:\n",
    "        doubled_loop_list.append(2*item)\n",
    "    else:\n",
    "        doubled_loop_list.append(3*item)\n",
    "\n",
    "print(doubled_loop_list)"
   ]
  },
  {
   "cell_type": "markdown",
   "metadata": {
    "cell_id": "ddf8760e19c5468a98241b9f10272c4a",
    "deepnote_cell_type": "markdown"
   },
   "source": [
    "#### Other useful list methods"
   ]
  },
  {
   "cell_type": "markdown",
   "metadata": {},
   "source": [
    "##### Sum"
   ]
  },
  {
   "cell_type": "markdown",
   "metadata": {
    "cell_id": "64e04a07f4d245cda93f6ca4e3cfc864",
    "deepnote_cell_type": "markdown"
   },
   "source": [
    "- summing up numercial values in a list using the ```sum(<listname>)``` function"
   ]
  },
  {
   "cell_type": "code",
   "execution_count": 68,
   "metadata": {
    "cell_id": "6c26c4041225495baf0595a07e816edc",
    "deepnote_cell_type": "code"
   },
   "outputs": [
    {
     "name": "stdout",
     "output_type": "stream",
     "text": [
      "10.414\n",
      "[2, 3.414, 5, 'Hi']\n"
     ]
    },
    {
     "ename": "TypeError",
     "evalue": "unsupported operand type(s) for +: 'float' and 'str'",
     "output_type": "error",
     "traceback": [
      "\u001b[1;31m---------------------------------------------------------------------------\u001b[0m",
      "\u001b[1;31mTypeError\u001b[0m                                 Traceback (most recent call last)",
      "Cell \u001b[1;32mIn [68], line 7\u001b[0m\n\u001b[0;32m      5\u001b[0m summed_list\u001b[38;5;241m.\u001b[39mappend(\u001b[38;5;124m\"\u001b[39m\u001b[38;5;124mHi\u001b[39m\u001b[38;5;124m\"\u001b[39m)\n\u001b[0;32m      6\u001b[0m \u001b[38;5;28mprint\u001b[39m(summed_list)\n\u001b[1;32m----> 7\u001b[0m \u001b[38;5;28mprint\u001b[39m(\u001b[38;5;28;43msum\u001b[39;49m\u001b[43m(\u001b[49m\u001b[43msummed_list\u001b[49m\u001b[43m)\u001b[49m)\n",
      "\u001b[1;31mTypeError\u001b[0m: unsupported operand type(s) for +: 'float' and 'str'"
     ]
    }
   ],
   "source": [
    "summed_list = [2, 3.414, 5]\n",
    "print(sum(summed_list))\n",
    "\n",
    "# does only work when the list has numerical values exclusively:\n",
    "summed_list.append(\"Hi\")\n",
    "print(summed_list)\n",
    "print(sum(summed_list))"
   ]
  },
  {
   "cell_type": "markdown",
   "metadata": {},
   "source": [
    "##### Sorting"
   ]
  },
  {
   "cell_type": "markdown",
   "metadata": {
    "cell_id": "c31c8df202d44c60a0fa8d156a6d12cb",
    "deepnote_cell_type": "markdown"
   },
   "source": [
    "- sorting values in a list using the ```<listname>.sort()``` (returns ```None```) or ```sorted(<listname>)``` (returns list object) funtions"
   ]
  },
  {
   "cell_type": "code",
   "execution_count": 69,
   "metadata": {
    "cell_id": "324ea1cee7bc4598a405fa47fdb1dae8",
    "deepnote_cell_type": "code"
   },
   "outputs": [
    {
     "name": "stdout",
     "output_type": "stream",
     "text": [
      "[10.8, 1, 3.414]\n",
      "None\n",
      "\n",
      "[10.8, 1, 3.414]\n",
      "[1, 3.414, 10.8]\n",
      "\n",
      "[10.8, 1, 3.414]\n",
      "[10.8, 3.414, 1]\n"
     ]
    }
   ],
   "source": [
    "# Numerical sorting:\n",
    "\n",
    "unsorted_list = [10.8, 1, 3.414]\n",
    "\n",
    "print(unsorted_list)\n",
    "print(unsorted_list.sort())  # in-place operation: returns None but updates list as can be seen in next print\n",
    "print()\n",
    "\n",
    "# ---\n",
    "\n",
    "unsorted_list = [10.8, 1, 3.414]\n",
    "\n",
    "print(unsorted_list)\n",
    "print(sorted(unsorted_list))  # returns list but does not update variable as can be seen in next print\n",
    "print()\n",
    "\n",
    "# ---\n",
    "\n",
    "unsorted_list = [10.8, 1, 3.414]\n",
    "\n",
    "print(unsorted_list)\n",
    "print(sorted(unsorted_list, reverse=True))  # reversed sorting - sorting in descending order"
   ]
  },
  {
   "cell_type": "code",
   "execution_count": 70,
   "metadata": {
    "cell_id": "f55ef35e32b5416b8f8f55a8bc3020df",
    "deepnote_cell_type": "code"
   },
   "outputs": [
    {
     "name": "stdout",
     "output_type": "stream",
     "text": [
      "['T', 'S', 'C', 'A']\n"
     ]
    }
   ],
   "source": [
    "# String sorting:\n",
    "unsorted_list = [\"C\", \"A\", \"T\", \"S\"]\n",
    "\n",
    "print(sorted(unsorted_list, reverse=True))  # also reverse sorting possible"
   ]
  },
  {
   "cell_type": "markdown",
   "metadata": {},
   "source": [
    "##### In-Operator"
   ]
  },
  {
   "cell_type": "markdown",
   "metadata": {
    "cell_id": "ddd1d4078af9416cb502ab0d8cb94ad5",
    "deepnote_cell_type": "markdown",
    "tags": []
   },
   "source": [
    "- testing for values in a list using the ```in``` operator"
   ]
  },
  {
   "cell_type": "code",
   "execution_count": 71,
   "metadata": {
    "cell_id": "1dfb385e85404a739fd2f172725dc0ba",
    "deepnote_cell_type": "code",
    "deepnote_to_be_reexecuted": false,
    "execution_millis": 6,
    "execution_start": 1671714161498,
    "source_hash": "e9a8cefb",
    "tags": []
   },
   "outputs": [
    {
     "data": {
      "text/plain": [
       "True"
      ]
     },
     "execution_count": 71,
     "metadata": {},
     "output_type": "execute_result"
    }
   ],
   "source": [
    "5 in [1, 2, 3, 4, 5]"
   ]
  },
  {
   "cell_type": "markdown",
   "metadata": {
    "cell_id": "060d3a94db8f4b48b5470ada38671086",
    "deepnote_cell_type": "markdown",
    "tags": []
   },
   "source": [
    "### Tuples"
   ]
  },
  {
   "cell_type": "markdown",
   "metadata": {
    "cell_id": "8894e037d5dd4fafa7116b91d204ae8e",
    "deepnote_cell_type": "markdown"
   },
   "source": [
    "- are similar to lists: are also ordered and elements can be accessed by index\n",
    "- difference being that they are *immutable* &rarr; can't be modified once they have been created\n",
    "\n",
    "<br/>\n",
    "\n",
    "- allow collecting multiple values in one single variable\n",
    "\n",
    "<br/>\n",
    "\n",
    "- an empty tuple is initiated with parentheses ```my_tuple = ()``` or with the ```my_tuple = tuple()``` function"
   ]
  },
  {
   "cell_type": "code",
   "execution_count": 72,
   "metadata": {
    "cell_id": "23d2b823a16c43cc882d7baa5a12235b",
    "deepnote_cell_type": "code"
   },
   "outputs": [
    {
     "ename": "AttributeError",
     "evalue": "'tuple' object has no attribute 'append'",
     "output_type": "error",
     "traceback": [
      "\u001b[1;31m---------------------------------------------------------------------------\u001b[0m",
      "\u001b[1;31mAttributeError\u001b[0m                            Traceback (most recent call last)",
      "Cell \u001b[1;32mIn [72], line 5\u001b[0m\n\u001b[0;32m      1\u001b[0m \u001b[38;5;66;03m# modifying a tuple raises an error:\u001b[39;00m\n\u001b[0;32m      3\u001b[0m my_tuple \u001b[38;5;241m=\u001b[39m (\u001b[38;5;241m1\u001b[39m, \u001b[38;5;241m2\u001b[39m, \u001b[38;5;241m3\u001b[39m)\n\u001b[1;32m----> 5\u001b[0m \u001b[43mmy_tuple\u001b[49m\u001b[38;5;241;43m.\u001b[39;49m\u001b[43mappend\u001b[49m(\u001b[38;5;241m4\u001b[39m)\n",
      "\u001b[1;31mAttributeError\u001b[0m: 'tuple' object has no attribute 'append'"
     ]
    }
   ],
   "source": [
    "# modifying a tuple raises an error:\n",
    "\n",
    "my_tuple = (1, 2, 3)\n",
    "\n",
    "my_tuple.append(4)"
   ]
  },
  {
   "cell_type": "code",
   "execution_count": 73,
   "metadata": {
    "cell_id": "23d2b823a16c43cc882d7baa5a12235b",
    "deepnote_cell_type": "code"
   },
   "outputs": [
    {
     "ename": "TypeError",
     "evalue": "'tuple' object does not support item assignment",
     "output_type": "error",
     "traceback": [
      "\u001b[1;31m---------------------------------------------------------------------------\u001b[0m",
      "\u001b[1;31mTypeError\u001b[0m                                 Traceback (most recent call last)",
      "Cell \u001b[1;32mIn [73], line 1\u001b[0m\n\u001b[1;32m----> 1\u001b[0m \u001b[43mmy_tuple\u001b[49m\u001b[43m[\u001b[49m\u001b[38;5;241;43m0\u001b[39;49m\u001b[43m]\u001b[49m \u001b[38;5;241m=\u001b[39m \u001b[38;5;124m\"\u001b[39m\u001b[38;5;124mA\u001b[39m\u001b[38;5;124m\"\u001b[39m\n",
      "\u001b[1;31mTypeError\u001b[0m: 'tuple' object does not support item assignment"
     ]
    }
   ],
   "source": [
    "my_tuple[0] = \"A\""
   ]
  },
  {
   "cell_type": "code",
   "execution_count": 74,
   "metadata": {
    "cell_id": "23d2b823a16c43cc882d7baa5a12235b",
    "deepnote_cell_type": "code"
   },
   "outputs": [
    {
     "ename": "TypeError",
     "evalue": "'tuple' object doesn't support item deletion",
     "output_type": "error",
     "traceback": [
      "\u001b[1;31m---------------------------------------------------------------------------\u001b[0m",
      "\u001b[1;31mTypeError\u001b[0m                                 Traceback (most recent call last)",
      "Cell \u001b[1;32mIn [74], line 1\u001b[0m\n\u001b[1;32m----> 1\u001b[0m \u001b[38;5;28;01mdel\u001b[39;00m \u001b[43mmy_tuple\u001b[49m\u001b[43m[\u001b[49m\u001b[38;5;241;43m0\u001b[39;49m\u001b[43m]\u001b[49m\n",
      "\u001b[1;31mTypeError\u001b[0m: 'tuple' object doesn't support item deletion"
     ]
    }
   ],
   "source": [
    "del my_tuple[0]"
   ]
  },
  {
   "cell_type": "code",
   "execution_count": 75,
   "metadata": {
    "cell_id": "19527ffc80bf4f6ab799d19717925ef7",
    "deepnote_cell_type": "code"
   },
   "outputs": [
    {
     "name": "stdout",
     "output_type": "stream",
     "text": [
      "<class 'str'>\n",
      "<class 'tuple'>\n"
     ]
    }
   ],
   "source": [
    "# tuples with single values are initiated with a comma:\n",
    "\n",
    "tuple_var = (\"A\")\n",
    "real_tuple = (\"A\",)\n",
    "\n",
    "print(type(tuple_var))\n",
    "print(type(real_tuple))"
   ]
  },
  {
   "cell_type": "markdown",
   "metadata": {
    "cell_id": "489d6f47f44647ec9674f72c20382ff4",
    "deepnote_cell_type": "markdown",
    "tags": []
   },
   "source": [
    "### Sets"
   ]
  },
  {
   "cell_type": "markdown",
   "metadata": {
    "cell_id": "e87c799caa46442f92578d7c182131e2",
    "deepnote_cell_type": "markdown"
   },
   "source": [
    "- they are unordered\n",
    "- once a set is created, it is not possible to change items, but they can be removed and new ones can be added\n",
    "- their perk: they contain a collection of unique elements &rarr; duplicates are automatically deleted\n",
    "\n",
    "<br/>\n",
    "\n",
    "- an empty set is initiated with the ```my_set = set()``` function (but not with braces)"
   ]
  },
  {
   "cell_type": "code",
   "execution_count": 76,
   "metadata": {
    "cell_id": "d7578f21f9ba435ca5651249d46b2350",
    "deepnote_cell_type": "code"
   },
   "outputs": [
    {
     "name": "stdout",
     "output_type": "stream",
     "text": [
      "{'C', 'B', 'A'}\n",
      "{'C', 'A'}\n",
      "{'C', 'D', 'A'}\n"
     ]
    }
   ],
   "source": [
    "my_set = {\"A\", \"A\", \"B\", \"C\"}\n",
    "\n",
    "print(my_set)  # the second, non-unique element is removed\n",
    "\n",
    "# items can be added and removed:\n",
    "\n",
    "my_set.remove(\"B\")\n",
    "print(my_set)\n",
    "\n",
    "my_set.add(\"D\")\n",
    "print(my_set)"
   ]
  },
  {
   "cell_type": "code",
   "execution_count": 77,
   "metadata": {
    "cell_id": "dfc872abb44e45d890e94ad7b73f2030",
    "deepnote_cell_type": "code"
   },
   "outputs": [
    {
     "ename": "TypeError",
     "evalue": "'set' object is not subscriptable",
     "output_type": "error",
     "traceback": [
      "\u001b[1;31m---------------------------------------------------------------------------\u001b[0m",
      "\u001b[1;31mTypeError\u001b[0m                                 Traceback (most recent call last)",
      "Cell \u001b[1;32mIn [77], line 3\u001b[0m\n\u001b[0;32m      1\u001b[0m \u001b[38;5;66;03m# sets are unordered:\u001b[39;00m\n\u001b[1;32m----> 3\u001b[0m \u001b[38;5;28mprint\u001b[39m(\u001b[43mmy_set\u001b[49m\u001b[43m[\u001b[49m\u001b[38;5;241;43m0\u001b[39;49m\u001b[43m]\u001b[49m)\n",
      "\u001b[1;31mTypeError\u001b[0m: 'set' object is not subscriptable"
     ]
    }
   ],
   "source": [
    "# sets are unordered:\n",
    "\n",
    "print(my_set[0])"
   ]
  },
  {
   "cell_type": "markdown",
   "metadata": {
    "cell_id": "f783507571c74189bf6ce2dc389d7d50",
    "deepnote_cell_type": "markdown"
   },
   "source": [
    "- allow for set-operations like determining intersections, unions, [etc.](https://www.programiz.com/python-programming/methods/set/intersection) &rarr; can be computationally slow with large sets"
   ]
  },
  {
   "cell_type": "code",
   "execution_count": 78,
   "metadata": {
    "cell_id": "5a8280fec209456aa8ec4964da282409",
    "deepnote_cell_type": "code"
   },
   "outputs": [
    {
     "name": "stdout",
     "output_type": "stream",
     "text": [
      "False\n"
     ]
    }
   ],
   "source": [
    "set_a = {1, 2, 3, 4}\n",
    "set_b = {4, 5, 6, 7}\n",
    "\n",
    "print(set_a.isdisjoint(set_b))"
   ]
  },
  {
   "cell_type": "code",
   "execution_count": 79,
   "metadata": {
    "cell_id": "88bd30cafea84c44b3746b106c9a3502",
    "deepnote_cell_type": "code"
   },
   "outputs": [
    {
     "name": "stdout",
     "output_type": "stream",
     "text": [
      "{1, 2, 3, 4, 5, 6, 7}\n"
     ]
    }
   ],
   "source": [
    "print(set_a.union(set_b))"
   ]
  },
  {
   "cell_type": "markdown",
   "metadata": {
    "cell_id": "34b7e39abebc4127932fc6eaaba43344",
    "deepnote_cell_type": "markdown",
    "tags": []
   },
   "source": [
    "### Dictionaries"
   ]
  },
  {
   "cell_type": "markdown",
   "metadata": {
    "cell_id": "9ba6ea37415e41c9abae1b22b19b628f",
    "deepnote_cell_type": "markdown"
   },
   "source": [
    "- provides a special kind of list that can use (almost) any type of value as an index (not just integers like in lists) &rarr; maps **key-value pairs**\n",
    "- are unordered and mutable"
   ]
  },
  {
   "cell_type": "markdown",
   "metadata": {},
   "source": [
    "#### Basic operations"
   ]
  },
  {
   "cell_type": "markdown",
   "metadata": {
    "cell_id": "9ba6ea37415e41c9abae1b22b19b628f",
    "deepnote_cell_type": "markdown"
   },
   "source": [
    "- add new entries to the dictionary via square brackets, mapping the key to the value: ```<dict>[<key>] = <value>```, \n",
    "- look up value via square brackets or with the ```<dict>.get(<key>)``` method\n",
    "    - providing the same key twice (with two different values) returns the second value\n",
    "\n",
    "<br/>\n",
    "\n",
    "- an empty dictionary is initiated with braces ```my_dict = {}``` or with the ```my_dict = dict()``` function"
   ]
  },
  {
   "cell_type": "code",
   "execution_count": 80,
   "metadata": {
    "cell_id": "b887955ce0854dec9974f10010b6b2b9",
    "deepnote_cell_type": "code"
   },
   "outputs": [
    {
     "name": "stdout",
     "output_type": "stream",
     "text": [
      "{'David Smith': 'Marketstreet 3', 'Julia Horn': 'Bridgeway 5', 'Adam Mouse': 'Main Lane 5', 'Don Joe': 'Princess Street 1'}\n"
     ]
    }
   ],
   "source": [
    "adresses = {\n",
    "    \"David Smith\": \"Marketstreet 3\",\n",
    "    \"Julia Horn\": \"Bridgeway 5\",\n",
    "    \"Adam Mouse\": \"Main Lane 5\"\n",
    "}\n",
    "\n",
    "# adding values:\n",
    "\n",
    "adresses[\"Don Joe\"] = \"Princess Street 1\"\n",
    "print(adresses)"
   ]
  },
  {
   "cell_type": "markdown",
   "metadata": {
    "cell_id": "14270d877f664567a0dcaa7818f5ba80",
    "deepnote_cell_type": "markdown"
   },
   "source": [
    "#### Retrieving values"
   ]
  },
  {
   "cell_type": "code",
   "execution_count": 81,
   "metadata": {
    "cell_id": "ae04dc12f247473094cd5afda2bf051e",
    "deepnote_cell_type": "code"
   },
   "outputs": [
    {
     "name": "stdout",
     "output_type": "stream",
     "text": [
      "Princess Street 1\n",
      "Bridgeway 5\n"
     ]
    }
   ],
   "source": [
    "# getting existing values:\n",
    "\n",
    "print(adresses[\"Don Joe\"])\n",
    "print(adresses.get(\"Julia Horn\"))"
   ]
  },
  {
   "cell_type": "markdown",
   "metadata": {
    "cell_id": "0b493f6e77c843448024893cff46043a",
    "deepnote_cell_type": "markdown"
   },
   "source": [
    "- the bracket- and get-methods return different values for keys that do not exist in the dict"
   ]
  },
  {
   "cell_type": "code",
   "execution_count": 82,
   "metadata": {
    "cell_id": "04718c18a01e446c89b4a15c3b682094",
    "deepnote_cell_type": "code"
   },
   "outputs": [
    {
     "ename": "KeyError",
     "evalue": "'Max Hinte'",
     "output_type": "error",
     "traceback": [
      "\u001b[1;31m---------------------------------------------------------------------------\u001b[0m",
      "\u001b[1;31mKeyError\u001b[0m                                  Traceback (most recent call last)",
      "Cell \u001b[1;32mIn [82], line 1\u001b[0m\n\u001b[1;32m----> 1\u001b[0m \u001b[38;5;28mprint\u001b[39m(\u001b[43madresses\u001b[49m\u001b[43m[\u001b[49m\u001b[38;5;124;43m\"\u001b[39;49m\u001b[38;5;124;43mMax Hinte\u001b[39;49m\u001b[38;5;124;43m\"\u001b[39;49m\u001b[43m]\u001b[49m)\n",
      "\u001b[1;31mKeyError\u001b[0m: 'Max Hinte'"
     ]
    }
   ],
   "source": [
    "print(adresses[\"Max Hinte\"])"
   ]
  },
  {
   "cell_type": "code",
   "execution_count": 83,
   "metadata": {
    "cell_id": "01c708008d584ddd8920468a37e3342b",
    "deepnote_cell_type": "code"
   },
   "outputs": [
    {
     "name": "stdout",
     "output_type": "stream",
     "text": [
      "None\n",
      "No idea who that is.\n"
     ]
    }
   ],
   "source": [
    "print(adresses.get(\"Max Hinte\"))  # returns None by default which can be changed\n",
    "print(adresses.get(\"Max Hinte\", \"No idea who that is.\"))"
   ]
  },
  {
   "cell_type": "markdown",
   "metadata": {
    "cell_id": "a5bb8048b47244599bd00ec3a95f2062",
    "deepnote_cell_type": "markdown"
   },
   "source": [
    "#### Looping over dictionaries"
   ]
  },
  {
   "cell_type": "markdown",
   "metadata": {
    "cell_id": "3b5d331c2f6f47989813b81d48053ab6",
    "deepnote_cell_type": "markdown"
   },
   "source": [
    "- looping directly over a dictionary is not possible, it has to be specified over which part of the dictionary is being looped\n",
    "- sequence of retrieved values from loop is arbitrary since dictionary is not ordered"
   ]
  },
  {
   "cell_type": "code",
   "execution_count": 84,
   "metadata": {
    "cell_id": "832c112f2d4b4fd782a526cd380269bf",
    "deepnote_cell_type": "code"
   },
   "outputs": [
    {
     "name": "stdout",
     "output_type": "stream",
     "text": [
      "David Smith lives in David Smith\n",
      "Julia Horn lives in Julia Horn\n",
      "Adam Mouse lives in Adam Mouse\n",
      "Don Joe lives in Don Joe\n",
      "\n",
      "David Smith\n",
      "Julia Horn\n",
      "Adam Mouse\n",
      "Don Joe\n",
      "\n",
      "Marketstreet 3\n",
      "Bridgeway 5\n",
      "Main Lane 5\n",
      "Princess Street 1\n"
     ]
    }
   ],
   "source": [
    "for key, value in adresses.items():  # returns key-value tuple which can be unpacked in loop\n",
    "    print(f\"{key} lives in {key}\")\n",
    "print()\n",
    "\n",
    "for key in adresses.keys():\n",
    "    print(key)\n",
    "print()\n",
    "\n",
    "for value in adresses.values():\n",
    "    print(value)"
   ]
  },
  {
   "cell_type": "markdown",
   "metadata": {
    "cell_id": "b81640d7b31048bba8738519b6a73bb1",
    "deepnote_cell_type": "markdown",
    "tags": []
   },
   "source": [
    "## External Files"
   ]
  },
  {
   "cell_type": "markdown",
   "metadata": {
    "cell_id": "b493749c40c4491e9de470440e3f1e10",
    "deepnote_cell_type": "markdown"
   },
   "source": [
    "Many more file operations can be found [in this article](https://www.programiz.com/python-programming/file-operation)."
   ]
  },
  {
   "cell_type": "markdown",
   "metadata": {
    "cell_id": "752401d5780c488ab298814809f99870",
    "deepnote_cell_type": "markdown"
   },
   "source": [
    "### Reading from other files"
   ]
  },
  {
   "cell_type": "markdown",
   "metadata": {
    "cell_id": "ff518e2d52254616ab9929af9d97ab34",
    "deepnote_cell_type": "markdown"
   },
   "source": [
    "- the built-in Python ```open(\"<storage path>\")``` function takes the storage path of a file (as a string) as parameter and returns a file object, which can be assigned to a variable ```<filename>``` to read the file contents\n",
    "- when the file is not where Python is asked to look for it, a ```FileNotFoundError``` is raised &rarr; wrapping the ```open(\"<storage path>\")``` function in a ```try``` statement can catch this case\n",
    "\n",
    "<br/>\n",
    "\n",
    "- after using a file it better is closed again to avoid write-conflicts in the operating system using ```<filename>.close()```\n",
    "- alternatively, the ```with``` statement can be used which automatically closes the file\n",
    "\n",
    "<br/>\n",
    "\n",
    "- having opened the file:\n",
    "    - single lines can be read via the function ```<file object>.readline()```\n",
    "        - this function moves on one line whenever it is called\n",
    "        - when there are no lines left in the file, it returns an empty string\n",
    "    - the pointer can be set to a specific *n*-th caracter of the file using ```<file object>.seek(n)>``` or the current position of the pointer can be read using ```<file object>.tell()>```\n",
    "    - all remaining content after the current curser position can be obtained with the ```<file object>.readlines()``` command"
   ]
  },
  {
   "cell_type": "code",
   "execution_count": 85,
   "metadata": {
    "cell_id": "6290db118c0a409d83cf285499fd53c1",
    "deepnote_cell_type": "code"
   },
   "outputs": [
    {
     "name": "stdout",
     "output_type": "stream",
     "text": [
      "Petra;Wagstädt;23-06-89;15.99\n",
      "\n",
      "Petra;Wagstädt;23-06-89;15.99\n",
      "\n",
      "File not found. Skipping read process...\n"
     ]
    }
   ],
   "source": [
    "f = open(\"customers.txt\", encoding=\"utf-8\")  # fix output with proper \"encoding\"-parameter\n",
    "line = f.readline()  # read the first line\n",
    "print(line)\n",
    "f.close()  # don't forget to close the file again!\n",
    "    \n",
    "# --- alternative:\n",
    "with open(\"customers.txt\", encoding=\"utf-8\") as f:\n",
    "    line = f.readline()  # no closing statement is required minimising the risk for file corruption\n",
    "    print(line)\n",
    "\n",
    "# --- catching exceptions:\n",
    "try:  # if the 'with' statement is omitted the file has to be closed in the 'else' statement\n",
    "    with open(\"customer_names.txt\", encoding=\"utf-8\") as f:\n",
    "        line = f.readline()\n",
    "        print(line)\n",
    "\n",
    "except FileNotFoundError:\n",
    "    print(\"File not found. Skipping read process...\")"
   ]
  },
  {
   "cell_type": "markdown",
   "metadata": {
    "cell_id": "dfbfb5d9137544edb1ad821589226dce",
    "deepnote_cell_type": "markdown"
   },
   "source": [
    "### Writing to other files"
   ]
  },
  {
   "cell_type": "markdown",
   "metadata": {
    "cell_id": "92ecd2e658be41b4864b5345d15993bc",
    "deepnote_cell_type": "markdown"
   },
   "source": [
    "- the file must be opened in *writing mode* using the ```mode=\"w\"``` flag\n",
    "- a file object can be written to using the ```<filename>.write(<content string>)``` function\n",
    "- sometimes the encoding of the file has to be specified in the ```open()``` method using the ```encoding=<ENCODING>``` argument"
   ]
  },
  {
   "cell_type": "code",
   "execution_count": 86,
   "metadata": {
    "cell_id": "3a19292c2fd14ef2b477245075f2fb9a",
    "deepnote_cell_type": "code",
    "deepnote_to_be_reexecuted": false,
    "execution_millis": 45,
    "execution_start": 1672947982170,
    "source_hash": "fbcf4059"
   },
   "outputs": [],
   "source": [
    "to_be_saved = \"Please save me!\"\n",
    "\n",
    "with open('output.txt', mode='w', encoding=\"utf-8\") as f:  # can also be 'output.csv' an such\n",
    "    f.write(f\"{to_be_saved}\\n\")  # add line break character\n",
    "    f.write(\"Alrighty, I'm on my way!\")  "
   ]
  },
  {
   "cell_type": "markdown",
   "metadata": {
    "cell_id": "ac90d7b2165b4564a7505a8acd8e32f2",
    "deepnote_cell_type": "markdown",
    "tags": []
   },
   "source": [
    "## Functions"
   ]
  },
  {
   "cell_type": "markdown",
   "metadata": {
    "cell_id": "26d87a5d1e064ce58bc5faad03acdb1a",
    "deepnote_cell_type": "markdown"
   },
   "source": [
    "- “takes” an argument and “returns” a result\n",
    "    - functions have a *name*, *arguments* (also called *parameters*), and a *code body*\n",
    "    - not all functions need arguments – can be called with empty arguments, too\n",
    "    - not all functions return a value as their result – “void” functions have an effect, such as printing something\n",
    "    \n",
    "<br/>\n",
    "\n",
    "- since Python executes all statements in one script from top to bottom any function needs to be either defined or imported before it can be called\n",
    "- when the end of the function code is reached, the flow of execution returns to the line in the original program where it was called\n",
    "\n",
    "<br/>\n",
    "\n",
    "- Knowing how to access existing functions is a prerequisite to using external Python modules\n",
    "    - Much given functionality comes in... functions\n",
    "    - You need to know how to use a function by providing the right input and expecting the correct output\n",
    "    - Opening a function’s code and reading it, without changing it, can help you understand in how far this module does what you need\n",
    "\n",
    "<br/>\n",
    "\n",
    "- Knowing how to organise your own code in functions lets you\n",
    "    - re-use it in other areas of the program without having to type the commands out again\n",
    "    - avoid typing the same code multiple times to educe errors\n",
    "    - think systematically about the required and optional input for a piece of code and the resulting output"
   ]
  },
  {
   "cell_type": "markdown",
   "metadata": {
    "cell_id": "78aed5921ebf437882f7be8758efb8c4",
    "deepnote_cell_type": "markdown"
   },
   "source": [
    "When writing or reading a program without exactly following the flow of execution through every function is termed a **leap of faith**. This means that we believe that there will be a function that can create the result that is needed because:\n",
    "- it is already written and we do not want to check it now\n",
    "- we will write it later and want to continue building the code that will use it\n",
    "- we assume that Python provides some similar function and we will Google it later\n",
    "\n",
    "Python also uses the leap of faith when running code that defines a function that relies on another function, which has not been defined yet (statements in the function are not run on definition, but only when the function is called) &rarr; missing or corrupt functions can create runtime errors"
   ]
  },
  {
   "cell_type": "markdown",
   "metadata": {
    "cell_id": "7299a0ec6fb743cdad58ef01a1bb308e",
    "deepnote_cell_type": "markdown"
   },
   "source": [
    "### Imports"
   ]
  },
  {
   "cell_type": "markdown",
   "metadata": {},
   "source": [
    "#### General remarks"
   ]
  },
  {
   "cell_type": "markdown",
   "metadata": {
    "cell_id": "1955b27991e44aa3be1b1238b8eae624",
    "deepnote_cell_type": "markdown"
   },
   "source": [
    "- when calling a function from an imported module, that function runs code from outside the script, as defined inside the function, from top to bottom\n",
    "- importing creates a module object which can be accessed\n",
    "\n",
    "<br/>\n",
    "\n",
    "- modules not included in the standard Python library need to be downloaded, e.g. using ```pip``` (\"pip installs python\") via ```pip install <module name>```\n",
    "- in non-local Jupyter Notebooks you can write ```!pip install <MODULE NAME>``` into a code cell"
   ]
  },
  {
   "cell_type": "code",
   "execution_count": 87,
   "metadata": {
    "cell_id": "eaab7a16a1ba423cb48215885cfa0a22",
    "deepnote_cell_type": "code"
   },
   "outputs": [],
   "source": [
    "import math\n",
    "import numpy as np  # modules can be imported using an alias"
   ]
  },
  {
   "cell_type": "code",
   "execution_count": 88,
   "metadata": {
    "cell_id": "a75d1f39bcb24a69bb40ed5a20a5842f",
    "deepnote_cell_type": "code"
   },
   "outputs": [
    {
     "name": "stdout",
     "output_type": "stream",
     "text": [
      "3.141592653589793\n",
      "36\n"
     ]
    }
   ],
   "source": [
    "# functions and constants included in the module can be accessed via a dot notation\n",
    "print(math.pi)\n",
    "print(math.prod([6, 2, 3]))"
   ]
  },
  {
   "cell_type": "code",
   "execution_count": 89,
   "metadata": {
    "cell_id": "f2f71de040fa4184bdba5931540dc33b",
    "deepnote_cell_type": "code"
   },
   "outputs": [
    {
     "name": "stdout",
     "output_type": "stream",
     "text": [
      "[-0.6953451   0.85509493  0.22472847 -0.81896165  0.53189565]\n"
     ]
    }
   ],
   "source": [
    "# generate normally distributed random numbers using numpy:\n",
    "\n",
    "rng = np.random.normal(size=5)\n",
    "print(rng)"
   ]
  },
  {
   "cell_type": "code",
   "execution_count": 90,
   "metadata": {
    "cell_id": "f670da2c31a14e87a886024b494c33b8",
    "deepnote_cell_type": "code",
    "deepnote_to_be_reexecuted": false,
    "execution_millis": 2,
    "execution_start": 1671715075742,
    "source_hash": "e61a477"
   },
   "outputs": [
    {
     "name": "stdout",
     "output_type": "stream",
     "text": [
      "<class 'pandas.core.frame.DataFrame'> <class 'pandas.core.series.Series'>\n"
     ]
    }
   ],
   "source": [
    "# single functions can also be loaded into the main namespace, allowing them to be called without the dot notation\n",
    "# also works with an alias 'as <xyz>'\n",
    "\n",
    "from pandas import DataFrame, Series\n",
    "\n",
    "print(DataFrame, Series)"
   ]
  },
  {
   "cell_type": "markdown",
   "metadata": {
    "cell_id": "4be82fc048e440c8bfdd4cbbbe936d0f",
    "deepnote_cell_type": "markdown"
   },
   "source": [
    "#### Special package *numpy*"
   ]
  },
  {
   "cell_type": "markdown",
   "metadata": {
    "cell_id": "1966ff45a2af4d79b36f91dbca2f257c",
    "deepnote_cell_type": "markdown"
   },
   "source": [
    "- Using fixed-type arrays (vectors and matrices) is more efficient for large data sets\n",
    "    - fixed-type arras cannot store any kind of data, as lists do (where every element is an object with a type), but needs less memory and computation\n",
    "    - the numpy package includes the data structure ndarray for this purpose\n",
    "\n",
    "- is convenient and efficient for mathematical operations\n",
    "- vectorised computations are much faster than iterating over the array with a for-loop &rarr; this is also very handy when dealing with high-dimensional arrays as every new dimension would require an additional iteration"
   ]
  },
  {
   "cell_type": "markdown",
   "metadata": {},
   "source": [
    "##### Initialisation - object creation"
   ]
  },
  {
   "cell_type": "markdown",
   "metadata": {},
   "source": [
    "- arrays can be initialised from specific values\n",
    "- array dimensions (*numpy*: \"axes\") are: \n",
    "    - axis 0: rows (&darr;), \n",
    "    - axis 1: columns (&rarr;)\n",
    "    - axis 2: tubes (&nearr;)\n",
    "    - ..."
   ]
  },
  {
   "cell_type": "code",
   "execution_count": 91,
   "metadata": {
    "cell_id": "868aaea0568c4598b700834e77a06b40",
    "deepnote_cell_type": "code"
   },
   "outputs": [],
   "source": [
    "import numpy as np\n",
    "\n",
    "a = np.array([1, 2, 3])  # 1D array\n",
    "b = np.array([[1.5, 2, 3], [4, 5, 6]])  # 2D array\n",
    "c = np.array([[[1.5, 2, 3], [4, 5, 6]], [[3, 2, 1], [4, 5, 6]]])  # 3D array"
   ]
  },
  {
   "cell_type": "markdown",
   "metadata": {},
   "source": [
    "- arrays can be inspected without actually looking at the specific values"
   ]
  },
  {
   "cell_type": "code",
   "execution_count": 92,
   "metadata": {
    "cell_id": "868aaea0568c4598b700834e77a06b40",
    "deepnote_cell_type": "code"
   },
   "outputs": [
    {
     "name": "stdout",
     "output_type": "stream",
     "text": [
      "(2, 2, 3)\n",
      "3\n",
      "12\n",
      "float64\n"
     ]
    }
   ],
   "source": [
    "print(c.shape)  # no of elements in each dimension: \n",
    "print(c.ndim)  # no of dimensions\n",
    "print(c.size)  # total no of elements in array\n",
    "print(c.dtype)  # data type of values in array"
   ]
  },
  {
   "cell_type": "markdown",
   "metadata": {},
   "source": [
    "- array dimensions can be changed using the ```array.reshape(<new shape>)``` function - the new shape must be compatible with the original shape"
   ]
  },
  {
   "cell_type": "code",
   "execution_count": 93,
   "metadata": {},
   "outputs": [
    {
     "name": "stdout",
     "output_type": "stream",
     "text": [
      "(3,)\n",
      "[1 2 3]\n",
      "\n",
      "(3, 1)\n",
      "[[1]\n",
      " [2]\n",
      " [3]]\n"
     ]
    }
   ],
   "source": [
    "x = np.array([1, 2, 3])\n",
    "print(x.shape)\n",
    "print(x)\n",
    "print()\n",
    "\n",
    "x = x.reshape((3,1))\n",
    "print(x.shape)\n",
    "print(x)"
   ]
  },
  {
   "cell_type": "markdown",
   "metadata": {},
   "source": [
    "- a number of functions allow for the facilitated creation of arrays"
   ]
  },
  {
   "cell_type": "code",
   "execution_count": 94,
   "metadata": {
    "collapsed": false,
    "jupyter": {
     "outputs_hidden": false
    }
   },
   "outputs": [
    {
     "name": "stdout",
     "output_type": "stream",
     "text": [
      "[[0. 0. 0. 0.]\n",
      " [0. 0. 0. 0.]]\n",
      "\n",
      "[[1 1 1 1]\n",
      " [1 1 1 1]]\n",
      "\n",
      "[[7 7]\n",
      " [7 7]]\n",
      "\n",
      "[[1. 0. 0.]\n",
      " [0. 1. 0.]\n",
      " [0. 0. 1.]]\n"
     ]
    }
   ],
   "source": [
    "print(np.zeros((2, 4))) # an array of zeros of specified shape\n",
    "print()\n",
    "\n",
    "print(np.ones((2, 4), dtype=np.int16))  # an array of ones of specified shape and data type\n",
    "print()\n",
    "\n",
    "print(np.full((2, 2), 7))  # a constant array\n",
    "print()\n",
    "\n",
    "print(np.eye(3))  # a 3x3 identity matrix"
   ]
  },
  {
   "cell_type": "code",
   "execution_count": 95,
   "metadata": {
    "collapsed": false,
    "jupyter": {
     "outputs_hidden": false
    }
   },
   "outputs": [
    {
     "name": "stdout",
     "output_type": "stream",
     "text": [
      "[10 15 20]\n",
      "\n",
      "[0.   0.25 0.5  0.75 1.   1.25 1.5  1.75 2.  ]\n"
     ]
    }
   ],
   "source": [
    "# an array of evenly spaced values in half-open interval [start, stop)\n",
    "print(np.arange(start=10, stop=25, step=5))  # step = <spacing between values>\n",
    "print()\n",
    "\n",
    "print(np.linspace(start=0, stop=2, num=9))  # num = <number of samples>"
   ]
  },
  {
   "cell_type": "markdown",
   "metadata": {},
   "source": [
    "- the random module allows working with (psuedo-)randomly generated numbers\n",
    "- all functions return an array if an integer or a tuple of integers is given to the ```shape``` argument, otherwise they return a single value\n",
    "\n",
    "<br>\n",
    "\n",
    "- random generations can be fixed by setting a seed via the ```np.random.seed(<seed>)``` function"
   ]
  },
  {
   "cell_type": "code",
   "execution_count": 96,
   "metadata": {
    "collapsed": false,
    "jupyter": {
     "outputs_hidden": false
    }
   },
   "outputs": [
    {
     "name": "stdout",
     "output_type": "stream",
     "text": [
      "[[0.29105076 0.38263551]\n",
      " [0.00624545 0.5887123 ]]\n",
      "\n",
      "[2 5 3 4 9]\n",
      "\n",
      "[ 2.02941806 -0.77574228  2.15382549 -0.30647283 -0.19887208]\n",
      "\n",
      "[ 7.61138529 10.06518924  1.99146413  1.31325425  3.80997716]\n",
      "\n",
      "[0.12422602 0.28886685 0.32764713 0.22971868 0.32055546]\n",
      "\n",
      "[2.57133    2.38616947 2.54404664 4.43691542 3.4130161 ]\n",
      "\n",
      "[1 0 2 1 1]\n",
      "\n",
      "[[False False]\n",
      " [False  True]]\n"
     ]
    }
   ],
   "source": [
    "# an array with random float values in half-open interval [0.0, 1.0)\n",
    "print(np.random.random(size=(2, 2)))  # size = <shape>\n",
    "print()\n",
    "\n",
    "# an array with random integer values in half-open interval [low, high)\n",
    "print(np.random.randint(low=1, high=11, size=5))  # low = <lowest int>, high = <one above highest int>, size = <shape>\n",
    "print()\n",
    "\n",
    "# an array with random float values from a normal distribution\n",
    "print(np.random.normal(loc=1, scale=1, size=5))  # loc = <mean>, scale = <std>, size = <shape>\n",
    "print()\n",
    "\n",
    "# an array with random float values from a uniform distribution\n",
    "print(np.random.uniform(low=1, high=11, size=5))  # low = <lowest float>, high = <highest float>, size = <shape>\n",
    "print()\n",
    "\n",
    "# an array with random float values from an exponential distribution\n",
    "print(np.random.exponential(scale=0.25, size=5))  # scale = <scale parameter beta>\n",
    "print()\n",
    "\n",
    "# an array with random float values from a triangular distribution\n",
    "print(np.random.triangular(left=1, mode=3, right=5, size=5))  # left = <lower limit>, mode = <distribution peak>, right = <upper limit>, size = <shape>\n",
    "print()\n",
    "\n",
    "# an array with random integers from a poisson distribution\n",
    "print(np.random.poisson(lam=1, size=5))  # lam = <expected no of events in time interval>, size = <shape>\n",
    "print()\n",
    "\n",
    "# a random sample from a given 1-D array\n",
    "print(np.random.choice(a=[True, False], size=(2, 2), p=[0.4, 0.6]))  # a = <1D array or int for np.arange(int)>, size = <shape>, p = <probability for each element of a (uniform if omitted)>"
   ]
  },
  {
   "cell_type": "markdown",
   "metadata": {},
   "source": [
    "##### Arithmetic operations"
   ]
  },
  {
   "cell_type": "markdown",
   "metadata": {},
   "source": [
    "- element-wise arithmetic operations"
   ]
  },
  {
   "cell_type": "code",
   "execution_count": 97,
   "metadata": {
    "collapsed": false,
    "jupyter": {
     "outputs_hidden": false
    }
   },
   "outputs": [
    {
     "name": "stdout",
     "output_type": "stream",
     "text": [
      "[2 4 6]\n",
      "\n",
      "[2 4 6]\n",
      "\n",
      "[11 12 13]\n",
      "\n",
      "14\n"
     ]
    }
   ],
   "source": [
    "print(a + a)  # element-wise addition of two arrays of the same shape\n",
    "print()\n",
    "\n",
    "print(np.add(a, a))  # alternative for element-wise addition\n",
    "print()\n",
    "\n",
    "print(a + 10)  # element-wise addition of a constant\n",
    "print()\n",
    "\n",
    "print(a.dot(a.T))  # dot product with transposed array of a"
   ]
  },
  {
   "cell_type": "markdown",
   "metadata": {},
   "source": [
    "##### Statistical operations"
   ]
  },
  {
   "cell_type": "markdown",
   "metadata": {},
   "source": [
    "- all operations can also only be applied to certain axes"
   ]
  },
  {
   "cell_type": "code",
   "execution_count": 98,
   "metadata": {},
   "outputs": [
    {
     "name": "stdout",
     "output_type": "stream",
     "text": [
      "2.0\n",
      "\n",
      "2.0\n",
      "\n",
      "0.816496580927726\n",
      "\n",
      "2.0\n",
      "\n",
      "3\n",
      "\n",
      "6\n",
      "\n",
      "[1 3 6]\n"
     ]
    }
   ],
   "source": [
    "print(a.mean())\n",
    "print()\n",
    "\n",
    "print(np.mean(a))  # alternative for mean-method of array\n",
    "print()\n",
    "\n",
    "print(a.std())\n",
    "print()\n",
    "\n",
    "print(np.median(a))  # no array method available for median\n",
    "print()\n",
    "\n",
    "print(a.max())\n",
    "print()\n",
    "\n",
    "print(a.sum())\n",
    "print()\n",
    "\n",
    "print(a.cumsum())  # the cumulative sum: sum of values until element n"
   ]
  },
  {
   "cell_type": "markdown",
   "metadata": {},
   "source": [
    "##### Selecting, filtering & aggregating data"
   ]
  },
  {
   "cell_type": "markdown",
   "metadata": {},
   "source": [
    "- you can select data from arrays using their index\n",
    "- conditions arise from element-wise comparisons"
   ]
  },
  {
   "cell_type": "code",
   "execution_count": 99,
   "metadata": {
    "collapsed": false,
    "jupyter": {
     "outputs_hidden": false
    }
   },
   "outputs": [
    {
     "name": "stdout",
     "output_type": "stream",
     "text": [
      "[ True  True  True False False  True]\n",
      "\n",
      "[1 7 4 2]\n",
      "\n",
      "[ 6  3 12 21]\n"
     ]
    }
   ],
   "source": [
    "a = np.array([1, 7, 4, 12, 18, 2])\n",
    "\n",
    "print(a < 10)  # selection condition: element value smaller than 10 -> creates array of booleans\n",
    "print()\n",
    "\n",
    "filtered_a = a[a < 10]  # select values from array based on boolean array\n",
    "print(filtered_a)\n",
    "print()\n",
    "\n",
    "# this method also works with two arrays\n",
    "b = np.array([6, 3, 12, 10, 9, 21])\n",
    "\n",
    "filtered_b = b[a < 10]\n",
    "print(filtered_b)"
   ]
  },
  {
   "cell_type": "markdown",
   "metadata": {},
   "source": [
    "- replace array values using numpy's ```where(<condition>, <array>, <replacement value>)``` method"
   ]
  },
  {
   "cell_type": "code",
   "execution_count": 100,
   "metadata": {
    "collapsed": false,
    "jupyter": {
     "outputs_hidden": false
    }
   },
   "outputs": [
    {
     "name": "stdout",
     "output_type": "stream",
     "text": [
      "[[0.97894042 0.17388139]\n",
      " [0.60547381 0.20048938]]\n",
      "\n",
      "[[ True False]\n",
      " [ True False]]\n",
      "\n",
      "[[0.97894042 0.        ]\n",
      " [0.60547381 0.        ]]\n"
     ]
    }
   ],
   "source": [
    "a = np.random.rand(2, 2)\n",
    "condition = a > 0.5\n",
    "\n",
    "print(a)\n",
    "print()\n",
    "\n",
    "print(condition)\n",
    "print()\n",
    "\n",
    "print(np.where(condition, a, 0))  # if condition is true, use original value from a, else use new value of 0"
   ]
  },
  {
   "cell_type": "markdown",
   "metadata": {},
   "source": [
    "- slicing in numpy is possible just like with lists using ```[start:end:step]```\n",
    "    - dimensions are separated using commas ```,```\n",
    "    - all values of a dimension are selected using a colon ```:```\n",
    "    - when the start index is not passed it is considered 0, when the end index is not passed it is considered the length of the array in that dimension, when the step index is not passed it is considered 1\n",
    "    - the result *includes* the start index, but *excludes* the end index\n",
    "- slices return views rather than copies of the data – changing them changes the original array"
   ]
  },
  {
   "cell_type": "code",
   "execution_count": 101,
   "metadata": {
    "collapsed": false,
    "jupyter": {
     "outputs_hidden": false
    }
   },
   "outputs": [
    {
     "name": "stdout",
     "output_type": "stream",
     "text": [
      "[[49  8 98 29]\n",
      " [43 36  2 51]\n",
      " [81 41 99 56]\n",
      " [ 3 94 39 92]\n",
      " [62 91 67  3]]\n",
      "\n",
      "[[ 8 98 29]\n",
      " [36  2 51]]\n",
      "\n",
      "[[ 8 -5 29]\n",
      " [36 -5 51]]\n"
     ]
    }
   ],
   "source": [
    "original_array = np.random.randint(1, 100, (5, 4))\n",
    "\n",
    "print(original_array)\n",
    "print()\n",
    "\n",
    "sliced_array = original_array[:2, 1:4]\n",
    "print(sliced_array)\n",
    "print()\n",
    "\n",
    "sliced_array[0:3, 1] = -5\n",
    "print(sliced_array)"
   ]
  },
  {
   "cell_type": "markdown",
   "metadata": {},
   "source": [
    "- aggregations over multidimensional arrays, like ```np.sum(<array>)``` or ```np.count_nonzero(<array>)```, require specifying an axis when only a part of the array is supposed to be aggregated"
   ]
  },
  {
   "cell_type": "code",
   "execution_count": 102,
   "metadata": {
    "collapsed": false,
    "jupyter": {
     "outputs_hidden": false
    }
   },
   "outputs": [
    {
     "name": "stdout",
     "output_type": "stream",
     "text": [
      "[[0.10270728 0.50849925]\n",
      " [0.32133968 0.39128868]]\n",
      "\n",
      "[2 2]\n"
     ]
    }
   ],
   "source": [
    "a = np.random.rand(2, 2)\n",
    "\n",
    "print(a)\n",
    "print()\n",
    "\n",
    "print(np.count_nonzero(a, axis=1))"
   ]
  },
  {
   "cell_type": "markdown",
   "metadata": {},
   "source": [
    "##### Other operations"
   ]
  },
  {
   "cell_type": "markdown",
   "metadata": {},
   "source": [
    "- array values can be rounded"
   ]
  },
  {
   "cell_type": "code",
   "execution_count": 103,
   "metadata": {},
   "outputs": [
    {
     "name": "stdout",
     "output_type": "stream",
     "text": [
      "[[0.23096684 0.71258969]\n",
      " [0.69027927 0.8433491 ]]\n",
      "\n",
      "[[0.23 0.71]\n",
      " [0.69 0.84]]\n",
      "\n",
      "[[0.231 0.713]\n",
      " [0.69  0.843]]\n"
     ]
    }
   ],
   "source": [
    "a = np.random.rand(2, 2)\n",
    "\n",
    "print(a)\n",
    "print()\n",
    "\n",
    "print(np.round(a, 2))\n",
    "print()\n",
    "\n",
    "print(a.round(3))"
   ]
  },
  {
   "cell_type": "markdown",
   "metadata": {},
   "source": [
    "- array values can be sorted"
   ]
  },
  {
   "cell_type": "code",
   "execution_count": 104,
   "metadata": {},
   "outputs": [
    {
     "name": "stdout",
     "output_type": "stream",
     "text": [
      "[0.88768953 0.49684614 0.69019035 0.07257198 0.54973429]\n",
      "\n",
      "[0.07257198 0.49684614 0.54973429 0.69019035 0.88768953]\n"
     ]
    }
   ],
   "source": [
    "a = np.random.rand(5)\n",
    "\n",
    "print(a)\n",
    "print()\n",
    "\n",
    "print(np.sort(a))  # alternatively use a.sorted() for in-place sorting"
   ]
  },
  {
   "cell_type": "markdown",
   "metadata": {},
   "source": [
    "- multidimensional arrays can be reduced in dimensionality (\"flattened\")"
   ]
  },
  {
   "cell_type": "code",
   "execution_count": 105,
   "metadata": {},
   "outputs": [
    {
     "name": "stdout",
     "output_type": "stream",
     "text": [
      "[[1 2]\n",
      " [3 4]]\n",
      "(2, 2)\n",
      "\n",
      "[1 2 3 4]\n",
      "(4,)\n"
     ]
    }
   ],
   "source": [
    "a = np.array([[1,2], [3,4]])\n",
    "\n",
    "print(a)\n",
    "print(a.shape)\n",
    "print()\n",
    "\n",
    "a = a.flatten()\n",
    "\n",
    "print(a)\n",
    "print(a.shape)"
   ]
  },
  {
   "cell_type": "markdown",
   "metadata": {
    "cell_id": "6a0bd705c9664291b9c621a53ca1be40",
    "deepnote_cell_type": "markdown"
   },
   "source": [
    "#### Special package *pandas*"
   ]
  },
  {
   "cell_type": "markdown",
   "metadata": {
    "cell_id": "1bea2c82a8d54c57a5c300887ceb04e4",
    "deepnote_cell_type": "markdown",
    "tags": []
   },
   "source": [
    "- pandas is a Python package providing fast, flexible, and expressive data structures designed to make working with “relational” or “labeled” data both easy and intuitive\n",
    "\n",
    "- the two primary data structures of pandas are *Series* (1-dimensional) and *DataFrames* (2-dimensional)\n",
    "\n",
    "- Dataframes can be regarded as a specialised dictionary which is a collection of multiple Series (comparable to an Excel table)\n",
    "    - every column has its own title\n",
    "    - every row is indexed by an index\n",
    "\n",
    "- Dataframes rely on numpy arrays for efficient data storage\n",
    "    - every column in one data frame is a series that can be referenced via the column name\n",
    "    - every set of values in a series is a numpy array"
   ]
  },
  {
   "cell_type": "markdown",
   "metadata": {},
   "source": [
    "##### Initialisation - object creation"
   ]
  },
  {
   "cell_type": "markdown",
   "metadata": {},
   "source": [
    "- external data can be read from different formats, e.g. using the ```pd.read_csv()``` or the ```pd.read_excel()``` functions\n",
    "- external files can be created in different formats, e.g. using the ```pd.to_csv()``` or the ```pd.to_excel()``` functions"
   ]
  },
  {
   "cell_type": "code",
   "execution_count": 106,
   "metadata": {},
   "outputs": [
    {
     "name": "stdout",
     "output_type": "stream",
     "text": [
      "  first_name   last_name  birthday  value_of_bought_items\n",
      "0      Petra    Wagstädt  23-06-89                  15.99\n",
      "1       Emil      Noltke  18-10-66                  13.99\n",
      "2        Max  Mustermann  01-01-99                 159.66\n"
     ]
    }
   ],
   "source": [
    "import numpy as np\n",
    "import pandas as pd\n",
    "\n",
    "df = pd.read_csv(\"customers.txt\", header=None, delimiter=\";\", names=[\"first_name\", \"last_name\", \"birthday\", \"value_of_bought_items\"])\n",
    "\n",
    "print(df)"
   ]
  },
  {
   "cell_type": "markdown",
   "metadata": {},
   "source": [
    "- from existing data inside the python script one can create a Series by passing a list of values, letting pandas create a default *integer index*"
   ]
  },
  {
   "cell_type": "code",
   "execution_count": 107,
   "metadata": {
    "collapsed": false,
    "jupyter": {
     "outputs_hidden": false
    }
   },
   "outputs": [
    {
     "name": "stdout",
     "output_type": "stream",
     "text": [
      "0    1.0\n",
      "1    3.0\n",
      "2    5.0\n",
      "3    NaN\n",
      "4    6.0\n",
      "5    8.0\n",
      "dtype: float64\n"
     ]
    }
   ],
   "source": [
    "s = pd.Series([1, 3, 5, np.nan, 6, 8])\n",
    "print(s)"
   ]
  },
  {
   "cell_type": "markdown",
   "metadata": {},
   "source": [
    "- creating a DataFrame is possible by passing a NumPy array -- here with a *datetime index* using ```date_range()``` and labeled columns\n",
    "- a DataFrame can have more than one index"
   ]
  },
  {
   "cell_type": "code",
   "execution_count": 108,
   "metadata": {
    "collapsed": false,
    "jupyter": {
     "outputs_hidden": false
    }
   },
   "outputs": [
    {
     "name": "stdout",
     "output_type": "stream",
     "text": [
      "DatetimeIndex(['2023-01-01', '2023-01-02', '2023-01-03', '2023-01-04',\n",
      "               '2023-01-05', '2023-01-06'],\n",
      "              dtype='datetime64[ns]', freq='D')\n",
      "\n",
      "                   A         B         C         D\n",
      "2023-01-01 -1.426046 -0.320458  1.468820 -0.157254\n",
      "2023-01-02 -0.467924 -0.312949 -1.301537 -0.633109\n",
      "2023-01-03 -0.477372 -0.382931 -0.219437 -0.808027\n",
      "2023-01-04 -0.931789 -1.210188 -0.879141  2.089094\n",
      "2023-01-05  0.249563 -2.091596  0.103610  0.220959\n",
      "2023-01-06 -0.371545 -1.547860  0.654393 -1.535336\n",
      "\n"
     ]
    }
   ],
   "source": [
    "dates = pd.date_range(\"20230101\", periods=6)\n",
    "print(dates)\n",
    "print()\n",
    "\n",
    "df = pd.DataFrame(np.random.randn(6, 4), index=dates, columns=list(\"ABCD\"))\n",
    "print(df)\n",
    "print()"
   ]
  },
  {
   "cell_type": "markdown",
   "metadata": {},
   "source": [
    "- creating a DataFrame is also possible by passing a dictionary of objects that can be converted into a series-like structure"
   ]
  },
  {
   "cell_type": "code",
   "execution_count": 109,
   "metadata": {
    "collapsed": false,
    "jupyter": {
     "outputs_hidden": false
    }
   },
   "outputs": [
    {
     "name": "stdout",
     "output_type": "stream",
     "text": [
      "     A          B    C  D      E    F\n",
      "0  1.0 2013-01-02  1.0  3   test  foo\n",
      "1  1.0 2013-01-02  1.0  3   fail  foo\n",
      "2  1.0 2013-01-02  1.0  3   test  foo\n",
      "3  1.0 2013-01-02  1.0  3  train  foo\n"
     ]
    }
   ],
   "source": [
    "df2 = pd.DataFrame(\n",
    "    {\n",
    "        \"A\": 1.0,\n",
    "        \"B\": pd.Timestamp(\"20130102\"),\n",
    "        \"C\": pd.Series(1, index=list(range(4)), dtype=\"float32\"),\n",
    "        \"D\": np.array([3] * 4, dtype=\"int32\"),\n",
    "        \"E\": pd.Categorical([\"test\", \"fail\", \"test\", \"train\"]),\n",
    "        \"F\": \"foo\",\n",
    "    }\n",
    ")\n",
    "print(df2)"
   ]
  },
  {
   "cell_type": "markdown",
   "metadata": {},
   "source": [
    "- the columns of the resulting DataFrame have different data types"
   ]
  },
  {
   "cell_type": "code",
   "execution_count": 110,
   "metadata": {
    "collapsed": false,
    "jupyter": {
     "outputs_hidden": false
    }
   },
   "outputs": [
    {
     "name": "stdout",
     "output_type": "stream",
     "text": [
      "A           float64\n",
      "B    datetime64[ns]\n",
      "C           float32\n",
      "D             int32\n",
      "E          category\n",
      "F            object\n",
      "dtype: object\n"
     ]
    }
   ],
   "source": [
    "print(df2.dtypes)"
   ]
  },
  {
   "cell_type": "markdown",
   "metadata": {},
   "source": [
    "- use ```DataFrame.head()``` and ```DataFrame.tail()``` to view the top and bottom rows of the frame respectively"
   ]
  },
  {
   "cell_type": "code",
   "execution_count": 111,
   "metadata": {
    "collapsed": false,
    "jupyter": {
     "outputs_hidden": false
    }
   },
   "outputs": [
    {
     "name": "stdout",
     "output_type": "stream",
     "text": [
      "                   A         B         C         D\n",
      "2023-01-01 -1.426046 -0.320458  1.468820 -0.157254\n",
      "2023-01-02 -0.467924 -0.312949 -1.301537 -0.633109\n",
      "2023-01-03 -0.477372 -0.382931 -0.219437 -0.808027\n"
     ]
    }
   ],
   "source": [
    "print(df.head(3))  # standard value is first five rows"
   ]
  },
  {
   "cell_type": "markdown",
   "metadata": {},
   "source": [
    "- display the index or columns of the DataFrame"
   ]
  },
  {
   "cell_type": "code",
   "execution_count": 112,
   "metadata": {
    "collapsed": false,
    "jupyter": {
     "outputs_hidden": false
    }
   },
   "outputs": [
    {
     "name": "stdout",
     "output_type": "stream",
     "text": [
      "DatetimeIndex(['2023-01-01', '2023-01-02', '2023-01-03', '2023-01-04',\n",
      "               '2023-01-05', '2023-01-06'],\n",
      "              dtype='datetime64[ns]', freq='D')\n",
      "\n",
      "Index(['A', 'B', 'C', 'D'], dtype='object')\n"
     ]
    }
   ],
   "source": [
    "print(df.index)\n",
    "print()\n",
    "print(df.columns)"
   ]
  },
  {
   "cell_type": "markdown",
   "metadata": {},
   "source": [
    "- you can sort a DataFrame by index or by column values"
   ]
  },
  {
   "cell_type": "markdown",
   "metadata": {},
   "source": [
    "##### Sorting, selecting & updating data"
   ]
  },
  {
   "cell_type": "markdown",
   "metadata": {},
   "source": [
    "- data can be sorted based on colum or index values"
   ]
  },
  {
   "cell_type": "code",
   "execution_count": 113,
   "metadata": {
    "collapsed": false,
    "jupyter": {
     "outputs_hidden": false
    }
   },
   "outputs": [
    {
     "name": "stdout",
     "output_type": "stream",
     "text": [
      "                   D         C         B         A\n",
      "2023-01-01 -0.157254  1.468820 -0.320458 -1.426046\n",
      "2023-01-02 -0.633109 -1.301537 -0.312949 -0.467924\n",
      "2023-01-03 -0.808027 -0.219437 -0.382931 -0.477372\n",
      "2023-01-04  2.089094 -0.879141 -1.210188 -0.931789\n",
      "2023-01-05  0.220959  0.103610 -2.091596  0.249563\n",
      "2023-01-06 -1.535336  0.654393 -1.547860 -0.371545\n",
      "\n",
      "                   D         C         B         A\n",
      "2023-01-05  0.220959  0.103610 -2.091596  0.249563\n",
      "2023-01-06 -1.535336  0.654393 -1.547860 -0.371545\n",
      "2023-01-04  2.089094 -0.879141 -1.210188 -0.931789\n",
      "2023-01-03 -0.808027 -0.219437 -0.382931 -0.477372\n",
      "2023-01-01 -0.157254  1.468820 -0.320458 -1.426046\n",
      "2023-01-02 -0.633109 -1.301537 -0.312949 -0.467924\n"
     ]
    }
   ],
   "source": [
    "df = df.sort_index(axis=1, ascending=False)\n",
    "print(df)\n",
    "print()\n",
    "\n",
    "df = df.sort_values(by=[\"B\",\"C\"])  # first sort by column B, then by C\n",
    "print(df)"
   ]
  },
  {
   "cell_type": "markdown",
   "metadata": {},
   "source": [
    "- data can be filtered"
   ]
  },
  {
   "cell_type": "code",
   "execution_count": 114,
   "metadata": {
    "collapsed": false,
    "jupyter": {
     "outputs_hidden": false
    }
   },
   "outputs": [
    {
     "name": "stdout",
     "output_type": "stream",
     "text": [
      "2023-01-05    0.249563\n",
      "2023-01-06   -0.371545\n",
      "2023-01-04   -0.931789\n",
      "2023-01-03   -0.477372\n",
      "2023-01-01   -1.426046\n",
      "2023-01-02   -0.467924\n",
      "Name: A, dtype: float64\n",
      "\n",
      "                   D         C         B         A\n",
      "2023-01-05  0.220959  0.103610 -2.091596  0.249563\n",
      "2023-01-06 -1.535336  0.654393 -1.547860 -0.371545\n",
      "2023-01-04  2.089094 -0.879141 -1.210188 -0.931789\n"
     ]
    }
   ],
   "source": [
    "print(df[\"A\"])  # select single column -> returns Series\n",
    "print()\n",
    "\n",
    "print(df[0:3])  # select rows by index number"
   ]
  },
  {
   "cell_type": "code",
   "execution_count": 115,
   "metadata": {
    "collapsed": false,
    "jupyter": {
     "outputs_hidden": false
    }
   },
   "outputs": [
    {
     "name": "stdout",
     "output_type": "stream",
     "text": [
      "                   A         B\n",
      "2023-01-04 -0.931789 -1.210188\n",
      "2023-01-03 -0.477372 -0.382931\n",
      "2023-01-02 -0.467924 -0.312949\n",
      "\n",
      "                   D         C\n",
      "2023-01-03 -0.808027 -0.219437\n",
      "2023-01-01 -0.157254  1.468820\n"
     ]
    }
   ],
   "source": [
    "# get DataFrame subset ...\n",
    "print(df.loc[\"20230102\":\"20230104\", [\"A\", \"B\"]])  # ... by index values (inclusive) and column names\n",
    "print()\n",
    "\n",
    "print(df.iloc[3:5, 0:2])  # ... by numeric value positions"
   ]
  },
  {
   "cell_type": "code",
   "execution_count": 116,
   "metadata": {
    "collapsed": false,
    "jupyter": {
     "outputs_hidden": false
    }
   },
   "outputs": [
    {
     "name": "stdout",
     "output_type": "stream",
     "text": [
      "-0.4679236630135978\n",
      "\n",
      "0.6543927344713328\n"
     ]
    }
   ],
   "source": [
    "# get single value from DataFrame ...\n",
    "print(df.at[\"20230102\", \"A\"])  # ... by index value and column name\n",
    "print()\n",
    "\n",
    "print(df.iat[1, 1])  # ... by numeric value position"
   ]
  },
  {
   "cell_type": "code",
   "execution_count": 117,
   "metadata": {
    "collapsed": false,
    "jupyter": {
     "outputs_hidden": false
    }
   },
   "outputs": [
    {
     "name": "stdout",
     "output_type": "stream",
     "text": [
      "2023-01-05     True\n",
      "2023-01-06    False\n",
      "2023-01-04    False\n",
      "2023-01-03    False\n",
      "2023-01-01    False\n",
      "2023-01-02    False\n",
      "Name: A, dtype: bool\n",
      "\n",
      "                   D        C         B         A\n",
      "2023-01-05  0.220959  0.10361 -2.091596  0.249563\n",
      "\n",
      "                   D        C         B         A\n",
      "2023-01-05  0.220959  0.10361 -2.091596  0.249563\n",
      "\n",
      "     A          B    C  D     E    F\n",
      "0  1.0 2013-01-02  1.0  3  test  foo\n",
      "1  1.0 2013-01-02  1.0  3  fail  foo\n",
      "2  1.0 2013-01-02  1.0  3  test  foo\n"
     ]
    }
   ],
   "source": [
    "# boolean indexing\n",
    "condition_1 = df[\"A\"] > 0\n",
    "\n",
    "print(condition_1)  # boolean Series\n",
    "print()\n",
    "\n",
    "print(df[condition_1])  # filtered DataFrame\n",
    "print()\n",
    "\n",
    "print(df[condition_1 & (df[\"B\"] < -1)])  # multiple conditions connected with logical operators -> enclose in parentheses\n",
    "print()\n",
    "\n",
    "print(df2[df2[\"E\"].isin([\"test\", \"fail\"])])  # special functions are available for boolean indexing"
   ]
  },
  {
   "cell_type": "markdown",
   "metadata": {},
   "source": [
    "- values can also be updated"
   ]
  },
  {
   "cell_type": "code",
   "execution_count": 118,
   "metadata": {
    "collapsed": false,
    "jupyter": {
     "outputs_hidden": false
    }
   },
   "outputs": [
    {
     "name": "stdout",
     "output_type": "stream",
     "text": [
      "                   D         C         B         A\n",
      "2023-01-05  0.220959  0.103610 -2.091596  0.249563\n",
      "2023-01-06 -1.535336  0.654393 -1.547860 -0.371545\n",
      "2023-01-04  2.089094 -0.879141 -1.210188 -0.931789\n",
      "2023-01-03 -0.808027 -0.219437 -0.382931 -0.477372\n",
      "2023-01-01 -0.157254  1.468820 -0.320458 -1.426046\n",
      "2023-01-02 -0.633109 -1.301537 -0.312949 -0.467924\n",
      "\n",
      "            D         C         B         A\n",
      "2023-01-05  5  0.000000 -2.091596  0.249563\n",
      "2023-01-06  5  0.654393 -1.547860 -0.371545\n",
      "2023-01-04  5 -0.879141 -1.210188 -0.931789\n",
      "2023-01-03  5 -0.219437 -0.382931 -0.477372\n",
      "2023-01-01  5  1.468820 -0.320458 -1.426046\n",
      "2023-01-02  5 -1.301537 -0.312949 -0.467924\n"
     ]
    },
    {
     "name": "stderr",
     "output_type": "stream",
     "text": [
      "C:\\Users\\Niclas Grocholski\\AppData\\Local\\Temp\\ipykernel_19864\\1865755326.py:5: FutureWarning: In a future version, `df.iloc[:, i] = newvals` will attempt to set the values inplace instead of always setting a new array. To retain the old behavior, use either `df[df.columns[i]] = newvals` or, if columns are non-unique, `df.isetitem(i, newvals)`\n",
      "  df.loc[:, \"D\"] = np.array([5] * len(df))\n"
     ]
    }
   ],
   "source": [
    "print(df)\n",
    "print()\n",
    "\n",
    "df.iat[0, 1] = 0\n",
    "df.loc[:, \"D\"] = np.array([5] * len(df))\n",
    "\n",
    "print(df)"
   ]
  },
  {
   "cell_type": "markdown",
   "metadata": {},
   "source": [
    "- whole columns or rows can be deleted"
   ]
  },
  {
   "cell_type": "code",
   "execution_count": 119,
   "metadata": {},
   "outputs": [
    {
     "name": "stdout",
     "output_type": "stream",
     "text": [
      "                   B         A\n",
      "2023-01-05 -2.091596  0.249563\n",
      "2023-01-06 -1.547860 -0.371545\n",
      "2023-01-04 -1.210188 -0.931789\n",
      "2023-01-03 -0.382931 -0.477372\n",
      "2023-01-01 -0.320458 -1.426046\n",
      "2023-01-02 -0.312949 -0.467924\n"
     ]
    }
   ],
   "source": [
    "del df[\"D\"]\n",
    "df = df.drop(\"C\", axis=1)  # {0 or ‘index’, 1 or ‘columns’} with respective column or index names\n",
    "\n",
    "print(df)"
   ]
  },
  {
   "cell_type": "markdown",
   "metadata": {},
   "source": [
    "- missing values can be filled using the ```<Series/DataFrame>.fillna(<value>)``` method"
   ]
  },
  {
   "cell_type": "code",
   "execution_count": 120,
   "metadata": {},
   "outputs": [
    {
     "name": "stdout",
     "output_type": "stream",
     "text": [
      "0    1.0\n",
      "1    2.0\n",
      "2    3.0\n",
      "3    NaN\n",
      "4    5.0\n",
      "5    NaN\n",
      "dtype: float64\n",
      "\n",
      "0     1.0\n",
      "1     2.0\n",
      "2     3.0\n",
      "3    10.0\n",
      "4     5.0\n",
      "5    10.0\n",
      "dtype: float64\n"
     ]
    }
   ],
   "source": [
    "s = pd.Series([1, 2, 3, float(\"nan\"), 5, np.nan])\n",
    "\n",
    "print(s)\n",
    "print()\n",
    "\n",
    "s = s.fillna(10)\n",
    "\n",
    "print(s)"
   ]
  },
  {
   "cell_type": "markdown",
   "metadata": {},
   "source": [
    "##### Statistics"
   ]
  },
  {
   "cell_type": "markdown",
   "metadata": {},
   "source": [
    "- pandas offers a variety of statistics functions"
   ]
  },
  {
   "cell_type": "code",
   "execution_count": 121,
   "metadata": {
    "collapsed": false,
    "jupyter": {
     "outputs_hidden": false
    }
   },
   "outputs": [
    {
     "name": "stdout",
     "output_type": "stream",
     "text": [
      "              B         A\n",
      "count  6.000000  6.000000\n",
      "mean  -0.977664 -0.570852\n",
      "std    0.754653  0.564583\n",
      "min   -2.091596 -1.426046\n",
      "25%   -1.463442 -0.818185\n",
      "50%   -0.796560 -0.472648\n",
      "75%   -0.336077 -0.395639\n",
      "max   -0.312949  0.249563\n",
      "\n",
      "-0.5708518953130498\n"
     ]
    }
   ],
   "source": [
    "print(df.describe())  # overview function\n",
    "print()\n",
    "\n",
    "print(df[\"A\"].mean())  # example of a statistics function"
   ]
  },
  {
   "cell_type": "markdown",
   "metadata": {},
   "source": [
    "##### Applying functions to values individually"
   ]
  },
  {
   "cell_type": "markdown",
   "metadata": {},
   "source": [
    "- ```DataFrame.apply()``` applies a user defined function to the data"
   ]
  },
  {
   "cell_type": "code",
   "execution_count": 122,
   "metadata": {
    "collapsed": false,
    "jupyter": {
     "outputs_hidden": false
    }
   },
   "outputs": [
    {
     "name": "stdout",
     "output_type": "stream",
     "text": [
      "B    1.778647\n",
      "A    1.675609\n",
      "dtype: float64\n"
     ]
    }
   ],
   "source": [
    "print(df.apply(lambda x: x.max() - x.min()))"
   ]
  },
  {
   "cell_type": "markdown",
   "metadata": {},
   "source": [
    "##### String manipulation & string selection"
   ]
  },
  {
   "cell_type": "markdown",
   "metadata": {},
   "source": [
    "- *string methods* allow for manipulations and selections of string values"
   ]
  },
  {
   "cell_type": "code",
   "execution_count": 123,
   "metadata": {
    "collapsed": false,
    "jupyter": {
     "outputs_hidden": false
    }
   },
   "outputs": [
    {
     "name": "stdout",
     "output_type": "stream",
     "text": [
      "0       a\n",
      "1       b\n",
      "2       c\n",
      "3    aaba\n",
      "4    baca\n",
      "5     NaN\n",
      "6    caba\n",
      "7     dog\n",
      "8     cat\n",
      "dtype: object\n",
      "\n",
      "3    Aaba\n",
      "4    Baca\n",
      "8     cat\n",
      "dtype: object\n"
     ]
    }
   ],
   "source": [
    "s = pd.Series([\"A\", \"B\", \"C\", \"Aaba\", \"Baca\", np.nan, \"CABA\", \"dog\", \"cat\"])\n",
    "\n",
    "print(s.str.lower())\n",
    "print()\n",
    "\n",
    "print(s[s.str.contains(\"a\", na=False)])"
   ]
  },
  {
   "cell_type": "markdown",
   "metadata": {},
   "source": [
    "##### Merging data"
   ]
  },
  {
   "cell_type": "markdown",
   "metadata": {},
   "source": [
    "- with SQL-like merging actions multiple dataframes can be combined"
   ]
  },
  {
   "cell_type": "code",
   "execution_count": 124,
   "metadata": {
    "collapsed": false,
    "jupyter": {
     "outputs_hidden": false
    }
   },
   "outputs": [
    {
     "name": "stdout",
     "output_type": "stream",
     "text": [
      "          0         1         2         3\n",
      "0 -1.398749  0.307527  1.214785  0.348959\n",
      "3  1.809976  0.155614 -0.495836  0.862537\n",
      "4  0.034344 -0.516362 -1.471037 -0.616612\n",
      "5  0.243768  0.908830  0.476220  0.806703\n",
      "6 -0.105163  0.705397 -0.493831 -0.519046\n",
      "9 -0.196222  0.411308  0.588949 -0.865907\n"
     ]
    }
   ],
   "source": [
    "df3 = pd.DataFrame(np.random.randn(10, 4))\n",
    "\n",
    "# concatenating pandas objects together along an axis\n",
    "print(pd.concat([df3[:1], df3[3:7], df3[9:]]))"
   ]
  },
  {
   "cell_type": "code",
   "execution_count": 125,
   "metadata": {
    "collapsed": false,
    "jupyter": {
     "outputs_hidden": false
    }
   },
   "outputs": [
    {
     "name": "stdout",
     "output_type": "stream",
     "text": [
      "   key  lval\n",
      "0  foo     1\n",
      "1  foo     2\n",
      "\n",
      "   key  rval\n",
      "0  foo     4\n",
      "1  foo     5\n",
      "\n",
      "   key  lval  rval\n",
      "0  foo     1     4\n",
      "1  foo     1     5\n",
      "2  foo     2     4\n",
      "3  foo     2     5\n"
     ]
    }
   ],
   "source": [
    "left = pd.DataFrame(\n",
    "    {\n",
    "        \"key\": \"foo\",\n",
    "        \"lval\": [1, 2]\n",
    "    }\n",
    ")\n",
    "right = pd.DataFrame(\n",
    "    {\n",
    "        \"key\": \"foo\",\n",
    "        \"rval\": [4, 5]\n",
    "    }\n",
    ")\n",
    "\n",
    "print(left)\n",
    "print()\n",
    "\n",
    "print(right)\n",
    "print()\n",
    "\n",
    "print(pd.merge(left, right, on=\"key\"))  # inner join"
   ]
  },
  {
   "cell_type": "markdown",
   "metadata": {},
   "source": [
    "##### Grouping data"
   ]
  },
  {
   "cell_type": "markdown",
   "metadata": {},
   "source": [
    "- By *Grouping* we are referring to a process involving one or more of the following steps:\n",
    "    - *Splitting* the data into groups based on some criteria\n",
    "    - *Applying* a function to each group independently\n",
    "    - *Combining* the results into a data structure"
   ]
  },
  {
   "cell_type": "code",
   "execution_count": 126,
   "metadata": {
    "collapsed": false,
    "jupyter": {
     "outputs_hidden": false
    }
   },
   "outputs": [
    {
     "name": "stdout",
     "output_type": "stream",
     "text": [
      "     A      B         C         D\n",
      "0  foo    one -0.647955  0.409460\n",
      "1  bar    one -1.294978 -1.000920\n",
      "2  foo    two -0.464644  1.296563\n",
      "3  bar  three -0.904877 -0.298006\n",
      "4  foo    two -0.886103 -1.699937\n",
      "5  bar    two -1.843789 -2.221722\n",
      "6  foo    one  0.269556  1.398924\n",
      "7  foo  three  1.754985 -0.757826\n",
      "\n",
      "                  C         D\n",
      "A   B                        \n",
      "bar one   -1.294978 -1.000920\n",
      "    three -0.904877 -0.298006\n",
      "    two   -1.843789 -2.221722\n",
      "foo one   -0.378399  1.808384\n",
      "    three  1.754985 -0.757826\n",
      "    two   -1.350748 -0.403374\n"
     ]
    }
   ],
   "source": [
    "df4 = pd.DataFrame(\n",
    "    {\n",
    "        \"A\": [\"foo\", \"bar\", \"foo\", \"bar\", \"foo\", \"bar\", \"foo\", \"foo\"],\n",
    "        \"B\": [\"one\", \"one\", \"two\", \"three\", \"two\", \"two\", \"one\", \"three\"],\n",
    "        \"C\": np.random.randn(8),\n",
    "        \"D\": np.random.randn(8),\n",
    "    }\n",
    ")\n",
    "\n",
    "print(df4)\n",
    "print()\n",
    "\n",
    "print(df4.groupby([\"A\", \"B\"]).sum())"
   ]
  },
  {
   "cell_type": "markdown",
   "metadata": {},
   "source": [
    "##### Generating plots"
   ]
  },
  {
   "cell_type": "markdown",
   "metadata": {},
   "source": [
    "- pandas can use matplotlib to plot data from DataFrames"
   ]
  },
  {
   "cell_type": "code",
   "execution_count": 127,
   "metadata": {
    "collapsed": false,
    "jupyter": {
     "outputs_hidden": false
    }
   },
   "outputs": [
    {
     "data": {
      "image/png": "[encoded data removed]",
      "text/plain": [
       "<Figure size 640x480 with 1 Axes>"
      ]
     },
     "metadata": {},
     "output_type": "display_data"
    }
   ],
   "source": [
    "import matplotlib.pyplot as plt\n",
    "\n",
    "df5 = pd.DataFrame(\n",
    "    np.random.randn(1000, 4),\n",
    "    index=pd.date_range(\"1/1/2000\", periods=1000),\n",
    "    columns=[\"A\", \"B\", \"C\", \"D\"]\n",
    ")\n",
    "\n",
    "df5 = df5.cumsum()\n",
    "\n",
    "df5.plot()\n",
    "plt.legend(loc='best')\n",
    "\n",
    "plt.show()\n",
    "plt.close()"
   ]
  },
  {
   "cell_type": "markdown",
   "metadata": {
    "cell_id": "29f3c015729b4d3783ad7861f17530b9",
    "deepnote_cell_type": "markdown",
    "tags": []
   },
   "source": [
    "#### Special package *scipy*"
   ]
  },
  {
   "cell_type": "markdown",
   "metadata": {
    "cell_id": "ed3296e11253469d9bbacbbb452dcb1f",
    "deepnote_cell_type": "markdown",
    "tags": []
   },
   "source": [
    "- scipy includes algorithms for optimization, integration, interpolation, eigenvalue problems, algebraic equations, differential equations and many other classes of problems\n",
    "- scipy has too many functions to show here so take this example as a teaser what the library may be used for"
   ]
  },
  {
   "cell_type": "code",
   "execution_count": 128,
   "metadata": {
    "cell_id": "5d1be666846449f08262c3adea66a166",
    "collapsed": false,
    "deepnote_cell_type": "code",
    "jupyter": {
     "outputs_hidden": false
    }
   },
   "outputs": [
    {
     "data": {
      "image/png": "[encoded data removed]",
      "text/plain": [
       "<Figure size 640x480 with 1 Axes>"
      ]
     },
     "metadata": {},
     "output_type": "display_data"
    }
   ],
   "source": [
    "from scipy.signal import find_peaks\n",
    "from scipy.datasets import electrocardiogram\n",
    "import matplotlib.pyplot as plt\n",
    "\n",
    "# select the atypical heart beats from an electrocardiogram based on minimum peak widths and prominences\n",
    "\n",
    "x = electrocardiogram()[17_000:18_000]\n",
    "peaks, properties = find_peaks(x, prominence=1, width=20)\n",
    "\n",
    "plt.plot(x)\n",
    "plt.plot(peaks, x[peaks], \"x\")\n",
    "plt.vlines(x=peaks, ymin=x[peaks] - properties[\"prominences\"],\n",
    "           ymax = x[peaks], color = \"C1\")\n",
    "plt.hlines(y=properties[\"width_heights\"], xmin=properties[\"left_ips\"],\n",
    "           xmax=properties[\"right_ips\"], color = \"C1\")\n",
    "\n",
    "plt.show()\n",
    "plt.close()"
   ]
  },
  {
   "cell_type": "markdown",
   "metadata": {
    "cell_id": "4ac612b1ec9d40c2aa0110220d6a2e70",
    "deepnote_cell_type": "markdown"
   },
   "source": [
    "#### Special package *matplotlib*"
   ]
  },
  {
   "cell_type": "markdown",
   "metadata": {},
   "source": [
    "##### Types of plots"
   ]
  },
  {
   "cell_type": "markdown",
   "metadata": {
    "cell_id": "57cbcc629d6642af8958e8eeac53aa58",
    "deepnote_cell_type": "markdown"
   },
   "source": [
    "- matplotlib is a library for making 2D plots\n",
    "- it is designed with the philosophy that you should be able to create simple plots with just a few commands"
   ]
  },
  {
   "cell_type": "code",
   "execution_count": 129,
   "metadata": {
    "cell_id": "e548e8044cd04162b12f9d033ad9a64c",
    "collapsed": false,
    "deepnote_cell_type": "code",
    "jupyter": {
     "outputs_hidden": false
    }
   },
   "outputs": [
    {
     "data": {
      "image/png": "[encoded data removed]",
      "text/plain": [
       "<Figure size 640x480 with 1 Axes>"
      ]
     },
     "metadata": {},
     "output_type": "display_data"
    }
   ],
   "source": [
    "# initialise\n",
    "import numpy as np\n",
    "import matplotlib.pyplot as plt\n",
    "\n",
    "# prepare\n",
    "x = np.linspace(0, 4 * np.pi, 1000)\n",
    "y = np.sin(x)\n",
    "\n",
    "# render\n",
    "plt.plot(x, y)\n",
    "\n",
    "# observe\n",
    "plt.show()\n",
    "plt.close()"
   ]
  },
  {
   "cell_type": "markdown",
   "metadata": {},
   "source": [
    "- matplotlib offers several kinds of plots"
   ]
  },
  {
   "cell_type": "code",
   "execution_count": 130,
   "metadata": {
    "cell_id": "e92e50eb88e44881a38195cc01884df9",
    "collapsed": false,
    "deepnote_cell_type": "code",
    "jupyter": {
     "outputs_hidden": false
    }
   },
   "outputs": [
    {
     "data": {
      "image/png": "[encoded data removed]",
      "text/plain": [
       "<Figure size 640x480 with 1 Axes>"
      ]
     },
     "metadata": {},
     "output_type": "display_data"
    }
   ],
   "source": [
    "x = np.random.uniform(0, 1, 100)\n",
    "y = np.random.uniform(0, 1, 100)\n",
    "\n",
    "plt.scatter(x, y)\n",
    "\n",
    "plt.show()\n",
    "plt.close()"
   ]
  },
  {
   "cell_type": "code",
   "execution_count": 131,
   "metadata": {
    "cell_id": "122d2f717626429196af64331a5a4b11",
    "collapsed": false,
    "deepnote_cell_type": "code",
    "jupyter": {
     "outputs_hidden": false
    }
   },
   "outputs": [
    {
     "data": {
      "image/png": "[encoded data removed]",
      "text/plain": [
       "<Figure size 640x480 with 1 Axes>"
      ]
     },
     "metadata": {},
     "output_type": "display_data"
    }
   ],
   "source": [
    "x = np.arange(10)\n",
    "y = np.random.uniform(1, 10, 10)\n",
    "\n",
    "plt.bar(x, y)\n",
    "\n",
    "plt.show()\n",
    "plt.close()"
   ]
  },
  {
   "cell_type": "code",
   "execution_count": 132,
   "metadata": {
    "collapsed": false,
    "jupyter": {
     "outputs_hidden": false
    }
   },
   "outputs": [
    {
     "data": {
      "image/png": "[encoded data removed]",
      "text/plain": [
       "<Figure size 640x480 with 1 Axes>"
      ]
     },
     "metadata": {},
     "output_type": "display_data"
    }
   ],
   "source": [
    "z = np.random.uniform(0, 1, (8, 8))\n",
    "\n",
    "plt.imshow(z)\n",
    "\n",
    "plt.show()\n",
    "plt.close()"
   ]
  },
  {
   "cell_type": "code",
   "execution_count": 133,
   "metadata": {
    "collapsed": false,
    "jupyter": {
     "outputs_hidden": false
    }
   },
   "outputs": [
    {
     "data": {
      "image/png": "[encoded data removed]",
      "text/plain": [
       "<Figure size 640x480 with 1 Axes>"
      ]
     },
     "metadata": {},
     "output_type": "display_data"
    }
   ],
   "source": [
    "z = np.random.uniform(0, 1, (8,8))\n",
    "\n",
    "plt.contourf(z)\n",
    "\n",
    "plt.show()\n",
    "plt.close()"
   ]
  },
  {
   "cell_type": "code",
   "execution_count": 134,
   "metadata": {
    "collapsed": false,
    "jupyter": {
     "outputs_hidden": false
    }
   },
   "outputs": [
    {
     "data": {
      "image/png": "[encoded data removed]",
      "text/plain": [
       "<Figure size 640x480 with 1 Axes>"
      ]
     },
     "metadata": {},
     "output_type": "display_data"
    }
   ],
   "source": [
    "z = np.random.uniform(0, 1, 4)\n",
    "\n",
    "plt.pie(z)\n",
    "\n",
    "plt.show()\n",
    "plt.close()"
   ]
  },
  {
   "cell_type": "code",
   "execution_count": 135,
   "metadata": {
    "collapsed": false,
    "jupyter": {
     "outputs_hidden": false
    }
   },
   "outputs": [
    {
     "data": {
      "image/png": "[encoded data removed]",
      "text/plain": [
       "<Figure size 640x480 with 1 Axes>"
      ]
     },
     "metadata": {},
     "output_type": "display_data"
    }
   ],
   "source": [
    "z = np.random.uniform(0, 1, 100)\n",
    "\n",
    "plt.hist(z, bins=15)\n",
    "\n",
    "plt.show()\n",
    "plt.close()"
   ]
  },
  {
   "cell_type": "code",
   "execution_count": 136,
   "metadata": {
    "collapsed": false,
    "jupyter": {
     "outputs_hidden": false
    }
   },
   "outputs": [
    {
     "data": {
      "image/png": "[encoded data removed]",
      "text/plain": [
       "<Figure size 640x480 with 1 Axes>"
      ]
     },
     "metadata": {},
     "output_type": "display_data"
    }
   ],
   "source": [
    "x = np.arange(5)\n",
    "y = np.random.uniform(0, 1, 5)\n",
    "\n",
    "plt.errorbar(x, y, y/4)\n",
    "\n",
    "plt.show()\n",
    "plt.close()"
   ]
  },
  {
   "cell_type": "code",
   "execution_count": 137,
   "metadata": {
    "collapsed": false,
    "jupyter": {
     "outputs_hidden": false
    }
   },
   "outputs": [
    {
     "data": {
      "image/png": "[encoded data removed]",
      "text/plain": [
       "<Figure size 640x480 with 1 Axes>"
      ]
     },
     "metadata": {},
     "output_type": "display_data"
    }
   ],
   "source": [
    "z = np.random.normal(0, 1, (100,3))\n",
    "\n",
    "plt.boxplot(z)\n",
    "\n",
    "plt.show()\n",
    "plt.close()"
   ]
  },
  {
   "cell_type": "markdown",
   "metadata": {},
   "source": [
    "##### Make plots prettier"
   ]
  },
  {
   "cell_type": "markdown",
   "metadata": {},
   "source": [
    "- you can modify pretty much anything in a plot, including limits, colors, markers, line width and styles, ticks and ticks labels, titles, etc."
   ]
  },
  {
   "cell_type": "code",
   "execution_count": 138,
   "metadata": {
    "collapsed": false,
    "jupyter": {
     "outputs_hidden": false
    }
   },
   "outputs": [
    {
     "data": {
      "image/png": "[encoded data removed]",
      "text/plain": [
       "<Figure size 640x480 with 1 Axes>"
      ]
     },
     "metadata": {},
     "output_type": "display_data"
    }
   ],
   "source": [
    "x = np.linspace(0, 10, 50)\n",
    "y = np.sin(x)\n",
    "\n",
    "plt.plot(x, y, color=\"red\", linestyle=\"--\", linewidth=2, marker=\"o\")\n",
    "\n",
    "plt.show()\n",
    "plt.close()"
   ]
  },
  {
   "cell_type": "markdown",
   "metadata": {},
   "source": [
    "- areas of the plot can be filled with colors"
   ]
  },
  {
   "cell_type": "code",
   "execution_count": 139,
   "metadata": {},
   "outputs": [
    {
     "data": {
      "image/png": "[encoded data removed]",
      "text/plain": [
       "<Figure size 640x480 with 1 Axes>"
      ]
     },
     "metadata": {},
     "output_type": "display_data"
    }
   ],
   "source": [
    "import matplotlib.pyplot as plt\n",
    "import numpy as np\n",
    "from collections import namedtuple\n",
    "\n",
    "x = np.linspace(-4,4, 1000)  # sample 1000 values between -4 and 4\n",
    "y = (1 / (np.sqrt(2 * np.pi))) * np.exp(-0.5 * x**2)  # formula for the normal distribution's pdf\n",
    "\n",
    "plt.plot(x, y)                       \n",
    "\n",
    "plt.fill_between(x, y, \n",
    "                 where=((x <= -0.01) & (x >= -0.99)) | ((x >= 0.01) & (x <= 0.99)), \n",
    "                 alpha=0.25, label=\"0 to 1 std\")\n",
    "plt.text(-0.475, 0.025, \"34.1%\", ha=\"center\", va=\"center\")\n",
    "\n",
    "plt.fill_between(x, y, \n",
    "                 where=((x <= -1.01) & (x >= -2)) | ((x >= 1.01) & (x <= 2)), \n",
    "                 alpha=0.25, label=\"1 to 2 std\")\n",
    "plt.text(-1.475, 0.025, \"13.6%\", ha=\"center\", va=\"center\")\n",
    "\n",
    "\n",
    "plt.legend()\n",
    "\n",
    "plt.xlabel(\"Standard Deviations\")\n",
    "plt.ylabel(\"Probability Density\")\n",
    "\n",
    "plt.show()\n",
    "plt.close()"
   ]
  },
  {
   "cell_type": "markdown",
   "metadata": {},
   "source": [
    "##### Plot multiple data"
   ]
  },
  {
   "cell_type": "markdown",
   "metadata": {},
   "source": [
    "- You can plot several data on the the same figure, but you can also split a figure in several subplots (named *axes*):"
   ]
  },
  {
   "cell_type": "code",
   "execution_count": 140,
   "metadata": {
    "collapsed": false,
    "jupyter": {
     "outputs_hidden": false
    }
   },
   "outputs": [
    {
     "data": {
      "image/png": "[encoded data removed]",
      "text/plain": [
       "<Figure size 640x480 with 1 Axes>"
      ]
     },
     "metadata": {},
     "output_type": "display_data"
    }
   ],
   "source": [
    "x = np.linspace(0, 10, 100)\n",
    "y1, y2 = np.sin(x), np.cos(x)\n",
    "\n",
    "plt.plot(x, y1)\n",
    "plt.plot(x, y2)\n",
    "\n",
    "plt.show()\n",
    "plt.close()"
   ]
  },
  {
   "cell_type": "code",
   "execution_count": 141,
   "metadata": {
    "collapsed": false,
    "jupyter": {
     "outputs_hidden": false
    }
   },
   "outputs": [
    {
     "data": {
      "image/png": "[encoded data removed]",
      "text/plain": [
       "<Figure size 640x480 with 2 Axes>"
      ]
     },
     "metadata": {},
     "output_type": "display_data"
    }
   ],
   "source": [
    "x = np.linspace(0, 10, 100)\n",
    "y1, y2 = np.sin(x), np.cos(x)\n",
    "\n",
    "fig, (ax1, ax2) = plt.subplots(1,2)\n",
    "\n",
    "ax1.plot(y1, x, color=\"C1\")\n",
    "ax2.plot(y2, x, color=\"C0\")\n",
    "\n",
    "plt.show()\n",
    "plt.close()"
   ]
  },
  {
   "cell_type": "markdown",
   "metadata": {},
   "source": [
    "- you can annotate a plot with labels"
   ]
  },
  {
   "cell_type": "code",
   "execution_count": 142,
   "metadata": {
    "collapsed": false,
    "jupyter": {
     "outputs_hidden": false
    }
   },
   "outputs": [
    {
     "data": {
      "image/png": "[encoded data removed]",
      "text/plain": [
       "<Figure size 640x480 with 1 Axes>"
      ]
     },
     "metadata": {},
     "output_type": "display_data"
    }
   ],
   "source": [
    "x = np.linspace(0, 10, 100)\n",
    "y1, y2 = np.sin(x), np.cos(x)\n",
    "\n",
    "fig, ax = plt.subplots()\n",
    "\n",
    "ax.plot(x, y1)\n",
    "ax.plot(x, y2)\n",
    "\n",
    "ax.set_title(\"Sine and Cosine waves\")\n",
    "\n",
    "ax.set_ylabel(None)\n",
    "ax.set_xlabel(\"Time\")\n",
    "\n",
    "plt.show()\n",
    "plt.close()"
   ]
  },
  {
   "cell_type": "markdown",
   "metadata": {},
   "source": [
    "- matplotlib allows you to export figures as bitmap or vector images"
   ]
  },
  {
   "cell_type": "code",
   "execution_count": 143,
   "metadata": {
    "collapsed": false,
    "jupyter": {
     "outputs_hidden": false
    }
   },
   "outputs": [
    {
     "data": {
      "image/png": "[encoded data removed]",
      "text/plain": [
       "<Figure size 640x480 with 1 Axes>"
      ]
     },
     "metadata": {},
     "output_type": "display_data"
    }
   ],
   "source": [
    "x = np.linspace(0, 10, 100)\n",
    "y1, y2 = np.sin(x), np.cos(x)\n",
    "\n",
    "fig, ax = plt.subplots()\n",
    "\n",
    "ax.plot(x, y1)\n",
    "ax.plot(x, y2)\n",
    "\n",
    "ax.set_title(\"Sine and Cosine waves\")\n",
    "\n",
    "ax.set_ylabel(None)\n",
    "ax.set_xlabel(\"Time\")\n",
    "\n",
    "fig.savefig(\"fig.png\", dpi=300)\n",
    "fig.savefig(\"fig.pdf\", bbox_inches=\"tight\")"
   ]
  },
  {
   "cell_type": "markdown",
   "metadata": {
    "cell_id": "c23e73bd85114856bd6075c6654f8534",
    "deepnote_cell_type": "markdown"
   },
   "source": [
    "### Defining own Functions"
   ]
  },
  {
   "cell_type": "markdown",
   "metadata": {},
   "source": [
    "#### General remarks"
   ]
  },
  {
   "cell_type": "markdown",
   "metadata": {
    "cell_id": "893445e4eb314d5986427e1bfdd72f03",
    "deepnote_cell_type": "markdown"
   },
   "source": [
    "Being able to create ones own building blocks is one of the key tenants of programming: write a function once, use it and use it again whenever and wherever you need it.\n",
    "- functions are defined using the ```def``` statement\n",
    "\n",
    "<pre><code>def function_name(argument_name_1, argument_name_2 = default_value_2, ...):\n",
    "    \"\"\"docstring\"\"\"\n",
    "    \n",
    "    &lt;code body&gt;</code></pre>\n",
    "    \n",
    "- *Docstrings* are optional and describe what the function does. There are different styles for docstrings that are currently used, for example [Google](https://google.github.io/styleguide/pyguide.html#38-comments-and-docstrings) has defined their own style"
   ]
  },
  {
   "cell_type": "code",
   "execution_count": 144,
   "metadata": {
    "cell_id": "eebab9e36cee4ce4bb43110a86eeb689",
    "deepnote_cell_type": "code"
   },
   "outputs": [
    {
     "name": "stdout",
     "output_type": "stream",
     "text": [
      "<class 'builtin_function_or_method'>\n"
     ]
    }
   ],
   "source": [
    "# a function is an object, which has the type function\n",
    "print(type(np.random.normal))"
   ]
  },
  {
   "cell_type": "markdown",
   "metadata": {
    "cell_id": "c15bb077d1ed4efe9168bcbf995d60ac",
    "deepnote_cell_type": "markdown"
   },
   "source": [
    "- functions define variables locally meaning that they can't be accessed outside the function\n",
    "- inside the function variables from outside the function can, however, be accessed\n",
    "- functions can be nested which leads to nested name spaces"
   ]
  },
  {
   "cell_type": "code",
   "execution_count": 145,
   "metadata": {
    "cell_id": "c31c82bacc7c4bb584b5fca4be709e80",
    "deepnote_cell_type": "code",
    "deepnote_to_be_reexecuted": false,
    "execution_millis": 371,
    "execution_start": 1671715451236,
    "source_hash": "57ad852c"
   },
   "outputs": [
    {
     "ename": "NameError",
     "evalue": "name 'local_variable_function_variable' is not defined",
     "output_type": "error",
     "traceback": [
      "\u001b[1;31m---------------------------------------------------------------------------\u001b[0m",
      "\u001b[1;31mNameError\u001b[0m                                 Traceback (most recent call last)",
      "Cell \u001b[1;32mIn [145], line 4\u001b[0m\n\u001b[0;32m      1\u001b[0m \u001b[38;5;28;01mdef\u001b[39;00m \u001b[38;5;21mlocal_variable_function\u001b[39m():\n\u001b[0;32m      2\u001b[0m     local_variable_function_variable \u001b[38;5;241m=\u001b[39m \u001b[38;5;241m5\u001b[39m\n\u001b[1;32m----> 4\u001b[0m \u001b[43mlocal_variable_function_variable\u001b[49m\n",
      "\u001b[1;31mNameError\u001b[0m: name 'local_variable_function_variable' is not defined"
     ]
    }
   ],
   "source": [
    "def local_variable_function():\n",
    "    local_variable_function_variable = 5\n",
    "    \n",
    "local_variable_function_variable"
   ]
  },
  {
   "cell_type": "code",
   "execution_count": 146,
   "metadata": {
    "cell_id": "54c406a31deb47a58e259737a23ea88f",
    "deepnote_cell_type": "code"
   },
   "outputs": [
    {
     "name": "stdout",
     "output_type": "stream",
     "text": [
      "216\n"
     ]
    },
    {
     "ename": "NameError",
     "evalue": "name 'inner_function_variable' is not defined",
     "output_type": "error",
     "traceback": [
      "\u001b[1;31m---------------------------------------------------------------------------\u001b[0m",
      "\u001b[1;31mNameError\u001b[0m                                 Traceback (most recent call last)",
      "Cell \u001b[1;32mIn [146], line 14\u001b[0m\n\u001b[0;32m     11\u001b[0m     inner_function()\n\u001b[0;32m     12\u001b[0m     \u001b[38;5;28mprint\u001b[39m(global_variable \u001b[38;5;241m*\u001b[39m outer_function_variable \u001b[38;5;241m*\u001b[39m inner_function_variable)  \u001b[38;5;66;03m# this throws an error\u001b[39;00m\n\u001b[1;32m---> 14\u001b[0m \u001b[43mouter_function\u001b[49m\u001b[43m(\u001b[49m\u001b[43m)\u001b[49m\n",
      "Cell \u001b[1;32mIn [146], line 12\u001b[0m, in \u001b[0;36mouter_function\u001b[1;34m()\u001b[0m\n\u001b[0;32m      9\u001b[0m     \u001b[38;5;28mprint\u001b[39m(global_variable \u001b[38;5;241m*\u001b[39m outer_function_variable \u001b[38;5;241m*\u001b[39m inner_function_variable)\n\u001b[0;32m     11\u001b[0m inner_function()\n\u001b[1;32m---> 12\u001b[0m \u001b[38;5;28mprint\u001b[39m(global_variable \u001b[38;5;241m*\u001b[39m outer_function_variable \u001b[38;5;241m*\u001b[39m \u001b[43minner_function_variable\u001b[49m)\n",
      "\u001b[1;31mNameError\u001b[0m: name 'inner_function_variable' is not defined"
     ]
    }
   ],
   "source": [
    "global_variable = 3\n",
    "\n",
    "def outer_function():\n",
    "    outer_function_variable = 12\n",
    "    \n",
    "    def inner_function():\n",
    "        inner_function_variable = 6\n",
    "        \n",
    "        print(global_variable * outer_function_variable * inner_function_variable)\n",
    "        \n",
    "    inner_function()\n",
    "    print(global_variable * outer_function_variable * inner_function_variable)  # this throws an error\n",
    "    \n",
    "outer_function()"
   ]
  },
  {
   "cell_type": "markdown",
   "metadata": {
    "cell_id": "2d088b3212da43d6ace428e4b7adb084",
    "deepnote_cell_type": "markdown"
   },
   "source": [
    "- one function can also call another function, even if that function is defined afterwards"
   ]
  },
  {
   "cell_type": "code",
   "execution_count": 147,
   "metadata": {
    "cell_id": "e1b08b46a51e40dda9f2839e6c9468b2",
    "deepnote_cell_type": "code"
   },
   "outputs": [
    {
     "name": "stdout",
     "output_type": "stream",
     "text": [
      "Foo\n",
      "Faa\n",
      "Fee\n",
      "Fii\n"
     ]
    }
   ],
   "source": [
    "def function_1():\n",
    "    print(\"Foo\")\n",
    "    \n",
    "def function_2():\n",
    "    function_1()\n",
    "    print(\"Faa\")\n",
    "    \n",
    "function_2()\n",
    "\n",
    "# ---\n",
    "\n",
    "def function_3():\n",
    "    function_4()  # only defined later -> still works since all functions are loaded into memory before execution of the script\n",
    "    print(\"Fii\")\n",
    "    \n",
    "def function_4():\n",
    "    print(\"Fee\")\n",
    "    \n",
    "function_3()"
   ]
  },
  {
   "cell_type": "markdown",
   "metadata": {
    "cell_id": "1ae27b44998541c397c7e7dfd2ca7000",
    "deepnote_cell_type": "markdown"
   },
   "source": [
    "- functions can recursively call themselves\n",
    "- recursions are not exactly efficient and Python sets a limit of about 1000 calls that a function can make to itself"
   ]
  },
  {
   "cell_type": "code",
   "execution_count": 148,
   "metadata": {
    "cell_id": "56631386abba489089e7c1008504864f",
    "deepnote_cell_type": "code"
   },
   "outputs": [
    {
     "name": "stdout",
     "output_type": "stream",
     "text": [
      "5\n",
      "4\n",
      "3\n",
      "2\n",
      "1\n",
      "Lift off!\n"
     ]
    }
   ],
   "source": [
    "def recursive_countdown(n):\n",
    "    if n <= 0:\n",
    "        print(\"Lift off!\")\n",
    "    else:\n",
    "        print(n)\n",
    "        recursive_countdown(n-1)\n",
    "        \n",
    "recursive_countdown(5)"
   ]
  },
  {
   "cell_type": "markdown",
   "metadata": {
    "cell_id": "85587d22701b438993b24449b1ce1071",
    "deepnote_cell_type": "markdown"
   },
   "source": [
    "#### Arguments"
   ]
  },
  {
   "cell_type": "markdown",
   "metadata": {
    "cell_id": "8ed3307cf04f4c21a9531a27ab2cd829",
    "deepnote_cell_type": "markdown"
   },
   "source": [
    "- A function can take any number and type of variables as argument (or also called parameter) &rarr; what the function needs has to be described when defining it\n",
    "- the type of the argument does not (but can) be defined when defining the function"
   ]
  },
  {
   "cell_type": "code",
   "execution_count": 149,
   "metadata": {
    "cell_id": "0b808d90e2a04b919c6151afc6cafe1b",
    "deepnote_cell_type": "code"
   },
   "outputs": [],
   "source": [
    "def function_name(argument_1, argument_2):\n",
    "    pass  # don't do anything (\"placeholder\" keyword)"
   ]
  },
  {
   "cell_type": "code",
   "execution_count": 150,
   "metadata": {
    "cell_id": "98875c2341c04e868a1883ada7b8b13a",
    "deepnote_cell_type": "code"
   },
   "outputs": [
    {
     "ename": "TypeError",
     "evalue": "call_me_maybe() missing 1 required positional argument: 'my_name'",
     "output_type": "error",
     "traceback": [
      "\u001b[1;31m---------------------------------------------------------------------------\u001b[0m",
      "\u001b[1;31mTypeError\u001b[0m                                 Traceback (most recent call last)",
      "Cell \u001b[1;32mIn [150], line 6\u001b[0m\n\u001b[0;32m      3\u001b[0m \u001b[38;5;28;01mdef\u001b[39;00m \u001b[38;5;21mcall_me_maybe\u001b[39m(my_name):\n\u001b[0;32m      4\u001b[0m     \u001b[38;5;28mprint\u001b[39m(\u001b[38;5;124mf\u001b[39m\u001b[38;5;124m\"\u001b[39m\u001b[38;5;124mI\u001b[39m\u001b[38;5;124m'\u001b[39m\u001b[38;5;124mll maybe call you, \u001b[39m\u001b[38;5;132;01m{\u001b[39;00mmy_name\u001b[38;5;132;01m}\u001b[39;00m\u001b[38;5;124m.\u001b[39m\u001b[38;5;124m\"\u001b[39m)\n\u001b[1;32m----> 6\u001b[0m \u001b[43mcall_me_maybe\u001b[49m\u001b[43m(\u001b[49m\u001b[43m)\u001b[49m\n",
      "\u001b[1;31mTypeError\u001b[0m: call_me_maybe() missing 1 required positional argument: 'my_name'"
     ]
    }
   ],
   "source": [
    "# calling a function that requires an argument without providing one leads to a TypeError\n",
    "\n",
    "def call_me_maybe(my_name):\n",
    "    print(f\"I'll maybe call you, {my_name}.\")\n",
    "    \n",
    "call_me_maybe()"
   ]
  },
  {
   "cell_type": "markdown",
   "metadata": {
    "cell_id": "c3215b69773e469c90fcd7387c111a31",
    "deepnote_cell_type": "markdown"
   },
   "source": [
    "- by defining a default value for the argument when setting up the function, an argument can be made optional (or \"default\")\n",
    "- when the function is called without values for optional arguments then the defaults are assumed, otherwise the values are overwritten\n",
    "- optional arguments all have to be listed behind the mandatory arguments in the function definition"
   ]
  },
  {
   "cell_type": "code",
   "execution_count": 151,
   "metadata": {
    "cell_id": "48729c3637604d588fe273b1490a52f2",
    "deepnote_cell_type": "code"
   },
   "outputs": [
    {
     "name": "stdout",
     "output_type": "stream",
     "text": [
      "[0.15898941 0.05177788 0.27958234 0.14622756 0.5836053 ]\n",
      "[0.88502537 0.40661722 0.54939353]\n"
     ]
    }
   ],
   "source": [
    "def compute_random_numbers(number_of_numbers = 5):\n",
    "    print(np.random.rand(number_of_numbers))\n",
    "    \n",
    "compute_random_numbers()  # 5 numbers are created by default\n",
    "compute_random_numbers(3)  # but 3 is also possible"
   ]
  },
  {
   "cell_type": "markdown",
   "metadata": {
    "cell_id": "c2e3d6444ee34c24834a8f3e57e026d9",
    "deepnote_cell_type": "markdown"
   },
   "source": [
    "- by providing *argument keywords* when calling a function, it is possible to call a function without having to stick to the order of arguments given in the definition\n",
    "- adding a ```*;``` in the function definition forces the use of keywords in all following parameters"
   ]
  },
  {
   "cell_type": "code",
   "execution_count": 152,
   "metadata": {
    "cell_id": "c31071f47d9b48dba2f7f8158c730e8e",
    "deepnote_cell_type": "code"
   },
   "outputs": [
    {
     "name": "stdout",
     "output_type": "stream",
     "text": [
      "Interest is 10.0\n",
      "Interest is 80.0\n",
      "Interest is 250.0\n",
      "Interest with keywords is 250.0\n"
     ]
    },
    {
     "ename": "TypeError",
     "evalue": "interest_with_keywords() takes 0 positional arguments but 2 were given",
     "output_type": "error",
     "traceback": [
      "\u001b[1;31m---------------------------------------------------------------------------\u001b[0m",
      "\u001b[1;31mTypeError\u001b[0m                                 Traceback (most recent call last)",
      "Cell \u001b[1;32mIn [152], line 12\u001b[0m\n\u001b[0;32m      9\u001b[0m     \u001b[38;5;28mprint\u001b[39m(\u001b[38;5;124mf\u001b[39m\u001b[38;5;124m\"\u001b[39m\u001b[38;5;124mInterest with keywords is \u001b[39m\u001b[38;5;132;01m{\u001b[39;00mcapital\u001b[38;5;241m*\u001b[39mrate\u001b[38;5;132;01m}\u001b[39;00m\u001b[38;5;124m\"\u001b[39m)\n\u001b[0;32m     11\u001b[0m interest_with_keywords(capital\u001b[38;5;241m=\u001b[39m\u001b[38;5;241m500\u001b[39m, rate\u001b[38;5;241m=\u001b[39m\u001b[38;5;241m0.5\u001b[39m)\n\u001b[1;32m---> 12\u001b[0m \u001b[43minterest_with_keywords\u001b[49m\u001b[43m(\u001b[49m\u001b[38;5;241;43m200\u001b[39;49m\u001b[43m,\u001b[49m\u001b[43m \u001b[49m\u001b[38;5;241;43m0.4\u001b[39;49m\u001b[43m)\u001b[49m\n",
      "\u001b[1;31mTypeError\u001b[0m: interest_with_keywords() takes 0 positional arguments but 2 were given"
     ]
    }
   ],
   "source": [
    "def interest(capital, rate=0.1):\n",
    "    print(f\"Interest is {capital*rate}\")\n",
    "    \n",
    "interest(100)  # omitting default argument value\n",
    "interest(200, 0.4)  # specifiying both without argument names -> values have to be in order as defined in function\n",
    "interest(rate=0.5, capital=500)  # providing argument names allows switching the sequence of arguments\n",
    "\n",
    "def interest_with_keywords(*, capital, rate=0.1):\n",
    "    print(f\"Interest with keywords is {capital*rate}\")\n",
    "\n",
    "interest_with_keywords(capital=500, rate=0.5)\n",
    "interest_with_keywords(200, 0.4)"
   ]
  },
  {
   "cell_type": "markdown",
   "metadata": {
    "cell_id": "cb41486eb8a74967abca55a86216ebd4",
    "deepnote_cell_type": "markdown"
   },
   "source": [
    "- functions are defined once and every time the function is called its current state is updated &rarr; mutable arguments will lead to unexpected function behaviour &rarr; *do not* use mutable default arguments in Python"
   ]
  },
  {
   "cell_type": "code",
   "execution_count": 153,
   "metadata": {
    "cell_id": "85944402b77c427594ecfa6c671367e2",
    "deepnote_cell_type": "code"
   },
   "outputs": [
    {
     "name": "stdout",
     "output_type": "stream",
     "text": [
      "A list based on some stuff.\n",
      "A list based on some stuff, some stuff.\n",
      "A list based on some stuff, some stuff, some stuff.\n"
     ]
    }
   ],
   "source": [
    "def mutable_arguments_are_forbidden(mutable_argument = []):\n",
    "    mutable_argument.append(\"some stuff\")\n",
    "    print(f\"A list based on {', '.join(mutable_argument)}.\")\n",
    "    \n",
    "mutable_arguments_are_forbidden()\n",
    "mutable_arguments_are_forbidden()  # the last state of the argument 'mutable_argument' is preserved \n",
    "mutable_arguments_are_forbidden()"
   ]
  },
  {
   "cell_type": "markdown",
   "metadata": {
    "cell_id": "25902ca8a58246139fbdf950d65c3797",
    "deepnote_cell_type": "markdown"
   },
   "source": [
    "- as Python does not define the type of an argument when defining the function (as in \"this function wants two numeric values\") the type of the argument has to be checked inside the function\n",
    "- the type of a variable can be checked using the ```isinstance(<variable>, <type>)``` function or by catching an exception"
   ]
  },
  {
   "cell_type": "code",
   "execution_count": 154,
   "metadata": {
    "cell_id": "2c1a78a514e2495ebb207a26033d51a9",
    "deepnote_cell_type": "code"
   },
   "outputs": [
    {
     "ename": "TypeError",
     "evalue": "can only concatenate str (not \"int\") to str",
     "output_type": "error",
     "traceback": [
      "\u001b[1;31m---------------------------------------------------------------------------\u001b[0m",
      "\u001b[1;31mTypeError\u001b[0m                                 Traceback (most recent call last)",
      "Cell \u001b[1;32mIn [154], line 4\u001b[0m\n\u001b[0;32m      1\u001b[0m \u001b[38;5;28;01mdef\u001b[39;00m \u001b[38;5;21mmultiplication\u001b[39m(factor_1, factor_2):\n\u001b[0;32m      2\u001b[0m     \u001b[38;5;28mprint\u001b[39m(factor_1 \u001b[38;5;241m+\u001b[39m factor_2)\n\u001b[1;32m----> 4\u001b[0m \u001b[43mmultiplication\u001b[49m\u001b[43m(\u001b[49m\u001b[43mfactor_1\u001b[49m\u001b[38;5;241;43m=\u001b[39;49m\u001b[38;5;124;43m\"\u001b[39;49m\u001b[38;5;124;43m100\u001b[39;49m\u001b[38;5;124;43m\"\u001b[39;49m\u001b[43m,\u001b[49m\u001b[43m \u001b[49m\u001b[43mfactor_2\u001b[49m\u001b[38;5;241;43m=\u001b[39;49m\u001b[38;5;241;43m50\u001b[39;49m\u001b[43m)\u001b[49m  \u001b[38;5;66;03m# providing a string triggers an exception\u001b[39;00m\n",
      "Cell \u001b[1;32mIn [154], line 2\u001b[0m, in \u001b[0;36mmultiplication\u001b[1;34m(factor_1, factor_2)\u001b[0m\n\u001b[0;32m      1\u001b[0m \u001b[38;5;28;01mdef\u001b[39;00m \u001b[38;5;21mmultiplication\u001b[39m(factor_1, factor_2):\n\u001b[1;32m----> 2\u001b[0m     \u001b[38;5;28mprint\u001b[39m(\u001b[43mfactor_1\u001b[49m\u001b[43m \u001b[49m\u001b[38;5;241;43m+\u001b[39;49m\u001b[43m \u001b[49m\u001b[43mfactor_2\u001b[49m)\n",
      "\u001b[1;31mTypeError\u001b[0m: can only concatenate str (not \"int\") to str"
     ]
    }
   ],
   "source": [
    "def multiplication(factor_1, factor_2):\n",
    "    print(factor_1 + factor_2)\n",
    "\n",
    "multiplication(factor_1=\"100\", factor_2=50)  # providing a string triggers an exception"
   ]
  },
  {
   "cell_type": "code",
   "execution_count": 155,
   "metadata": {
    "cell_id": "8fbedbf685834fcaa1b90490fe107c61",
    "deepnote_cell_type": "code"
   },
   "outputs": [
    {
     "name": "stdout",
     "output_type": "stream",
     "text": [
      "You can only multiply two numbers.\n",
      "5000\n"
     ]
    }
   ],
   "source": [
    "def multiplication(factor_1, factor_2):\n",
    "    if isinstance(factor_1, (int, float)) and isinstance(factor_2, (int, float)): \n",
    "        print(factor_1 * factor_2)\n",
    "    else:\n",
    "        print(\"You can only multiply two numbers.\")\n",
    "        \n",
    "multiplication(factor_1=\"100\", factor_2=50)  # if it was not for the test, multiplying the string with the number would concatenate the string \"100\" 50 times\n",
    "multiplication(factor_1=100, factor_2=50)"
   ]
  },
  {
   "cell_type": "markdown",
   "metadata": {
    "cell_id": "3c75c9b6597249d2847a1e67b0dbb5fa",
    "deepnote_cell_type": "markdown"
   },
   "source": [
    "#### Functions with and without returns"
   ]
  },
  {
   "cell_type": "markdown",
   "metadata": {
    "cell_id": "a58798778110444cbd0eec6eac8ee1ab",
    "deepnote_cell_type": "markdown"
   },
   "source": [
    "- so far, the functions had an effect by printing some statements, but is was not possible to take the result out of the function\n",
    "- to write a function that returns a value (which can then be assigned to a variable), include a ```return``` statement\n",
    "- none of the statements after the ```return``` statement are executed!"
   ]
  },
  {
   "cell_type": "code",
   "execution_count": 156,
   "metadata": {
    "cell_id": "49f40bd8e3db4d6981663a5f8a3fedaf",
    "deepnote_cell_type": "code"
   },
   "outputs": [
    {
     "name": "stdout",
     "output_type": "stream",
     "text": [
      "4\n"
     ]
    }
   ],
   "source": [
    "def double_number(n):\n",
    "    return 2*n\n",
    "    print(\"I'm invisible!\")\n",
    "    \n",
    "doubled_number = double_number(2)\n",
    "print(doubled_number)"
   ]
  },
  {
   "cell_type": "markdown",
   "metadata": {
    "cell_id": "cf7ca57bcab54b8aa3d6d9ddaf60fe16",
    "deepnote_cell_type": "markdown"
   },
   "source": [
    "- generator functions look and act just like regular functions, but with one defining characteristic: they use the ```yield``` keyword instead of ```return```\n",
    "- ```yield``` indicates where a value is sent back to the caller, but unlike ```return```, you don’t exit the function afterward &rarr; instead, the state of the function is remembered\n",
    "- generators are a great way to optimize memory as they do not store all their contents in memory when they are being called the first time"
   ]
  },
  {
   "cell_type": "code",
   "execution_count": 157,
   "metadata": {
    "cell_id": "98c99f4b8dba434d8e49ba16f4414137",
    "deepnote_cell_type": "code"
   },
   "outputs": [
    {
     "name": "stdout",
     "output_type": "stream",
     "text": [
      "<class 'generator'>\n",
      "0\n",
      "1\n",
      "4\n",
      "9\n"
     ]
    }
   ],
   "source": [
    "gen_1 = (num**2 for num in range(4))\n",
    "print(type(gen_1))\n",
    "\n",
    "for i in gen_1:\n",
    "    print(i)"
   ]
  },
  {
   "cell_type": "markdown",
   "metadata": {},
   "source": [
    "- instead of using a ```for``` loop, you can also call ```next()``` on the generator object directly to get the next output from the generator"
   ]
  },
  {
   "cell_type": "code",
   "execution_count": 158,
   "metadata": {
    "collapsed": false,
    "jupyter": {
     "outputs_hidden": false
    }
   },
   "outputs": [
    {
     "name": "stdout",
     "output_type": "stream",
     "text": [
      "0\n",
      "1\n",
      "2\n"
     ]
    }
   ],
   "source": [
    "def sequence():\n",
    "    num = 0\n",
    "    while num < 3:\n",
    "        yield num\n",
    "        num += 1\n",
    "\n",
    "gen_2 = sequence()\n",
    "\n",
    "print(next(gen_2))\n",
    "print(next(gen_2))\n",
    "print(next(gen_2))"
   ]
  },
  {
   "cell_type": "markdown",
   "metadata": {},
   "source": [
    "- generators throw a ```StopIteration```-Error when they run out of values to create\n",
    "- ```next``` functions can define a default value to return in this case"
   ]
  },
  {
   "cell_type": "code",
   "execution_count": 159,
   "metadata": {
    "collapsed": false,
    "jupyter": {
     "outputs_hidden": false
    }
   },
   "outputs": [
    {
     "ename": "StopIteration",
     "evalue": "",
     "output_type": "error",
     "traceback": [
      "\u001b[1;31m---------------------------------------------------------------------------\u001b[0m",
      "\u001b[1;31mStopIteration\u001b[0m                             Traceback (most recent call last)",
      "Cell \u001b[1;32mIn [159], line 1\u001b[0m\n\u001b[1;32m----> 1\u001b[0m \u001b[38;5;28mprint\u001b[39m(\u001b[38;5;28;43mnext\u001b[39;49m\u001b[43m(\u001b[49m\u001b[43mgen_2\u001b[49m\u001b[43m)\u001b[49m)\n",
      "\u001b[1;31mStopIteration\u001b[0m: "
     ]
    }
   ],
   "source": [
    "print(next(gen_2))"
   ]
  },
  {
   "cell_type": "markdown",
   "metadata": {
    "cell_id": "aaa2874aa5ec49369685fe333b5c7981",
    "deepnote_cell_type": "markdown",
    "tags": []
   },
   "source": [
    "#### Storing a set of functions or parameters in a module"
   ]
  },
  {
   "cell_type": "markdown",
   "metadata": {
    "cell_id": "4c719c4a940c4c2d96ea8ae7f335aeaf",
    "deepnote_cell_type": "markdown"
   },
   "source": [
    "- any python script ```<module_name>.py``` can be considered as a module\n",
    "- to store functions or parameters in a module that can be re-used\n",
    "    - Define them in a separate script file, which should be stored where you also store the script you are currently working with\n",
    "    - Import the module via the import statement referencing the script name\n",
    "- access imported functions or parameters as previously discussed, e.g. ```<module_name>.do_something()```\n",
    "- all functions in the imported module are defined in the course of the import statement – this may trigger errors if the function definitions are flawed!\n",
    "- more on absolute and relative imports can be read in [PEP 328](https://peps.python.org/pep-0328/)\n",
    "\n",
    "<br/>\n",
    "\n",
    "- use this functionality to split the code of your project into different files to prevent single files from becoming overly cluttered (more on this [here](https://teclado.com/30-days-of-python/python-30-day-21-multiple-files/))"
   ]
  },
  {
   "cell_type": "code",
   "execution_count": 160,
   "metadata": {
    "cell_id": "3784ab288b9343a2a27b4f8bf24cf644",
    "deepnote_cell_type": "code"
   },
   "outputs": [
    {
     "name": "stdout",
     "output_type": "stream",
     "text": [
      "Hello MyFunctions!\n"
     ]
    }
   ],
   "source": [
    "import my_functions  # import functions from file \"my_functions.py\" which is located in the same folder as the executed script\n",
    "\n",
    "my_functions.hello()"
   ]
  },
  {
   "cell_type": "markdown",
   "metadata": {
    "tags": []
   },
   "source": [
    "### Selected Built-in functions"
   ]
  },
  {
   "cell_type": "markdown",
   "metadata": {},
   "source": [
    "Python isn’t heavily influenced by functional languages but by imperative ones. However, it provides several features that allow you to use a functional style"
   ]
  },
  {
   "cell_type": "markdown",
   "metadata": {},
   "source": [
    "#### Anonymus Functions: lambda"
   ]
  },
  {
   "cell_type": "markdown",
   "metadata": {},
   "source": [
    "- an anonymous function is a function without a name\n",
    "- ```lambda``` functions are regularly used with the built-in functions ```map()``` and ```filter()``` as well as in the key parameters of the ```sorted()```, ```min()```, and ```max()``` functions\n",
    "\n",
    "<br>\n",
    "\n",
    "- anonymous functions are created with the ```lambda``` keyword, one or more bound variables (```x, y```), and a body (```x + y```)"
   ]
  },
  {
   "cell_type": "code",
   "execution_count": 161,
   "metadata": {},
   "outputs": [
    {
     "data": {
      "text/plain": [
       "<function __main__.<lambda>(x, y)>"
      ]
     },
     "execution_count": 161,
     "metadata": {},
     "output_type": "execute_result"
    }
   ],
   "source": [
    "lambda x, y: x + y"
   ]
  },
  {
   "cell_type": "markdown",
   "metadata": {},
   "source": [
    "- the function can be immediately applied to an argument by surrounding the function and its argument with parentheses"
   ]
  },
  {
   "cell_type": "code",
   "execution_count": 162,
   "metadata": {},
   "outputs": [
    {
     "data": {
      "text/plain": [
       "5"
      ]
     },
     "execution_count": 162,
     "metadata": {},
     "output_type": "execute_result"
    }
   ],
   "source": [
    "(lambda x, y: x + y)(2, 3)"
   ]
  },
  {
   "cell_type": "markdown",
   "metadata": {},
   "source": [
    "- the function can be assigned to a variable to be called later, though this is considered [bad practice](https://peps.python.org/pep-0008/#programming-recommendations)"
   ]
  },
  {
   "cell_type": "code",
   "execution_count": 163,
   "metadata": {},
   "outputs": [
    {
     "data": {
      "text/plain": [
       "4"
      ]
     },
     "execution_count": 163,
     "metadata": {},
     "output_type": "execute_result"
    }
   ],
   "source": [
    "foo = lambda x: x + 1\n",
    "foo(3)"
   ]
  },
  {
   "cell_type": "markdown",
   "metadata": {},
   "source": [
    "#### Map"
   ]
  },
  {
   "cell_type": "markdown",
   "metadata": {},
   "source": [
    "- ```map(<function>, <iterable>, [<iterable2>, ...])``` applies a function to each element of a list"
   ]
  },
  {
   "cell_type": "code",
   "execution_count": 164,
   "metadata": {},
   "outputs": [
    {
     "name": "stdout",
     "output_type": "stream",
     "text": [
      "[1, 4, 9, 16, 25]\n",
      "\n",
      "[2, 4, 6, 8, 10]\n",
      "\n",
      "[1, 2, 3, 4, 5]\n",
      "\n",
      "[7, 11, 17, 25, 35]\n",
      "\n"
     ]
    }
   ],
   "source": [
    "# map using a lambda-function\n",
    "l = list(map(lambda x: x**2, [1, 2, 3, 4, 5]))  # map returns a map-object which needs to be converted to a list\n",
    "print(l)\n",
    "print()\n",
    "\n",
    "\n",
    "# map using a self-defined function\n",
    "def add(i):\n",
    "    return i + i\n",
    "\n",
    "l = list(map(add, [1, 2, 3, 4, 5]))\n",
    "print(l)\n",
    "print()\n",
    "\n",
    "\n",
    "# map using a built-in function\n",
    "l = list(map(abs, [-1, 2, -3, 4, -5]))\n",
    "print(l)\n",
    "print()\n",
    "\n",
    "\n",
    "# map using 2 lists and a function with 2 inputs\n",
    "def square_and_add(i, j):\n",
    "    return i ** 2 + j\n",
    "\n",
    "l = list(map(square_and_add, [-1, 2, -3, 4, -5], [6, 7, 8, 9, 10]))\n",
    "print(l)\n",
    "print()"
   ]
  },
  {
   "cell_type": "markdown",
   "metadata": {},
   "source": [
    "#### Filter"
   ]
  },
  {
   "cell_type": "markdown",
   "metadata": {},
   "source": [
    "- ```filter(<function>, <iterable>)``` applies a function to each element of a list and returns only those elements for which the function returns ```True```"
   ]
  },
  {
   "cell_type": "code",
   "execution_count": 165,
   "metadata": {},
   "outputs": [
    {
     "name": "stdout",
     "output_type": "stream",
     "text": [
      "[108, 12603]\n",
      "\n"
     ]
    }
   ],
   "source": [
    "def above_100(n):\n",
    "    return n > 100\n",
    "\n",
    "l = list(filter(above_100, [1, 2, 100, 108, 12_603, 12]))\n",
    "print(l)\n",
    "print()"
   ]
  },
  {
   "cell_type": "markdown",
   "metadata": {},
   "source": [
    "- the package ```itertools```, has a function called ```filterfalse()``` that does the inverse of ```filter()```"
   ]
  },
  {
   "cell_type": "markdown",
   "metadata": {},
   "source": [
    "#### Zip"
   ]
  },
  {
   "cell_type": "markdown",
   "metadata": {},
   "source": [
    "- the ```zip(<iterable 1>, <iterable 2>, ...)``` function takes iterables, aggregates elements of the same positions in a tuple, and returns a zip (iterator) object\n"
   ]
  },
  {
   "cell_type": "code",
   "execution_count": 166,
   "metadata": {},
   "outputs": [
    {
     "name": "stdout",
     "output_type": "stream",
     "text": [
      "<zip object at 0x000001AFBC0BDB00>\n",
      "\n",
      "[('x', 3), ('y', 4), ('z', 5)]\n"
     ]
    }
   ],
   "source": [
    "coordinates = ['x', 'y', 'z']\n",
    "values = [3, 4, 5]\n",
    "\n",
    "z = zip(coordinates, values)\n",
    "\n",
    "print(z)\n",
    "print()\n",
    "\n",
    "print(list(z))  # cast to list to view elements of iterator"
   ]
  },
  {
   "cell_type": "markdown",
   "metadata": {},
   "source": [
    "- the shortest iterable determines the length of the iterator &rarr; later elements of longer iterables are omitted"
   ]
  },
  {
   "cell_type": "code",
   "execution_count": 167,
   "metadata": {},
   "outputs": [
    {
     "name": "stdout",
     "output_type": "stream",
     "text": [
      "[(1, 3), (2, 4)]\n"
     ]
    }
   ],
   "source": [
    "two_value_list = [1, 2]\n",
    "four_value_list = [3, 4, 5, 6]\n",
    "\n",
    "print(list(zip(two_value_list, four_value_list)))  # only 2 tuples in output list since shorter input list only had two elements"
   ]
  },
  {
   "cell_type": "markdown",
   "metadata": {},
   "source": [
    "- the zip function is especially useful when iterating over multiple iterables of connected values since the tuple elements can be unpacked in the loop"
   ]
  },
  {
   "cell_type": "code",
   "execution_count": 168,
   "metadata": {},
   "outputs": [
    {
     "name": "stdout",
     "output_type": "stream",
     "text": [
      "Coordinate x has a value of 3\n",
      "Coordinate y has a value of 4\n",
      "Coordinate z has a value of 5\n"
     ]
    }
   ],
   "source": [
    "for coordinate, value in zip(coordinates, values):\n",
    "    print(f\"Coordinate {coordinate} has a value of {value}\")"
   ]
  },
  {
   "cell_type": "markdown",
   "metadata": {
    "cell_id": "00a29fed5c604b5e8edafeb52c8fbf1b",
    "deepnote_cell_type": "markdown"
   },
   "source": [
    "## Classes"
   ]
  },
  {
   "cell_type": "markdown",
   "metadata": {},
   "source": [
    "### General remarks"
   ]
  },
  {
   "cell_type": "markdown",
   "metadata": {
    "cell_id": "c124b3df0ad549ee8d13f11f5c515732",
    "deepnote_cell_type": "markdown"
   },
   "source": [
    "Python supports:\n",
    "- *imperative programming* – by implementing algorithms as step-by-step changes in a single state (flow of execution from top to bottom with small detours for functions)\n",
    "- *procedural programming* – by letting the user define functions\n",
    "- *functional programming* – particularly via a module termed ```functools``` (not covered here)\n",
    "- *object-oriented programming* – letting the user define **classes** as templates for objects\n",
    "    \n",
    "<br/>\n",
    "\n",
    "Object oriented programming aggregates data and functions into **classes of realworld objects**. Classes organise objects that:\n",
    "- have the same *attributes*\n",
    "- can use the same *methods*\n",
    "\n",
    "They combine the best of two worlds:\n",
    "- storing data that relates to one thing in one place\n",
    "- making a set of functionality as relevant to one thing available together\n",
    "- thing = object\n",
    "\n",
    "<br/>\n",
    "\n",
    "Class objects are initiated using the ```class``` statement\n",
    "\n",
    "<pre><code>class ClassName:\n",
    "    \"\"\"Optional docstring describing class\"\"\"\n",
    "    \n",
    "    def __init__(self, attribute_1, attribute_2 = default_value_2, ...):\n",
    "        &lt;code block&gt;\n",
    "        \n",
    "    def method_1(self):\n",
    "        &lt;code block&gt;</code></pre>\n",
    "       \n",
    "Classes are factories for objects:\n",
    "- Creating a new object is called instantiation: any object is an instance of a class – one variant of parametrising the class template\n",
    "- To create an object (an *instance* of a class), call the class as if it was a function, e.g.: ```new_instance = ClassName()```\n",
    "\n",
    "<br/>\n",
    "\n",
    "Naming conventions: \n",
    "- the names of classes are writen in \"camel case\": are capitalised and written as one word (e.g. \"CamelCase\") \n",
    "- the names of variables and objects are written in \"snake case\": with lower case letters separated by underscores (e.g. \"snake_case\")\n",
    "\n",
    "Class names are obtained using the ```type()``` function"
   ]
  },
  {
   "cell_type": "code",
   "execution_count": 169,
   "metadata": {
    "cell_id": "b93a934a73564b4c9fcecfc3ea72216f",
    "deepnote_cell_type": "code"
   },
   "outputs": [
    {
     "name": "stdout",
     "output_type": "stream",
     "text": [
      "The point is at x=15.5 and y=66.5\n"
     ]
    }
   ],
   "source": [
    "# class creation:\n",
    "class Point:\n",
    "    \"\"\"Represents a point in 2D-space.\"\"\"\n",
    "    \n",
    "# instance creation:\n",
    "new_point = Point()\n",
    "\n",
    "# attribute definition and value assignment:\n",
    "new_point.x_coordinate = 15.5\n",
    "new_point.y_coordinate = 66.5\n",
    "\n",
    "# retrieving attribute values: \n",
    "print(f\"The point is at x={new_point.x_coordinate} and y={new_point.y_coordinate}\")"
   ]
  },
  {
   "cell_type": "markdown",
   "metadata": {
    "cell_id": "649de31bf7894e95ad9b2050f82e6f9e",
    "deepnote_cell_type": "markdown"
   },
   "source": [
    "- it is not necessary to pre-define attributes in the class definition to store them in an object\n",
    "- attemting to access an attribute that was not defined before will result in an ```AttributeError```"
   ]
  },
  {
   "cell_type": "code",
   "execution_count": 170,
   "metadata": {
    "cell_id": "d9a95b64dd834c199f2a5f66725b4732",
    "deepnote_cell_type": "code"
   },
   "outputs": [
    {
     "ename": "AttributeError",
     "evalue": "'Point' object has no attribute 'x_coordinate'",
     "output_type": "error",
     "traceback": [
      "\u001b[1;31m---------------------------------------------------------------------------\u001b[0m",
      "\u001b[1;31mAttributeError\u001b[0m                            Traceback (most recent call last)",
      "Cell \u001b[1;32mIn [170], line 5\u001b[0m\n\u001b[0;32m      1\u001b[0m new_point_2 \u001b[38;5;241m=\u001b[39m Point()\n\u001b[0;32m      3\u001b[0m \u001b[38;5;66;03m# the attributes 'x_coordinate' and 'y_coordinate' were only defined for the instance 'new_point' of the class 'Point'\u001b[39;00m\n\u001b[0;32m      4\u001b[0m \u001b[38;5;66;03m# but not for the instance 'new_point_2'\u001b[39;00m\n\u001b[1;32m----> 5\u001b[0m \u001b[38;5;28mprint\u001b[39m(\u001b[38;5;124mf\u001b[39m\u001b[38;5;124m\"\u001b[39m\u001b[38;5;124mThe point is at x=\u001b[39m\u001b[38;5;132;01m{\u001b[39;00m\u001b[43mnew_point_2\u001b[49m\u001b[38;5;241;43m.\u001b[39;49m\u001b[43mx_coordinate\u001b[49m\u001b[38;5;132;01m}\u001b[39;00m\u001b[38;5;124m and y=\u001b[39m\u001b[38;5;132;01m{\u001b[39;00mnew_point_2\u001b[38;5;241m.\u001b[39my_coordinate\u001b[38;5;132;01m}\u001b[39;00m\u001b[38;5;124m\"\u001b[39m)\n",
      "\u001b[1;31mAttributeError\u001b[0m: 'Point' object has no attribute 'x_coordinate'"
     ]
    }
   ],
   "source": [
    "new_point_2 = Point()\n",
    "\n",
    "# the attributes 'x_coordinate' and 'y_coordinate' were only defined for the instance 'new_point' of the class 'Point'\n",
    "# but not for the instance 'new_point_2'\n",
    "print(f\"The point is at x={new_point_2.x_coordinate} and y={new_point_2.y_coordinate}\")"
   ]
  },
  {
   "cell_type": "markdown",
   "metadata": {
    "cell_id": "8cf4f93cd44e4d518a51f76997f46edd",
    "deepnote_cell_type": "markdown"
   },
   "source": [
    "As any new class is defined as a type like any other (integer, float, ...), when assigning a value to an object, it is also possible to assign a new object (an instance of another class) to the existing object.\n",
    "\n",
    "- by simply assigning an object to a new variable, it is NOT copied but only aliased: the two variables will still refer to the same instance &rarr; this applies to all objects and can be annoying when overlooked\n",
    "       \n",
    "- this can be avoided by using the ```copy()``` function of the ```copy``` module"
   ]
  },
  {
   "cell_type": "code",
   "execution_count": 171,
   "metadata": {
    "cell_id": "2a9f39b91c6b4761ae5739482a6d8f69",
    "deepnote_cell_type": "code"
   },
   "outputs": [
    {
     "name": "stdout",
     "output_type": "stream",
     "text": [
      "0x7ffb39a3e3a8 0x7ffb39a3e3a8\n",
      "True\n",
      "6\n",
      "['Yellow', 'Fruity', 'Soft']\n"
     ]
    }
   ],
   "source": [
    "class Article:\n",
    "    \"\"\"\"\"\"\n",
    "    \n",
    "class Customer:\n",
    "    \"\"\"\"\"\"\n",
    "    \n",
    "banana = Article()\n",
    "banana.price = 5\n",
    "banana.comments = [\"Yellow\", \"Fruity\"]\n",
    "\n",
    "new_customer = Customer()\n",
    "new_customer.favourite_article = banana\n",
    "\n",
    "\n",
    "# testing the identity of the attributes of the two classes:\n",
    "print(hex(id(new_customer.favourite_article.price)), hex(id(banana.price)))\n",
    "print(new_customer.favourite_article.price is banana.price)\n",
    "\n",
    "# testing the effect of an alteration of the attribute of one class to the other:\n",
    "banana.price = 6\n",
    "print(new_customer.favourite_article.price)\n",
    "\n",
    "banana.comments.append(\"Soft\")\n",
    "print(new_customer.favourite_article.comments)"
   ]
  },
  {
   "cell_type": "code",
   "execution_count": 172,
   "metadata": {
    "cell_id": "90303a2b38c94b7cb1397c9125e897c7",
    "deepnote_cell_type": "code"
   },
   "outputs": [
    {
     "name": "stdout",
     "output_type": "stream",
     "text": [
      "5\n",
      "5\n",
      "\n",
      "True\n",
      "[1, 2, 3, 4]\n",
      "[1, 2, 3, 4]\n",
      "\n",
      "False\n",
      "[1, 2, 3, 4, 5]\n",
      "[1, 2, 3, 4]\n"
     ]
    }
   ],
   "source": [
    "# aliasing only applies to more complex types, not to integers, floats, strings:\n",
    "int_1 = 5\n",
    "int_2 = int_1\n",
    "\n",
    "print(int_2)\n",
    "int_1 = 6\n",
    "print(int_2)\n",
    "print()\n",
    "\n",
    "# aliasing does also apply to lists and dictionaries!\n",
    "list_1 = [1, 2, 3]\n",
    "list_2 = list_1\n",
    "\n",
    "print(list_2 is list_1)\n",
    "list_1.append(4)\n",
    "print(list_1)\n",
    "print(list_2)\n",
    "print()\n",
    "\n",
    "# copying prevents accidental changes:\n",
    "from copy import copy\n",
    "\n",
    "list_2 = copy(list_1)\n",
    "\n",
    "print(list_2 is list_1)\n",
    "list_1.append(5)\n",
    "print(list_1)\n",
    "print(list_2)"
   ]
  },
  {
   "cell_type": "markdown",
   "metadata": {
    "cell_id": "3ea033f8ac3a437baa92ca39e6b8e8b2",
    "deepnote_cell_type": "markdown"
   },
   "source": [
    "### Modifier functions"
   ]
  },
  {
   "cell_type": "markdown",
   "metadata": {
    "cell_id": "0e104551c4ca439fb0126db6d24b62ea",
    "deepnote_cell_type": "markdown"
   },
   "source": [
    "When being taking (pointers to) objects as arguments, functions can also work as modifiers, adjusting values within the object.\n",
    "- This can be efficient, but can also make programs harder to track and debug.\n",
    "- Anything that can be done in this way can also be achieved by handling return statements."
   ]
  },
  {
   "cell_type": "markdown",
   "metadata": {
    "cell_id": "673319f5c9da4e00b570755d1bf4e36a",
    "deepnote_cell_type": "markdown"
   },
   "source": [
    "### Methods: class functions"
   ]
  },
  {
   "cell_type": "markdown",
   "metadata": {
    "cell_id": "b117b7f817a247a59d1e0d472b360636",
    "deepnote_cell_type": "markdown"
   },
   "source": [
    "- by defining functions as part of the object, so-called *methods*, the function can access all information that is already there\n",
    "- any object instantiated from a class with that method (and only those) has access to that method\n",
    "\n",
    "<br/>\n",
    "\n",
    "The ```__init__``` method:\n",
    "- by implementing an init method and relying on it in the further code, one can avoid building inconsistent instances of a class and making mistakes in attribute assignment\n",
    "- this predefined type of method gets automatically invoked whenever an instance is instantiated\n",
    "\n",
    "When a class has an ```__init__``` method defined, objects can be instantiated from it\n",
    "- without arguments, so that attributes get assigned the standard values\n",
    "- with arguments, so that attributes get assigned the values handed to the method\n",
    "\n",
    "<br/>\n",
    "\n",
    "The ```__str__``` method:\n",
    "- invoked when the instance is printed\n",
    "- by defining this method for a specific class, it can be defined what is printed when an object from that class is printed"
   ]
  },
  {
   "cell_type": "code",
   "execution_count": 173,
   "metadata": {
    "cell_id": "709ed4fb24934308827cea3c2f79f9aa",
    "deepnote_cell_type": "code"
   },
   "outputs": [
    {
     "name": "stdout",
     "output_type": "stream",
     "text": [
      "None\n",
      "7.0685834705770345\n"
     ]
    }
   ],
   "source": [
    "import math\n",
    "\n",
    "\n",
    "class Circle:\n",
    "    def __init__(self, diameter):\n",
    "        self.diameter = diameter  # by the provided diameter value 'diameter' is bound to a local 'self.diameter' object variable\n",
    "        self.area = None  # not absolutely necessary to invoke attribute as None before calculation function is called, but recommended\n",
    "        \n",
    "    def __str__(self):\n",
    "        return f\"This is a circle with the diameter {self.diameter}.\"\n",
    "    \n",
    "    def calculate_area(self):  # calculation could also be done directly in __init__\n",
    "        self.area = (math.pi/4) * self.diameter ** 2\n",
    "        \n",
    "\n",
    "small_circle = Circle(3)\n",
    "\n",
    "print(small_circle.area)\n",
    "small_circle.calculate_area()  # Note: methods are called with opening and closing parentheses...\n",
    "print(small_circle.area)       #       ... and attributes without those!"
   ]
  },
  {
   "cell_type": "markdown",
   "metadata": {},
   "source": [
    "### Useful class-operations"
   ]
  },
  {
   "cell_type": "markdown",
   "metadata": {},
   "source": [
    "#### Decorators: Dataclasses and Properties"
   ]
  },
  {
   "cell_type": "markdown",
   "metadata": {},
   "source": [
    "- a decorator function (```@decorator```) is a function that adds new functionality to an existing function - the decorator function is wrapped around the existing function\n",
    "- ```dataclasses``` provides a decorator and functions for automatically adding generated special methods such as ```__init__()``` and ```__repr__()``` to user-defined classes\n",
    "- the ```property``` decorators allows using a class method like a class attribute; the value is updates every time the method is called"
   ]
  },
  {
   "cell_type": "code",
   "execution_count": 174,
   "metadata": {},
   "outputs": [
    {
     "name": "stdout",
     "output_type": "stream",
     "text": [
      "Knapsack(capacity=10, items=[])\n",
      "False\n"
     ]
    }
   ],
   "source": [
    "from dataclasses import dataclass, field\n",
    "\n",
    "@dataclass\n",
    "class Item:\n",
    "    value: int\n",
    "\n",
    "    \n",
    "@dataclass \n",
    "class Knapsack:\n",
    "    capacity: int\n",
    "    items: list[Item] = field(default_factory=lambda: [])  # alternative to initialising an empty list: field(default_factory=lambda: list)\n",
    "\n",
    "    @property\n",
    "    def is_full(self) -> bool:\n",
    "        return len(self.items) >= self.capacity\n",
    "    \n",
    "    def add_item(self, item: Item) -> None:\n",
    "        self.items.append(item)\n",
    "    \n",
    "\n",
    "k = Knapsack(capacity=10)\n",
    "print(k)\n",
    "print(k.is_full)"
   ]
  },
  {
   "cell_type": "markdown",
   "metadata": {},
   "source": [
    "#### Listing and checking attributes and methods"
   ]
  },
  {
   "cell_type": "markdown",
   "metadata": {},
   "source": [
    "- with the ```vars()``` function a dictionary of all attributes and their respective values is returned\n",
    "- with the ```dir()``` function a list of all methods is returned"
   ]
  },
  {
   "cell_type": "code",
   "execution_count": 175,
   "metadata": {},
   "outputs": [
    {
     "name": "stdout",
     "output_type": "stream",
     "text": [
      "{'diameter': 3, 'area': 7.0685834705770345}\n",
      "\n",
      "['__class__', '__delattr__', '__dict__', '__dir__', '__doc__', '__eq__', '__format__', '__ge__', '__getattribute__', '__getstate__', '__gt__', '__hash__', '__init__', '__init_subclass__', '__le__', '__lt__', '__module__', '__ne__', '__new__', '__reduce__', '__reduce_ex__', '__repr__', '__setattr__', '__sizeof__', '__str__', '__subclasshook__', '__weakref__', 'area', 'calculate_area', 'diameter']\n"
     ]
    }
   ],
   "source": [
    "print(vars(small_circle))\n",
    "print()\n",
    "\n",
    "print(dir(small_circle))"
   ]
  },
  {
   "cell_type": "markdown",
   "metadata": {},
   "source": [
    "- the ```hasattr(<object>, <attribute name>)``` method returns a boolean values that indicates if an object has an attribute of a certain name"
   ]
  },
  {
   "cell_type": "code",
   "execution_count": 176,
   "metadata": {},
   "outputs": [
    {
     "name": "stdout",
     "output_type": "stream",
     "text": [
      "True\n",
      "False\n"
     ]
    }
   ],
   "source": [
    "print(hasattr(small_circle, \"area\"))\n",
    "print(hasattr(small_circle, \"size\"))"
   ]
  },
  {
   "cell_type": "markdown",
   "metadata": {},
   "source": [
    "#### Sorting lists of class instances by attribute values"
   ]
  },
  {
   "cell_type": "markdown",
   "metadata": {},
   "source": [
    "- the sorting functions have a ```key``` parameter which can be used in combination with a ```lambda``` function to sort items based on their attribute values"
   ]
  },
  {
   "cell_type": "code",
   "execution_count": 177,
   "metadata": {},
   "outputs": [
    {
     "name": "stdout",
     "output_type": "stream",
     "text": [
      "[Item(value=13), Item(value=14), Item(value=9), Item(value=22), Item(value=26)]\n",
      "\n",
      "[Item(value=26), Item(value=22), Item(value=14), Item(value=13), Item(value=9)]\n"
     ]
    }
   ],
   "source": [
    "import numpy as np\n",
    "\n",
    "l = [Item(value=np.random.randint(1, 30)) for _ in range(5)]\n",
    "\n",
    "print(l)\n",
    "print()\n",
    "\n",
    "l = sorted(l, key=lambda item: item.value, reverse=True)\n",
    "\n",
    "print(l)"
   ]
  },
  {
   "cell_type": "markdown",
   "metadata": {},
   "source": [
    "## Discrete Event Simulation using SimPy"
   ]
  },
  {
   "cell_type": "markdown",
   "metadata": {},
   "source": [
    "### Overview"
   ]
  },
  {
   "cell_type": "markdown",
   "metadata": {},
   "source": [
    "- modeled system is dynamic over time and characterized by its state\n",
    "- over time, events occur at particular time points and change the system state\n",
    "- The simulation control processes events in the order of their occurrence and thereby moves through simulated time &rarr; the simulated time does not pass smoothly\n",
    "\n",
    "**Entity** (*simpy*: component):\n",
    "- *permanent*: stays in the system (*simpy*: resource, e.g. machine)\n",
    "- *temporary*: moves through the system (*simpy*: process, e.g. product)\n",
    "\n",
    "**Entity queue**: list of temporary entities with status waiting for an interaction\n",
    "- usually assigned to resources\n",
    "- processing can be FIFO (first in, first out), LIFO (last in, first out), random, ...\n",
    "- processing may depend on entity characteristics (priority queue)\n",
    "\n",
    "**Entity state**: \n",
    "- *busy*: state during activity\n",
    "- *idle*: state before and after activity\n",
    "\n",
    "**Events**: milestones in a discrete system\n",
    "- describe all system state changes - between events, the system state remains constant\n",
    "- does not use up time - takes place at a single point in time\n",
    "\n",
    "**Event list**: list of all events with their respective time of occurrence\n",
    "\n",
    "**Simulation clock**: variable stating the current time in the simulation model\n",
    "\n",
    "**Statistics indicator**: variable storing statistic information about the system\n",
    "\n"
   ]
  },
  {
   "cell_type": "markdown",
   "metadata": {},
   "source": [
    "### SimPy Implementation"
   ]
  },
  {
   "cell_type": "code",
   "execution_count": 178,
   "metadata": {},
   "outputs": [],
   "source": [
    "import simpy"
   ]
  },
  {
   "cell_type": "markdown",
   "metadata": {},
   "source": [
    "#### Environment"
   ]
  },
  {
   "cell_type": "markdown",
   "metadata": {},
   "source": [
    "- active components (like vehicles, customers or messages) are modeled with *processes* \n",
    "- all processes live in an *environment*, the environment instance has to be passed to all processes and resources\n",
    "\n",
    "```python\n",
    "env = simpy.Environment()  # set up environment\n",
    "```\n",
    "\n",
    "- the simulation time is defined in the run command ```env.run(until = <time>)```\n",
    "- the simulation time is unitless but can be interpreted to have a unit (e.g. hours, minutes)\n",
    "\n",
    "```python\n",
    "env.run(until = 100)\n",
    "```"
   ]
  },
  {
   "cell_type": "markdown",
   "metadata": {},
   "source": [
    "#### Processes"
   ]
  },
  {
   "cell_type": "markdown",
   "metadata": {},
   "source": [
    "- processes interact with the environment and with each other via *events*\n",
    "- when a process yields an event, the process gets suspended - the process is resumed (triggered) when the event occurs\n",
    "\n",
    "<br>\n",
    "\n",
    "- processes are described by Python generators\n",
    "- during their lifetime, they create events and ```yield``` them in order to wait for them to be triggered\n",
    "- the event time can be tracked using ```env.now``` (returns a numerical value)\n",
    "\n",
    "<br>\n",
    "\n",
    "- *timeout events* ```env.timeout(<time>)``` are triggered after a certain amount of (simulated) time has passed\n",
    "- they allow a process to sleep (hold its state) for the given time\n",
    "\n",
    "```python  \n",
    "def the_process(env, start_time, index):\n",
    "    yield env.timeout(start_time)  # the process starts with a time delay\n",
    "    \n",
    "    print(f\"Process {index} starting at {env.now}\")\n",
    "    yield env.timeout(5)  # the process has a duration of 5\n",
    "    print(f\"Process {index} ending at {env.now}\")\n",
    "```\n",
    "\n",
    "- processes have to be added to the simulation:\n",
    "\n",
    "```python\n",
    "env.process(the_process(env, 0, 1))\n",
    "```\n",
    "\n",
    "<br>\n",
    "\n",
    "- When a process is interrupted a ```simpy.Interrupt``` exception is thrown\n",
    "- the exception can be caught, defining what needs to be done in case of an interruption"
   ]
  },
  {
   "cell_type": "markdown",
   "metadata": {},
   "source": [
    "#### Resources"
   ]
  },
  {
   "cell_type": "markdown",
   "metadata": {},
   "source": [
    "**(Classical) Resources**:\n",
    "\n",
    "- with classical resources (*Resources*), requests are handled first come first serve\n",
    "- requests that arrive while a resource is busy are added to a queue, the process can then only continue when the resource is available again\n",
    "\n",
    "<br>\n",
    "\n",
    "- a resource can deal with as many events at the same time as its ```capacity``` attribute allows\n",
    "- the ```count``` attribute returns the number of occupied resource units (hence ```<resource>.capacity - <resource>.count``` is number of free resource units)\n",
    "\n",
    "```python\n",
    "classical_resource = simpy.Resource(capacity=1)  # capacity must be positive integer (defaults to 1)\n",
    "\n",
    "\n",
    "def resource_process_alternative_1(env: simpy.Environment, resource: simpy.Resource, start_time: int, index: int):\n",
    "    yield env.timeout(start_time)\n",
    "    \n",
    "    res = resource.request()  # requesting uses 1 unit of the resource\n",
    "    yield res  # wait for access: only once 1 unit of the resource is available, the process can resume\n",
    "    \n",
    "    print(f\"Process {index} got resource at {env.now} ({resource.capacity - resource.count} of {resource.capacity} resource units are available from now on) - starting process\")\n",
    "    \n",
    "    yield env.timeout(5)\n",
    "    print(f\"Process {index} ending at {env.now} ({resource.capacity - resource.count} of {resource.capacity} resource units are available from now on)\") \n",
    "    \n",
    "    resource.release(res)  # the resource has to be released manually\n",
    "    \n",
    "\n",
    "\n",
    "def resource_process_alternative_2(env: simpy.Environment, resource: simpy.Resource, start_time: int, index: int):\n",
    "    yield env.timeout(start_time)\n",
    "    \n",
    "    with resource.request() as res:  # the request is automatically released when the request was created within a with statement\n",
    "        yield res  # either way, the request has to be yielded\n",
    "    \n",
    "        print(f\"Process {index} got resource at {env.now} ({resource.capacity - resource.count} of {resource.capacity} resource units are available from now on)  - starting process\")\n",
    "\n",
    "        yield env.timeout(5)\n",
    "        print(f\"Process {index} ending at {env.now} ({resource.capacity - resource.count} of {resource.capacity} resource units are available from now on)\")\n",
    "```\n",
    "\n",
    "<br>"
   ]
  },
  {
   "cell_type": "markdown",
   "metadata": {},
   "source": [
    "**Priority Resources**:\n",
    "\n",
    "- *Priority Resources* work similarly to Resources but consider the priority of a request\n",
    "- more important requests will gain access to the resource earlier than less important ones\n",
    "- priority is expressed by integer numbers (also negative) in the ```priority``` attribute of the request &rarr; smaller numbers mean a higher priority\n",
    "- this way, although a process requested the resource later than another one, it could use it earlier because its priority was higher\n",
    "\n",
    "```python\n",
    "classical_resource = simpy.Resource(capacity=1) \n",
    "\n",
    "\n",
    "def priority_resource_process_alternative_1(env: simpy.Environment, resource: simpy.Resource, start_time: int, index: int, prio: int):\n",
    "    ...  # same as before\n",
    "    \n",
    "    res = resource.request(priority=prio)\n",
    "    yield res\n",
    "    \n",
    "    ...  # same as before\n",
    "    \n",
    "    resource.release(res)  # the resource has to be released manually\n",
    "```\n",
    "\n",
    "<br>"
   ]
  },
  {
   "cell_type": "markdown",
   "metadata": {},
   "source": [
    "**Preemtive Resources**:\n",
    "\n",
    "- *Preemptive Resources* work similarly to PriorityResources but can also be interrupted by very important requests\n",
    "- unlike classical and priority resources, preemtive resources use a special \n",
    "\n",
    "```python\n",
    "res = simpy.PreemptiveResource(env, capacity=1)  # capacity must be positive integer (defaults to 1)\n",
    "```\n",
    "\n",
    "- the *Preemptive Resource* adds a preempt flag (that defaults to ```True```) to ```<resource>.request()```\n",
    "- a process can decide not to preempt another resource user by setting the flag to ```False``` \n",
    "- the implementation of *Preemptive Resources* values priorities higher than preemption &rarr; preempt requests are not allowed to cheat and jump over a higher prioritised request\n",
    "\n",
    "```python\n",
    "def preemt_resource_process_alternative_1(env: simpy.Environment, resource: simpy.Resource, start_time: int, index: int, prio: int, preemt: bool):\n",
    "    ...  # same as before\n",
    "    \n",
    "    res = resource.request(priority=prio, preemt=preemt)\n",
    "    print(f\"Process {index} requesting at {env.now}\")\n",
    "    \n",
    "    try:\n",
    "        yield req\n",
    "        print(f\"Process {index} got resource at {env.now} ({resource.capacity - resource.count} of {resource.capacity} resource units are available from now on) - starting process\")\n",
    "        \n",
    "        yield env.timeout(5)\n",
    "        print(f\"Process {index} ending normally at {env.now} ({resource.capacity - resource.count} of {resource.capacity} resource units are available from now on)\")\n",
    "    \n",
    "    except simpy.Interrupt:\n",
    "        print(f'Process {index} got preempted at {env.now}')\n",
    "    \n",
    "    finally:\n",
    "        resource.release(res)  # the resource has to be released manually\n",
    "```\n",
    "\n",
    "<br>"
   ]
  },
  {
   "cell_type": "markdown",
   "metadata": {
    "cell_id": "e204089bf738442d86ea2ea10a71d4a7",
    "deepnote_cell_type": "markdown"
   },
   "source": [
    "# Coding Concepts"
   ]
  },
  {
   "cell_type": "markdown",
   "metadata": {
    "cell_id": "8d0c6a487fd54cf7888a1a782f830729",
    "deepnote_cell_type": "markdown"
   },
   "source": [
    "## Development approach: Prototype and Patch"
   ]
  },
  {
   "cell_type": "markdown",
   "metadata": {
    "cell_id": "38c3b97007fc4fee9c1104513685fbde",
    "deepnote_cell_type": "markdown"
   },
   "source": [
    "1. First, write code that runs without errors but does not need to quite deliver the result you want it to deliver in the end\n",
    "2. In later steps of development, you add code to “patch” the outcome from the first prototype, so that it achieves what you want\n",
    "3. In a final stage, you can clean up the code so that it achieves the desired results efficiently."
   ]
  },
  {
   "cell_type": "markdown",
   "metadata": {
    "cell_id": "51cc11a2b0cc4dca933355cfbd379cac",
    "deepnote_cell_type": "markdown",
    "tags": []
   },
   "source": [
    "- consider listing individual steps as comments (everything after a ```#``` in a code block), so you don’t “forget” anything &rarr; consider using the ```TODO``` keyword\n",
    "- write the first lines and see whether the program is working - it does not need to do everything you want it to do yet!\n",
    "- add and change the existing code incrementally - use variables to hold intermediary values to be able to keep track of them\n",
    "- Test after each incremental step\n",
    "\n",
    "*Advantages*:\n",
    "- testing after incremental steps shows where an error is likely to come from\n",
    "- writing code incrementally reduces large and complex tasks into manageable steps\n",
    "\n",
    "*Disadvantages*:\n",
    "- after you have written a working program incrementally, consider reworking it to avoid unnecessary steps or to improve computational efficiency"
   ]
  },
  {
   "cell_type": "markdown",
   "metadata": {
    "cell_id": "f032e2da791b4778bf5e933dd83fc090",
    "deepnote_cell_type": "markdown"
   },
   "source": [
    "## Testing and Debugging"
   ]
  },
  {
   "cell_type": "markdown",
   "metadata": {
    "cell_id": "d31a8ebf324643a99ec6266cf8b84fe6",
    "deepnote_cell_type": "markdown"
   },
   "source": [
    "### System validation"
   ]
  },
  {
   "cell_type": "markdown",
   "metadata": {
    "cell_id": "d31a8ebf324643a99ec6266cf8b84fe6",
    "deepnote_cell_type": "markdown"
   },
   "source": [
    "- aims to ensure system reliability, recognise flaws in design or code, and to correct them.\n",
    "- Professional projects allocate the same amount of time to testing as to implementing (50-50-rule)\n",
    "- Difficult decision: When to stop testing?\n",
    "    - Only the most creative (destructive) personnel should be testing\n",
    "    - Programmers should never test their own code\n",
    "    - Test cases should be developed by well-trained users during or after the definition of requirements\n",
    "    - Testing can show the presence of bugs, but never show their absence (E.W. Dijkstra)"
   ]
  },
  {
   "cell_type": "markdown",
   "metadata": {
    "cell_id": "d31a8ebf324643a99ec6266cf8b84fe6",
    "deepnote_cell_type": "markdown"
   },
   "source": [
    "### Formal Structure"
   ]
  },
  {
   "cell_type": "markdown",
   "metadata": {
    "cell_id": "d31a8ebf324643a99ec6266cf8b84fe6",
    "deepnote_cell_type": "markdown"
   },
   "source": [
    "1. *Test Case Identifier*: can be a number or a unique name\n",
    "2. *Test Case Description*: so that whoever does the testing knows what the test is for\n",
    "3. *Test Data*: needs to allow for efficient testing but also include special cases\n",
    "4. *Expected Result*: comparing expected and actual outcomes"
   ]
  },
  {
   "cell_type": "markdown",
   "metadata": {
    "cell_id": "d31a8ebf324643a99ec6266cf8b84fe6",
    "deepnote_cell_type": "markdown"
   },
   "source": [
    "### Test-Driven Design"
   ]
  },
  {
   "cell_type": "markdown",
   "metadata": {
    "cell_id": "d31a8ebf324643a99ec6266cf8b84fe6",
    "deepnote_cell_type": "markdown"
   },
   "source": [
    "1. Write the test of the desired functionality.\n",
    "2. Run it and confirm that it fails as expected.\n",
    "3. Then amend the code so that the test will succeed.\n",
    "\n",
    "- Do nothing until you have written a test for it.\n",
    "- Relies on functional, black-box, end-to-end, acceptance tests: What the user expects to see.\n",
    "- Relies on automated testing for efficiency."
   ]
  },
  {
   "cell_type": "markdown",
   "metadata": {
    "cell_id": "d31a8ebf324643a99ec6266cf8b84fe6",
    "deepnote_cell_type": "markdown"
   },
   "source": [
    "### Types of Bugs"
   ]
  },
  {
   "cell_type": "markdown",
   "metadata": {
    "cell_id": "d31a8ebf324643a99ec6266cf8b84fe6",
    "deepnote_cell_type": "markdown"
   },
   "source": [
    "- *Specification* – wrong model: e.g., incorrect formula\n",
    "- *Omission* – model misses something: e.g., did not take learning into account\n",
    "- *Data* – faulty parameters: e.g., mis-estimated willingness to pay\n",
    "- *Syntactical* – wrong format of statement: e.g., miss „;“ at the end of a command in Java\n",
    "- *Logical* – wrong conditioning: e.g., created an endless loop"
   ]
  },
  {
   "cell_type": "markdown",
   "metadata": {
    "cell_id": "d31a8ebf324643a99ec6266cf8b84fe6",
    "deepnote_cell_type": "markdown"
   },
   "source": [
    "### Types of Errors"
   ]
  },
  {
   "cell_type": "markdown",
   "metadata": {
    "cell_id": "d31a8ebf324643a99ec6266cf8b84fe6",
    "deepnote_cell_type": "markdown"
   },
   "source": [
    "*Syntax error*:\n",
    "- problems in the structure of a program (comparable to spelling and grammatical errors in writing)\n",
    "- shows up as soon as trying to run the program when the Python interpreter encounters code that it cannot understand\n",
    "- E.g.: ```number = 8+2)```\n",
    "\n",
    "*Runtime error*:\n",
    "- code is syntactically correct but tries things that are not allowed or defined\n",
    "- also called exception\n",
    "- error does not appear until after the program has started running\n",
    "- can be caught by Try-Catch blocks\n",
    "\n",
    "*Semantic error*:\n",
    "- related to meaning/logic of the code\n",
    "- program runs without generating error messages but does not compute the right values\n",
    "- does not do “the right thing”\n",
    "- can be tricky to find – needs meaningful test cases and plausibility checks"
   ]
  },
  {
   "cell_type": "markdown",
   "metadata": {
    "cell_id": "d31a8ebf324643a99ec6266cf8b84fe6",
    "deepnote_cell_type": "markdown"
   },
   "source": [
    "#### Errors when a function is not working"
   ]
  },
  {
   "cell_type": "markdown",
   "metadata": {
    "cell_id": "d31a8ebf324643a99ec6266cf8b84fe6",
    "deepnote_cell_type": "markdown"
   },
   "source": [
    "- Something is wrong with the arguments the function receives\n",
    "- Something is wrong within the function\n",
    "- Something is wrong with the return value or the way it is being used\n",
    "\n",
    "&rarr; Insert print statements in relevant areas of code\\\n",
    "&rarr; Insert checks (if statements) to ensure valid values"
   ]
  },
  {
   "cell_type": "markdown",
   "metadata": {
    "cell_id": "d31a8ebf324643a99ec6266cf8b84fe6",
    "deepnote_cell_type": "markdown"
   },
   "source": [
    "#### Errors from copying and aliasing"
   ]
  },
  {
   "cell_type": "markdown",
   "metadata": {
    "cell_id": "d31a8ebf324643a99ec6266cf8b84fe6",
    "deepnote_cell_type": "markdown"
   },
   "source": [
    "- recognise aliased structures by printing its memory adress ```print(hex(id(<var>)))```\n",
    "- When you want to adjust a list (by removing items or sorting it), it can make sense to store a copy to not lose the original information (using the ```copy()``` function)"
   ]
  },
  {
   "cell_type": "markdown",
   "metadata": {
    "cell_id": "d31a8ebf324643a99ec6266cf8b84fe6",
    "deepnote_cell_type": "markdown"
   },
   "source": [
    "#### Errors when reading and writing files"
   ]
  },
  {
   "cell_type": "markdown",
   "metadata": {
    "cell_id": "d31a8ebf324643a99ec6266cf8b84fe6",
    "deepnote_cell_type": "markdown"
   },
   "source": [
    "- can result from whitespace, as spaces, tabs and newlines are normally invisible\n",
    "- the function ```repr(<var>)``` can help, as it represents whitespace characters with the backslash sequences that introduces them in strings"
   ]
  },
  {
   "cell_type": "markdown",
   "metadata": {
    "cell_id": "d31a8ebf324643a99ec6266cf8b84fe6",
    "deepnote_cell_type": "markdown"
   },
   "source": [
    "#### Avoiding errors when using objects"
   ]
  },
  {
   "cell_type": "markdown",
   "metadata": {
    "cell_id": "d31a8ebf324643a99ec6266cf8b84fe6",
    "deepnote_cell_type": "markdown"
   },
   "source": [
    "- use ```isinstance(<obj>, <class>)``` to check whether objectname is an instance of classname or to check for the data type stored in a variable\n",
    "- ```hasattr(<obj>, <attribute name>)``` checks whether objectname has an attribute termed attributename"
   ]
  },
  {
   "cell_type": "markdown",
   "metadata": {
    "cell_id": "d31a8ebf324643a99ec6266cf8b84fe6",
    "deepnote_cell_type": "markdown"
   },
   "source": [
    "#### Helpful information to be found in error messages"
   ]
  },
  {
   "cell_type": "markdown",
   "metadata": {
    "cell_id": "d31a8ebf324643a99ec6266cf8b84fe6",
    "deepnote_cell_type": "markdown"
   },
   "source": [
    "Where did the error occur?\n",
    "- Which script file?\n",
    "- Which module?\n",
    "- Which line?\n",
    "\n",
    "What type of error was it?\n",
    "\n",
    "&rarr; read them carefully but do not assume that they tell you everything or that everything they tell you is correct"
   ]
  },
  {
   "cell_type": "markdown",
   "metadata": {
    "cell_id": "d31a8ebf324643a99ec6266cf8b84fe6",
    "deepnote_cell_type": "markdown"
   },
   "source": [
    "### Tips on Debugging"
   ]
  },
  {
   "cell_type": "markdown",
   "metadata": {
    "cell_id": "d31a8ebf324643a99ec6266cf8b84fe6",
    "deepnote_cell_type": "markdown"
   },
   "source": [
    "1. **Find ways to duplicate** the bug\n",
    "    - Find a parameter setting where the bug occurs every time\n",
    "    - Fix random seeds to avoid variation\n",
    "\n",
    "\n",
    "2. **Describe** the bug\n",
    "    - The act of stating the problem often brings its source to surface\n",
    "\n",
    "\n",
    "3. Always assume it is a bug **in your code**\n",
    "    - It is not a marvellous new finding\n",
    "    - It is not a problem with the language or the framework\n",
    "\n",
    "\n",
    "4. **Divide and conquer**\n",
    "    - Find out which parts of the program are not buggy\n",
    "    - Build the simplest model and setting that still duplicates the error\n",
    "    \n",
    "\n",
    "5. **Be creative**\n",
    "    - Try out alternative ways of doing what you want to do, not to solve, but to eliminate the bug\n",
    "\n",
    "\n",
    "6. **Leverage tools**\n",
    "    - Use the environment’s step-by-step features, variable monitors, stop points etc.\n",
    "\n",
    "\n",
    "7. Take notes and **go step by step**\n",
    "    - Keep track of variable values \n",
    "    - Close the doors and shut out every distraction-\n",
    "    - If it helps, do it in pairs\n",
    "\n",
    "\n",
    "8. **Verify** that the bug is fixed\n",
    "    - Try out whether you find new settings to bring the bug back"
   ]
  },
  {
   "cell_type": "markdown",
   "metadata": {
    "cell_id": "d31a8ebf324643a99ec6266cf8b84fe6",
    "deepnote_cell_type": "markdown"
   },
   "source": [
    "### Things to try when debugging"
   ]
  },
  {
   "cell_type": "markdown",
   "metadata": {
    "cell_id": "d31a8ebf324643a99ec6266cf8b84fe6",
    "deepnote_cell_type": "markdown"
   },
   "source": [
    "- *Reading*: read the code back to yourself\n",
    "- *Running*: make experiments with different versions of the code\n",
    "- *Ruminating*: What kind of error? What is information from the error message? What did you do before the error started to appear?\n",
    "- *Rubberducking*: Explain the problem to someone else – or to a rubber duck.\n",
    "- *Retreating*: Undo recent changes until the code is working again and then start rebuilding\n",
    "\n",
    "<br>\n",
    "\n",
    "- use small test cases to avoid long run times\n",
    "- write checks that summarise the data, e.g. instead of printing out the list, try checking for the number of items to see whether it is complete\n",
    "- Write checks in the code\n",
    "    - “sanity check”: check for values that should never occur\n",
    "    - “consistency check”: compute the same result through two ways and check whether the results actually match\n",
    "- Format your print statements to let you quickly see if something is wrong"
   ]
  }
 ],
 "metadata": {
  "deepnote": {},
  "deepnote_execution_queue": [],
  "deepnote_full_width": true,
  "deepnote_notebook_id": "36da36b15de3485abf283e49a638a290",
  "deepnote_persisted_session": {
   "createdAt": "2023-01-05T20:15:14.326Z"
  },
  "kernelspec": {
   "display_name": "Python 3 (ipykernel)",
   "language": "python",
   "name": "python3"
  },
  "language_info": {
   "codemirror_mode": {
    "name": "ipython",
    "version": 3
   },
   "file_extension": ".py",
   "mimetype": "text/x-python",
   "name": "python",
   "nbconvert_exporter": "python",
   "pygments_lexer": "ipython3",
   "version": "3.11.1"
  },
  "toc-autonumbering": true,
  "toc-showcode": false,
  "toc-showmarkdowntxt": false,
  "toc-showtags": false
 },
 "nbformat": 4,
 "nbformat_minor": 4
}
