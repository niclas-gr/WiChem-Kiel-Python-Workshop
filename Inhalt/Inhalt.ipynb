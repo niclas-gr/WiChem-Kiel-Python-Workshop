{
 "cells": [
  {
   "cell_type": "markdown",
   "metadata": {
    "cell_id": "e7bd87efffe34ad29b5336b9689ffaf6",
    "deepnote_cell_type": "markdown",
    "tags": []
   },
   "source": [
    "# The Programming Language Python"
   ]
  },
  {
   "cell_type": "markdown",
   "metadata": {
    "cell_id": "6267db27c3ec4fa0bec4e52bad086ce2",
    "deepnote_cell_type": "markdown"
   },
   "source": [
    "## Output"
   ]
  },
  {
   "cell_type": "markdown",
   "metadata": {
    "cell_id": "2f01365a578b4f9d9319c9ce15e20613",
    "deepnote_cell_type": "markdown",
    "tags": []
   },
   "source": [
    "- the upper, grey-shaded part of a \"code cell\" contains the input (meaning the code that you write) while the lower, white-shaded part contains the output\n",
    "- in addition to code cells, this \"notebook\" also contains text cells (like this one)\n",
    "\n",
    "<br>\n",
    "\n",
    "- it is possible to generate output from code cells in *interactive mode* where only the last output is printed to the output field \n",
    "- to output more than one line the *script mode* using ```print(<message>)``` function must be used &rarr; accepts any kind of printable output, e.g. strings, lists, numbers"
   ]
  },
  {
   "cell_type": "code",
   "execution_count": null,
   "metadata": {
    "cell_id": "97248c62b78f47fbbd036963b1096749",
    "deepnote_cell_type": "code",
    "deepnote_to_be_reexecuted": false,
    "execution_millis": 41,
    "execution_start": 1671710044505,
    "source_hash": "329b73"
   },
   "outputs": [],
   "source": [
    "\"Moin Kiel!\" # this isn't printed\n",
    "\"Hello World!\""
   ]
  },
  {
   "cell_type": "code",
   "execution_count": null,
   "metadata": {
    "cell_id": "4a8c8718148749c5ba1a3e811c806545",
    "deepnote_cell_type": "code",
    "deepnote_to_be_reexecuted": false,
    "execution_millis": 2,
    "execution_start": 1671710325007,
    "source_hash": "1012a0f7"
   },
   "outputs": [],
   "source": [
    "print(\"Moin Kiel!\")\n",
    "print(\"Hello World!\")  # the famous \"Hello World\" program"
   ]
  },
  {
   "cell_type": "markdown",
   "metadata": {
    "cell_id": "fa03f7404226464aaf4973e2ea614cce",
    "deepnote_cell_type": "markdown"
   },
   "source": [
    "## Variables"
   ]
  },
  {
   "cell_type": "markdown",
   "metadata": {
    "cell_id": "0d801b4b210b475e9f5a01727ee81550",
    "deepnote_cell_type": "markdown",
    "tags": []
   },
   "source": [
    "### Definition"
   ]
  },
  {
   "cell_type": "markdown",
   "metadata": {
    "cell_id": "5b3b3e516b7442a5b7321f32076e1ba7",
    "deepnote_cell_type": "markdown"
   },
   "source": [
    "- are symbolic names for addressing an area of the main memory &rarr; placeholders used to store values\n",
    "- have *name*, *value*, and *data type* &rarr; variable is *declared* and value is *assigned*"
   ]
  },
  {
   "cell_type": "markdown",
   "metadata": {
    "cell_id": "374846f544cd45ea95b9238282e3fc4e",
    "deepnote_cell_type": "markdown"
   },
   "source": [
    "#### Types"
   ]
  },
  {
   "cell_type": "markdown",
   "metadata": {},
   "source": [
    "- data type of variable determines\n",
    "    - what values variable can hold,\n",
    "    - how variable is stored in main memory of computer\n",
    "- type of variable does not have to be defined like in other programming languages (e.g. Java: ```int mynumber;```) &rarr; type is deducted from value of variable\n",
    "- type ran be read using the ```type(<var>)``` function"
   ]
  },
  {
   "cell_type": "code",
   "execution_count": null,
   "metadata": {
    "cell_id": "f21f562bd7a2464f902c084737c5a590",
    "deepnote_cell_type": "code"
   },
   "outputs": [],
   "source": [
    "# str (string): \"Hi\"\n",
    "print(type(\"Hi\"))\n",
    "\n",
    "# int (integer -> whole number): 5\n",
    "print(type(5))\n",
    "\n",
    "# float (floating-point number -> numbers with decimal point): 3.141\n",
    "print(type(3.141))\n",
    "\n",
    "# bool (boolean -> True or False): True\n",
    "print(type(True))"
   ]
  },
  {
   "cell_type": "markdown",
   "metadata": {
    "cell_id": "912f23941f8b4d7ca6b223daed936cb1",
    "deepnote_cell_type": "markdown"
   },
   "source": [
    "#### Illegal Names"
   ]
  },
  {
   "cell_type": "markdown",
   "metadata": {},
   "source": [
    "Some variable names are not allowed. Such are:\n",
    "- starting with a number\n",
    "- using illegal characters like '@'\n",
    "- keywords like ```for```"
   ]
  },
  {
   "cell_type": "code",
   "execution_count": null,
   "metadata": {
    "cell_id": "65f01b7a91c8420b9c797a5fd9407c6a",
    "deepnote_cell_type": "code"
   },
   "outputs": [],
   "source": [
    "1st_illegal_variable = 1"
   ]
  },
  {
   "cell_type": "code",
   "execution_count": null,
   "metadata": {
    "cell_id": "a568fbdf0e5d4ba19f7d3e68a6fdee88",
    "deepnote_cell_type": "code"
   },
   "outputs": [],
   "source": [
    "illeg@l_variable = 1"
   ]
  },
  {
   "cell_type": "code",
   "execution_count": null,
   "metadata": {
    "cell_id": "6de99ef5abf741f984e8987594c386a4",
    "deepnote_cell_type": "code"
   },
   "outputs": [],
   "source": [
    "for = 1"
   ]
  },
  {
   "cell_type": "markdown",
   "metadata": {
    "cell_id": "52a889f4b53247dd90189521974cfbab",
    "deepnote_cell_type": "markdown"
   },
   "source": [
    "#### Case sensitivity"
   ]
  },
  {
   "cell_type": "markdown",
   "metadata": {},
   "source": [
    "- Python variable names are case sensitive"
   ]
  },
  {
   "cell_type": "code",
   "execution_count": null,
   "metadata": {
    "cell_id": "f91d0e79bd234e1e8aa5ba04702750b7",
    "deepnote_cell_type": "code"
   },
   "outputs": [],
   "source": [
    "Bob = \"Bob\"\n",
    "bob = \"bob\"\n",
    "\n",
    "print(Bob == bob) # is 'bob' the same as 'Bob'?"
   ]
  },
  {
   "cell_type": "markdown",
   "metadata": {
    "cell_id": "f3cf8118c9064554b330f04fb799a9a7",
    "deepnote_cell_type": "markdown"
   },
   "source": [
    "### Typecasting"
   ]
  },
  {
   "cell_type": "markdown",
   "metadata": {
    "cell_id": "ffd12820737944cb973bf52ccb2d9b07",
    "deepnote_cell_type": "markdown"
   },
   "source": [
    "- process of converting type of variable - all build-in types in Python can be found [here](https://www.w3schools.com/python/python_datatypes.asp)\n",
    "- done by enclosing variable inside variable type function\n",
    "    - ```str(<var>)``` &rarr; conversion to string\n",
    "    - ```int(<var>)``` &rarr; conversion to integer\n",
    "    - ```float(<var>)``` &rarr; conversion to floating-point\n",
    "    - ```bool(<var>)``` &rarr; conversion to boolean\n",
    "\n",
    "<br/>\n",
    "\n",
    "- sometimes necessary as certain operation can only work with certain variable types &rarr; e.g.only strings can be concatenated, not strings and integers"
   ]
  },
  {
   "cell_type": "code",
   "execution_count": null,
   "metadata": {
    "cell_id": "c67703e0726044ea83091a53855b3dfb",
    "deepnote_cell_type": "code"
   },
   "outputs": [],
   "source": [
    "\"This is number\" + 3"
   ]
  },
  {
   "cell_type": "code",
   "execution_count": null,
   "metadata": {
    "cell_id": "d13467b447684158a8c51a2761946d39",
    "deepnote_cell_type": "code"
   },
   "outputs": [],
   "source": [
    "\"This is number \" + str(3)"
   ]
  },
  {
   "cell_type": "markdown",
   "metadata": {
    "cell_id": "34e3203d8f854f5ba29db0c1195f5db2",
    "deepnote_cell_type": "markdown"
   },
   "source": [
    "### User input"
   ]
  },
  {
   "cell_type": "markdown",
   "metadata": {
    "cell_id": "beeaccdb8aad405ca866e0962cfa1376",
    "deepnote_cell_type": "markdown"
   },
   "source": [
    "Variables values can be assigned by user input:\n",
    "\n",
    "- input into program can be provided using the ```input(<message>)``` function\n",
    "- input is string datatype\n",
    "- input can be assigned to variable: ```var = input(<message>)```"
   ]
  },
  {
   "cell_type": "code",
   "execution_count": null,
   "metadata": {
    "cell_id": "dacfed7cb8a64e859b26805ca2fddd9c",
    "deepnote_cell_type": "code"
   },
   "outputs": [],
   "source": [
    "input_variable = input(\"What is your name?\")\n",
    "\n",
    "print(input_variable)\n",
    "print(type(input_variable))  # str-type"
   ]
  },
  {
   "cell_type": "markdown",
   "metadata": {
    "cell_id": "ce68d4f2b1cc4f4e9a8e5d7e23a67f07",
    "deepnote_cell_type": "markdown"
   },
   "source": [
    "## Operators"
   ]
  },
  {
   "cell_type": "markdown",
   "metadata": {
    "cell_id": "5375d65f411047e1978dd720ee286b45",
    "deepnote_cell_type": "markdown"
   },
   "source": [
    "### Mathematical operators"
   ]
  },
  {
   "cell_type": "markdown",
   "metadata": {},
   "source": [
    "- to execute numerical calculations"
   ]
  },
  {
   "cell_type": "code",
   "execution_count": null,
   "metadata": {
    "cell_id": "3a416c79f299487093816b76c6798b32",
    "deepnote_cell_type": "code"
   },
   "outputs": [],
   "source": [
    "4 + 2  # Addition"
   ]
  },
  {
   "cell_type": "code",
   "execution_count": null,
   "metadata": {
    "cell_id": "8ffaa55c24104f95943725498ebc70ac",
    "deepnote_cell_type": "code"
   },
   "outputs": [],
   "source": [
    "4 - 2  # Subtraction"
   ]
  },
  {
   "cell_type": "code",
   "execution_count": null,
   "metadata": {
    "cell_id": "5511b65ded134a58b53d23e3c7dcb058",
    "deepnote_cell_type": "code"
   },
   "outputs": [],
   "source": [
    "4 * 2  # Multiplication"
   ]
  },
  {
   "cell_type": "code",
   "execution_count": null,
   "metadata": {
    "cell_id": "a2b7740f181246778c7ccc78c69c9119",
    "deepnote_cell_type": "code"
   },
   "outputs": [],
   "source": [
    "9 ** 4  # Exponent"
   ]
  },
  {
   "cell_type": "code",
   "execution_count": null,
   "metadata": {
    "cell_id": "4b3e49af927f4719b0fcce0d30d61b61",
    "deepnote_cell_type": "code"
   },
   "outputs": [],
   "source": [
    "9 / 4  # Division: creates floating-point number"
   ]
  },
  {
   "cell_type": "code",
   "execution_count": null,
   "metadata": {
    "cell_id": "95071a31ddd2457e971eede642d99af7",
    "deepnote_cell_type": "code"
   },
   "outputs": [],
   "source": [
    "9 // 4  # Integer Division: Division with an integer result. The remainder is of no interest."
   ]
  },
  {
   "cell_type": "code",
   "execution_count": null,
   "metadata": {
    "cell_id": "305bcc92b99f4a73b8c2e77f768f4d6f",
    "deepnote_cell_type": "code"
   },
   "outputs": [],
   "source": [
    "9 % 4  # Modulus: Calculation of remainder of an integer division?"
   ]
  },
  {
   "cell_type": "markdown",
   "metadata": {
    "cell_id": "6211827c5c33402b8a596ed90b13b27e",
    "deepnote_cell_type": "markdown"
   },
   "source": [
    "### Assignment (in-place) operators"
   ]
  },
  {
   "cell_type": "markdown",
   "metadata": {
    "cell_id": "e88b5e9a72de413fbef8dc1b92714024",
    "deepnote_cell_type": "markdown"
   },
   "source": [
    "- mathematical operators to update existing variable values\n",
    "- generate another number\n",
    "- an overview of (additional) in-place operators can be found [in the official Python documentation](https://docs.python.org/3/library/operator.html#in-place-operators)"
   ]
  },
  {
   "cell_type": "code",
   "execution_count": null,
   "metadata": {
    "cell_id": "030715829c1740b9a29823cc16742b25",
    "deepnote_cell_type": "code",
    "deepnote_to_be_reexecuted": false,
    "execution_millis": 3,
    "execution_start": 1671710678319,
    "source_hash": "b1db7905"
   },
   "outputs": [],
   "source": [
    "n = 10\n",
    "n += 2  # Addition: replaces n = n + 2\n",
    "\n",
    "print(n)\n",
    "\n",
    "n = \"Hello\"  # with strings this method only works for \"+\" and \"+=\" - here, it is used to concatenate strings\n",
    "n += \" World\"\n",
    "\n",
    "print(n)"
   ]
  },
  {
   "cell_type": "code",
   "execution_count": null,
   "metadata": {
    "cell_id": "d1cace7979c14b98a20c81a438b663e6",
    "deepnote_cell_type": "code"
   },
   "outputs": [],
   "source": [
    "n = 10\n",
    "n -= 2  # Subtraction\n",
    "\n",
    "print(n)"
   ]
  },
  {
   "cell_type": "code",
   "execution_count": null,
   "metadata": {
    "cell_id": "ac4970912ff24a71aa7ad12f8d199c89",
    "deepnote_cell_type": "code"
   },
   "outputs": [],
   "source": [
    "n = 10\n",
    "n *= 2  # Multiplication\n",
    "\n",
    "print(n)"
   ]
  },
  {
   "cell_type": "code",
   "execution_count": null,
   "metadata": {
    "cell_id": "fdb655f1413a42eb8dbf327b63854fb8",
    "deepnote_cell_type": "code"
   },
   "outputs": [],
   "source": [
    "n = 10\n",
    "n **= 2  # Power\n",
    "\n",
    "print(n)"
   ]
  },
  {
   "cell_type": "code",
   "execution_count": null,
   "metadata": {
    "cell_id": "705e8f2135114bb8a95939b11e32b3fa",
    "deepnote_cell_type": "code"
   },
   "outputs": [],
   "source": [
    "n = 10\n",
    "n /= 2  # Division\n",
    "\n",
    "print(n)"
   ]
  },
  {
   "cell_type": "code",
   "execution_count": null,
   "metadata": {
    "cell_id": "9fbca331a2dd4acf9036c547e6a26770",
    "deepnote_cell_type": "code"
   },
   "outputs": [],
   "source": [
    "n = 10\n",
    "n //= 2  # Integer Division\n",
    "\n",
    "print(n)"
   ]
  },
  {
   "cell_type": "code",
   "execution_count": null,
   "metadata": {
    "cell_id": "aafddedb42344884959ef91e3c4cea09",
    "deepnote_cell_type": "code"
   },
   "outputs": [],
   "source": [
    "n = 10\n",
    "n %= 2  # Modulus\n",
    "\n",
    "print(n)"
   ]
  },
  {
   "cell_type": "markdown",
   "metadata": {
    "cell_id": "12a32f1b0ac0452e9ca60c5f4fe73567",
    "deepnote_cell_type": "markdown"
   },
   "source": [
    "### Relational operators"
   ]
  },
  {
   "cell_type": "markdown",
   "metadata": {
    "cell_id": "808ae93e9fcb46e5bb68f06ece66cc5e",
    "deepnote_cell_type": "markdown",
    "tags": []
   },
   "source": [
    "- generate a boolean value\n",
    "- can also be chained"
   ]
  },
  {
   "cell_type": "code",
   "execution_count": null,
   "metadata": {
    "cell_id": "f204e45e312c4930b6ee36ee0bfc99bb",
    "deepnote_cell_type": "code",
    "deepnote_to_be_reexecuted": false,
    "execution_millis": 6,
    "execution_start": 1671714825650,
    "source_hash": "e8280827"
   },
   "outputs": [],
   "source": [
    "print(4 > 2)  # greater: also greater-equal '>=', smaller '<', and smaller-equal '<='\n",
    "print(4 > 2 > 0)  # this is equal to '4 > 2 and 2 > 0' -> this chaining principle also works for other operators"
   ]
  },
  {
   "cell_type": "code",
   "execution_count": null,
   "metadata": {
    "cell_id": "ba8533de630141789ef50a42d5b76341",
    "deepnote_cell_type": "code",
    "deepnote_to_be_reexecuted": false,
    "execution_millis": 4,
    "execution_start": 1671712461011,
    "source_hash": "c5667a89"
   },
   "outputs": [],
   "source": [
    "my_int_1 = 4\n",
    "my_int_2 = 4\n",
    "my_int_3 = 2\n",
    "\n",
    "my_float_1 = 4.0\n",
    "my_float_2 = 4.0\n",
    "my_float_3 = 2.0\n",
    "\n",
    "# comparing ints and floats:\n",
    "print(my_int_1 == my_int_2)\n",
    "print(my_float_1 == my_float_2)\n",
    "print()\n",
    "\n",
    "print(my_int_1 == my_float_1)\n",
    "print(my_int_3 == my_float_1)"
   ]
  },
  {
   "cell_type": "code",
   "execution_count": null,
   "metadata": {
    "cell_id": "ba8533de630141789ef50a42d5b76341",
    "deepnote_cell_type": "code",
    "deepnote_to_be_reexecuted": false,
    "execution_millis": 4,
    "execution_start": 1671712461011,
    "source_hash": "c5667a89"
   },
   "outputs": [],
   "source": [
    "# equality vs being the same:\n",
    "print(my_int_1 is my_int_2)  # comparison for being same only works with ints, not with floats\n",
    "print(hex(id(my_int_1)), hex(id(my_int_2)))\n",
    "print()\n",
    "\n",
    "print(my_float_1 is my_float_2)\n",
    "print(hex(id(my_float_1)), hex(id(my_float_2)))"
   ]
  },
  {
   "cell_type": "code",
   "execution_count": null,
   "metadata": {
    "cell_id": "45ef8daa8dcd414aa966ac3fddafb76a",
    "deepnote_cell_type": "code"
   },
   "outputs": [],
   "source": [
    "4 != 2  # unequal"
   ]
  },
  {
   "cell_type": "markdown",
   "metadata": {
    "cell_id": "72a9599df4614c8c92ad85153e2c370f",
    "deepnote_cell_type": "markdown"
   },
   "source": [
    "### Logical Operators"
   ]
  },
  {
   "cell_type": "code",
   "execution_count": null,
   "metadata": {
    "cell_id": "9f496e94d4554b7c99926c32a90aa524",
    "deepnote_cell_type": "code"
   },
   "outputs": [],
   "source": [
    "not True  # inversion with 'not' (NOT)"
   ]
  },
  {
   "cell_type": "code",
   "execution_count": null,
   "metadata": {
    "cell_id": "46d3caacc44245f3be62861e6a42d14a",
    "deepnote_cell_type": "code"
   },
   "outputs": [],
   "source": [
    "# combination with 'and' - both conditions must be fulfilled (AND):\n",
    "\n",
    "print(True and True)\n",
    "print(False and True)\n",
    "print(False and False)"
   ]
  },
  {
   "cell_type": "code",
   "execution_count": null,
   "metadata": {
    "cell_id": "f805a17050044d8197d55c268116034c",
    "deepnote_cell_type": "code"
   },
   "outputs": [],
   "source": [
    "# exclusion with 'or' - one or both conditions must be met (OR):\n",
    "\n",
    "print(True or True)\n",
    "print(False or True)\n",
    "print(False or False)"
   ]
  },
  {
   "cell_type": "code",
   "execution_count": null,
   "metadata": {
    "cell_id": "24fe076dcc0b4e948fe5b15145ef6efe",
    "deepnote_cell_type": "code"
   },
   "outputs": [],
   "source": [
    "# exclusion with '^' - exactly one condition must be fulfilled (XOR):\n",
    "\n",
    "print(True ^ True)\n",
    "print(False ^ True)\n",
    "print(False ^ False)"
   ]
  },
  {
   "cell_type": "markdown",
   "metadata": {
    "cell_id": "e2ec5bd4dc924cd0a2106b21005a06b6",
    "deepnote_cell_type": "markdown",
    "tags": []
   },
   "source": [
    "- booleans are a subclass of integers, ```True``` is equivalent to ```1``` and ```False``` equivalent to ```0``` \n",
    "- therefore, ```True``` and ```False``` can be calculated with like integers "
   ]
  },
  {
   "cell_type": "code",
   "execution_count": null,
   "metadata": {
    "cell_id": "0fc26ff1c0ba4462a64bab4b624bf514",
    "deepnote_cell_type": "code",
    "deepnote_to_be_reexecuted": false,
    "execution_millis": 2,
    "execution_start": 1671711248163,
    "source_hash": "61ec47cc",
    "tags": []
   },
   "outputs": [],
   "source": [
    "print(int(True))\n",
    "print(int(False))"
   ]
  },
  {
   "cell_type": "code",
   "execution_count": null,
   "metadata": {
    "cell_id": "690a672ad96544e0a595471f175bfcf2",
    "deepnote_cell_type": "code",
    "deepnote_to_be_reexecuted": false,
    "execution_millis": 2,
    "execution_start": 1671711318639,
    "source_hash": "3fc4f261",
    "tags": []
   },
   "outputs": [],
   "source": [
    "print(True + True)\n",
    "print(True * 10)"
   ]
  },
  {
   "cell_type": "markdown",
   "metadata": {},
   "source": [
    "- with typecasting, emtpy objects (like strings) and ```None``` result in ```False```, all others in ```True```"
   ]
  },
  {
   "cell_type": "code",
   "execution_count": null,
   "metadata": {
    "cell_id": "e8d2711085ac46758c0e1c346b73f03e",
    "deepnote_cell_type": "code",
    "deepnote_to_be_reexecuted": false,
    "execution_millis": 4,
    "execution_start": 1671711519654,
    "source_hash": "6295dd3d",
    "tags": []
   },
   "outputs": [],
   "source": [
    "print(bool(\"Moin\"))\n",
    "print(bool(\"\"))  # besides empty strings same result for empty lists, tuples, sets, dicts, None, ...\n",
    "print(bool(None))"
   ]
  },
  {
   "cell_type": "markdown",
   "metadata": {
    "cell_id": "73db06eb62cb4c4ea63629a9c6d96b79",
    "deepnote_cell_type": "markdown"
   },
   "source": [
    "## Strings"
   ]
  },
  {
   "cell_type": "markdown",
   "metadata": {},
   "source": [
    "### String formatting & concatenation"
   ]
  },
  {
   "cell_type": "markdown",
   "metadata": {
    "cell_id": "6395247535b941d4929b595bdc45f550",
    "deepnote_cell_type": "markdown"
   },
   "source": [
    "- can be nested by alternate usage of single quotes ```\"``` and ```'```\n",
    "- can be concatenated using different methods. f-strings (with leading ```f\"```) are the most elegant method, so please don't use the ```format``` and ```%``` methods!"
   ]
  },
  {
   "cell_type": "code",
   "execution_count": null,
   "metadata": {
    "cell_id": "dabd863f2bd84506a4abf746ab46bda0",
    "deepnote_cell_type": "code"
   },
   "outputs": [],
   "source": [
    "print(\"This is a string using \" + str(3) + \" and \" + str(4) + \" as numbers.\")  # using +-signs\n",
    "print()"
   ]
  },
  {
   "cell_type": "code",
   "execution_count": null,
   "metadata": {
    "collapsed": false,
    "jupyter": {
     "outputs_hidden": false
    }
   },
   "outputs": [],
   "source": [
    "print(\"This is a string using\", str(3), \"and\", str(4), \"as numbers.\")  # using commas -> adds a space in between\n",
    "print()"
   ]
  },
  {
   "cell_type": "code",
   "execution_count": null,
   "metadata": {
    "collapsed": false,
    "jupyter": {
     "outputs_hidden": false
    }
   },
   "outputs": [],
   "source": [
    "print(\"This is a string using %s and %s as numbers.\" % (3, 4))  # using %s-Operator (strings or any object with a string representation)\n",
    "print(\"This is a string using %d and %d as numbers.\" % (3, 4))  # using %d-Operator (integers)\n",
    "print(\"This is a string using %.2f and %.3f as numbers.\" % (3, 4))  # using %.<no of digits>f-Operator (floating-point values)\n",
    "print()"
   ]
  },
  {
   "cell_type": "code",
   "execution_count": null,
   "metadata": {
    "collapsed": false,
    "jupyter": {
     "outputs_hidden": false
    }
   },
   "outputs": [],
   "source": [
    "print(\"This is a string using {} and {} as numbers.\".format(3, 4))  # using format()-function\n",
    "print()"
   ]
  },
  {
   "cell_type": "code",
   "execution_count": null,
   "metadata": {
    "collapsed": false,
    "jupyter": {
     "outputs_hidden": false
    }
   },
   "outputs": [],
   "source": [
    "print(f\"This is a string using {3} and {4} as numbers.\")  # using f-string\n",
    "print(f\"This is a string using {3:.2f} and {4:.3g} as numbers.\")  # using f-string with format\n",
    "\n",
    "print(f\"This is a string using {123:>3} and {34:>2} as numbers.\")  # using f-string with right alignment\n",
    "print(f\"This is a string using {3:>3} and {4:>2} as numbers.\")\n",
    "\n",
    "print(f\"This is a string using {3:e} and {4:e} as numbers.\")  # using f-string with exponential notation\n",
    "\n",
    "string_integer_1 = 3\n",
    "string_integer_2 = 4\n",
    "print(f\"This is a string using {string_integer_1 = } and {string_integer_2 = } as numbers.\")  # f-string with debugging feature"
   ]
  },
  {
   "cell_type": "markdown",
   "metadata": {
    "cell_id": "22e915aba7ec4fd58cff75ff8cec9f78",
    "deepnote_cell_type": "markdown"
   },
   "source": [
    "- docstrings, enclosed in triple quotes ```\"\"\"``` and ```'''```, allow for multi-line strings"
   ]
  },
  {
   "cell_type": "code",
   "execution_count": null,
   "metadata": {
    "cell_id": "2e3c5f24dd7349dd8b50b348978f0070",
    "deepnote_cell_type": "code"
   },
   "outputs": [],
   "source": [
    "print(\"\"\"This is a\n",
    "multi-line\n",
    "string\"\"\")"
   ]
  },
  {
   "cell_type": "markdown",
   "metadata": {
    "cell_id": "631402b892f04b6b849913548b5deb3e",
    "deepnote_cell_type": "markdown"
   },
   "source": [
    "- special characters \"\\n\" for linebreak and \"\\t\" for tab &rarr; \"\\n\" allows building multi-line strings in single-quotes\n",
    "\n",
    "- the ```repr()``` methods shows us these special characters\n",
    "- alternatively, you can provide a *raw string* using the r-notation ```r\"<WHATEVER>\"``` (similar to-fstrings) to print the special characters"
   ]
  },
  {
   "cell_type": "code",
   "execution_count": null,
   "metadata": {
    "cell_id": "73ba04e8ed954b9f94359a4c9dae2648",
    "deepnote_cell_type": "code",
    "deepnote_to_be_reexecuted": false,
    "execution_millis": 2,
    "execution_start": 1671713093647,
    "source_hash": "c7579d6b"
   },
   "outputs": [],
   "source": [
    "string_with_special_chars = \"This is a message with a tab \\t to demonstrate special characters. \\n That's it.\"\n",
    "\n",
    "print(string_with_special_chars)\n",
    "repr(string_with_special_chars)"
   ]
  },
  {
   "cell_type": "markdown",
   "metadata": {},
   "source": [
    "### Manipulation of existing strings"
   ]
  },
  {
   "cell_type": "markdown",
   "metadata": {
    "cell_id": "0b807679f4324754afc94dd366514849",
    "deepnote_cell_type": "markdown"
   },
   "source": [
    "- special characters and whitespaces at the beginning and end of strings can be removed using the ```<string>.strip()``` function"
   ]
  },
  {
   "cell_type": "code",
   "execution_count": null,
   "metadata": {
    "cell_id": "6bea8b6364df43e8a4050b1dd55557d0",
    "deepnote_cell_type": "code",
    "deepnote_to_be_reexecuted": false,
    "execution_millis": 3,
    "execution_start": 1671713327794,
    "source_hash": "2a9b5cd5"
   },
   "outputs": [],
   "source": [
    "string_with_whitespaces = \"\\n This is a string with leading and trailing whitespaces. \\t \"\n",
    "\n",
    "print(repr(string_with_whitespaces))\n",
    "print(repr(string_with_whitespaces.strip()))\n",
    "print(repr(string_with_whitespaces.rstrip()))  # remove only at the end\n",
    "print(repr(string_with_whitespaces.lstrip()))  # remove only at the beginning"
   ]
  },
  {
   "cell_type": "markdown",
   "metadata": {
    "cell_id": "10e57f7ea95c43d98184c60d00a1d2e7",
    "deepnote_cell_type": "markdown"
   },
   "source": [
    "- converting strings between different cases is possible using the ```<string>.upper()``` and ```<string>.lower()``` function"
   ]
  },
  {
   "cell_type": "code",
   "execution_count": null,
   "metadata": {
    "cell_id": "3067c10f464046ada919dc4eed170177",
    "deepnote_cell_type": "code"
   },
   "outputs": [],
   "source": [
    "print(\"Hello!\".upper())\n",
    "print(\"Hello!\".lower())"
   ]
  },
  {
   "cell_type": "markdown",
   "metadata": {
    "cell_id": "221dbb2da8fa4e73ab992dd5d1858a3f",
    "deepnote_cell_type": "markdown"
   },
   "source": [
    "character (sequence) instances in a string can be \n",
    "- counted using the ```<string>.count()``` function &rarr; adds up the number of times they appear in the string\n",
    "- found using the ```<string>.find()``` function &rarr; returns the position number of the first character of the sequence in the string\n",
    "- replaced using the ```<string>.replace()``` function"
   ]
  },
  {
   "cell_type": "code",
   "execution_count": null,
   "metadata": {
    "cell_id": "bef94df5d5134a9a8f700cf6383cfb85",
    "deepnote_cell_type": "code"
   },
   "outputs": [],
   "source": [
    "print(\"Hello!\".count(\"l\"))\n",
    "print(\"Hello!\".find(\"e\"))\n",
    "print(\"Hello!\".replace(\"o\", \"ouu\"))"
   ]
  },
  {
   "cell_type": "markdown",
   "metadata": {
    "cell_id": "c9f0e5a562cc4667a75db88b07acdea4",
    "deepnote_cell_type": "markdown",
    "tags": []
   },
   "source": [
    "- other string-methods can be found [here](https://www.w3schools.com/python/python_ref_string.asp)"
   ]
  },
  {
   "cell_type": "markdown",
   "metadata": {
    "cell_id": "0223a7b85fdb4944a6d535eb75b9a5e3",
    "deepnote_cell_type": "markdown"
   },
   "source": [
    "## Decision structures"
   ]
  },
  {
   "cell_type": "markdown",
   "metadata": {
    "cell_id": "ac2298bbaecb4a36ab054ea271749117",
    "deepnote_cell_type": "markdown"
   },
   "source": [
    "The execution of statements can be linked to conditions:\n",
    "- If the condition is ```TRUE```, the ```Then``` statement block is executed\n",
    "- If the condition is ```FALSE```, all the ```Elif``` statement blocks are executed one-after-one\n",
    "- Else, the ```Else``` block is executed\n",
    "\n",
    "<br/>\n",
    "\n",
    "- If-else-trees can be nested\n",
    "- writing ```if <CONDITION> is True:``` is not necessary - ```if <CONDITION>:``` suffices\n",
    "\n",
    "<br/>\n",
    "\n",
    "- Python relies on indentation (whitespace at beginning of line) to define scope in code"
   ]
  },
  {
   "cell_type": "code",
   "execution_count": null,
   "metadata": {
    "cell_id": "e7cf51a701e9400c9976b0db2227a956",
    "deepnote_cell_type": "code"
   },
   "outputs": [],
   "source": [
    "condition = True  # False\n",
    "other_condition = True  # False\n",
    "\n",
    "if condition:\n",
    "    print(\"This is the 'then' block of the first tree.\")\n",
    "    \n",
    "    if not condition:\n",
    "        print(\"This is the 'then' block of the second tree.\")  # this won't be executed\n",
    "    elif not other_condition:\n",
    "        print(\"This is the first (and only) 'elif' block of the second tree.\")\n",
    "    else:\n",
    "        print(\"This is the 'else' block of the second tree.\")\n",
    "    \n",
    "elif other_condition:\n",
    "    print(\"This is the first (and only) 'elif' block of the first tree.\")\n",
    "else:\n",
    "    print(\"This is the 'else' block of the first tree.\")"
   ]
  },
  {
   "cell_type": "markdown",
   "metadata": {
    "cell_id": "e303bde0e05345c2b35edca6c74ea8e2",
    "deepnote_cell_type": "markdown"
   },
   "source": [
    "## Errors and Exceptions"
   ]
  },
  {
   "cell_type": "markdown",
   "metadata": {
    "cell_id": "a124fa227be549f89bcdbcd4ed0dd149",
    "deepnote_cell_type": "markdown"
   },
   "source": [
    "- when you know that something may go wrong, you can catch the exception with a try-statement \n",
    "\n",
    "<br/>\n",
    "\n",
    "- the ```try``` clause is execuded &rarr; in case of an exception the ```except``` clause is executed\n",
    "- the ```else``` clause is executed when there is no error\n",
    "- in any case (so regardless of the outcome) the ```finally``` clause is executed in the end\n",
    "\n",
    "<br/>\n",
    "\n",
    "- the ```except``` condition should always include a specific exception so that it does not catch unexpected errors"
   ]
  },
  {
   "cell_type": "code",
   "execution_count": null,
   "metadata": {
    "cell_id": "267c731263f447f3903173c8513d7cd8",
    "deepnote_cell_type": "code"
   },
   "outputs": [],
   "source": [
    "integer = 5  # str(5)\n",
    "\n",
    "try:\n",
    "    print(\"It is not possible to concatenate this string with the integer \" + integer + \".\")\n",
    "\n",
    "except TypeError as e: \n",
    "    print(f\"Gotcha! It seems like there is a syntax error with the message '{e}'.\")\n",
    "\n",
    "else:\n",
    "    print(\"No error found.\")\n",
    "\n",
    "finally:\n",
    "    print(\"I'm the finally clause which is always executed.\")"
   ]
  },
  {
   "cell_type": "markdown",
   "metadata": {
    "cell_id": "f4841ca844aa4a8ea1d7df4b743cae57",
    "deepnote_cell_type": "markdown"
   },
   "source": [
    "- exceptions are raised using the ```raise``` keyword and can include a message for the user\n",
    "- a list of exceptions can be found in the [Python Documentation](https://docs.python.org/3/library/exceptions.html)"
   ]
  },
  {
   "cell_type": "code",
   "execution_count": null,
   "metadata": {
    "cell_id": "38c7bd12095d43a098babf9a0a7a1fab",
    "deepnote_cell_type": "code"
   },
   "outputs": [],
   "source": [
    "raise Exception(\"Die!\")"
   ]
  },
  {
   "cell_type": "markdown",
   "metadata": {
    "cell_id": "b81640d7b31048bba8738519b6a73bb1",
    "deepnote_cell_type": "markdown"
   },
   "source": [
    "## External Files"
   ]
  },
  {
   "cell_type": "markdown",
   "metadata": {
    "cell_id": "b493749c40c4491e9de470440e3f1e10",
    "deepnote_cell_type": "markdown"
   },
   "source": [
    "Many more file operations can be found [in this article](https://www.programiz.com/python-programming/file-operation)."
   ]
  },
  {
   "cell_type": "markdown",
   "metadata": {
    "cell_id": "752401d5780c488ab298814809f99870",
    "deepnote_cell_type": "markdown"
   },
   "source": [
    "### Reading from other files"
   ]
  },
  {
   "cell_type": "markdown",
   "metadata": {
    "cell_id": "ff518e2d52254616ab9929af9d97ab34",
    "deepnote_cell_type": "markdown"
   },
   "source": [
    "- the built-in Python ```open(\"<storage path>\")``` function takes the storage path of a file (as a string) as parameter and returns a file object, which can be assigned to a variable ```<filename>``` to read the file contents\n",
    "- when the file is not where Python is asked to look for it, a ```FileNotFoundError``` is raised &rarr; wrapping the ```open(\"<storage path>\")``` function in a ```try``` statement can catch this case\n",
    "\n",
    "<br/>\n",
    "\n",
    "- after using a file it better is closed again to avoid write-conflicts in the operating system using ```<filename>.close()```\n",
    "- alternatively, the ```with``` statement can be used which automatically closes the file\n",
    "\n",
    "<br/>\n",
    "\n",
    "- having opened the file:\n",
    "    - single lines can be read via the function ```<filename>.readline()```\n",
    "        - this function moves on one line whenever it is called\n",
    "        - when there are no lines left in the file, it returns an empty string\n",
    "    - the pointer can be set to a specific *n*-th caracter of the file using ```<filename>.seek(n)>``` or the current position of the pointer can be read using ```<filename>.tell()>```\n",
    "    - all remaining content after the current curser position can be obtained with the ```<filename>.readlines()``` command"
   ]
  },
  {
   "cell_type": "code",
   "execution_count": null,
   "metadata": {
    "cell_id": "6290db118c0a409d83cf285499fd53c1",
    "deepnote_cell_type": "code"
   },
   "outputs": [],
   "source": [
    "f = open(\"customers.txt\", encoding=\"utf-8\")  # fix output with proper \"encoding\"-parameter\n",
    "line = f.readline()  # read the first line\n",
    "print(line)\n",
    "f.close()  # don't forget to close the file again!\n",
    "    \n",
    "# --- alternative:\n",
    "with open(\"customers.txt\", encoding=\"utf-8\") as f:\n",
    "    line = f.readline()  # no closing statement is required minimising the risk for file corruption\n",
    "    print(line)\n",
    "\n",
    "# --- catching exceptions:\n",
    "try:  # if the 'with' statement is omitted the file has to be closed in the 'else' statement\n",
    "    with open(\"customer_names.txt\", encoding=\"utf-8\") as f:\n",
    "        line = f.readline()\n",
    "        print(line)\n",
    "\n",
    "except FileNotFoundError:\n",
    "    print(\"File not found. Skipping read process...\")"
   ]
  },
  {
   "cell_type": "markdown",
   "metadata": {
    "cell_id": "dfbfb5d9137544edb1ad821589226dce",
    "deepnote_cell_type": "markdown"
   },
   "source": [
    "### Writing to other files"
   ]
  },
  {
   "cell_type": "markdown",
   "metadata": {
    "cell_id": "92ecd2e658be41b4864b5345d15993bc",
    "deepnote_cell_type": "markdown"
   },
   "source": [
    "- the file must be opened in *writing mode* using the ```mode=\"w\"``` flag\n",
    "- a file object can be written to using the ```<filename>.write(<content string>)``` function\n",
    "- sometimes the encoding of the file has to be specified in the ```open()``` method using the ```encoding=<ENCODING>``` argument"
   ]
  },
  {
   "cell_type": "code",
   "execution_count": null,
   "metadata": {
    "cell_id": "3a19292c2fd14ef2b477245075f2fb9a",
    "deepnote_cell_type": "code",
    "deepnote_to_be_reexecuted": false,
    "execution_millis": 45,
    "execution_start": 1672947982170,
    "source_hash": "fbcf4059"
   },
   "outputs": [],
   "source": [
    "to_be_saved = \"Please save me!\"\n",
    "\n",
    "with open('output.txt', mode='w', encoding=\"utf-8\") as f:  # can also be 'output.csv' an such\n",
    "    f.write(f\"{to_be_saved}\\n\")  # add line break character\n",
    "    f.write(\"Alrighty, I'm on my way!\")  "
   ]
  },
  {
   "cell_type": "markdown",
   "metadata": {
    "cell_id": "2e8bb1a1ebc14e6aa806b9bafafa2250",
    "deepnote_cell_type": "markdown"
   },
   "source": [
    "## Loops"
   ]
  },
  {
   "cell_type": "markdown",
   "metadata": {
    "cell_id": "963ef24509074cc2b12d5ae97fb1dbf8",
    "deepnote_cell_type": "markdown"
   },
   "source": [
    "- execute instruction blocks more than once – also called iterations\n",
    "\n",
    "Common elements of all loop types:\n",
    "1. Initialization of a counter variable (often ```i```, then ```j```, ...) &rarr; same variable can (oftentimes) only be used in non-nested loops - nested ones ofentimes require using different ones\n",
    "2. counting function\n",
    "3. termination condition"
   ]
  },
  {
   "cell_type": "markdown",
   "metadata": {
    "cell_id": "b8722201ab044d61a70d5791e73db0e1",
    "deepnote_cell_type": "markdown"
   },
   "source": [
    "### The for-loop"
   ]
  },
  {
   "cell_type": "markdown",
   "metadata": {
    "cell_id": "9fec750478704d698757239cded4ffd2",
    "deepnote_cell_type": "markdown"
   },
   "source": [
    "- fixed number of iterations\n",
    "    - in range of numbers ```<start>``` and ```<end>``` using ```range``` function &rarr; starting with ```<start>``` value and ending with ```<end>-1``` (!) value\n",
    "    - in *iterable objects* like strings, lists, tuples, dictionaries"
   ]
  },
  {
   "cell_type": "code",
   "execution_count": null,
   "metadata": {
    "cell_id": "eb1ee2c457f240039be43407e189c88d",
    "deepnote_cell_type": "code"
   },
   "outputs": [],
   "source": [
    "print(type(range(1)))  # 'range' function returns object of type 'range' (and not list -> introduced later)"
   ]
  },
  {
   "cell_type": "code",
   "execution_count": null,
   "metadata": {
    "cell_id": "a70bb8c787404058ac1c0de176da7825",
    "deepnote_cell_type": "code"
   },
   "outputs": [],
   "source": [
    "for i in range(0, 5):\n",
    "    print(i)\n",
    "print(\"---\")\n",
    "    \n",
    "# range function also supports step sizes:\n",
    "for i in range(0, 10, 2):\n",
    "    print(i)\n",
    "print(\"---\")\n",
    "\n",
    "# in the range function the start value defaults to 0 and can be omitted in this case:\n",
    "for i in range(5):\n",
    "    print(i)\n",
    "print(\"---\")\n",
    "\n",
    "# range function can also run backwards using a negative step size:\n",
    "for i in range(10, 5, -1):\n",
    "    print(i)"
   ]
  },
  {
   "cell_type": "code",
   "execution_count": null,
   "metadata": {
    "cell_id": "79a0c3604a6b42be86ebc8d98853c324",
    "deepnote_cell_type": "code"
   },
   "outputs": [],
   "source": [
    "for letter in \"Hallelujah!\":  # looping through a string\n",
    "    print(letter)"
   ]
  },
  {
   "cell_type": "markdown",
   "metadata": {
    "cell_id": "c62c3e49c6944a10adc7fe4a439b3d5a",
    "deepnote_cell_type": "markdown"
   },
   "source": [
    "### The while-loop"
   ]
  },
  {
   "cell_type": "markdown",
   "metadata": {
    "cell_id": "1a4f679af04c484d962fbab16cc24b8d",
    "deepnote_cell_type": "markdown"
   },
   "source": [
    "- Loop is executed as long as the condition is true &rarr; condition can be changed inside the loop to break it\n",
    "- ```while True``` loops run indefinitively"
   ]
  },
  {
   "cell_type": "code",
   "execution_count": null,
   "metadata": {
    "cell_id": "b34a10db446740cbb11eae1f85623ed9",
    "deepnote_cell_type": "code"
   },
   "outputs": [],
   "source": [
    "n = 10\n",
    "\n",
    "while n > 0:\n",
    "    print(n)\n",
    "    n -= 1\n",
    "print(\"Lift off!\")"
   ]
  },
  {
   "cell_type": "code",
   "execution_count": null,
   "metadata": {
    "cell_id": "b6345042ad134b0e94470daf9d367052",
    "deepnote_cell_type": "code"
   },
   "outputs": [],
   "source": [
    "with open(\"customers.txt\", encoding=\"utf-8\") as file:\n",
    "    line = file.readline()\n",
    "    while line:                 # loop over each (non-empty) line (introduced later) -> empty lines return False, ending the loop\n",
    "        print(line)             # print each line's entry. \n",
    "        line = file.readline()  # read the next line"
   ]
  },
  {
   "cell_type": "markdown",
   "metadata": {
    "cell_id": "712956aac0814557aabd0da48bbc1ec3",
    "deepnote_cell_type": "markdown"
   },
   "source": [
    "### break and continue statements"
   ]
  },
  {
   "cell_type": "markdown",
   "metadata": {
    "cell_id": "afc13ef4e6b6417380fd06b38a6d10ea",
    "deepnote_cell_type": "markdown",
    "tags": []
   },
   "source": [
    "- a ```break``` statement, when used inside the loop, will terminate the loop and exit. If used inside nested loops, it will break out from the current loop.\n",
    "- a ```continue``` statement, when used inside a loop, will stop the current execution, and the control will go back to the start of the loop."
   ]
  },
  {
   "cell_type": "code",
   "execution_count": null,
   "metadata": {
    "cell_id": "0bdb20af5b294b2394da9a768c1afc53",
    "deepnote_cell_type": "code"
   },
   "outputs": [],
   "source": [
    "for i in range(10):\n",
    "    print(f\"{i = }\")\n",
    "    \n",
    "    for j in range(10):\n",
    "        \n",
    "        if j > i:\n",
    "            print(\"\\t Let's get out of here...\")\n",
    "            break  # break also makes 'else'-statement redundant\n",
    "    \n",
    "        print(f\"\\t {j = }\")\n",
    "    \n",
    "    continue  # continue with next iteration here: the code behind this statement is unreachable\n",
    "    print(\"I am invisible.\")"
   ]
  },
  {
   "cell_type": "markdown",
   "metadata": {
    "cell_id": "03de255616994f16b94af751a3732f42",
    "deepnote_cell_type": "markdown"
   },
   "source": [
    "## Lists"
   ]
  },
  {
   "cell_type": "markdown",
   "metadata": {},
   "source": [
    "- data structure consisting of a sequence of values called elements or items "
   ]
  },
  {
   "cell_type": "markdown",
   "metadata": {},
   "source": [
    "### Basic operations"
   ]
  },
  {
   "cell_type": "markdown",
   "metadata": {
    "cell_id": "7d8fe7641d2e4ce49dc05e94d46e1ccd",
    "deepnote_cell_type": "markdown"
   },
   "source": [
    "- empty lists are initiated by brackets ```my_list = []``` or via the ```my_list = list()``` function"
   ]
  },
  {
   "cell_type": "code",
   "execution_count": null,
   "metadata": {
    "cell_id": "7f6248bf77974f989dd1ffa6fe016663",
    "deepnote_cell_type": "code",
    "deepnote_to_be_reexecuted": false,
    "execution_millis": 0,
    "execution_start": 1671714395571,
    "source_hash": "9702141b"
   },
   "outputs": [],
   "source": [
    "my_list = [\"Hi\", 3, [1.5, \"Bye\"]]  # list storing a string, an integer, and another list"
   ]
  },
  {
   "cell_type": "code",
   "execution_count": null,
   "metadata": {
    "cell_id": "075568a32aa4450f811d47d9029ef430",
    "deepnote_cell_type": "code"
   },
   "outputs": [],
   "source": [
    "# get the length of the list:\n",
    "print(len(my_list))\n",
    "print()"
   ]
  },
  {
   "cell_type": "code",
   "execution_count": null,
   "metadata": {
    "cell_id": "6f583f0a38e94302836d5e1402b0f8d6",
    "deepnote_cell_type": "code"
   },
   "outputs": [],
   "source": [
    "# print the whole list:\n",
    "print(my_list)\n",
    "print()"
   ]
  },
  {
   "cell_type": "markdown",
   "metadata": {},
   "source": [
    "- elements can be all types of objects, and also of mixed type\n",
    "- elements can be addressed by list name and their index: ```<listname>[<index>]``` &rarr; lists are an ordered collection of elements\n",
    "\n",
    "<br/>\n",
    "\n",
    "- lists are zero-indexed (!) meaning that the first element is element number zero\n",
    "- negative indices start from the back of the list &rarr; ```<listname>[-1]``` accesses the last element of the list"
   ]
  },
  {
   "cell_type": "code",
   "execution_count": null,
   "metadata": {
    "cell_id": "b1a49eba76c847bbbb923b286f3f8595",
    "deepnote_cell_type": "code"
   },
   "outputs": [],
   "source": [
    "# print (or access) a single list element:\n",
    "print(my_list[0])\n",
    "print()\n",
    "\n",
    "hello_statement = my_list[0]"
   ]
  },
  {
   "cell_type": "markdown",
   "metadata": {},
   "source": [
    "- lists are *mutable* &rarr; they (and their elements) can be modified after being created\n",
    "- new items can be added to the list:\n",
    "    - using the ```<listname>.append(<item>)``` function at the end of the list\n",
    "    - using ```<listname>.insert(<index>, <item>)``` at a certain position &rarr; all elements after ```<item>``` are shifted to the right\n",
    "\n",
    "<br/>\n",
    "\n",
    "- items can be deleted in different ways:\n",
    "    - if the index is known: ```del <listname>[<index>]``` or ```<listname>.pop(<index>)``` &rarr; ```pop``` also returns the value, allowing it to be stored in a variable\n",
    "    - if the item is known: ```<listname>.remove(<item>)``` &rarr; searches from beginning to end, removing the first entry"
   ]
  },
  {
   "cell_type": "code",
   "execution_count": null,
   "metadata": {
    "cell_id": "b66244ba3140451998d72d46fb0f7a40",
    "deepnote_cell_type": "code",
    "deepnote_to_be_reexecuted": false,
    "execution_millis": 3,
    "execution_start": 1671714506215,
    "source_hash": "4716bfb0"
   },
   "outputs": [],
   "source": [
    "# modify the list (in a Jupyter Notebook like this this will yield different results each time this cell is executed):\n",
    "my_other_list = [3.141, 2.718]\n",
    "\n",
    "my_list.append(my_other_list)  # add numbers as list element to list\n",
    "my_list.extend(my_other_list)  # add numbers elementwise as single elements to list\n",
    "\n",
    "first_deleted_element = my_list.pop(0)\n",
    "print(first_deleted_element)\n",
    "\n",
    "print(my_list)"
   ]
  },
  {
   "cell_type": "markdown",
   "metadata": {
    "cell_id": "e0bad6fa66ea4639a89363319028a06a",
    "deepnote_cell_type": "markdown"
   },
   "source": [
    "- strings can be split into lists using the ```<string>.split(<delimiter>)``` function\n",
    "- lists of strings can be joined using the ```<delimiter>.join(<listname>)``` function "
   ]
  },
  {
   "cell_type": "code",
   "execution_count": null,
   "metadata": {
    "cell_id": "e240c5afa584408ba180b0a59ffe9520",
    "deepnote_cell_type": "code"
   },
   "outputs": [],
   "source": [
    "string_to_be_split = \"Simply split this sentence into its words\"\n",
    "\n",
    "splitted_string_list = string_to_be_split.split(\" \")\n",
    "concatenated_string = \" - \".join(splitted_string_list)\n",
    "\n",
    "print(splitted_string_list)\n",
    "print(type(splitted_string_list))\n",
    "\n",
    "print()\n",
    "\n",
    "print(concatenated_string)\n",
    "print(type(concatenated_string))"
   ]
  },
  {
   "cell_type": "markdown",
   "metadata": {
    "cell_id": "a504bf7b88f340908334bb520e39ec8b",
    "deepnote_cell_type": "markdown"
   },
   "source": [
    "### List slicing"
   ]
  },
  {
   "cell_type": "markdown",
   "metadata": {
    "cell_id": "79b1c5c38d8f42e88033c7da805f3dc4",
    "deepnote_cell_type": "markdown"
   },
   "source": [
    "Sling describes taking a part of the list.\n",
    "\n",
    "- omitting the first index, the slice starts at the beginning\n",
    "- omitting the second index, the slice ends at the end"
   ]
  },
  {
   "cell_type": "code",
   "execution_count": null,
   "metadata": {
    "cell_id": "1f73f540321b4d4b944e2d452084548f",
    "deepnote_cell_type": "code"
   },
   "outputs": [],
   "source": [
    "list_to_slice = [1, 2, 3, 4, 5, 6, 7, 8, 9, 10]\n",
    "\n",
    "print(list_to_slice[5:8])\n",
    "print(list_to_slice[:8])  # everything up until (not including) index 8\n",
    "print(list_to_slice[8:])  # everything from (including) index 8 on\n",
    "print(list_to_slice[:])   # take whole list"
   ]
  },
  {
   "cell_type": "markdown",
   "metadata": {
    "cell_id": "a4e7f8ae7d2d499e94967d82eb3220c2",
    "deepnote_cell_type": "markdown"
   },
   "source": [
    "- a slice operator on the left side of an assignment can update multiple elements"
   ]
  },
  {
   "cell_type": "code",
   "execution_count": null,
   "metadata": {
    "cell_id": "219f90f2f2aa445e935c58e3b6cef071",
    "deepnote_cell_type": "code"
   },
   "outputs": [],
   "source": [
    "list_to_slice = [1, 2, 3, 4, 5, 6, 7, 8, 9, 10]\n",
    "list_to_slice[1:3] = ['x', 'y']\n",
    "\n",
    "print(list_to_slice)"
   ]
  },
  {
   "cell_type": "markdown",
   "metadata": {
    "cell_id": "dd4367a26da54641b47116009534d04b",
    "deepnote_cell_type": "markdown"
   },
   "source": [
    "### List combination"
   ]
  },
  {
   "cell_type": "markdown",
   "metadata": {
    "cell_id": "8cbb5311e3fd445ca26fd21650fe9d51",
    "deepnote_cell_type": "markdown"
   },
   "source": [
    "- lists can be combined by summing them up &rarr; other operations like subtraction do not work this way (even when both lists only contain numerical values)\n",
    "\n",
    "- alternatively the ```.extend()``` method could be used"
   ]
  },
  {
   "cell_type": "code",
   "execution_count": null,
   "metadata": {
    "cell_id": "64f24cecfe4b49b49b88245864b5c109",
    "deepnote_cell_type": "code"
   },
   "outputs": [],
   "source": [
    "list_1_to_combine = [1, 2, 3]\n",
    "list_2_to_combine = [\"A\", \"B\", \"C\"]\n",
    "\n",
    "print(list_1_to_combine + list_2_to_combine)"
   ]
  },
  {
   "cell_type": "markdown",
   "metadata": {
    "cell_id": "eaa848fea5e94b09a5aa5dc6e28e024f",
    "deepnote_cell_type": "markdown"
   },
   "source": [
    "### Looping over lists"
   ]
  },
  {
   "cell_type": "markdown",
   "metadata": {
    "cell_id": "9f4b7282ee334d3fa91775592d2e7739",
    "deepnote_cell_type": "markdown"
   },
   "source": [
    "#### ... the classical, multi-line way"
   ]
  },
  {
   "cell_type": "code",
   "execution_count": null,
   "metadata": {
    "cell_id": "7c7798b4235d4e609b101a3a31bda9b7",
    "deepnote_cell_type": "code"
   },
   "outputs": [],
   "source": [
    "loop_list = [12, 3, 1.5]\n",
    "\n",
    "# looping directly over items:\n",
    "for item in loop_list:\n",
    "    print(item)\n",
    "print()\n",
    "\n",
    "# looping over indices:\n",
    "for index in range(0, len(loop_list)):\n",
    "    print(loop_list[index])\n",
    "print()"
   ]
  },
  {
   "cell_type": "markdown",
   "metadata": {
    "cell_id": "cfc62f0520a24d5cb791d5b66c341d35",
    "deepnote_cell_type": "markdown"
   },
   "source": [
    "- a loop over an empty list never runs the instructions"
   ]
  },
  {
   "cell_type": "code",
   "execution_count": null,
   "metadata": {
    "cell_id": "86783b4b06e64e5db95facb1b4258443",
    "deepnote_cell_type": "code"
   },
   "outputs": [],
   "source": [
    "for i in []:\n",
    "    print(\"This never happens\")\n",
    "print(\"Done.\")"
   ]
  },
  {
   "cell_type": "markdown",
   "metadata": {
    "cell_id": "b99b5709ccac47cb8c8c99bf8f29c8cf",
    "deepnote_cell_type": "markdown"
   },
   "source": [
    "#### ... using list comprehensions"
   ]
  },
  {
   "cell_type": "markdown",
   "metadata": {
    "cell_id": "b2c07606399a423b96ae70e67a730e8d",
    "deepnote_cell_type": "markdown"
   },
   "source": [
    "- *list comprehensions* allow creating a new list from an old one (and other iterables) within one line of code\n",
    "- same works for tuples, dictionaries, sets (all mentioned later)\n",
    "\n",
    "*Syntax*: ```new_list = [this_expression if condition else other_expression for item in iterable]```\n",
    "\n",
    "- is theoretically also possible with nested expressions but much more difficult to decipher"
   ]
  },
  {
   "cell_type": "code",
   "execution_count": null,
   "metadata": {
    "cell_id": "0eae709efa264f6a80b35b9e6cc8ba5b",
    "deepnote_cell_type": "code"
   },
   "outputs": [],
   "source": [
    "loop_list = [12, 3, 1.5, 6, 9, 100]\n",
    "\n",
    "# double items in value that are below 10, else triple them:\n",
    "\n",
    "doubled_loop_list = [2*item if item < 10 else 3*item for item in loop_list]  \n",
    "print(doubled_loop_list)\n",
    "\n",
    "# this is identical to (but much shorter than):\n",
    "\n",
    "doubled_loop_list = []\n",
    "for item in loop_list:\n",
    "    if item < 10:\n",
    "        doubled_loop_list.append(2*item)\n",
    "    else:\n",
    "        doubled_loop_list.append(3*item)\n",
    "\n",
    "print(doubled_loop_list)"
   ]
  },
  {
   "cell_type": "markdown",
   "metadata": {
    "cell_id": "ddf8760e19c5468a98241b9f10272c4a",
    "deepnote_cell_type": "markdown"
   },
   "source": [
    "### Other useful list methods"
   ]
  },
  {
   "cell_type": "markdown",
   "metadata": {
    "cell_id": "64e04a07f4d245cda93f6ca4e3cfc864",
    "deepnote_cell_type": "markdown"
   },
   "source": [
    "- summing up numercial values in a list using the ```sum(<listname>)``` function"
   ]
  },
  {
   "cell_type": "code",
   "execution_count": null,
   "metadata": {
    "cell_id": "6c26c4041225495baf0595a07e816edc",
    "deepnote_cell_type": "code"
   },
   "outputs": [],
   "source": [
    "summed_list = [2, 3.414, 5]\n",
    "print(sum(summed_list))\n",
    "\n",
    "# does only work when the list has numerical values exclusively:\n",
    "summed_list.append(\"Hi\")\n",
    "print(summed_list)\n",
    "print(sum(summed_list))"
   ]
  },
  {
   "cell_type": "markdown",
   "metadata": {
    "cell_id": "c31c8df202d44c60a0fa8d156a6d12cb",
    "deepnote_cell_type": "markdown"
   },
   "source": [
    "- sorting values in a list using the ```<listname>.sort()``` (returns ```None```) or ```sorted(<listname>)``` (returns list object) funtions"
   ]
  },
  {
   "cell_type": "code",
   "execution_count": null,
   "metadata": {
    "cell_id": "324ea1cee7bc4598a405fa47fdb1dae8",
    "deepnote_cell_type": "code"
   },
   "outputs": [],
   "source": [
    "# Numerical sorting:\n",
    "\n",
    "unsorted_list = [10.8, 1, 3.414]\n",
    "\n",
    "print(unsorted_list.sort())  # in-place operation: returns None but updates list as can be seen in next print\n",
    "print(unsorted_list)\n",
    "print()\n",
    "\n",
    "# ---\n",
    "\n",
    "unsorted_list = [10.8, 1, 3.414]\n",
    "\n",
    "print(sorted(unsorted_list))  # returns list but does not update variable as can be seen in next print\n",
    "print(unsorted_list)"
   ]
  },
  {
   "cell_type": "code",
   "execution_count": null,
   "metadata": {
    "cell_id": "f55ef35e32b5416b8f8f55a8bc3020df",
    "deepnote_cell_type": "code"
   },
   "outputs": [],
   "source": [
    "# String sorting:\n",
    "unsorted_list = [\"C\", \"A\", \"T\", \"S\"]\n",
    "\n",
    "print(sorted(unsorted_list, reverse=True))  # also reverse sorting possible"
   ]
  },
  {
   "cell_type": "markdown",
   "metadata": {
    "cell_id": "ddd1d4078af9416cb502ab0d8cb94ad5",
    "deepnote_cell_type": "markdown",
    "tags": []
   },
   "source": [
    "- testing for values in a list using the ```in``` operator"
   ]
  },
  {
   "cell_type": "code",
   "execution_count": null,
   "metadata": {
    "cell_id": "1dfb385e85404a739fd2f172725dc0ba",
    "deepnote_cell_type": "code",
    "deepnote_to_be_reexecuted": false,
    "execution_millis": 6,
    "execution_start": 1671714161498,
    "source_hash": "e9a8cefb",
    "tags": []
   },
   "outputs": [],
   "source": [
    "5 in [1, 2, 3, 4, 5]"
   ]
  },
  {
   "cell_type": "markdown",
   "metadata": {
    "cell_id": "060d3a94db8f4b48b5470ada38671086",
    "deepnote_cell_type": "markdown"
   },
   "source": [
    "## Tuples"
   ]
  },
  {
   "cell_type": "markdown",
   "metadata": {
    "cell_id": "8894e037d5dd4fafa7116b91d204ae8e",
    "deepnote_cell_type": "markdown"
   },
   "source": [
    "- are similar to lists: are also ordered and elements can be accessed by index\n",
    "- difference being that they are *immutable* &rarr; can't be modified once they have been created\n",
    "\n",
    "<br/>\n",
    "\n",
    "- allow collecting multiple values in one single variable\n",
    "\n",
    "<br/>\n",
    "\n",
    "- an empty tuple is initiated with parentheses ```my_tuple = ()``` or with the ```my_tuple = tuple()``` function"
   ]
  },
  {
   "cell_type": "code",
   "execution_count": null,
   "metadata": {
    "cell_id": "23d2b823a16c43cc882d7baa5a12235b",
    "deepnote_cell_type": "code"
   },
   "outputs": [],
   "source": [
    "# modifying a tuple raises an error:\n",
    "\n",
    "my_tuple = (1, 2, 3)\n",
    "\n",
    "my_tuple.append(4)"
   ]
  },
  {
   "cell_type": "code",
   "execution_count": null,
   "metadata": {
    "cell_id": "23d2b823a16c43cc882d7baa5a12235b",
    "deepnote_cell_type": "code"
   },
   "outputs": [],
   "source": [
    "my_tuple[0] = \"A\""
   ]
  },
  {
   "cell_type": "code",
   "execution_count": null,
   "metadata": {
    "cell_id": "23d2b823a16c43cc882d7baa5a12235b",
    "deepnote_cell_type": "code"
   },
   "outputs": [],
   "source": [
    "del my_tuple[0]"
   ]
  },
  {
   "cell_type": "code",
   "execution_count": null,
   "metadata": {
    "cell_id": "19527ffc80bf4f6ab799d19717925ef7",
    "deepnote_cell_type": "code"
   },
   "outputs": [],
   "source": [
    "# tuples with single values are initiated with a comma:\n",
    "\n",
    "tuple_var = (\"A\")\n",
    "real_tuple = (\"A\",)\n",
    "\n",
    "print(type(tuple_var))\n",
    "print(type(real_tuple))"
   ]
  },
  {
   "cell_type": "markdown",
   "metadata": {
    "cell_id": "489d6f47f44647ec9674f72c20382ff4",
    "deepnote_cell_type": "markdown"
   },
   "source": [
    "## Sets"
   ]
  },
  {
   "cell_type": "markdown",
   "metadata": {
    "cell_id": "e87c799caa46442f92578d7c182131e2",
    "deepnote_cell_type": "markdown"
   },
   "source": [
    "- they are unordered\n",
    "- once a set is created, it is not possible to change items, but they can be removed and new ones can be added\n",
    "- their perk: they contain a collection of unique elements &rarr; duplicates are automatically deleted\n",
    "\n",
    "<br/>\n",
    "\n",
    "- an empty set is initiated with the ```my_set = set()``` function (but not with braces)"
   ]
  },
  {
   "cell_type": "code",
   "execution_count": null,
   "metadata": {
    "cell_id": "d7578f21f9ba435ca5651249d46b2350",
    "deepnote_cell_type": "code"
   },
   "outputs": [],
   "source": [
    "my_set = {\"A\", \"A\", \"B\", \"C\"}\n",
    "\n",
    "print(my_set)  # the second, non-unique element is removed\n",
    "\n",
    "# items can be added and removed:\n",
    "\n",
    "my_set.remove(\"B\")\n",
    "print(my_set)\n",
    "\n",
    "my_set.add(\"D\")\n",
    "print(my_set)"
   ]
  },
  {
   "cell_type": "code",
   "execution_count": null,
   "metadata": {
    "cell_id": "dfc872abb44e45d890e94ad7b73f2030",
    "deepnote_cell_type": "code"
   },
   "outputs": [],
   "source": [
    "# sets are unordered:\n",
    "\n",
    "print(my_set[0])"
   ]
  },
  {
   "cell_type": "markdown",
   "metadata": {
    "cell_id": "f783507571c74189bf6ce2dc389d7d50",
    "deepnote_cell_type": "markdown"
   },
   "source": [
    "- allow for set-operations like determining intersections, unions, [etc.](https://www.programiz.com/python-programming/methods/set/intersection) &rarr; can be computationally slow with large sets"
   ]
  },
  {
   "cell_type": "code",
   "execution_count": null,
   "metadata": {
    "cell_id": "5a8280fec209456aa8ec4964da282409",
    "deepnote_cell_type": "code"
   },
   "outputs": [],
   "source": [
    "set_a = {1, 2, 3, 4}\n",
    "set_b = {4, 5, 6, 7}\n",
    "\n",
    "print(set_a.isdisjoint(set_b))"
   ]
  },
  {
   "cell_type": "code",
   "execution_count": null,
   "metadata": {
    "cell_id": "88bd30cafea84c44b3746b106c9a3502",
    "deepnote_cell_type": "code"
   },
   "outputs": [],
   "source": [
    "print(set_a.union(set_b))"
   ]
  },
  {
   "cell_type": "markdown",
   "metadata": {
    "cell_id": "34b7e39abebc4127932fc6eaaba43344",
    "deepnote_cell_type": "markdown"
   },
   "source": [
    "## Dictionaries"
   ]
  },
  {
   "cell_type": "markdown",
   "metadata": {
    "cell_id": "9ba6ea37415e41c9abae1b22b19b628f",
    "deepnote_cell_type": "markdown"
   },
   "source": [
    "- provides a special kind of list that can use (almost) any type of value as an index (not just integers like in lists) &rarr; maps **key-value pairs**\n",
    "- are unordered and mutable"
   ]
  },
  {
   "cell_type": "markdown",
   "metadata": {},
   "source": [
    "### Basic operations"
   ]
  },
  {
   "cell_type": "markdown",
   "metadata": {
    "cell_id": "9ba6ea37415e41c9abae1b22b19b628f",
    "deepnote_cell_type": "markdown"
   },
   "source": [
    "- add new entries to the dictionary via square brackets, mapping the key to the value: ```<dict>[<key>] = <value>```, look up value via square brackets or with the ```<dict>.get(<key>)``` method\n",
    "    - providing the same key twice (with two different values) overwrites one value\n",
    "\n",
    "<br/>\n",
    "\n",
    "- an empty dictionary is initiated with braces ```my_dict = {}``` or with the ```my_dict = dict()``` function"
   ]
  },
  {
   "cell_type": "code",
   "execution_count": null,
   "metadata": {
    "cell_id": "b887955ce0854dec9974f10010b6b2b9",
    "deepnote_cell_type": "code"
   },
   "outputs": [],
   "source": [
    "adresses = {\n",
    "    \"David Smith\": \"Marketstreet 3\",\n",
    "    \"Julia Horn\": \"Bridgeway 5\",\n",
    "    \"Adam Mouse\": \"Main Lane 5\"\n",
    "}\n",
    "\n",
    "# adding values:\n",
    "\n",
    "adresses[\"Don Joe\"] = \"Princess Street 1\"\n",
    "print(adresses)"
   ]
  },
  {
   "cell_type": "markdown",
   "metadata": {
    "cell_id": "14270d877f664567a0dcaa7818f5ba80",
    "deepnote_cell_type": "markdown"
   },
   "source": [
    "### Retrieving values"
   ]
  },
  {
   "cell_type": "code",
   "execution_count": null,
   "metadata": {
    "cell_id": "ae04dc12f247473094cd5afda2bf051e",
    "deepnote_cell_type": "code"
   },
   "outputs": [],
   "source": [
    "# getting existing values:\n",
    "\n",
    "print(adresses[\"Don Joe\"])\n",
    "print(adresses.get(\"Julia Horn\"))"
   ]
  },
  {
   "cell_type": "markdown",
   "metadata": {
    "cell_id": "0b493f6e77c843448024893cff46043a",
    "deepnote_cell_type": "markdown"
   },
   "source": [
    "- the bracket- and get-methods return different values for keys that do not exist in the dict"
   ]
  },
  {
   "cell_type": "code",
   "execution_count": null,
   "metadata": {
    "cell_id": "04718c18a01e446c89b4a15c3b682094",
    "deepnote_cell_type": "code"
   },
   "outputs": [],
   "source": [
    "print(adresses[\"Max Hinte\"])"
   ]
  },
  {
   "cell_type": "code",
   "execution_count": null,
   "metadata": {
    "cell_id": "01c708008d584ddd8920468a37e3342b",
    "deepnote_cell_type": "code"
   },
   "outputs": [],
   "source": [
    "print(adresses.get(\"Max Hinte\"))  # returns None by default which can be changed\n",
    "print(adresses.get(\"Max Hinte\", \"No idea who that is.\"))"
   ]
  },
  {
   "cell_type": "markdown",
   "metadata": {
    "cell_id": "a5bb8048b47244599bd00ec3a95f2062",
    "deepnote_cell_type": "markdown"
   },
   "source": [
    "### Looping over dictionaries"
   ]
  },
  {
   "cell_type": "markdown",
   "metadata": {
    "cell_id": "3b5d331c2f6f47989813b81d48053ab6",
    "deepnote_cell_type": "markdown"
   },
   "source": [
    "- looping directly over a dictionary is not possible, it has to be specified over which part of the dictionary is being looped\n",
    "- sequence of retrieved values from loop is arbitrary since dictionary is not ordered"
   ]
  },
  {
   "cell_type": "code",
   "execution_count": null,
   "metadata": {
    "cell_id": "832c112f2d4b4fd782a526cd380269bf",
    "deepnote_cell_type": "code"
   },
   "outputs": [],
   "source": [
    "for key, value in adresses.items():  # returns key-value tuple which can be unpacked in loop\n",
    "    print(f\"{key} lives in {key}\")\n",
    "print()\n",
    "\n",
    "for key in adresses.keys():\n",
    "    print(key)\n",
    "print()\n",
    "\n",
    "for value in adresses.values():\n",
    "    print(value)"
   ]
  },
  {
   "cell_type": "markdown",
   "metadata": {
    "cell_id": "ac90d7b2165b4564a7505a8acd8e32f2",
    "deepnote_cell_type": "markdown"
   },
   "source": [
    "## Functions"
   ]
  },
  {
   "cell_type": "markdown",
   "metadata": {
    "cell_id": "26d87a5d1e064ce58bc5faad03acdb1a",
    "deepnote_cell_type": "markdown"
   },
   "source": [
    "- “takes” an argument and “returns” a result\n",
    "    - functions have a *name*, *arguments* (also called *parameters*), and a *code body*\n",
    "    - not all functions need arguments – can be called with empty arguments, too\n",
    "    - not all functions return a value as their result – “void” functions have an effect, such as printing something\n",
    "    \n",
    "<br/>\n",
    "\n",
    "- since Python executes all statements in one script from top to bottom any function needs to be either defined or imported before it can be called\n",
    "- when the end of the function code is reached, the flow of execution returns to the line in the original program where it was called\n",
    "\n",
    "<br/>\n",
    "\n",
    "- Knowing how to access existing functions is a prerequisite to using external Python modules\n",
    "    - Much given functionality comes in... functions\n",
    "    - You need to know how to use a function by providing the right input and expecting the correct output\n",
    "    - Opening a function’s code and reading it, without changing it, can help you understand in how far this module does what you need\n",
    "\n",
    "<br/>\n",
    "\n",
    "- Knowing how to organise your own code in functions lets you\n",
    "    - re-use it in other areas of the program without having to type the commands out again\n",
    "    - avoid typing the same code multiple times to educe errors\n",
    "    - think systematically about the required and optional input for a piece of code and the resulting output"
   ]
  },
  {
   "cell_type": "markdown",
   "metadata": {
    "cell_id": "78aed5921ebf437882f7be8758efb8c4",
    "deepnote_cell_type": "markdown"
   },
   "source": [
    "When writing or reading a program without exactly following the flow of execution through every function is termed a **leap of faith**. This means that we believe that there will be a function that can create the result that is needed because:\n",
    "- it is already written and we do not want to check it now\n",
    "- we will write it later and want to continue building the code that will use it\n",
    "- we assume that Python provides some similar function and we will Google it later\n",
    "\n",
    "Python also uses the leap of faith when running code that defines a function that relies on another function, which has not been defined yet (statements in the function are not run on definition, but only when the function is called) &rarr; missing or corrupt functions can create runtime errors"
   ]
  },
  {
   "cell_type": "markdown",
   "metadata": {
    "cell_id": "7299a0ec6fb743cdad58ef01a1bb308e",
    "deepnote_cell_type": "markdown"
   },
   "source": [
    "### Imports"
   ]
  },
  {
   "cell_type": "markdown",
   "metadata": {},
   "source": [
    "#### General remarks"
   ]
  },
  {
   "cell_type": "markdown",
   "metadata": {
    "cell_id": "1955b27991e44aa3be1b1238b8eae624",
    "deepnote_cell_type": "markdown"
   },
   "source": [
    "- when calling a function from an imported module, that function runs code from outside the script, as defined inside the function, from top to bottom\n",
    "- importing creates a module object which can be accessed\n",
    "\n",
    "<br/>\n",
    "\n",
    "- modules not included in the standard Python library need to be downloaded, e.g. using ```pip``` (\"pip installs python\") via ```pip install <module name>```\n",
    "- in non-local Jupyter Notebooks you can write ```!pip install <MODULE NAME>``` into a code cell"
   ]
  },
  {
   "cell_type": "code",
   "execution_count": null,
   "metadata": {
    "cell_id": "eaab7a16a1ba423cb48215885cfa0a22",
    "deepnote_cell_type": "code"
   },
   "outputs": [],
   "source": [
    "import math\n",
    "import numpy as np  # modules can be imported using an alias"
   ]
  },
  {
   "cell_type": "code",
   "execution_count": null,
   "metadata": {
    "cell_id": "a75d1f39bcb24a69bb40ed5a20a5842f",
    "deepnote_cell_type": "code"
   },
   "outputs": [],
   "source": [
    "math.pi  # functions included in the module can be accessed via a dot notation"
   ]
  },
  {
   "cell_type": "code",
   "execution_count": null,
   "metadata": {
    "cell_id": "f2f71de040fa4184bdba5931540dc33b",
    "deepnote_cell_type": "code"
   },
   "outputs": [],
   "source": [
    "# generate normally distributed random numbers using numpy:\n",
    "\n",
    "rng = np.random.normal(size=5)\n",
    "print(rng)"
   ]
  },
  {
   "cell_type": "code",
   "execution_count": null,
   "metadata": {
    "cell_id": "f670da2c31a14e87a886024b494c33b8",
    "deepnote_cell_type": "code",
    "deepnote_to_be_reexecuted": false,
    "execution_millis": 2,
    "execution_start": 1671715075742,
    "source_hash": "e61a477"
   },
   "outputs": [],
   "source": [
    "# single functions can also be loaded into the main namespace, allowing them to be called without the dot notation\n",
    "# also works with an alias 'as <xyz>'\n",
    "\n",
    "from pandas import DataFrame, Series\n",
    "\n",
    "print(DataFrame, Series)"
   ]
  },
  {
   "cell_type": "markdown",
   "metadata": {
    "cell_id": "4be82fc048e440c8bfdd4cbbbe936d0f",
    "deepnote_cell_type": "markdown"
   },
   "source": [
    "#### Special package *numpy*"
   ]
  },
  {
   "cell_type": "markdown",
   "metadata": {
    "cell_id": "1966ff45a2af4d79b36f91dbca2f257c",
    "deepnote_cell_type": "markdown"
   },
   "source": [
    "- Using fixed-type arrays (vectors and matrices) is more efficient for large data sets\n",
    "    - fixed-type arras cannot store any kind of data, as lists do (where every element is an object with a type), but needs less memory and computation\n",
    "    - the numpy package includes the data structure ndarray for this purpose\n",
    "\n",
    "- is convenient and efficient for mathematical operations\n",
    "- vectorised computations are much faster than iterating over the array with a for-loop &rarr; this is also very handy when dealing with high-dimensional arrays as every new dimension would require an additional iteration"
   ]
  },
  {
   "cell_type": "markdown",
   "metadata": {},
   "source": [
    "##### Initialisation - object creation"
   ]
  },
  {
   "cell_type": "markdown",
   "metadata": {},
   "source": [
    "- arrays can be initialised from specific values\n",
    "- arrays can be inspected without actually looking at the specific values"
   ]
  },
  {
   "cell_type": "code",
   "execution_count": null,
   "metadata": {
    "cell_id": "868aaea0568c4598b700834e77a06b40",
    "deepnote_cell_type": "code"
   },
   "outputs": [],
   "source": [
    "import numpy as np\n",
    "\n",
    "a = np.array([1, 2, 3])  # 1D array\n",
    "b = np.array([[1.5, 2, 3], [4, 5, 6]])  # 2D array\n",
    "c = np.array([[[1.5, 2, 3], [4, 5, 6]], [[3, 2, 1], [4, 5, 6]]])  # 3D array\n",
    "\n",
    "print(c.shape)  # no of elements in each dimension\n",
    "print(c.ndim)  # no of dimensions\n",
    "print(c.size)  # total no of elements in array\n",
    "print(c.dtype)  # data type of values in array"
   ]
  },
  {
   "cell_type": "markdown",
   "metadata": {},
   "source": [
    "- a number of functions allow for the facilitated creation of arrays"
   ]
  },
  {
   "cell_type": "code",
   "execution_count": null,
   "metadata": {
    "collapsed": false,
    "jupyter": {
     "outputs_hidden": false
    }
   },
   "outputs": [],
   "source": [
    "print(np.zeros((2, 4))) # an array of zeros of specified shape\n",
    "print()\n",
    "\n",
    "print(np.ones((2, 4), dtype=np.int16))  # an array of ones of specified shape and data type\n",
    "print()\n",
    "\n",
    "print(np.full((2, 2), 7))  # a constant array\n",
    "print()\n",
    "\n",
    "print(np.eye(3))  # a 3x3 identity matrix\n",
    "print()"
   ]
  },
  {
   "cell_type": "code",
   "execution_count": null,
   "metadata": {
    "collapsed": false,
    "jupyter": {
     "outputs_hidden": false
    }
   },
   "outputs": [],
   "source": [
    "print(np.arange(10, 25, 5))  # an array of evenly spaced values (step value)\n",
    "print()\n",
    "\n",
    "print(np.linspace(0, 2, 9))  # an array of evenly spaced values (number of samples)\n",
    "print()"
   ]
  },
  {
   "cell_type": "markdown",
   "metadata": {},
   "source": [
    "- the random module allows working with (psuedo-)randomly generated numbers\n",
    "- random generations can be fixed by setting a seed via the ```np.random.seed(<seed>)``` function"
   ]
  },
  {
   "cell_type": "code",
   "execution_count": null,
   "metadata": {
    "collapsed": false,
    "jupyter": {
     "outputs_hidden": false
    }
   },
   "outputs": [],
   "source": [
    "print(np.random.random((2,2 )))  # an array with random float values between 0 and 1\n",
    "print()\n",
    "\n",
    "print(np.random.randint(low=1, high=11, size=5))  # an array with random integer values\n",
    "print()\n",
    "\n",
    "print(np.random.normal(loc=1, scale=1, size=5))  # an array from a normal distribution\n",
    "print()\n",
    "\n",
    "print(np.random.uniform(low=1, high=11, size=5))  # an array from a uniform distribution\n",
    "print()"
   ]
  },
  {
   "cell_type": "markdown",
   "metadata": {},
   "source": [
    "##### Arithmetic operations"
   ]
  },
  {
   "cell_type": "markdown",
   "metadata": {},
   "source": [
    "- element-wise arithmetic operations"
   ]
  },
  {
   "cell_type": "code",
   "execution_count": null,
   "metadata": {
    "collapsed": false,
    "jupyter": {
     "outputs_hidden": false
    }
   },
   "outputs": [],
   "source": [
    "print(a + a)  # element-wise addition\n",
    "print()\n",
    "\n",
    "print(np.add(a, a))  # alternative for element-wise addition\n",
    "print()\n",
    "\n",
    "print(a.dot(a.T))  # dot product with transposed array of a"
   ]
  },
  {
   "cell_type": "markdown",
   "metadata": {},
   "source": [
    "##### Selecting & aggregating data"
   ]
  },
  {
   "cell_type": "markdown",
   "metadata": {},
   "source": [
    "- you can select data from arrays via their index\n",
    "- replace array values using numpy's ```where(<condition>, <array>, <replacement value>)``` method\n",
    "- conditions arise from element-wise comparisons"
   ]
  },
  {
   "cell_type": "code",
   "execution_count": null,
   "metadata": {
    "collapsed": false,
    "jupyter": {
     "outputs_hidden": false
    }
   },
   "outputs": [],
   "source": [
    "array_to_select_from = np.array([1, 7, 4, 12, 18, 2])\n",
    "\n",
    "print(array_to_select_from < 10)  # selection condition -> array of booleans\n",
    "array_to_select_from = array_to_select_from[array_to_select_from < 10]  # select values from array based on boolean array\n",
    "print(array_to_select_from)"
   ]
  },
  {
   "cell_type": "code",
   "execution_count": null,
   "metadata": {
    "collapsed": false,
    "jupyter": {
     "outputs_hidden": false
    }
   },
   "outputs": [],
   "source": [
    "a = np.random.rand(2, 2)\n",
    "cond_a = a > 0.5\n",
    "\n",
    "print(a)\n",
    "print()\n",
    "\n",
    "print(cond_a)\n",
    "print()\n",
    "\n",
    "print(np.where(cond_a, a, 0))"
   ]
  },
  {
   "cell_type": "markdown",
   "metadata": {},
   "source": [
    "- slicing in numpy is possible just like with lists\n",
    "- slices return views rather than copies of the data – changing them changes the original array"
   ]
  },
  {
   "cell_type": "code",
   "execution_count": null,
   "metadata": {
    "collapsed": false,
    "jupyter": {
     "outputs_hidden": false
    }
   },
   "outputs": [],
   "source": [
    "original_array = np.array([1, 2, 3, 4, 5])\n",
    "\n",
    "sliced_array = original_array[3:]\n",
    "print(sliced_array)\n",
    "\n",
    "sliced_array[1] = 6\n",
    "print(sliced_array)\n",
    "print(original_array)"
   ]
  },
  {
   "cell_type": "markdown",
   "metadata": {},
   "source": [
    "- aggregations over multidimensional arrays, like ```np.sum(<array>)``` or ```np.count_nonzero(<array>)```, require specifying an axis when only a part of the array is supposed to be aggregated"
   ]
  },
  {
   "cell_type": "code",
   "execution_count": null,
   "metadata": {
    "collapsed": false,
    "jupyter": {
     "outputs_hidden": false
    }
   },
   "outputs": [],
   "source": [
    "a = np.random.rand(2, 2)\n",
    "\n",
    "print(a)\n",
    "print()\n",
    "\n",
    "print(np.count_nonzero(a, axis=1))"
   ]
  },
  {
   "cell_type": "markdown",
   "metadata": {
    "cell_id": "6a0bd705c9664291b9c621a53ca1be40",
    "deepnote_cell_type": "markdown"
   },
   "source": [
    "#### Special package *pandas*"
   ]
  },
  {
   "cell_type": "markdown",
   "metadata": {
    "cell_id": "1bea2c82a8d54c57a5c300887ceb04e4",
    "deepnote_cell_type": "markdown",
    "tags": []
   },
   "source": [
    "- pandas is a Python package providing fast, flexible, and expressive data structures designed to make working with “relational” or “labeled” data both easy and intuitive\n",
    "\n",
    "- the two primary data structures of pandas are *Series* (1-dimensional) and *DataFrames* (2-dimensional)\n",
    "\n",
    "- Dataframes can be regarded as a specialised dictionary which is a collection of multiple Series (comparable to an Excel table)\n",
    "    - every column has its own title\n",
    "    - every row is indexed by an index\n",
    "\n",
    "- Dataframes rely on numpy arrays for efficient data storage\n",
    "    - every column in one data frame is a series that can be referenced via the column name\n",
    "    - every set of values in a series is a numpy array"
   ]
  },
  {
   "cell_type": "markdown",
   "metadata": {},
   "source": [
    "##### Initialisation - object creation"
   ]
  },
  {
   "cell_type": "markdown",
   "metadata": {},
   "source": [
    "- external data can be read from different formats, e.g. using the ```pd.read_csv()``` or the ```pd.read_excel()``` functions\n",
    "- external files can be created in different formats, e.g. using the ```pd.to_csv()``` or the ```pd.to_excel()``` functions"
   ]
  },
  {
   "cell_type": "code",
   "execution_count": null,
   "metadata": {},
   "outputs": [],
   "source": [
    "import numpy as np\n",
    "import pandas as pd\n",
    "\n",
    "df = pd.read_csv(\"customers.txt\", header=None, delimiter=\";\", names=[\"first_name\", \"last_name\", \"birthday\", \"value_of_bought_items\"])\n",
    "\n",
    "print(df)"
   ]
  },
  {
   "cell_type": "markdown",
   "metadata": {},
   "source": [
    "- from existing data inside the python script one can create a Series by passing a list of values, letting pandas create a default *integer index*"
   ]
  },
  {
   "cell_type": "code",
   "execution_count": null,
   "metadata": {
    "collapsed": false,
    "jupyter": {
     "outputs_hidden": false
    }
   },
   "outputs": [],
   "source": [
    "s = pd.Series([1, 3, 5, np.nan, 6, 8])\n",
    "print(s)"
   ]
  },
  {
   "cell_type": "markdown",
   "metadata": {},
   "source": [
    "- creating a DataFrame is possible by passing a NumPy array -- here with a *datetime index* using ```date_range()``` and labeled columns\n",
    "- a DataFrame can have more than one index\n",
    "\n",
    "<br>\n",
    "\n",
    "- creating a DataFrame is also possible by passing a dictionary of objects that can be converted into a series-like structure"
   ]
  },
  {
   "cell_type": "code",
   "execution_count": null,
   "metadata": {
    "collapsed": false,
    "jupyter": {
     "outputs_hidden": false
    }
   },
   "outputs": [],
   "source": [
    "dates = pd.date_range(\"20230101\", periods=6)\n",
    "print(dates)\n",
    "print()\n",
    "\n",
    "df = pd.DataFrame(np.random.randn(6, 4), index=dates, columns=list(\"ABCD\"))\n",
    "print(df)\n",
    "print()\n",
    "\n",
    "df2 = pd.DataFrame(\n",
    "    {\n",
    "        \"A\": 1.0,\n",
    "        \"B\": pd.Timestamp(\"20130102\"),\n",
    "        \"C\": pd.Series(1, index=list(range(4)), dtype=\"float32\"),\n",
    "        \"D\": np.array([3] * 4, dtype=\"int32\"),\n",
    "        \"E\": pd.Categorical([\"test\", \"fail\", \"test\", \"train\"]),\n",
    "        \"F\": \"foo\",\n",
    "    }\n",
    ")\n",
    "print(df2)"
   ]
  },
  {
   "cell_type": "markdown",
   "metadata": {},
   "source": [
    "- the columns of the resulting DataFrame have different data types"
   ]
  },
  {
   "cell_type": "code",
   "execution_count": null,
   "metadata": {
    "collapsed": false,
    "jupyter": {
     "outputs_hidden": false
    }
   },
   "outputs": [],
   "source": [
    "print(df2.dtypes)"
   ]
  },
  {
   "cell_type": "markdown",
   "metadata": {},
   "source": [
    "- use ```DataFrame.head()``` and ```DataFrame.tail()``` to view the top and bottom rows of the frame respectively"
   ]
  },
  {
   "cell_type": "code",
   "execution_count": null,
   "metadata": {
    "collapsed": false,
    "jupyter": {
     "outputs_hidden": false
    }
   },
   "outputs": [],
   "source": [
    "print(df.head(3))  # standard value is first five rows"
   ]
  },
  {
   "cell_type": "markdown",
   "metadata": {},
   "source": [
    "- display the index or columns of da DataFrame"
   ]
  },
  {
   "cell_type": "code",
   "execution_count": null,
   "metadata": {
    "collapsed": false,
    "jupyter": {
     "outputs_hidden": false
    }
   },
   "outputs": [],
   "source": [
    "print(df.index)\n",
    "print()\n",
    "print(df.columns)"
   ]
  },
  {
   "cell_type": "markdown",
   "metadata": {},
   "source": [
    "- you can sort a DataFrame by index or by column values"
   ]
  },
  {
   "cell_type": "markdown",
   "metadata": {},
   "source": [
    "##### Sorting, selecting & updating data"
   ]
  },
  {
   "cell_type": "code",
   "execution_count": null,
   "metadata": {
    "collapsed": false,
    "jupyter": {
     "outputs_hidden": false
    }
   },
   "outputs": [],
   "source": [
    "df = df.sort_index(axis=1, ascending=False)\n",
    "print(df)\n",
    "print()\n",
    "\n",
    "df = df.sort_values(by=\"B\")\n",
    "print(df)"
   ]
  },
  {
   "cell_type": "markdown",
   "metadata": {},
   "source": [
    "- data from a  DataFrame can be selected"
   ]
  },
  {
   "cell_type": "code",
   "execution_count": null,
   "metadata": {
    "collapsed": false,
    "jupyter": {
     "outputs_hidden": false
    }
   },
   "outputs": [],
   "source": [
    "print(df[\"A\"])  # select single column -> returns Series\n",
    "print()\n",
    "\n",
    "print(df[0:3])  # select rows by index number"
   ]
  },
  {
   "cell_type": "code",
   "execution_count": null,
   "metadata": {
    "collapsed": false,
    "jupyter": {
     "outputs_hidden": false
    }
   },
   "outputs": [],
   "source": [
    "# get DataFrame subset ...\n",
    "print(df.loc[\"20230102\":\"20230104\", [\"A\", \"B\"]])  # ... by index values (inclusive) and column names\n",
    "print()\n",
    "\n",
    "print(df.iloc[3:5, 0:2])  # ... by numeric value positions"
   ]
  },
  {
   "cell_type": "code",
   "execution_count": null,
   "metadata": {
    "collapsed": false,
    "jupyter": {
     "outputs_hidden": false
    }
   },
   "outputs": [],
   "source": [
    "# get single value from DataFrame ...\n",
    "print(df.at[\"20230102\", \"A\"])  # ... by index value and column name\n",
    "print()\n",
    "\n",
    "print(df.iat[1, 1])  # ... by numeric value position"
   ]
  },
  {
   "cell_type": "code",
   "execution_count": null,
   "metadata": {
    "collapsed": false,
    "jupyter": {
     "outputs_hidden": false
    }
   },
   "outputs": [],
   "source": [
    "# boolean indexing\n",
    "condition_1 = df[\"A\"] > 0\n",
    "\n",
    "print(condition_1)  # boolean Series\n",
    "print()\n",
    "\n",
    "print(df[condition_1])  # filtered DataFrame\n",
    "print()\n",
    "\n",
    "print(df[condition_1 & (df[\"B\"] < -1)])  # multiple conditions connected with logical operators -> enclose in parentheses\n",
    "print()\n",
    "\n",
    "print(df2[df2[\"E\"].isin([\"test\", \"fail\"])])  # special functions are available for boolean indexing"
   ]
  },
  {
   "cell_type": "markdown",
   "metadata": {},
   "source": [
    "- values of a DataFrame can also be updated"
   ]
  },
  {
   "cell_type": "code",
   "execution_count": null,
   "metadata": {
    "collapsed": false,
    "jupyter": {
     "outputs_hidden": false
    }
   },
   "outputs": [],
   "source": [
    "print(df)\n",
    "print()\n",
    "\n",
    "df.iat[0, 1] = 0\n",
    "df.loc[:, \"D\"] = np.array([5] * len(df))\n",
    "\n",
    "print(df)"
   ]
  },
  {
   "cell_type": "markdown",
   "metadata": {},
   "source": [
    "##### Statistics"
   ]
  },
  {
   "cell_type": "markdown",
   "metadata": {},
   "source": [
    "- pandas offers a variety of statistics functions"
   ]
  },
  {
   "cell_type": "code",
   "execution_count": null,
   "metadata": {
    "collapsed": false,
    "jupyter": {
     "outputs_hidden": false
    }
   },
   "outputs": [],
   "source": [
    "print(df.describe())  # overview function\n",
    "print()\n",
    "\n",
    "print(df[\"A\"].mean())  # example of a statistics function"
   ]
  },
  {
   "cell_type": "markdown",
   "metadata": {},
   "source": [
    "##### Applying functions to values individually"
   ]
  },
  {
   "cell_type": "markdown",
   "metadata": {},
   "source": [
    "- ```DataFrame.apply()``` applies a user defined function to the data"
   ]
  },
  {
   "cell_type": "code",
   "execution_count": null,
   "metadata": {
    "collapsed": false,
    "jupyter": {
     "outputs_hidden": false
    }
   },
   "outputs": [],
   "source": [
    "print(df.apply(lambda x: x.max() - x.min()))"
   ]
  },
  {
   "cell_type": "markdown",
   "metadata": {},
   "source": [
    "##### String manipulation & string selection"
   ]
  },
  {
   "cell_type": "markdown",
   "metadata": {},
   "source": [
    "- *string methods* allow for manipulations and selections of string values"
   ]
  },
  {
   "cell_type": "code",
   "execution_count": null,
   "metadata": {
    "collapsed": false,
    "jupyter": {
     "outputs_hidden": false
    }
   },
   "outputs": [],
   "source": [
    "s = pd.Series([\"A\", \"B\", \"C\", \"Aaba\", \"Baca\", np.nan, \"CABA\", \"dog\", \"cat\"])\n",
    "\n",
    "print(s.str.lower())\n",
    "print()\n",
    "\n",
    "print(s[s.str.contains(\"a\", na=False)])"
   ]
  },
  {
   "cell_type": "markdown",
   "metadata": {},
   "source": [
    "##### Merging data"
   ]
  },
  {
   "cell_type": "markdown",
   "metadata": {},
   "source": [
    "- with SQL-like merging actions multiple dataframes can be combined"
   ]
  },
  {
   "cell_type": "code",
   "execution_count": null,
   "metadata": {
    "collapsed": false,
    "jupyter": {
     "outputs_hidden": false
    }
   },
   "outputs": [],
   "source": [
    "df3 = pd.DataFrame(np.random.randn(10, 4))\n",
    "\n",
    "# concatenating pandas objects together along an axis\n",
    "print(pd.concat([df3[:1], df3[3:7], df3[9:]]))"
   ]
  },
  {
   "cell_type": "code",
   "execution_count": null,
   "metadata": {
    "collapsed": false,
    "jupyter": {
     "outputs_hidden": false
    }
   },
   "outputs": [],
   "source": [
    "left = pd.DataFrame(\n",
    "    {\n",
    "        \"key\": \"foo\",\n",
    "        \"lval\": [1, 2]\n",
    "    }\n",
    ")\n",
    "right = pd.DataFrame(\n",
    "    {\n",
    "        \"key\": \"foo\",\n",
    "        \"rval\": [4, 5]\n",
    "    }\n",
    ")\n",
    "\n",
    "print(left)\n",
    "print()\n",
    "\n",
    "print(right)\n",
    "print()\n",
    "\n",
    "print(pd.merge(left, right, on=\"key\"))  # inner join"
   ]
  },
  {
   "cell_type": "markdown",
   "metadata": {},
   "source": [
    "##### Grouping data"
   ]
  },
  {
   "cell_type": "markdown",
   "metadata": {},
   "source": [
    "- By *Grouping* we are referring to a process involving one or more of the following steps:\n",
    "    - *Splitting* the data into groups based on some criteria\n",
    "    - *Applying* a function to each group independently\n",
    "    - *Combining* the results into a data structure"
   ]
  },
  {
   "cell_type": "code",
   "execution_count": null,
   "metadata": {
    "collapsed": false,
    "jupyter": {
     "outputs_hidden": false
    }
   },
   "outputs": [],
   "source": [
    "df4 = pd.DataFrame(\n",
    "    {\n",
    "        \"A\": [\"foo\", \"bar\", \"foo\", \"bar\", \"foo\", \"bar\", \"foo\", \"foo\"],\n",
    "        \"B\": [\"one\", \"one\", \"two\", \"three\", \"two\", \"two\", \"one\", \"three\"],\n",
    "        \"C\": np.random.randn(8),\n",
    "        \"D\": np.random.randn(8),\n",
    "    }\n",
    ")\n",
    "\n",
    "print(df4)\n",
    "print()\n",
    "\n",
    "print(df4.groupby([\"A\", \"B\"]).sum())"
   ]
  },
  {
   "cell_type": "markdown",
   "metadata": {},
   "source": [
    "##### Generating plots"
   ]
  },
  {
   "cell_type": "markdown",
   "metadata": {},
   "source": [
    "- pandas can use matplotlib to plot data from DataFrames"
   ]
  },
  {
   "cell_type": "code",
   "execution_count": null,
   "metadata": {
    "collapsed": false,
    "jupyter": {
     "outputs_hidden": false
    }
   },
   "outputs": [],
   "source": [
    "import matplotlib.pyplot as plt\n",
    "\n",
    "df5 = pd.DataFrame(\n",
    "    np.random.randn(1000, 4),\n",
    "    index=pd.date_range(\"1/1/2000\", periods=1000),\n",
    "    columns=[\"A\", \"B\", \"C\", \"D\"]\n",
    ")\n",
    "\n",
    "df5 = df5.cumsum()\n",
    "\n",
    "df5.plot()\n",
    "plt.legend(loc='best')\n",
    "\n",
    "plt.show()\n",
    "plt.close()"
   ]
  },
  {
   "cell_type": "markdown",
   "metadata": {
    "cell_id": "29f3c015729b4d3783ad7861f17530b9",
    "deepnote_cell_type": "markdown",
    "tags": []
   },
   "source": [
    "#### Special package *scipy*"
   ]
  },
  {
   "cell_type": "markdown",
   "metadata": {
    "cell_id": "ed3296e11253469d9bbacbbb452dcb1f",
    "deepnote_cell_type": "markdown",
    "tags": []
   },
   "source": [
    "- scipy includes algorithms for optimization, integration, interpolation, eigenvalue problems, algebraic equations, differential equations and many other classes of problems\n",
    "- scipy has too many functions to show here so take this example as a teaser what the library may be used for"
   ]
  },
  {
   "cell_type": "code",
   "execution_count": null,
   "metadata": {
    "cell_id": "5d1be666846449f08262c3adea66a166",
    "collapsed": false,
    "deepnote_cell_type": "code",
    "jupyter": {
     "outputs_hidden": false
    }
   },
   "outputs": [],
   "source": [
    "from scipy.signal import find_peaks\n",
    "from scipy.datasets import electrocardiogram\n",
    "import matplotlib.pyplot as plt\n",
    "\n",
    "# select the atypical heart beats from an electrocardiogram based on minimum peak widths and prominences\n",
    "\n",
    "x = electrocardiogram()[17_000:18_000]\n",
    "peaks, properties = find_peaks(x, prominence=1, width=20)\n",
    "\n",
    "plt.plot(x)\n",
    "plt.plot(peaks, x[peaks], \"x\")\n",
    "plt.vlines(x=peaks, ymin=x[peaks] - properties[\"prominences\"],\n",
    "           ymax = x[peaks], color = \"C1\")\n",
    "plt.hlines(y=properties[\"width_heights\"], xmin=properties[\"left_ips\"],\n",
    "           xmax=properties[\"right_ips\"], color = \"C1\")\n",
    "\n",
    "plt.show()\n",
    "plt.close()"
   ]
  },
  {
   "cell_type": "markdown",
   "metadata": {
    "cell_id": "4ac612b1ec9d40c2aa0110220d6a2e70",
    "deepnote_cell_type": "markdown"
   },
   "source": [
    "#### Special package *matplotlib*"
   ]
  },
  {
   "cell_type": "markdown",
   "metadata": {},
   "source": [
    "##### Types of plots"
   ]
  },
  {
   "cell_type": "markdown",
   "metadata": {
    "cell_id": "57cbcc629d6642af8958e8eeac53aa58",
    "deepnote_cell_type": "markdown"
   },
   "source": [
    "- matplotlib is a library for making 2D plots\n",
    "- it is designed with the philosophy that you should be able to create simple plots with just a few commands"
   ]
  },
  {
   "cell_type": "code",
   "execution_count": null,
   "metadata": {
    "cell_id": "e548e8044cd04162b12f9d033ad9a64c",
    "collapsed": false,
    "deepnote_cell_type": "code",
    "jupyter": {
     "outputs_hidden": false
    }
   },
   "outputs": [],
   "source": [
    "# initialise\n",
    "import numpy as np\n",
    "import matplotlib.pyplot as plt\n",
    "\n",
    "# prepare\n",
    "x = np.linspace(0, 4 * np.pi, 1000)\n",
    "y = np.sin(x)\n",
    "\n",
    "# render\n",
    "plt.plot(x, y)\n",
    "\n",
    "# observe\n",
    "plt.show()\n",
    "plt.close()"
   ]
  },
  {
   "cell_type": "markdown",
   "metadata": {},
   "source": [
    "- matplotlib offers several kinds of plots"
   ]
  },
  {
   "cell_type": "code",
   "execution_count": null,
   "metadata": {
    "cell_id": "e92e50eb88e44881a38195cc01884df9",
    "collapsed": false,
    "deepnote_cell_type": "code",
    "jupyter": {
     "outputs_hidden": false
    }
   },
   "outputs": [],
   "source": [
    "x = np.random.uniform(0, 1, 100)\n",
    "y = np.random.uniform(0, 1, 100)\n",
    "\n",
    "plt.scatter(x, y)\n",
    "\n",
    "plt.show()\n",
    "plt.close()"
   ]
  },
  {
   "cell_type": "code",
   "execution_count": null,
   "metadata": {
    "cell_id": "122d2f717626429196af64331a5a4b11",
    "collapsed": false,
    "deepnote_cell_type": "code",
    "jupyter": {
     "outputs_hidden": false
    }
   },
   "outputs": [],
   "source": [
    "x = np.arange(10)\n",
    "y = np.random.uniform(1, 10, 10)\n",
    "\n",
    "plt.bar(x, y)\n",
    "\n",
    "plt.show()\n",
    "plt.close()"
   ]
  },
  {
   "cell_type": "code",
   "execution_count": null,
   "metadata": {
    "collapsed": false,
    "jupyter": {
     "outputs_hidden": false
    }
   },
   "outputs": [],
   "source": [
    "z = np.random.uniform(0, 1, (8, 8))\n",
    "\n",
    "plt.imshow(z)\n",
    "\n",
    "plt.show()\n",
    "plt.close()"
   ]
  },
  {
   "cell_type": "code",
   "execution_count": null,
   "metadata": {
    "collapsed": false,
    "jupyter": {
     "outputs_hidden": false
    }
   },
   "outputs": [],
   "source": [
    "z = np.random.uniform(0, 1, (8,8))\n",
    "\n",
    "plt.contourf(z)\n",
    "\n",
    "plt.show()\n",
    "plt.close()"
   ]
  },
  {
   "cell_type": "code",
   "execution_count": null,
   "metadata": {
    "collapsed": false,
    "jupyter": {
     "outputs_hidden": false
    }
   },
   "outputs": [],
   "source": [
    "z = np.random.uniform(0, 1, 4)\n",
    "\n",
    "plt.pie(z)\n",
    "\n",
    "plt.show()\n",
    "plt.close()"
   ]
  },
  {
   "cell_type": "code",
   "execution_count": null,
   "metadata": {
    "collapsed": false,
    "jupyter": {
     "outputs_hidden": false
    }
   },
   "outputs": [],
   "source": [
    "z = np.random.uniform(0, 1, 100)\n",
    "\n",
    "plt.hist(z)\n",
    "\n",
    "plt.show()\n",
    "plt.close()"
   ]
  },
  {
   "cell_type": "code",
   "execution_count": null,
   "metadata": {
    "collapsed": false,
    "jupyter": {
     "outputs_hidden": false
    }
   },
   "outputs": [],
   "source": [
    "x = np.arange(5)\n",
    "y = np.random.uniform(0, 1, 5)\n",
    "\n",
    "plt.errorbar(x, y, y/4)\n",
    "\n",
    "plt.show()\n",
    "plt.close()"
   ]
  },
  {
   "cell_type": "code",
   "execution_count": null,
   "metadata": {
    "collapsed": false,
    "jupyter": {
     "outputs_hidden": false
    }
   },
   "outputs": [],
   "source": [
    "z = np.random.normal(0, 1, (100,3))\n",
    "\n",
    "plt.boxplot(z)\n",
    "\n",
    "plt.show()\n",
    "plt.close()"
   ]
  },
  {
   "cell_type": "markdown",
   "metadata": {},
   "source": [
    "##### Make plots prettier"
   ]
  },
  {
   "cell_type": "markdown",
   "metadata": {},
   "source": [
    "- you can modify pretty much anything in a plot, including limits, colors, markers, line width and styles, ticks and ticks labels, titles, etc."
   ]
  },
  {
   "cell_type": "code",
   "execution_count": null,
   "metadata": {
    "collapsed": false,
    "jupyter": {
     "outputs_hidden": false
    }
   },
   "outputs": [],
   "source": [
    "x = np.linspace(0, 10, 50)\n",
    "y = np.sin(x)\n",
    "\n",
    "plt.plot(x, y, color=\"red\", linestyle=\"--\", linewidth=2, marker=\"o\")\n",
    "\n",
    "plt.show()\n",
    "plt.close()"
   ]
  },
  {
   "cell_type": "markdown",
   "metadata": {},
   "source": [
    "##### Plot multiple data"
   ]
  },
  {
   "cell_type": "markdown",
   "metadata": {},
   "source": [
    "- You can plot several data on the the same figure, but you can also split a figure in several subplots (named *axes*):"
   ]
  },
  {
   "cell_type": "code",
   "execution_count": null,
   "metadata": {
    "collapsed": false,
    "jupyter": {
     "outputs_hidden": false
    }
   },
   "outputs": [],
   "source": [
    "x = np.linspace(0, 10, 100)\n",
    "y1, y2 = np.sin(x), np.cos(x)\n",
    "\n",
    "plt.plot(x, y1)\n",
    "plt.plot(x, y2)\n",
    "\n",
    "plt.show()\n",
    "plt.close()"
   ]
  },
  {
   "cell_type": "code",
   "execution_count": null,
   "metadata": {
    "collapsed": false,
    "jupyter": {
     "outputs_hidden": false
    }
   },
   "outputs": [],
   "source": [
    "x = np.linspace(0, 10, 100)\n",
    "y1, y2 = np.sin(x), np.cos(x)\n",
    "\n",
    "fig, (ax1, ax2) = plt.subplots(1,2)\n",
    "\n",
    "ax1.plot(y1, x, color=\"C1\")\n",
    "ax2.plot(y2, x, color=\"C0\")\n",
    "\n",
    "plt.show()\n",
    "plt.close()"
   ]
  },
  {
   "cell_type": "markdown",
   "metadata": {},
   "source": [
    "- you can annotate a plot with labels"
   ]
  },
  {
   "cell_type": "code",
   "execution_count": null,
   "metadata": {
    "collapsed": false,
    "jupyter": {
     "outputs_hidden": false
    }
   },
   "outputs": [],
   "source": [
    "x = np.linspace(0, 10, 100)\n",
    "y1, y2 = np.sin(x), np.cos(x)\n",
    "\n",
    "fig, ax = plt.subplots()\n",
    "\n",
    "ax.plot(x, y1)\n",
    "ax.plot(x, y2)\n",
    "\n",
    "ax.set_title(\"Sine and Cosine waves\")\n",
    "\n",
    "ax.set_ylabel(None)\n",
    "ax.set_xlabel(\"Time\")\n",
    "\n",
    "plt.show()\n",
    "plt.close()"
   ]
  },
  {
   "cell_type": "markdown",
   "metadata": {},
   "source": [
    "- matplotlib allows you to export figures as bitmap or vector images"
   ]
  },
  {
   "cell_type": "code",
   "execution_count": null,
   "metadata": {
    "collapsed": false,
    "jupyter": {
     "outputs_hidden": false
    }
   },
   "outputs": [],
   "source": [
    "x = np.linspace(0, 10, 100)\n",
    "y1, y2 = np.sin(x), np.cos(x)\n",
    "\n",
    "fig, ax = plt.subplots()\n",
    "\n",
    "ax.plot(x, y1)\n",
    "ax.plot(x, y2)\n",
    "\n",
    "ax.set_title(\"Sine and Cosine waves\")\n",
    "\n",
    "ax.set_ylabel(None)\n",
    "ax.set_xlabel(\"Time\")\n",
    "\n",
    "fig.savefig(\"fig.png\", dpi=300)\n",
    "fig.savefig(\"fig.pdf\", bbox_inches=\"tight\")"
   ]
  },
  {
   "cell_type": "markdown",
   "metadata": {
    "cell_id": "c23e73bd85114856bd6075c6654f8534",
    "deepnote_cell_type": "markdown"
   },
   "source": [
    "### Defining own Functions"
   ]
  },
  {
   "cell_type": "markdown",
   "metadata": {},
   "source": [
    "#### General remarks"
   ]
  },
  {
   "cell_type": "markdown",
   "metadata": {
    "cell_id": "893445e4eb314d5986427e1bfdd72f03",
    "deepnote_cell_type": "markdown"
   },
   "source": [
    "Being able to create ones own building blocks is one of the key tenants of programming: write a function once, use it and use it again whenever and wherever you need it.\n",
    "- functions are defined using the ```def``` statement\n",
    "\n",
    "<pre><code>def function_name(argument_name_1, argument_name_2 = default_value_2, ...):\n",
    "    \"\"\"docstring\"\"\"\n",
    "    \n",
    "    &lt;code body&gt;</code></pre>\n",
    "    \n",
    "- *Docstrings* are optional and describe what the function does. There are different styles for docstrings that are currently used, for example [Google](https://google.github.io/styleguide/pyguide.html#38-comments-and-docstrings) has defined their own style"
   ]
  },
  {
   "cell_type": "code",
   "execution_count": null,
   "metadata": {
    "cell_id": "eebab9e36cee4ce4bb43110a86eeb689",
    "deepnote_cell_type": "code"
   },
   "outputs": [],
   "source": [
    "# a function is an object, which has the type function\n",
    "print(type(np.random.normal))"
   ]
  },
  {
   "cell_type": "markdown",
   "metadata": {
    "cell_id": "c15bb077d1ed4efe9168bcbf995d60ac",
    "deepnote_cell_type": "markdown"
   },
   "source": [
    "- functions define variables locally meaning that they can't be accessed outside the function\n",
    "- inside the function variables from outside the function can, however, be accessed\n",
    "- functions can be nested which leads to nested name spaces"
   ]
  },
  {
   "cell_type": "code",
   "execution_count": null,
   "metadata": {
    "cell_id": "c31c82bacc7c4bb584b5fca4be709e80",
    "deepnote_cell_type": "code",
    "deepnote_to_be_reexecuted": false,
    "execution_millis": 371,
    "execution_start": 1671715451236,
    "source_hash": "57ad852c"
   },
   "outputs": [],
   "source": [
    "def local_variable_function():\n",
    "    local_variable_function_variable = 5\n",
    "    \n",
    "local_variable_function_variable"
   ]
  },
  {
   "cell_type": "code",
   "execution_count": null,
   "metadata": {
    "cell_id": "54c406a31deb47a58e259737a23ea88f",
    "deepnote_cell_type": "code"
   },
   "outputs": [],
   "source": [
    "global_variable = 3\n",
    "\n",
    "def outer_function():\n",
    "    outer_function_variable = 12\n",
    "    \n",
    "    def inner_function():\n",
    "        inner_function_variable = 6\n",
    "        \n",
    "        print(global_variable * outer_function_variable * inner_function_variable)\n",
    "        \n",
    "    inner_function()\n",
    "    print(global_variable * outer_function_variable * inner_function_variable)  # this throws an error\n",
    "    \n",
    "outer_function()"
   ]
  },
  {
   "cell_type": "markdown",
   "metadata": {
    "cell_id": "2d088b3212da43d6ace428e4b7adb084",
    "deepnote_cell_type": "markdown"
   },
   "source": [
    "- one function can also call another function, even if that function is defined afterwards"
   ]
  },
  {
   "cell_type": "code",
   "execution_count": null,
   "metadata": {
    "cell_id": "e1b08b46a51e40dda9f2839e6c9468b2",
    "deepnote_cell_type": "code"
   },
   "outputs": [],
   "source": [
    "def function_1():\n",
    "    print(\"Foo\")\n",
    "    \n",
    "def function_2():\n",
    "    function_1()\n",
    "    print(\"Faa\")\n",
    "    \n",
    "function_2()\n",
    "\n",
    "# ---\n",
    "\n",
    "def function_3():\n",
    "    function_4()  # only defined later -> still works since all functions are loaded into memory before execution of the script\n",
    "    print(\"Fii\")\n",
    "    \n",
    "def function_4():\n",
    "    print(\"Fee\")\n",
    "    \n",
    "function_3()"
   ]
  },
  {
   "cell_type": "markdown",
   "metadata": {
    "cell_id": "1ae27b44998541c397c7e7dfd2ca7000",
    "deepnote_cell_type": "markdown"
   },
   "source": [
    "- functions can recursively call themselves\n",
    "- recursions are not exactly efficient and Python sets a limit of about 1000 calls that a function can make to itself"
   ]
  },
  {
   "cell_type": "code",
   "execution_count": null,
   "metadata": {
    "cell_id": "56631386abba489089e7c1008504864f",
    "deepnote_cell_type": "code"
   },
   "outputs": [],
   "source": [
    "def recursive_countdown(n):\n",
    "    if n <= 0:\n",
    "        print(\"Lift off!\")\n",
    "    else:\n",
    "        print(n)\n",
    "        recursive_countdown(n-1)\n",
    "        \n",
    "recursive_countdown(5)"
   ]
  },
  {
   "cell_type": "markdown",
   "metadata": {
    "cell_id": "85587d22701b438993b24449b1ce1071",
    "deepnote_cell_type": "markdown"
   },
   "source": [
    "#### Arguments"
   ]
  },
  {
   "cell_type": "markdown",
   "metadata": {
    "cell_id": "8ed3307cf04f4c21a9531a27ab2cd829",
    "deepnote_cell_type": "markdown"
   },
   "source": [
    "- A function can take any number and type of variables as argument (or also called parameter) &rarr; what the function needs has to be described when defining it\n",
    "- the type of the argument does not (but can) be defined when defining the function"
   ]
  },
  {
   "cell_type": "code",
   "execution_count": null,
   "metadata": {
    "cell_id": "0b808d90e2a04b919c6151afc6cafe1b",
    "deepnote_cell_type": "code"
   },
   "outputs": [],
   "source": [
    "def function_name(argument_1, argument_2):\n",
    "    pass  # don't do anything (\"placeholder\" keyword)"
   ]
  },
  {
   "cell_type": "code",
   "execution_count": null,
   "metadata": {
    "cell_id": "98875c2341c04e868a1883ada7b8b13a",
    "deepnote_cell_type": "code"
   },
   "outputs": [],
   "source": [
    "# calling a function that requires an argument without providing one leads to a TypeError\n",
    "\n",
    "def call_me_maybe(my_name):\n",
    "    print(f\"I'll maybe call you, {my_name}.\")\n",
    "    \n",
    "call_me_maybe()"
   ]
  },
  {
   "cell_type": "markdown",
   "metadata": {
    "cell_id": "c3215b69773e469c90fcd7387c111a31",
    "deepnote_cell_type": "markdown"
   },
   "source": [
    "- by defining a default value for the argument when setting up the function, an argument can be made optional (or \"default\")\n",
    "- when the function is called without values for optional arguments then the defaults are assumed, otherwise the values are overwritten\n",
    "- optional arguments all have to be listed behind the mandatory arguments in the function definition"
   ]
  },
  {
   "cell_type": "code",
   "execution_count": null,
   "metadata": {
    "cell_id": "48729c3637604d588fe273b1490a52f2",
    "deepnote_cell_type": "code"
   },
   "outputs": [],
   "source": [
    "def compute_random_numbers(number_of_numbers = 5):\n",
    "    print(np.random.rand(number_of_numbers))\n",
    "    \n",
    "compute_random_numbers()  # 5 numbers are created by default\n",
    "compute_random_numbers(3)  # but 3 is also possible"
   ]
  },
  {
   "cell_type": "markdown",
   "metadata": {
    "cell_id": "c2e3d6444ee34c24834a8f3e57e026d9",
    "deepnote_cell_type": "markdown"
   },
   "source": [
    "- by providing *argument keywords* when calling a function, it is possible to call a function without having to stick to the order of arguments given in the definition\n",
    "- adding a ```*;``` in the function definition forces the use of keywords in all following parameters"
   ]
  },
  {
   "cell_type": "code",
   "execution_count": null,
   "metadata": {
    "cell_id": "c31071f47d9b48dba2f7f8158c730e8e",
    "deepnote_cell_type": "code"
   },
   "outputs": [],
   "source": [
    "def interest(capital, rate=0.1):\n",
    "    print(f\"Interest is {capital*rate}\")\n",
    "    \n",
    "interest(100)  # omitting default argument value\n",
    "interest(200, 0.4)  # specifiying both without argument names -> values have to be in order as defined in function\n",
    "interest(rate=0.5, capital=500)  # providing argument names allows switching the sequence of arguments\n",
    "\n",
    "def interest_with_keywords(*, capital, rate=0.1):\n",
    "    print(f\"Interest with keywords is {capital*rate}\")\n",
    "\n",
    "interest_with_keywords(capital=500, rate=0.5)\n",
    "interest_with_keywords(200, 0.4)"
   ]
  },
  {
   "cell_type": "markdown",
   "metadata": {
    "cell_id": "cb41486eb8a74967abca55a86216ebd4",
    "deepnote_cell_type": "markdown"
   },
   "source": [
    "- functions are defined once and every time the function is called its current state is updated &rarr; mutable arguments will lead to unexpected function behaviour &rarr; *do not* use mutable default arguments in Python"
   ]
  },
  {
   "cell_type": "code",
   "execution_count": null,
   "metadata": {
    "cell_id": "85944402b77c427594ecfa6c671367e2",
    "deepnote_cell_type": "code"
   },
   "outputs": [],
   "source": [
    "def mutable_arguments_are_forbidden(mutable_argument = []):\n",
    "    mutable_argument.append(\"some stuff\")\n",
    "    print(f\"A list based on {', '.join(mutable_argument)}.\")\n",
    "    \n",
    "mutable_arguments_are_forbidden()\n",
    "mutable_arguments_are_forbidden()  # the last state of the argument 'mutable_argument' is preserved \n",
    "mutable_arguments_are_forbidden()"
   ]
  },
  {
   "cell_type": "markdown",
   "metadata": {
    "cell_id": "25902ca8a58246139fbdf950d65c3797",
    "deepnote_cell_type": "markdown"
   },
   "source": [
    "- as Python does not define the type of an argument when defining the function (as in \"this function wants two numeric values\") the type of the argument has to be checked inside the function\n",
    "- the type of a variable can be checked using the ```isinstance(<variable>, <type>)``` function or by catching an exception"
   ]
  },
  {
   "cell_type": "code",
   "execution_count": null,
   "metadata": {
    "cell_id": "2c1a78a514e2495ebb207a26033d51a9",
    "deepnote_cell_type": "code"
   },
   "outputs": [],
   "source": [
    "def multiplication(factor_1, factor_2):\n",
    "    print(factor_1 + factor_2)\n",
    "\n",
    "multiplication(factor_1=\"100\", factor_2=50)  # providing a string triggers an exception"
   ]
  },
  {
   "cell_type": "code",
   "execution_count": null,
   "metadata": {
    "cell_id": "8fbedbf685834fcaa1b90490fe107c61",
    "deepnote_cell_type": "code"
   },
   "outputs": [],
   "source": [
    "def multiplication(factor_1, factor_2):\n",
    "    if isinstance(factor_1, (int, float)) and isinstance(factor_2, (int, float)): \n",
    "        print(factor_1 * factor_2)\n",
    "    else:\n",
    "        print(\"You can only multiply two numbers.\")\n",
    "        \n",
    "multiplication(factor_1=\"100\", factor_2=50)  # if it was not for the test, multiplying the string with the number would concatenate the string \"100\" 50 times\n",
    "multiplication(factor_1=100, factor_2=50)"
   ]
  },
  {
   "cell_type": "markdown",
   "metadata": {
    "cell_id": "3c75c9b6597249d2847a1e67b0dbb5fa",
    "deepnote_cell_type": "markdown"
   },
   "source": [
    "#### Functions with and without returns"
   ]
  },
  {
   "cell_type": "markdown",
   "metadata": {
    "cell_id": "a58798778110444cbd0eec6eac8ee1ab",
    "deepnote_cell_type": "markdown"
   },
   "source": [
    "- so far, the functions had an effect by printing some statements, but is was not possible to take the result out of the function\n",
    "- to write a function that returns a value (which can then be assigned to a variable), include a ```return``` statement\n",
    "- none of the statements after the ```return``` statement are executed!"
   ]
  },
  {
   "cell_type": "code",
   "execution_count": null,
   "metadata": {
    "cell_id": "49f40bd8e3db4d6981663a5f8a3fedaf",
    "deepnote_cell_type": "code"
   },
   "outputs": [],
   "source": [
    "def double_number(n):\n",
    "    return 2*n\n",
    "    print(\"I'm invisible!\")\n",
    "    \n",
    "doubled_number = double_number(2)\n",
    "print(doubled_number)"
   ]
  },
  {
   "cell_type": "markdown",
   "metadata": {
    "cell_id": "cf7ca57bcab54b8aa3d6d9ddaf60fe16",
    "deepnote_cell_type": "markdown"
   },
   "source": [
    "- generator functions look and act just like regular functions, but with one defining characteristic: they use the ```yield``` keyword instead of ```return```\n",
    "- ```yield``` indicates where a value is sent back to the caller, but unlike ```return```, you don’t exit the function afterward &rarr; instead, the state of the function is remembered\n",
    "- generators are a great way to optimize memory as they do not store all their contents in memory when they are being called the first time"
   ]
  },
  {
   "cell_type": "code",
   "execution_count": null,
   "metadata": {
    "cell_id": "98c99f4b8dba434d8e49ba16f4414137",
    "deepnote_cell_type": "code"
   },
   "outputs": [],
   "source": [
    "gen_1 = (num**2 for num in range(4))\n",
    "print(type(gen_1))\n",
    "\n",
    "for i in gen_1:\n",
    "    print(i)"
   ]
  },
  {
   "cell_type": "markdown",
   "metadata": {},
   "source": [
    "- instead of using a ```for``` loop, you can also call ```next()``` on the generator object directly to get the next output from the generator"
   ]
  },
  {
   "cell_type": "code",
   "execution_count": null,
   "metadata": {
    "collapsed": false,
    "jupyter": {
     "outputs_hidden": false
    }
   },
   "outputs": [],
   "source": [
    "def sequence():\n",
    "    num = 0\n",
    "    while num < 3:\n",
    "        yield num\n",
    "        num += 1\n",
    "\n",
    "gen_2 = sequence()\n",
    "\n",
    "print(next(gen_2))\n",
    "print(next(gen_2))\n",
    "print(next(gen_2))"
   ]
  },
  {
   "cell_type": "markdown",
   "metadata": {},
   "source": [
    "- generators throw a ```StopIteration```-Error when they run out of values to create\n",
    "- ```next``` functions can define a default value to return in this case"
   ]
  },
  {
   "cell_type": "code",
   "execution_count": null,
   "metadata": {
    "collapsed": false,
    "jupyter": {
     "outputs_hidden": false
    }
   },
   "outputs": [],
   "source": [
    "print(next(gen_2))"
   ]
  },
  {
   "cell_type": "markdown",
   "metadata": {
    "cell_id": "aaa2874aa5ec49369685fe333b5c7981",
    "deepnote_cell_type": "markdown"
   },
   "source": [
    "### Storing a set of functions or parameters in a module"
   ]
  },
  {
   "cell_type": "markdown",
   "metadata": {
    "cell_id": "4c719c4a940c4c2d96ea8ae7f335aeaf",
    "deepnote_cell_type": "markdown"
   },
   "source": [
    "- any python script ```<module_name>.py``` can be considered as a module\n",
    "- to store functions or parameters in a module that can be re-used\n",
    "    - Define them in a separate script file, which should be stored where you also store the script you are currently working with\n",
    "    - Import the module via the import statement referencing the script name\n",
    "- access imported functions or parameters as previously discussed, e.g. ```<module_name>.do_something()```\n",
    "- all functions in the imported module are defined in the course of the import statement – this may trigger errors if the function definitions are flawed!\n",
    "- more on absolute and relative imports can be read in [PEP 328](https://peps.python.org/pep-0328/)\n",
    "\n",
    "<br/>\n",
    "\n",
    "- use this functionality to split the code of your project into different files to prevent single files from becoming overly cluttered (more on this [here](https://teclado.com/30-days-of-python/python-30-day-21-multiple-files/))"
   ]
  },
  {
   "cell_type": "code",
   "execution_count": null,
   "metadata": {
    "cell_id": "3784ab288b9343a2a27b4f8bf24cf644",
    "deepnote_cell_type": "code"
   },
   "outputs": [],
   "source": [
    "import my_functions  # import functions from file \"my_functions.py\" which is located in the same folder as the executed script\n",
    "\n",
    "my_functions.hello()"
   ]
  },
  {
   "cell_type": "markdown",
   "metadata": {
    "cell_id": "00a29fed5c604b5e8edafeb52c8fbf1b",
    "deepnote_cell_type": "markdown"
   },
   "source": [
    "## Classes"
   ]
  },
  {
   "cell_type": "markdown",
   "metadata": {},
   "source": [
    "### General remarks"
   ]
  },
  {
   "cell_type": "markdown",
   "metadata": {
    "cell_id": "c124b3df0ad549ee8d13f11f5c515732",
    "deepnote_cell_type": "markdown"
   },
   "source": [
    "Python supports:\n",
    "- *imperative programming* – by implementing algorithms as step-by-step changes in a single state (flow of execution from top to bottom with small detours for functions)\n",
    "- *procedural programming* – by letting the user define functions\n",
    "- *functional programming* – particularly via a module termed ```functools``` (not covered here)\n",
    "- *object-oriented programming* – letting the user define **classes** as templates for objects\n",
    "    \n",
    "<br/>\n",
    "\n",
    "Object oriented programming aggregates data and functions into **classes of realworld objects**. Classes organise objects that:\n",
    "- have the same *attributes*\n",
    "- can use the same *methods*\n",
    "\n",
    "They combine the best of two worlds:\n",
    "- storing data that relates to one thing in one place\n",
    "- making a set of functionality as relevant to one thing available together\n",
    "- thing = object\n",
    "\n",
    "<br/>\n",
    "\n",
    "Class objects are initiated using the ```class``` statement\n",
    "\n",
    "<pre><code>class ClassName:\n",
    "    \"\"\"Optional docstring describing class\"\"\"\n",
    "    \n",
    "    def __init__(self, attribute_1, attribute_2 = default_value_2, ...):\n",
    "        &lt;code block&gt;\n",
    "        \n",
    "    def method_1(self):\n",
    "        &lt;code block&gt;</code></pre>\n",
    "       \n",
    "Classes are factories for objects:\n",
    "- Creating a new object is called instantiation: any object is an instance of a class – one variant of parametrising the class template\n",
    "- To create an object (an *instance* of a class), call the class as if it was a function, e.g.: ```new_instance = ClassName()```\n",
    "\n",
    "<br/>\n",
    "\n",
    "Naming conventions: \n",
    "- the names of classes are writen in \"camel case\": are capitalised and written as one word (e.g. \"CamelCase\") \n",
    "- the names of variables and objects are written in \"snake case\": with lower case letters separated by underscores (e.g. \"snake_case\")\n",
    "\n",
    "Class names are obtained using the ```type()``` function"
   ]
  },
  {
   "cell_type": "code",
   "execution_count": null,
   "metadata": {
    "cell_id": "b93a934a73564b4c9fcecfc3ea72216f",
    "deepnote_cell_type": "code"
   },
   "outputs": [],
   "source": [
    "# class creation:\n",
    "class Point:\n",
    "    \"\"\"Represents a point in 2D-space.\"\"\"\n",
    "    \n",
    "# instance creation:\n",
    "new_point = Point()\n",
    "\n",
    "# attribute definition and value assignment:\n",
    "new_point.x_coordinate = 15.5\n",
    "new_point.y_coordinate = 66.5\n",
    "\n",
    "# retrieving attribute values: \n",
    "print(f\"The point is at x={new_point.x_coordinate} and y={new_point.y_coordinate}\")"
   ]
  },
  {
   "cell_type": "markdown",
   "metadata": {
    "cell_id": "649de31bf7894e95ad9b2050f82e6f9e",
    "deepnote_cell_type": "markdown"
   },
   "source": [
    "- it is not necessary to pre-define attributes in the class definition to store them in an object\n",
    "- attemting to access an attribute that was not defined before will result in an ```AttributeError```"
   ]
  },
  {
   "cell_type": "code",
   "execution_count": null,
   "metadata": {
    "cell_id": "d9a95b64dd834c199f2a5f66725b4732",
    "deepnote_cell_type": "code"
   },
   "outputs": [],
   "source": [
    "new_point_2 = Point()\n",
    "\n",
    "# the attributes 'x_coordinate' and 'y_coordinate' were only defined for the instance 'new_point' of the class 'Point'\n",
    "# but not for the instance 'new_point_2'\n",
    "print(f\"The point is at x={new_point_2.x_coordinate} and y={new_point_2.y_coordinate}\")"
   ]
  },
  {
   "cell_type": "markdown",
   "metadata": {
    "cell_id": "8cf4f93cd44e4d518a51f76997f46edd",
    "deepnote_cell_type": "markdown"
   },
   "source": [
    "As any new class is defined as a type like any other (integer, float, ...), when assigning a value to an object, it is also possible to assign a new object (an instance of another class) to the existing object.\n",
    "\n",
    "- by simply assigning an object to a new variable, it is NOT copied but only aliased: the two variables will still refer to the same instance &rarr; this applies to all objects and can be annoying when overlooked\n",
    "       \n",
    "- this can be avoided by using the ```copy()``` function of the ```copy``` module"
   ]
  },
  {
   "cell_type": "code",
   "execution_count": null,
   "metadata": {
    "cell_id": "2a9f39b91c6b4761ae5739482a6d8f69",
    "deepnote_cell_type": "code"
   },
   "outputs": [],
   "source": [
    "class Article:\n",
    "    \"\"\"\"\"\"\n",
    "    \n",
    "class Customer:\n",
    "    \"\"\"\"\"\"\n",
    "    \n",
    "banana = Article()\n",
    "banana.price = 5\n",
    "banana.comments = [\"Yellow\", \"Fruity\"]\n",
    "\n",
    "new_customer = Customer()\n",
    "new_customer.favourite_article = banana\n",
    "\n",
    "\n",
    "# testing the identity of the attributes of the two classes:\n",
    "print(hex(id(new_customer.favourite_article.price)), hex(id(banana.price)))\n",
    "print(new_customer.favourite_article.price is banana.price)\n",
    "\n",
    "# testing the effect of an alteration of the attribute of one class to the other:\n",
    "banana.price = 6\n",
    "print(new_customer.favourite_article.price)\n",
    "\n",
    "banana.comments.append(\"Soft\")\n",
    "print(new_customer.favourite_article.comments)"
   ]
  },
  {
   "cell_type": "code",
   "execution_count": null,
   "metadata": {
    "cell_id": "90303a2b38c94b7cb1397c9125e897c7",
    "deepnote_cell_type": "code"
   },
   "outputs": [],
   "source": [
    "# aliasing only applies to more complex types, not to integers, floats, strings:\n",
    "int_1 = 5\n",
    "int_2 = int_1\n",
    "\n",
    "print(int_2)\n",
    "int_1 = 6\n",
    "print(int_2)\n",
    "print()\n",
    "\n",
    "# aliasing does apply to lists and dictionaries!\n",
    "list_1 = [1, 2, 3]\n",
    "list_2 = list_1\n",
    "\n",
    "print(list_2 is list_1)\n",
    "list_1.append(4)\n",
    "print(list_1)\n",
    "print(list_2)\n",
    "print()\n",
    "\n",
    "# copying prevents accidental changes:\n",
    "from copy import copy\n",
    "\n",
    "list_2 = copy(list_1)\n",
    "\n",
    "print(list_2 is list_1)\n",
    "list_1.append(5)\n",
    "print(list_1)\n",
    "print(list_2)"
   ]
  },
  {
   "cell_type": "markdown",
   "metadata": {
    "cell_id": "3ea033f8ac3a437baa92ca39e6b8e8b2",
    "deepnote_cell_type": "markdown"
   },
   "source": [
    "### Modifier functions"
   ]
  },
  {
   "cell_type": "markdown",
   "metadata": {
    "cell_id": "0e104551c4ca439fb0126db6d24b62ea",
    "deepnote_cell_type": "markdown"
   },
   "source": [
    "When being taking (pointers to) objects as arguments, functions can also work as modifiers, adjusting values within the object.\n",
    "- This can be efficient, but can also make programs harder to track and debug.\n",
    "- Anything that can be done in this way can also be achieved by handling return statements."
   ]
  },
  {
   "cell_type": "markdown",
   "metadata": {
    "cell_id": "673319f5c9da4e00b570755d1bf4e36a",
    "deepnote_cell_type": "markdown"
   },
   "source": [
    "### Methods: class functions"
   ]
  },
  {
   "cell_type": "markdown",
   "metadata": {
    "cell_id": "b117b7f817a247a59d1e0d472b360636",
    "deepnote_cell_type": "markdown"
   },
   "source": [
    "- by defining functions as part of the object, so-called *methods*, the function can access all information that is already there\n",
    "- any object instantiated from a class with that method (and only those) has access to that method\n",
    "\n",
    "<br/>\n",
    "\n",
    "The ```__init__``` method:\n",
    "- by implementing an init method and relying on it in the further code, one can avoid building inconsistent instances of a class and making mistakes in attribute assignment\n",
    "- this predefined type of method gets automatically invoked whenever an instance is instantiated\n",
    "\n",
    "When a class has an ```__init__``` method defined, objects can be instantiated from it\n",
    "- without arguments, so that attributes get assigned the standard values\n",
    "- with arguments, so that attributes get assigned the values handed to the method\n",
    "\n",
    "<br/>\n",
    "\n",
    "The ```__str__``` method:\n",
    "- invoked when the instance is printed\n",
    "- by defining this method for a specific class, it can be defined what is printed when an object from that class is printed"
   ]
  },
  {
   "cell_type": "code",
   "execution_count": null,
   "metadata": {
    "cell_id": "709ed4fb24934308827cea3c2f79f9aa",
    "deepnote_cell_type": "code"
   },
   "outputs": [],
   "source": [
    "import math\n",
    "\n",
    "\n",
    "class Circle:\n",
    "    def __init__(self, diameter):\n",
    "        self.diameter = diameter  # by the provided diameter value 'diameter' is bound to a local 'self.diameter' object variable\n",
    "        self.area = None  # not absolutely necessary to invoke attribute as None before calculation function is called, but recommended\n",
    "        \n",
    "    def __str__(self):\n",
    "        return f\"This is a circle with the diameter {self.diameter}.\"\n",
    "    \n",
    "    def calculate_area(self):  # calculation could also be done directly in __init__\n",
    "        self.area = (math.pi/4) * self.diameter ** 2\n",
    "        \n",
    "\n",
    "small_circle = Circle(3)\n",
    "\n",
    "print(small_circle.area)\n",
    "small_circle.calculate_area()  # Note: methods are called with opening and closing parentheses...\n",
    "print(small_circle.area)       #       ... and attributes without those!"
   ]
  },
  {
   "cell_type": "markdown",
   "metadata": {
    "cell_id": "e204089bf738442d86ea2ea10a71d4a7",
    "deepnote_cell_type": "markdown"
   },
   "source": [
    "# Coding Concepts"
   ]
  },
  {
   "cell_type": "markdown",
   "metadata": {
    "cell_id": "8d0c6a487fd54cf7888a1a782f830729",
    "deepnote_cell_type": "markdown"
   },
   "source": [
    "## Development approach: Prototype and Patch"
   ]
  },
  {
   "cell_type": "markdown",
   "metadata": {
    "cell_id": "38c3b97007fc4fee9c1104513685fbde",
    "deepnote_cell_type": "markdown"
   },
   "source": [
    "1. First, write code that runs without errors but does not need to quite deliver the result you want it to deliver in the end\n",
    "2. In later steps of development, you add code to “patch” the outcome from the first prototype, so that it achieves what you want\n",
    "3. In a final stage, you can clean up the code so that it achieves the desired results efficiently."
   ]
  },
  {
   "cell_type": "markdown",
   "metadata": {
    "cell_id": "51cc11a2b0cc4dca933355cfbd379cac",
    "deepnote_cell_type": "markdown",
    "tags": []
   },
   "source": [
    "- consider listing individual steps as comments (everything after a ```#``` in a code block), so you don’t “forget” anything &rarr; consider using the ```TODO``` keyword\n",
    "- write the first lines and see whether the program is working - it does not need to do everything you want it to do yet!\n",
    "- add and change the existing code incrementally - use variables to hold intermediary values to be able to keep track of them\n",
    "- Test after each incremental step\n",
    "\n",
    "*Advantages*:\n",
    "- testing after incremental steps shows where an error is likely to come from\n",
    "- writing code incrementally reduces large and complex tasks into manageable steps\n",
    "\n",
    "*Disadvantages*:\n",
    "- after you have written a working program incrementally, consider reworking it to avoid unnecessary steps or to improve computational efficiency"
   ]
  },
  {
   "cell_type": "markdown",
   "metadata": {
    "cell_id": "f032e2da791b4778bf5e933dd83fc090",
    "deepnote_cell_type": "markdown"
   },
   "source": [
    "## Testing and Debugging"
   ]
  },
  {
   "cell_type": "markdown",
   "metadata": {
    "cell_id": "d31a8ebf324643a99ec6266cf8b84fe6",
    "deepnote_cell_type": "markdown"
   },
   "source": [
    "### System validation"
   ]
  },
  {
   "cell_type": "markdown",
   "metadata": {
    "cell_id": "d31a8ebf324643a99ec6266cf8b84fe6",
    "deepnote_cell_type": "markdown"
   },
   "source": [
    "- aims to ensure system reliability, recognise flaws in design or code, and to correct them.\n",
    "- Professional projects allocate the same amount of time to testing as to implementing (50-50-rule)\n",
    "- Difficult decision: When to stop testing?\n",
    "    - Only the most creative (destructive) personnel should be testing\n",
    "    - Programmers should never test their own code\n",
    "    - Test cases should be developed by well-trained users during or after the definition of requirements\n",
    "    - Testing can show the presence of bugs, but never show their absence (E.W. Dijkstra)"
   ]
  },
  {
   "cell_type": "markdown",
   "metadata": {
    "cell_id": "d31a8ebf324643a99ec6266cf8b84fe6",
    "deepnote_cell_type": "markdown"
   },
   "source": [
    "### Formal Structure"
   ]
  },
  {
   "cell_type": "markdown",
   "metadata": {
    "cell_id": "d31a8ebf324643a99ec6266cf8b84fe6",
    "deepnote_cell_type": "markdown"
   },
   "source": [
    "1. *Test Case Identifier*: can be a number or a unique name\n",
    "2. *Test Case Description*: so that whoever does the testing knows what the test is for\n",
    "3. *Test Data*: needs to allow for efficient testing but also include special cases\n",
    "4. *Expected Result*: comparing expected and actual outcomes"
   ]
  },
  {
   "cell_type": "markdown",
   "metadata": {
    "cell_id": "d31a8ebf324643a99ec6266cf8b84fe6",
    "deepnote_cell_type": "markdown"
   },
   "source": [
    "### Test-Driven Design"
   ]
  },
  {
   "cell_type": "markdown",
   "metadata": {
    "cell_id": "d31a8ebf324643a99ec6266cf8b84fe6",
    "deepnote_cell_type": "markdown"
   },
   "source": [
    "1. Write the test of the desired functionality.\n",
    "2. Run it and confirm that it fails as expected.\n",
    "3. Then amend the code so that the test will succeed.\n",
    "\n",
    "- Do nothing until you have written a test for it.\n",
    "- Relies on functional, black-box, end-to-end, acceptance tests: What the user expects to see.\n",
    "- Relies on automated testing for efficiency."
   ]
  },
  {
   "cell_type": "markdown",
   "metadata": {
    "cell_id": "d31a8ebf324643a99ec6266cf8b84fe6",
    "deepnote_cell_type": "markdown"
   },
   "source": [
    "### Types of Bugs"
   ]
  },
  {
   "cell_type": "markdown",
   "metadata": {
    "cell_id": "d31a8ebf324643a99ec6266cf8b84fe6",
    "deepnote_cell_type": "markdown"
   },
   "source": [
    "- *Specification* – wrong model: e.g., incorrect formula\n",
    "- *Omission* – model misses something: e.g., did not take learning into account\n",
    "- *Data* – faulty parameters: e.g., mis-estimated willingness to pay\n",
    "- *Syntactical* – wrong format of statement: e.g., miss „;“ at the end of a command in Java\n",
    "- *Logical* – wrong conditioning: e.g., created an endless loop"
   ]
  },
  {
   "cell_type": "markdown",
   "metadata": {
    "cell_id": "d31a8ebf324643a99ec6266cf8b84fe6",
    "deepnote_cell_type": "markdown"
   },
   "source": [
    "### Types of Errors"
   ]
  },
  {
   "cell_type": "markdown",
   "metadata": {
    "cell_id": "d31a8ebf324643a99ec6266cf8b84fe6",
    "deepnote_cell_type": "markdown"
   },
   "source": [
    "*Syntax error*:\n",
    "- problems in the structure of a program (comparable to spelling and grammatical errors in writing)\n",
    "- shows up as soon as trying to run the program\n",
    "- E.g.: number = 8+2)\n",
    "\n",
    "*Runtime error*:\n",
    "- error does not appear until after the program has started running\n",
    "- code is syntactically correct but tries things that are not allowed or defined\n",
    "- also called exception\n",
    "- can be caught by Try-Catch blocks\n",
    "\n",
    "*Semantic error*:\n",
    "- related to meaning\n",
    "- program runs without generating error messages but does not compute the right values\n",
    "- does not do “the right thing”\n",
    "- can be tricky to find – needs meaningful test cases and plausibility checks"
   ]
  },
  {
   "cell_type": "markdown",
   "metadata": {
    "cell_id": "d31a8ebf324643a99ec6266cf8b84fe6",
    "deepnote_cell_type": "markdown"
   },
   "source": [
    "#### Errors when a function is not working"
   ]
  },
  {
   "cell_type": "markdown",
   "metadata": {
    "cell_id": "d31a8ebf324643a99ec6266cf8b84fe6",
    "deepnote_cell_type": "markdown"
   },
   "source": [
    "- Something is wrong with the arguments the function receives\n",
    "- Something is wrong within the function\n",
    "- Something is wrong with the return value or the way it is being used\n",
    "\n",
    "&rarr; Insert print statements in relevant areas of code\\\n",
    "&rarr; Insert checks (if statements) to ensure valid values"
   ]
  },
  {
   "cell_type": "markdown",
   "metadata": {
    "cell_id": "d31a8ebf324643a99ec6266cf8b84fe6",
    "deepnote_cell_type": "markdown"
   },
   "source": [
    "#### Errors from copying and aliasing"
   ]
  },
  {
   "cell_type": "markdown",
   "metadata": {
    "cell_id": "d31a8ebf324643a99ec6266cf8b84fe6",
    "deepnote_cell_type": "markdown"
   },
   "source": [
    "- recognise aliased structures by printing its memory adress ```print(hex(id(<var>)))```\n",
    "- When you want to adjust a list (by removing items or sorting it), it can make sense to store a copy to not lose the original information (using the ```copy()``` function)"
   ]
  },
  {
   "cell_type": "markdown",
   "metadata": {
    "cell_id": "d31a8ebf324643a99ec6266cf8b84fe6",
    "deepnote_cell_type": "markdown"
   },
   "source": [
    "#### Errors when reading and writing files"
   ]
  },
  {
   "cell_type": "markdown",
   "metadata": {
    "cell_id": "d31a8ebf324643a99ec6266cf8b84fe6",
    "deepnote_cell_type": "markdown"
   },
   "source": [
    "- can result from whitespace, as spaces, tabs and newlines are normally invisible\n",
    "- the function ```repr(<var>)``` can help, as it represents whitespace characters with the backslash sequences that introduces them in strings"
   ]
  },
  {
   "cell_type": "markdown",
   "metadata": {
    "cell_id": "d31a8ebf324643a99ec6266cf8b84fe6",
    "deepnote_cell_type": "markdown"
   },
   "source": [
    "#### Avoiding errors when using objects"
   ]
  },
  {
   "cell_type": "markdown",
   "metadata": {
    "cell_id": "d31a8ebf324643a99ec6266cf8b84fe6",
    "deepnote_cell_type": "markdown"
   },
   "source": [
    "- use ```isinstance(<obj>, <class>)``` to check whether objectname is an instance of classname or to check for the data type stored in a variable\n",
    "- ```hasattr(<obj>, <attribute name>)``` checks whether objectname has an attribute termed attributename"
   ]
  },
  {
   "cell_type": "markdown",
   "metadata": {
    "cell_id": "d31a8ebf324643a99ec6266cf8b84fe6",
    "deepnote_cell_type": "markdown"
   },
   "source": [
    "#### Helpful information to be found in error messages"
   ]
  },
  {
   "cell_type": "markdown",
   "metadata": {
    "cell_id": "d31a8ebf324643a99ec6266cf8b84fe6",
    "deepnote_cell_type": "markdown"
   },
   "source": [
    "Where did the error occur?\n",
    "- Which script file?\n",
    "- Which module?\n",
    "- Which line?\n",
    "\n",
    "What type of error was it?\n",
    "\n",
    "&rarr; read them carefully but do not assume that they tell you everything or that everything they tell you is correct"
   ]
  },
  {
   "cell_type": "markdown",
   "metadata": {
    "cell_id": "d31a8ebf324643a99ec6266cf8b84fe6",
    "deepnote_cell_type": "markdown"
   },
   "source": [
    "### Tips on Debugging"
   ]
  },
  {
   "cell_type": "markdown",
   "metadata": {
    "cell_id": "d31a8ebf324643a99ec6266cf8b84fe6",
    "deepnote_cell_type": "markdown"
   },
   "source": [
    "1. **Find ways to duplicate** the bug\n",
    "    - Find a parameter setting where the bug occurs every time\n",
    "    - Fix random seeds to avoid variation\n",
    "\n",
    "\n",
    "2. **Describe** the bug\n",
    "    - The act of stating the problem often brings its source to surface\n",
    "\n",
    "\n",
    "3. Always assume it is a bug **in your code**\n",
    "    - It is not a marvellous new finding\n",
    "    - It is not a problem with the language or the framework\n",
    "\n",
    "\n",
    "4. **Divide and conquer**\n",
    "    - Find out which parts of the program are not buggy\n",
    "    - Build the simplest model and setting that still duplicates the error\n",
    "    \n",
    "\n",
    "5. **Be creative**\n",
    "    - Try out alternative ways of doing what you want to do, not to solve, but to eliminate the bug\n",
    "\n",
    "\n",
    "6. **Leverage tools**\n",
    "    - Use the environment’s step-by-step features, variable monitors, stop points etc.\n",
    "\n",
    "\n",
    "7. Take notes and **go step by step**\n",
    "    - Keep track of variable values \n",
    "    - Close the doors and shut out every distraction-\n",
    "    - If it helps, do it in pairs\n",
    "\n",
    "\n",
    "8. **Verify** that the bug is fixed\n",
    "    - Try out whether you find new settings to bring the bug back"
   ]
  },
  {
   "cell_type": "markdown",
   "metadata": {
    "cell_id": "d31a8ebf324643a99ec6266cf8b84fe6",
    "deepnote_cell_type": "markdown"
   },
   "source": [
    "### Things to try when debugging"
   ]
  },
  {
   "cell_type": "markdown",
   "metadata": {
    "cell_id": "d31a8ebf324643a99ec6266cf8b84fe6",
    "deepnote_cell_type": "markdown"
   },
   "source": [
    "- *Reading*: read the code back to yourself\n",
    "- *Running*: make experiments with different versions of the code\n",
    "- *Ruminating*: What kind of error? What is information from the error message? What did you do before the error started to appear?\n",
    "- *Rubberducking*: Explain the problem to someone else – or to a rubber duck.\n",
    "- *Retreating*: Undo recent changes until the code is working again and then start rebuilding\n",
    "\n",
    "<br>\n",
    "\n",
    "- use small test cases to avoid long run times\n",
    "- write checks that summarise the data, e.g. instead of printing out the list, try checking for the number of items to see whether it is complete\n",
    "- Write checks in the code\n",
    "    - “sanity check”: check for values that should never occur\n",
    "    - “consistency check”: compute the same result through two ways and check whether the results actually match\n",
    "- Format your print statements to let you quickly see if something is wrong"
   ]
  }
 ],
 "metadata": {
  "deepnote": {},
  "deepnote_execution_queue": [],
  "deepnote_full_width": true,
  "deepnote_notebook_id": "36da36b15de3485abf283e49a638a290",
  "deepnote_persisted_session": {
   "createdAt": "2023-01-05T20:15:14.326Z"
  },
  "kernelspec": {
   "display_name": "Python 3 (ipykernel)",
   "language": "python",
   "name": "python3"
  },
  "language_info": {
   "codemirror_mode": {
    "name": "ipython",
    "version": 3
   },
   "file_extension": ".py",
   "mimetype": "text/x-python",
   "name": "python",
   "nbconvert_exporter": "python",
   "pygments_lexer": "ipython3",
   "version": "3.11.1"
  },
  "toc-autonumbering": true,
  "toc-showcode": false,
  "toc-showmarkdowntxt": false,
  "toc-showtags": false
 },
 "nbformat": 4,
 "nbformat_minor": 4
}
