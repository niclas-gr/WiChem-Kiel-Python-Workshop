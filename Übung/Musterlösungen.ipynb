{
 "cells": [
  {
   "cell_type": "markdown",
   "metadata": {
    "cell_id": "d46b2315d5794afd8affe0db91e96a9d",
    "deepnote_cell_type": "markdown",
    "tags": []
   },
   "source": [
    "# Übung zum Python-Workshop"
   ]
  },
  {
   "cell_type": "markdown",
   "metadata": {
    "cell_id": "5c8ca339e6cd45c69eb9b179b2a0b97c",
    "deepnote_cell_type": "markdown",
    "tags": []
   },
   "source": [
    "Diese kleine Übung behandelt die wichtigsten Konzepte, die im Workshop vorgestellt wurden. Ihr werdet diese Aufgaben in Gruppen bearbeiten. Bei Fragen stehen wir gerne zur Verfügung."
   ]
  },
  {
   "cell_type": "markdown",
   "metadata": {
    "cell_id": "1ee73986dbcd4ca1a784f17b93397ff5",
    "deepnote_cell_type": "markdown",
    "tags": []
   },
   "source": [
    "### Output und Variablen"
   ]
  },
  {
   "cell_type": "markdown",
   "metadata": {
    "cell_id": "e5ba56eae4af41ddb1f76514cce48351",
    "deepnote_cell_type": "markdown",
    "tags": []
   },
   "source": [
    "1. Lasst euch ```Moin``` ausgeben."
   ]
  },
  {
   "cell_type": "code",
   "execution_count": 1,
   "metadata": {
    "cell_id": "14cf5bee654b4470ace6006b49631d05",
    "deepnote_cell_type": "code",
    "deepnote_to_be_reexecuted": false,
    "execution_millis": 2,
    "execution_start": 1672421202044,
    "source_hash": "a5992150",
    "tags": []
   },
   "outputs": [
    {
     "name": "stdout",
     "output_type": "stream",
     "text": [
      "Moin\n"
     ]
    }
   ],
   "source": [
    "print(\"Moin\")"
   ]
  },
  {
   "cell_type": "markdown",
   "metadata": {
    "cell_id": "2ffe23f02825429bac27f4831ce81bb9",
    "deepnote_cell_type": "markdown",
    "tags": []
   },
   "source": [
    "2. Speichert den Wert ```42``` in einer Variable euer Wahl."
   ]
  },
  {
   "cell_type": "code",
   "execution_count": 2,
   "metadata": {
    "cell_id": "8fb79725b33d4ab4a7aceed3b39eafa4",
    "deepnote_cell_type": "code",
    "tags": []
   },
   "outputs": [],
   "source": [
    "forty_two = 42"
   ]
  },
  {
   "cell_type": "markdown",
   "metadata": {
    "cell_id": "6fa7370132984a1e88e92a8abef24fbb",
    "deepnote_cell_type": "markdown",
    "tags": []
   },
   "source": [
    "3. Lasst euch den Text ```Der Wert unserer Variable ist 42``` ausgeben, wobei ```42``` aus dem Wert der zuvor abgespeicherten Variable kommt."
   ]
  },
  {
   "cell_type": "code",
   "execution_count": 3,
   "metadata": {
    "cell_id": "9070f8b2ec3f42f795f33cd4b49a1b4e",
    "deepnote_cell_type": "code",
    "tags": []
   },
   "outputs": [
    {
     "name": "stdout",
     "output_type": "stream",
     "text": [
      "Der Wert unserer Variable ist 42\n"
     ]
    }
   ],
   "source": [
    "print(f\"Der Wert unserer Variable ist {forty_two}\")"
   ]
  },
  {
   "cell_type": "markdown",
   "metadata": {
    "cell_id": "c5ecb7decc4742d7ad6348486ea55be8",
    "deepnote_cell_type": "markdown",
    "tags": []
   },
   "source": [
    "4. Behebt den Fehler der Variable ```1is42```."
   ]
  },
  {
   "cell_type": "code",
   "execution_count": 4,
   "metadata": {
    "cell_id": "84080d94b54c47238c9711ff5c0d25a5",
    "deepnote_cell_type": "code",
    "tags": []
   },
   "outputs": [],
   "source": [
    "one_is_42 = 42  # leading number not allowed"
   ]
  },
  {
   "cell_type": "markdown",
   "metadata": {
    "cell_id": "c7ac1d43b366439fbdda5c6a6047ff25",
    "deepnote_cell_type": "markdown",
    "tags": []
   },
   "source": [
    "5. Speichert den Wert in der Variable ```my_number``` in einer Zahl, sodass mit dieser gerechnet werden kann. Welcher Datentyp ist dafür erforderlich?"
   ]
  },
  {
   "cell_type": "code",
   "execution_count": 5,
   "metadata": {
    "cell_id": "3b0a436cf3974b10bd5b66e115c2349e",
    "deepnote_cell_type": "code",
    "tags": []
   },
   "outputs": [
    {
     "name": "stdout",
     "output_type": "stream",
     "text": [
      "77\n"
     ]
    }
   ],
   "source": [
    "# Correct the following code for (5) here\n",
    "\n",
    "my_number = int(\"72\")  # integer or float possible\n",
    "print(my_number + 5)"
   ]
  },
  {
   "cell_type": "markdown",
   "metadata": {
    "cell_id": "79fa129b05474d98a731687ed407e104",
    "deepnote_cell_type": "markdown",
    "tags": []
   },
   "source": [
    "## Operatoren"
   ]
  },
  {
   "cell_type": "markdown",
   "metadata": {
    "cell_id": "dd6c4b68041d492db64e98a730b3dba5",
    "deepnote_cell_type": "markdown",
    "tags": []
   },
   "source": [
    "1. Berechnet den Flächeninhalt und den Umfang des Quadrats der Seitenlänge ```a```, des Rechtecks mit den Seitenlängen ```a``` und ```b``` sowie des Kreises mit dem Radius ```r```. Gebt alle berechneten Werte anschließend aus."
   ]
  },
  {
   "cell_type": "code",
   "execution_count": 6,
   "metadata": {
    "cell_id": "114d616feb014983891c096a547fa949",
    "deepnote_cell_type": "code",
    "deepnote_to_be_reexecuted": false,
    "execution_millis": 3,
    "execution_start": 1672422034902,
    "output_cleared": true,
    "source_hash": "4ea9942c",
    "tags": []
   },
   "outputs": [
    {
     "name": "stdout",
     "output_type": "stream",
     "text": [
      "20 16 43.982297150257104 25 15 153.93804002589985\n"
     ]
    }
   ],
   "source": [
    "from numpy import pi\n",
    "\n",
    "a = 5\n",
    "b = 3\n",
    "r = 7\n",
    "\n",
    "# Enter your code for (1) here\n",
    "\n",
    "u_quadrat =  4 * a\n",
    "u_rechteck =  2 * (a + b)\n",
    "u_kreis =  2 * pi * r\n",
    "\n",
    "a_quadrat =  a ** 2\n",
    "a_rechteck =  a * b\n",
    "a_kreis =  pi * r ** 2\n",
    "\n",
    "print(u_quadrat, u_rechteck, u_kreis, a_quadrat, a_rechteck, a_kreis)"
   ]
  },
  {
   "cell_type": "markdown",
   "metadata": {
    "cell_id": "218d3df5d31f4aca968b6bb2d525eba8",
    "deepnote_cell_type": "markdown",
    "tags": []
   },
   "source": [
    "2. Prüft, ob die Differenz des Flächeninhalts des Quadrats und des Rechtecks kleiner als der Flächeninhalt des Kreises ist. Sollte dies der Fall sein, gebt ```Ja``` aus, sonst ```Nein```."
   ]
  },
  {
   "cell_type": "code",
   "execution_count": 7,
   "metadata": {
    "cell_id": "28886289148b422592ea3cd9e18f32ba",
    "deepnote_cell_type": "code",
    "tags": []
   },
   "outputs": [
    {
     "name": "stdout",
     "output_type": "stream",
     "text": [
      "Ja\n"
     ]
    }
   ],
   "source": [
    "condition = a_quadrat - a_rechteck < a_kreis\n",
    "\n",
    "if condition:\n",
    "    print(\"Ja\")\n",
    "else:\n",
    "    print(\"Nein\")"
   ]
  },
  {
   "cell_type": "markdown",
   "metadata": {
    "cell_id": "f2b397fa69584ec29ddff644ad4a2f6c",
    "deepnote_cell_type": "markdown",
    "tags": []
   },
   "source": [
    "3. Sagt die Ausgaben der folgenden logischen Verknüpfungen voraus."
   ]
  },
  {
   "cell_type": "code",
   "execution_count": 8,
   "metadata": {
    "cell_id": "e52358aad6144a42b50042db5c7a1783",
    "deepnote_cell_type": "code",
    "deepnote_to_be_reexecuted": false,
    "execution_millis": 3,
    "execution_start": 1673200318042,
    "output_cleared": true,
    "source_hash": "1b19e833",
    "tags": []
   },
   "outputs": [
    {
     "name": "stdout",
     "output_type": "stream",
     "text": [
      "False\n"
     ]
    }
   ],
   "source": [
    "val = False and True\n",
    "print(val)  # insert your prediction here: False"
   ]
  },
  {
   "cell_type": "code",
   "execution_count": 9,
   "metadata": {
    "cell_id": "60db5880f45a4c4caf700ba560ab15ab",
    "deepnote_cell_type": "code",
    "tags": []
   },
   "outputs": [
    {
     "name": "stdout",
     "output_type": "stream",
     "text": [
      "True\n"
     ]
    }
   ],
   "source": [
    "val = False ^ True\n",
    "print(val)  # insert your prediction here: True"
   ]
  },
  {
   "cell_type": "code",
   "execution_count": 10,
   "metadata": {
    "cell_id": "eb203a45dea340c1848b1d8827cfd255",
    "deepnote_cell_type": "code",
    "tags": []
   },
   "outputs": [
    {
     "name": "stdout",
     "output_type": "stream",
     "text": [
      "True\n"
     ]
    }
   ],
   "source": [
    "val = (False or False or True) and (True ^ False) ^ (not (True and True or False))\n",
    "print(val)  # insert your prediction here: True"
   ]
  },
  {
   "cell_type": "markdown",
   "metadata": {
    "cell_id": "59fb43162be44c20828852d0ab433323",
    "deepnote_cell_type": "markdown",
    "tags": []
   },
   "source": [
    "## Entscheidungsstrukturen"
   ]
  },
  {
   "cell_type": "markdown",
   "metadata": {
    "cell_id": "c5944c50ef764259bf25dbdd02cbae42",
    "deepnote_cell_type": "markdown",
    "tags": []
   },
   "source": [
    "Implementiert den folgenden Entscheidungsbaum mit den Tiernamen als Ausgabe in den entsprechenden Fällen. Test eure Struktur mit dem gegebenen Beispiel - welches Tier kommt mit den vorgegebenen Entscheidungswerten heraus?"
   ]
  },
  {
   "cell_type": "markdown",
   "metadata": {
    "cell_id": "5f9066b86908472b85725fdf7cf9dce1",
    "deepnote_cell_type": "markdown",
    "tags": []
   },
   "source": [
    "<p align=\"center\">\n",
    "  <img src=\"Entscheidungsbaum.png\"/>\n",
    "</p>"
   ]
  },
  {
   "cell_type": "code",
   "execution_count": 11,
   "metadata": {
    "cell_id": "5bab31f732174d6ea26ac2357ad1c6db",
    "deepnote_cell_type": "code",
    "tags": []
   },
   "outputs": [
    {
     "name": "stdout",
     "output_type": "stream",
     "text": [
      "Bed bug!\n"
     ]
    }
   ],
   "source": [
    "num_legs = 6\n",
    "delicious = False\n",
    "hiding_under_bed = True\n",
    "on_5_cent_coin = True\n",
    "star_of_charlottes_web = False\n",
    "makes_honey = False\n",
    "\n",
    "if num_legs > 5:\n",
    "    if hiding_under_bed:\n",
    "        if star_of_charlottes_web:\n",
    "            print(\"Spider!\")\n",
    "        else:\n",
    "            print(\"Bed bug!\")\n",
    "    else:\n",
    "        if makes_honey:\n",
    "            print(\"Honeybee!\")\n",
    "        else:\n",
    "            print(\"Mosquito!\")\n",
    "else:\n",
    "    if delicious:\n",
    "        if star_of_charlottes_web:\n",
    "            print(\"Pig!\")\n",
    "        else:\n",
    "            print(\"Bison!\")\n",
    "    else:\n",
    "        if on_5_cent_coin:\n",
    "            print(\"Echidna!\")\n",
    "        else:\n",
    "            print(\"Kitty cat!\")"
   ]
  },
  {
   "cell_type": "markdown",
   "metadata": {
    "cell_id": "75c1826c3c98452f8628e4285167b1b9",
    "deepnote_cell_type": "markdown",
    "tags": []
   },
   "source": [
    "## Schleifen, Lesen und Schreiben von Textdateien"
   ]
  },
  {
   "cell_type": "markdown",
   "metadata": {
    "cell_id": "d5f99a0946b647abbde32c51c6bc5ff3",
    "deepnote_cell_type": "markdown",
    "tags": []
   },
   "source": [
    "1. Fragt 5 Personen der Reihe nach, wie sie heißen, indem ihr ihnen die Frage \"Person ```X```, wie heißen Sie?\" mit ```X``` als Nummer der Person stellt. Schreibt, mit einer Frage und Antwort pro Zeile, die Frage nach dem Namen und den geantworteten Namen in die Datei ```questions_and_names.txt```.\n",
    "\n",
    "**Hinweis**: Die zu schreibende Datei muss UTF-8 encoded sein. Dies ist in der entsprechenden Funktion mit dem Encoding-Wert ```\"utf-8\"``` möglich"
   ]
  },
  {
   "cell_type": "code",
   "execution_count": 12,
   "metadata": {
    "cell_id": "93feabc7f8ef4fc497473aed0b219c72",
    "deepnote_cell_type": "code",
    "tags": []
   },
   "outputs": [
    {
     "name": "stdin",
     "output_type": "stream",
     "text": [
      "Person 1, wie heißen sie?  Max\n",
      "Person 2, wie heißen sie?  Hanna\n",
      "Person 3, wie heißen sie?  Emil\n",
      "Person 4, wie heißen sie?  Karl\n",
      "Person 5, wie heißen sie?  Kira\n"
     ]
    }
   ],
   "source": [
    "names = \"\"\n",
    "for i in range(1, 6):  # range to 6 since 6 is not included in iteration; start from 1 since normally, the iterator would start from 0\n",
    "    question = f\"Person {i}, wie heißen sie? \"\n",
    "    name = input(question)\n",
    "    names += f\"{question}{name}\\n\"  # append to existing string using new-line operator \"\\n\" to write each name in a new line\n",
    "    \n",
    "with open(\"questions_and_names.txt\", mode=\"w\", encoding=\"utf-8\") as f:\n",
    "    f.write(names)"
   ]
  },
  {
   "cell_type": "markdown",
   "metadata": {
    "cell_id": "62701074a57e46e9b1fc009e5186b994",
    "deepnote_cell_type": "markdown",
    "tags": []
   },
   "source": [
    "2. Die Namen der 20 Personen stehen missformatiert in der Datei ```names.txt``` (um die Datei aufzurufen, klicke auf den Dateinamen im Menü FILES am rechten Fensterrand). Lasst euch die Namen der Personen ausgegeben und formatiert diese passend, sodass störende Leerzeichen und Tabulatoren entfernt werden."
   ]
  },
  {
   "cell_type": "code",
   "execution_count": 13,
   "metadata": {
    "cell_id": "e384493a03a54f0a97d9988570010584",
    "deepnote_cell_type": "code",
    "tags": []
   },
   "outputs": [
    {
     "name": "stdout",
     "output_type": "stream",
     "text": [
      "['Tiana Haney', 'Jair Ponce', 'Kenyon Vega', 'Antwan Christian', 'Maggie Carpenter', 'Finley Massey', 'Frances Beck', 'Jaelynn Lowery', 'Giovani Sharp', 'Trevor Mooney', 'Elisa Tucker', 'Trevor Russo', 'Sonia Delacruz', 'Dillon Ho', 'Skyla Gonzalez', 'Aaron Berger', 'Kenzie Hernandez', 'Alexandra Cummings', 'Gary Park', 'Naima Meyer']\n"
     ]
    }
   ],
   "source": [
    "with open(\"names.txt\", encoding=\"utf-8\") as f:  # with-operators allows us to automatically close the file\n",
    "    names = f.read()  # read whole text into one string\n",
    "\n",
    "names = names.split(\"\\n\")  # split string into list at line-splitting delimiters since each person's name is in it's own line -> can also be chained with previous line\n",
    "names = [' '.join(n.split()) for n in names]  # remove redundent whitespace between words in list comprehension\n",
    "\n",
    "print(names)"
   ]
  },
  {
   "cell_type": "markdown",
   "metadata": {
    "cell_id": "52b58866c88143b499c4b7485a0dbdb0",
    "deepnote_cell_type": "markdown",
    "tags": []
   },
   "source": [
    "3. Beginnend mit ```14312```, verdreifacht den Zahlenwert der Variable ```n``` und addiert anschließend ```1```, wenn ```n``` ungerade ist und teilt ```n``` durch ```2```, wenn ```n``` gerade ist. Stoppt, sobald ```n``` den Wert ```1``` hat und lasst euch den Wert von ```n``` nach jedem Rechenschritt ausgeben. \n",
    "\n",
    "**Hinweis**: Benutzt den vorgestellten Modulus-Operator für den Test auf gerade oder ungerade Zahlen"
   ]
  },
  {
   "cell_type": "code",
   "execution_count": 14,
   "metadata": {
    "cell_id": "aafef6799c014b2d8ab8f863b31db749",
    "deepnote_cell_type": "code",
    "deepnote_to_be_reexecuted": false,
    "execution_millis": 3,
    "execution_start": 1673203605402,
    "output_cleared": true,
    "source_hash": "20b2d672",
    "tags": []
   },
   "outputs": [
    {
     "name": "stdout",
     "output_type": "stream",
     "text": [
      "14312\n",
      "7156\n",
      "3578\n",
      "1789\n",
      "5368\n",
      "2684\n",
      "1342\n",
      "671\n",
      "2014\n",
      "1007\n",
      "3022\n",
      "1511\n",
      "4534\n",
      "2267\n",
      "6802\n",
      "3401\n",
      "10204\n",
      "5102\n",
      "2551\n",
      "7654\n",
      "3827\n",
      "11482\n",
      "5741\n",
      "17224\n",
      "8612\n",
      "4306\n",
      "2153\n",
      "6460\n",
      "3230\n",
      "1615\n",
      "4846\n",
      "2423\n",
      "7270\n",
      "3635\n",
      "10906\n",
      "5453\n",
      "16360\n",
      "8180\n",
      "4090\n",
      "2045\n",
      "6136\n",
      "3068\n",
      "1534\n",
      "767\n",
      "2302\n",
      "1151\n",
      "3454\n",
      "1727\n",
      "5182\n",
      "2591\n",
      "7774\n",
      "3887\n",
      "11662\n",
      "5831\n",
      "17494\n",
      "8747\n",
      "26242\n",
      "13121\n",
      "39364\n",
      "19682\n",
      "9841\n",
      "29524\n",
      "14762\n",
      "7381\n",
      "22144\n",
      "11072\n",
      "5536\n",
      "2768\n",
      "1384\n",
      "692\n",
      "346\n",
      "173\n",
      "520\n",
      "260\n",
      "130\n",
      "65\n",
      "196\n",
      "98\n",
      "49\n",
      "148\n",
      "74\n",
      "37\n",
      "112\n",
      "56\n",
      "28\n",
      "14\n",
      "7\n",
      "22\n",
      "11\n",
      "34\n",
      "17\n",
      "52\n",
      "26\n",
      "13\n",
      "40\n",
      "20\n",
      "10\n",
      "5\n",
      "16\n",
      "8\n",
      "4\n",
      "2\n",
      "1\n"
     ]
    }
   ],
   "source": [
    "n = 14_312\n",
    "\n",
    "print(n)\n",
    "while n != 1:\n",
    "    if n%2 != 0:  # if uneven\n",
    "        n = 3*n + 1\n",
    "    else:\n",
    "        n /= 2\n",
    "    print(int(n))"
   ]
  },
  {
   "cell_type": "markdown",
   "metadata": {
    "cell_id": "aafc93fb45c045609b4e51413c0b3b70",
    "deepnote_cell_type": "markdown",
    "tags": []
   },
   "source": [
    "**Fun-Fact**: Das beschriebene mathematische Problem von (3) ist unter dem Namen [\"Collatz-Problem\"](https://de.wikipedia.org/wiki/Collatz-Problem) bekannt. Wenn ihr einen Startwert für ```n``` findet, bei dem die letzten Zahlen der Reihe nicht ```4```, ```2``` und ```1``` sind, könnt ihr Preisgeld von umgerechnet rund [850 000 €](https://mathprize.net/posts/collatz-conjecture) gewinnen."
   ]
  },
  {
   "cell_type": "markdown",
   "metadata": {
    "cell_id": "ba0ecb2b21674c0384bb54b5ddd264b7",
    "deepnote_cell_type": "markdown",
    "tags": []
   },
   "source": [
    "## Listen, Tuples, Sets und Dictionaries"
   ]
  },
  {
   "cell_type": "markdown",
   "metadata": {
    "cell_id": "84879aced28649208ee805988363540d",
    "deepnote_cell_type": "markdown",
    "tags": []
   },
   "source": [
    "1. Speichert die Elemente der Collatz-Reihe von ```14312``` in einer Liste und sortiert die Elemente der Liste in absteigender Reihenfolge. Lasst euch die Länge der Liste sowie dessen Mittelwert ausgeben."
   ]
  },
  {
   "cell_type": "code",
   "execution_count": 15,
   "metadata": {
    "cell_id": "a1ce707d16bf41a0be543cb0c13a1e45",
    "deepnote_cell_type": "code",
    "tags": []
   },
   "outputs": [
    {
     "name": "stdout",
     "output_type": "stream",
     "text": [
      "Länge: 103\n",
      "Mittelwert: 4914.961165048544\n"
     ]
    }
   ],
   "source": [
    "from numpy import mean\n",
    "\n",
    "i = 14_312\n",
    "r = [i]  # initialise list with starting value\n",
    "\n",
    "while i != 1:\n",
    "    if i%2 != 0:  # if uneven\n",
    "        i = 3*i + 1\n",
    "    else:\n",
    "        i /= 2\n",
    "    r.append(int(i))\n",
    "    \n",
    "r = sorted(r, reverse=True)\n",
    "\n",
    "print(\"Länge:\", len(r))\n",
    "print(\"Mittelwert:\", mean(r))  # value could also be calculated manually"
   ]
  },
  {
   "cell_type": "markdown",
   "metadata": {
    "cell_id": "e8fa46e441da412ea0ac3c40823abbc6",
    "deepnote_cell_type": "markdown",
    "tags": []
   },
   "source": [
    "2. Konvertiert eure Liste zu einem Tuple und fügt die Werte ```4```, ```2``` und ```1```, die als Nächstes in der Collatz-Reihe folgen würden, hinzu."
   ]
  },
  {
   "cell_type": "code",
   "execution_count": 16,
   "metadata": {
    "cell_id": "99e318129e2346ecb7f2ce383ceb674c",
    "deepnote_cell_type": "code",
    "tags": []
   },
   "outputs": [
    {
     "name": "stdout",
     "output_type": "stream",
     "text": [
      "(39364, 29524, 26242, 22144, 19682, 17494, 17224, 16360, 14762, 14312, 13121, 11662, 11482, 11072, 10906, 10204, 9841, 8747, 8612, 8180, 7774, 7654, 7381, 7270, 7156, 6802, 6460, 6136, 5831, 5741, 5536, 5453, 5368, 5182, 5102, 4846, 4534, 4306, 4090, 3887, 3827, 3635, 3578, 3454, 3401, 3230, 3068, 3022, 2768, 2684, 2591, 2551, 2423, 2302, 2267, 2153, 2045, 2014, 1789, 1727, 1615, 1534, 1511, 1384, 1342, 1151, 1007, 767, 692, 671, 520, 346, 260, 196, 173, 148, 130, 112, 98, 74, 65, 56, 52, 49, 40, 37, 34, 28, 26, 22, 20, 17, 16, 14, 13, 11, 10, 8, 7, 5, 4, 2, 1, 4, 2, 1)\n"
     ]
    }
   ],
   "source": [
    "r.extend([4, 2, 1])  # extend function adds values individually instead of as list object\n",
    "r = tuple(r)  # casting has to happen second as tuples can not be extended\n",
    "\n",
    "print(r)"
   ]
  },
  {
   "cell_type": "markdown",
   "metadata": {
    "cell_id": "c27f6691c3914228a0c3a72820ce240c",
    "deepnote_cell_type": "markdown",
    "tags": []
   },
   "source": [
    "3. Entfernt die letzten hinzugefügten (doppelten) Zahlen erneut."
   ]
  },
  {
   "cell_type": "code",
   "execution_count": 17,
   "metadata": {
    "cell_id": "321705fa10f44c4f8b69eead5b3c5877",
    "deepnote_cell_type": "code",
    "tags": []
   },
   "outputs": [
    {
     "name": "stdout",
     "output_type": "stream",
     "text": [
      "(39364, 29524, 26242, 22144, 19682, 17494, 17224, 16360, 14762, 14312, 13121, 11662, 11482, 11072, 10906, 10204, 9841, 8747, 8612, 8180, 7774, 7654, 7381, 7270, 7156, 6802, 6460, 6136, 5831, 5741, 5536, 5453, 5368, 5182, 5102, 4846, 4534, 4306, 4090, 3887, 3827, 3635, 3578, 3454, 3401, 3230, 3068, 3022, 2768, 2684, 2591, 2551, 2423, 2302, 2267, 2153, 2045, 2014, 1789, 1727, 1615, 1534, 1511, 1384, 1342, 1151, 1007, 767, 692, 671, 520, 346, 260, 196, 173, 148, 130, 112, 98, 74, 65, 56, 52, 49, 40, 37, 34, 28, 26, 22, 20, 17, 16, 14, 13, 11, 10, 8, 7, 5, 4, 2, 1)\n"
     ]
    }
   ],
   "source": [
    "r = tuple(r[:-3])\n",
    "print(r)"
   ]
  },
  {
   "cell_type": "markdown",
   "metadata": {
    "cell_id": "6f881bcdef1a4ef6ace9a66b822e6444",
    "deepnote_cell_type": "markdown",
    "tags": []
   },
   "source": [
    "4. Lest die Datei ```names.txt``` ein und speichert das Alter aller Personen aus dem ```numpy array``` ```ages```, welches wie eine Liste behandelt werden kann, in einem dictionary. Fügt euch anschließend selbst zum dictionary hinzu und lasst euch erneut die Namen und Alter aller Personen ausgeben."
   ]
  },
  {
   "cell_type": "code",
   "execution_count": 18,
   "metadata": {
    "cell_id": "0c3eae12db164015a105bf0d45b8582d",
    "deepnote_cell_type": "code",
    "deepnote_to_be_reexecuted": false,
    "execution_millis": 3,
    "execution_start": 1673206941193,
    "output_cleared": true,
    "source_hash": "f3f423b0",
    "tags": []
   },
   "outputs": [
    {
     "name": "stdout",
     "output_type": "stream",
     "text": [
      "{'Tiana Haney': 63, 'Jair Ponce': 77, 'Kenyon Vega': 49, 'Antwan Christian': 40, 'Maggie Carpenter': 23, 'Finley Massey': 25, 'Frances Beck': 68, 'Jaelynn Lowery': 45, 'Giovani Sharp': 29, 'Trevor Mooney': 36, 'Elisa Tucker': 34, 'Trevor Russo': 29, 'Sonia Delacruz': 42, 'Dillon Ho': 74, 'Skyla Gonzalez': 71, 'Aaron Berger': 42, 'Kenzie Hernandez': 45, 'Alexandra Cummings': 34, 'Gary Park': 20, 'Naima Meyer': 25, 'Niclas Grocholski': 23, 'Konstantin Köster': 24}\n"
     ]
    }
   ],
   "source": [
    "from numpy.random import randint  # generates array of random integers\n",
    "\n",
    "ages = randint(low=18, high=80, size=20)\n",
    "\n",
    "# borrowed from above:\n",
    "with open(\"names.txt\", encoding=\"utf-8\") as f:\n",
    "    names = f.read()\n",
    "    \n",
    "names = names.split(\"\\n\")\n",
    "names = [' '.join(n.split()) for n in names]\n",
    "\n",
    "d = {name: age for name, age in zip(names, ages)}  # zip function takes elements of same positions from the two lists and returns them as a tuple which can be accessed in the dict-generator\n",
    "\n",
    "d[\"Niclas Grocholski\"] = 23\n",
    "d[\"Konstantin Köster\"] = 24\n",
    "\n",
    "print(d)"
   ]
  },
  {
   "cell_type": "markdown",
   "metadata": {
    "cell_id": "8ae886c225c54a93bb25a72931123c2c",
    "deepnote_cell_type": "markdown",
    "tags": []
   },
   "source": [
    "## Funktionen"
   ]
  },
  {
   "cell_type": "markdown",
   "metadata": {
    "cell_id": "e496187159c4408a9647737ca3677ffa",
    "deepnote_cell_type": "markdown",
    "tags": []
   },
   "source": [
    "1. Baut eine Funktion, die eine Temperatur von Grad Celsius in Kelvin umwandelt und den Wert in Kelvin zurückgibt."
   ]
  },
  {
   "cell_type": "code",
   "execution_count": 19,
   "metadata": {
    "cell_id": "0d5fa4b336064d929f10364954e84b43",
    "deepnote_cell_type": "code",
    "tags": []
   },
   "outputs": [
    {
     "name": "stdout",
     "output_type": "stream",
     "text": [
      "293.45\n"
     ]
    }
   ],
   "source": [
    "def temp_conv(c: float) -> float:  # type annotations (type hints) facilitate readability\n",
    "    return c + 273.15\n",
    "\n",
    "print(temp_conv(20.3))"
   ]
  },
  {
   "cell_type": "markdown",
   "metadata": {
    "cell_id": "8d393081fdce422cb95d42c38f76e139",
    "deepnote_cell_type": "markdown",
    "tags": []
   },
   "source": [
    "- Bonus 1: Erweitert eure Funktion um einen Parameter für Input- und gewünschte Output-Einheiten und ergänzt weitere Einheiten wie z.B. Grad Fahrenheit.\n",
    "- Bonus 2: Fangt den Fall ab, dass die eingegebene Temperatur nicht unter dem absoluten Nullpunkt liegen darf. Erzeugt bei einer solchen invaliden Eingabe einen Error."
   ]
  },
  {
   "cell_type": "code",
   "execution_count": 20,
   "metadata": {
    "cell_id": "6eaf0b60c2ae446d8fb7ea9c94a6bfa1",
    "deepnote_cell_type": "code",
    "tags": []
   },
   "outputs": [
    {
     "name": "stdout",
     "output_type": "stream",
     "text": [
      "298.45\n",
      "300.15\n"
     ]
    }
   ],
   "source": [
    "def temp_conv(c: float | None = None, f: float | None = None) -> float:\n",
    "    \"\"\"Temperaturkonversion zu Kelvin.\n",
    "    \n",
    "    Args:\n",
    "        c (float): Temperatur in °C\n",
    "        f (float): Temperatur in °F\n",
    "        \n",
    "    Returns:\n",
    "        float: Temperatur in Kelvin\n",
    "    \n",
    "    Raises:\n",
    "        ValueError: Wenn nicht genau eine Input-Zahl gegeben ist oder wenn Output-Wert unter absolutem Nullpunkt liegt.\n",
    "    \"\"\"\n",
    "    \n",
    "    if not ((c is not None) ^ (f is not None)):  # ensure that one value is provided\n",
    "        raise ValueError(\"Es darf nur ein Temperatur-Input gegeben sein.\")\n",
    "    \n",
    "    if c is not None:\n",
    "        k = c + 273.15\n",
    "    else:\n",
    "        k = (f - 32) * (5 / 9) + 273.15\n",
    "    \n",
    "    if not k >= 0:\n",
    "        raise ValueError(\"Kelvin-Temperatur liegt unter dem absoluten Nullpunkt.\")\n",
    "    \n",
    "    return k\n",
    "\n",
    "print(temp_conv(c=25.3))\n",
    "print(temp_conv(f=80.6))"
   ]
  },
  {
   "cell_type": "markdown",
   "metadata": {
    "cell_id": "a5af1fe9e339408c844ae6c3349a8244",
    "deepnote_cell_type": "markdown",
    "tags": []
   },
   "source": [
    "## Klassen"
   ]
  },
  {
   "cell_type": "markdown",
   "metadata": {
    "cell_id": "2ea9641ff97242359709cca6d9e9848e",
    "deepnote_cell_type": "markdown",
    "tags": []
   },
   "source": [
    "Implementiert eine Klasse ```Person``` mit den folgenden Eigenschaften:\n",
    "\n",
    "- jede Person hat die Attribute ```first_name```, ```last_name```, ```age``` und ```address```, deren Werte bei Initialisierung einer Instanz der Klasse definiert werden müssen,\n",
    "- Personen können ein Hobby (```hobby```) haben, müssen es aber nicht. Wählt einen passenden Standardwert, der reflektiert, dass Personen kein Hobby besitzen, sodass bei Initialisierung einer Instanz der Klasse nicht zwangsläufig ein Hobby definiert werden muss.\n",
    "\n",
    "1. Erzeugt 4 Instanzen der Klasse ```Person``` mit immer verschiedenen Werten für die Attribute oder auch ohne Werte für ```hobby```. Speichert alle Instanzen in einer Liste.\n",
    "\n"
   ]
  },
  {
   "cell_type": "code",
   "execution_count": 21,
   "metadata": {
    "cell_id": "6b7687eefc1543d7a4ffbbe82d42d09c",
    "deepnote_cell_type": "code",
    "tags": []
   },
   "outputs": [
    {
     "name": "stdout",
     "output_type": "stream",
     "text": [
      "<__main__.Person object at 0x000001DD66363750>\n",
      "<__main__.Person object at 0x000001DD57CA0190>\n",
      "<__main__.Person object at 0x000001DD57C1EB90>\n",
      "<__main__.Person object at 0x000001DD66349890>\n"
     ]
    }
   ],
   "source": [
    "from typing import Optional\n",
    "\n",
    "class Person:\n",
    "    def __init__(self, first_name: str, last_name: str, age: int, address: str, hobby: Optional[str] = None) -> None:\n",
    "        self.first_name = first_name\n",
    "        self.last_name = last_name\n",
    "        self.age = age\n",
    "        self.address = address\n",
    "        self.hobby = hobby\n",
    "        \n",
    "pers = [\n",
    "    Person(\"Max\", \"Mustermann\", 23, \"Musterstraße 3, 11111 Musterstadt\", \"Fußball\"),\n",
    "    Person(\"Gerd\", \"Hammer\", 38, \"Hausgasse 5, 11111 Musterstadt\", \"Judo\"),\n",
    "    Person(\"Kira\", \"Oberfrau\", 64, \"Alte Mühle 16a, 11111 Musterstadt\", \"Kochen\"),\n",
    "    Person(\"Brigitte\", \"Tobiaschek\", 12, \"Hanssenstraße 1, 11111 Musterstadt\")\n",
    "]\n",
    "\n",
    "for p in pers:\n",
    "    print(p)"
   ]
  },
  {
   "cell_type": "markdown",
   "metadata": {
    "cell_id": "09f13ba10a484c6a9fb168725e6a4f6d",
    "deepnote_cell_type": "markdown",
    "tags": []
   },
   "source": [
    "2. Fügt euerer Klasse nun eine Methode hinzu, die es euch ermöglicht, Informationen zu einer Person im Format \"Mein Vorname ist ```X```, mein Nachname ist ```X```, ich bin ```X``` Jahre alt und mein Hobby ist ```X```.\" ausgeben zu lassen. Gebt anschließend die zuvor erstellten Personenbeschreibungen aus."
   ]
  },
  {
   "cell_type": "code",
   "execution_count": 22,
   "metadata": {
    "cell_id": "01140cfb35fb469e9898f81cdef209b2",
    "deepnote_cell_type": "code",
    "tags": []
   },
   "outputs": [
    {
     "name": "stdout",
     "output_type": "stream",
     "text": [
      "Mein Vorname ist Max, mein Nachname ist Mustermann, ich bin 23 Jahre alt und mein Hobby ist Fußball.\n",
      "Mein Vorname ist Gerd, mein Nachname ist Hammer, ich bin 38 Jahre alt und mein Hobby ist Judo.\n",
      "Mein Vorname ist Kira, mein Nachname ist Oberfrau, ich bin 64 Jahre alt und mein Hobby ist Kochen.\n",
      "Mein Vorname ist Brigitte, mein Nachname ist Tobiaschek, ich bin 12 Jahre alt und mein Hobby ist None.\n"
     ]
    }
   ],
   "source": [
    "class Person:\n",
    "    def __init__(self, first_name: str, last_name: str, age: int, address: str, hobby: Optional[str] = None) -> None:\n",
    "        self.first_name = first_name\n",
    "        self.last_name = last_name\n",
    "        self.age = age\n",
    "        self.address = address\n",
    "        self.hobby = hobby\n",
    "        \n",
    "    def __str__(self) -> None:\n",
    "        return f\"Mein Vorname ist {self.first_name}, mein Nachname ist {self.last_name}, ich bin {self.age} Jahre alt und mein Hobby ist {self.hobby}.\"\n",
    "    \n",
    "pers = [\n",
    "    Person(\"Max\", \"Mustermann\", 23, \"Musterstraße 3, 11111 Musterstadt\", \"Fußball\"),\n",
    "    Person(\"Gerd\", \"Hammer\", 38, \"Hausgasse 5, 11111 Musterstadt\", \"Judo\"),\n",
    "    Person(\"Kira\", \"Oberfrau\", 64, \"Alte Mühle 16a, 11111 Musterstadt\", \"Kochen\"),\n",
    "    Person(\"Brigitte\", \"Tobiaschek\", 12, \"Hanssenstraße 1, 11111 Musterstadt\")\n",
    "]\n",
    "\n",
    "for p in pers:\n",
    "    print(p)"
   ]
  },
  {
   "cell_type": "markdown",
   "metadata": {
    "cell_id": "0ce640f870684dfaad06d79728015431",
    "deepnote_cell_type": "markdown",
    "tags": []
   },
   "source": [
    "3. Fügt der Klasse noch eine eigene Methode ```birthday``` hinzu, die das Alter der Person um ```1``` erhöht."
   ]
  },
  {
   "cell_type": "code",
   "execution_count": 23,
   "metadata": {
    "cell_id": "e1c605cd10f048bdb59125621aa62ebc",
    "deepnote_cell_type": "code",
    "tags": []
   },
   "outputs": [
    {
     "name": "stdout",
     "output_type": "stream",
     "text": [
      "Mein Vorname ist Max, mein Nachname ist Mustermann, ich bin 23 Jahre alt und mein Hobby ist Fußball.\n",
      "Mein Vorname ist Max, mein Nachname ist Mustermann, ich bin 24 Jahre alt und mein Hobby ist Fußball.\n",
      "\n",
      "Mein Vorname ist Gerd, mein Nachname ist Hammer, ich bin 38 Jahre alt und mein Hobby ist Judo.\n",
      "Mein Vorname ist Gerd, mein Nachname ist Hammer, ich bin 39 Jahre alt und mein Hobby ist Judo.\n",
      "\n",
      "Mein Vorname ist Kira, mein Nachname ist Oberfrau, ich bin 64 Jahre alt und mein Hobby ist Kochen.\n",
      "Mein Vorname ist Kira, mein Nachname ist Oberfrau, ich bin 65 Jahre alt und mein Hobby ist Kochen.\n",
      "\n",
      "Mein Vorname ist Brigitte, mein Nachname ist Tobiaschek, ich bin 12 Jahre alt und mein Hobby ist None.\n",
      "Mein Vorname ist Brigitte, mein Nachname ist Tobiaschek, ich bin 13 Jahre alt und mein Hobby ist None.\n",
      "\n"
     ]
    }
   ],
   "source": [
    "class Person:\n",
    "    def __init__(self, first_name: str, last_name: str, age: int, address: str, hobby: Optional[str] = None) -> None:\n",
    "        self.first_name = first_name\n",
    "        self.last_name = last_name\n",
    "        self.age = age\n",
    "        self.address = address\n",
    "        self.hobby = hobby\n",
    "        \n",
    "    def __str__(self) -> None:\n",
    "        return f\"Mein Vorname ist {self.first_name}, mein Nachname ist {self.last_name}, ich bin {self.age} Jahre alt und mein Hobby ist {self.hobby}.\"\n",
    "    \n",
    "    def birthday(self) -> None:\n",
    "        self.age += 1\n",
    "    \n",
    "pers = [\n",
    "    Person(\"Max\", \"Mustermann\", 23, \"Musterstraße 3, 11111 Musterstadt\", \"Fußball\"),\n",
    "    Person(\"Gerd\", \"Hammer\", 38, \"Hausgasse 5, 11111 Musterstadt\", \"Judo\"),\n",
    "    Person(\"Kira\", \"Oberfrau\", 64, \"Alte Mühle 16a, 11111 Musterstadt\", \"Kochen\"),\n",
    "    Person(\"Brigitte\", \"Tobiaschek\", 12, \"Hanssenstraße 1, 11111 Musterstadt\")\n",
    "]\n",
    "\n",
    "for p in pers:\n",
    "    print(p)\n",
    "    p.birthday()\n",
    "    print(p)\n",
    "    print()"
   ]
  },
  {
   "cell_type": "markdown",
   "metadata": {
    "cell_id": "0fba716f8d6c4ab989ec471826c0f55a",
    "deepnote_cell_type": "markdown",
    "tags": []
   },
   "source": [
    "## Module"
   ]
  },
  {
   "cell_type": "markdown",
   "metadata": {
    "cell_id": "4f3b4072b9564d7798adce3b1ec32b65",
    "deepnote_cell_type": "markdown",
    "tags": []
   },
   "source": [
    "1. Löscht alle Zeilen aus dem gegebenen Pandas DataFrame, bei denen der Wert von ```A``` größer als ```0``` und der Wert von ```B``` kleiner als ```0``` ist. Sortiert die Zeilen des DataFrames aufsteigend nach den Werten der Spalte ```A``` und gebt die ersten 5 Zeilen des DataFrames aus. Wie viele Zeilen hat der gefilterte DataFrame insgesamt?"
   ]
  },
  {
   "cell_type": "code",
   "execution_count": 24,
   "metadata": {
    "cell_id": "567c1e5de120486b96fe6cc73d2bfe29",
    "deepnote_cell_type": "code",
    "deepnote_to_be_reexecuted": false,
    "execution_millis": 0,
    "execution_start": 1673221245321,
    "source_hash": "451bedcc",
    "tags": []
   },
   "outputs": [
    {
     "name": "stdout",
     "output_type": "stream",
     "text": [
      "            A         B\n",
      "0    1.668068  0.925862\n",
      "1    1.057997 -0.920339\n",
      "2    1.299748  0.331183\n",
      "3   -0.509845 -0.903099\n",
      "4   -0.130016 -2.238203\n",
      "..        ...       ...\n",
      "995 -0.295453 -0.373837\n",
      "996  1.475659  0.966633\n",
      "997 -0.230262 -1.812992\n",
      "998  0.265278  0.961559\n",
      "999 -1.125342 -0.702794\n",
      "\n",
      "[1000 rows x 2 columns]\n",
      "\n",
      "            A         B\n",
      "7   -0.558975  1.042387\n",
      "8   -1.712263  0.136120\n",
      "9   -0.464444  0.050980\n",
      "13  -2.502813  0.410791\n",
      "15  -0.291052  0.314293\n",
      "..        ...       ...\n",
      "960 -0.095336  0.363468\n",
      "966 -0.463627  0.064488\n",
      "977 -0.385670  1.106372\n",
      "981 -0.990715  0.811206\n",
      "994 -0.869832  1.529064\n",
      "\n",
      "[264 rows x 2 columns]\n",
      "\n",
      "            A         B\n",
      "835 -3.102559  0.930003\n",
      "105 -2.721608  1.370591\n",
      "13  -2.502813  0.410791\n",
      "918 -2.496532  0.774759\n",
      "272 -2.469288  0.351923\n",
      "\n",
      "Anzahl an Zeilen: 264\n"
     ]
    }
   ],
   "source": [
    "from pandas import DataFrame\n",
    "from numpy.random import randn, seed\n",
    "\n",
    "seed(102)\n",
    "\n",
    "df = DataFrame(randn(1000, 2), columns=[\"A\", \"B\"])\n",
    "\n",
    "print(df)\n",
    "print()\n",
    "\n",
    "df = df[(df[\"A\"] < 0) & (df[\"B\"] > 0)]\n",
    "\n",
    "print(df)\n",
    "print()\n",
    "\n",
    "df = df.sort_values(by=\"A\")\n",
    "\n",
    "print(df.head(5))\n",
    "print()\n",
    "\n",
    "print(\"Anzahl an Zeilen:\", len(df))"
   ]
  },
  {
   "cell_type": "markdown",
   "metadata": {
    "cell_id": "dcefad0c3eca46baa0ed3940e53e8c12",
    "deepnote_cell_type": "markdown",
    "tags": []
   },
   "source": [
    "2. Plottet ein Histogramm der Werte der Spalte ```B``` des DataFrames aus (1)."
   ]
  },
  {
   "cell_type": "code",
   "execution_count": 25,
   "metadata": {
    "cell_id": "013cacd937694fe0807098f16384f09f",
    "deepnote_cell_type": "code",
    "tags": []
   },
   "outputs": [
    {
     "data": {
      "image/png": "[encoded data removed]",
      "text/plain": [
       "<Figure size 640x480 with 1 Axes>"
      ]
     },
     "metadata": {},
     "output_type": "display_data"
    }
   ],
   "source": [
    "import matplotlib.pyplot as plt\n",
    "\n",
    "df[\"B\"].plot.hist()\n",
    "\n",
    "plt.show()\n",
    "plt.close()"
   ]
  },
  {
   "cell_type": "markdown",
   "metadata": {
    "cell_id": "0e03c68140c34525bbba2c42c5bfa67e",
    "deepnote_cell_type": "markdown",
    "tags": []
   },
   "source": [
    "# Noch nicht genug?"
   ]
  },
  {
   "cell_type": "markdown",
   "metadata": {
    "cell_id": "647e3f492a9d4b85a761820124a0f85b",
    "deepnote_cell_type": "markdown",
    "tags": []
   },
   "source": [
    "Beim [Advent of Code](https://adventofcode.com/) gibt es seit 2015 jährlich zahlreiche kleine Programmieraufgaben. Vor allem die ersten Tage der Kalender (einfach das Jahr im Link anpassen) bieten anfängerfreundliche kleine Programmierprobleme zum Lösen. Ihr könnt entweder den Beispiel-Input nehmen, zu diesem steht dann auch immer die Lösung im Text oder ihr meldet euch kostenlos und werbefrei an und erhaltet eine richtige Input-Datei für die Aufgabe.\n",
    "\n",
    "**Hinweis**: Vor allem die Aufgabe an den späteren Tagen werden teilweise sehr komplex und richten sich dann an echte Experten (Informatiker, Mathematiker) und nicht an Einsteiger. Wenn ihr also so gar nicht mit einer Aufgabe klar kommt, wählt einfach eine andere aus der Sammlung. Da es beim Programmieren auch viel darum geht, von anderen zu lernen, schaut euch gerne alternative Lösungen des Advent of Code auf [Reddit](https://www.reddit.com/r/adventofcode/) an."
   ]
  }
 ],
 "metadata": {
  "deepnote": {},
  "deepnote_execution_queue": [],
  "deepnote_full_width": true,
  "deepnote_notebook_id": "022fc9f792f04df69a510bb74f00c8b4",
  "deepnote_persisted_session": {
   "createdAt": "2023-01-08T20:01:27.474Z"
  },
  "kernelspec": {
   "display_name": "Python 3 (ipykernel)",
   "language": "python",
   "name": "python3"
  },
  "language_info": {
   "codemirror_mode": {
    "name": "ipython",
    "version": 3
   },
   "file_extension": ".py",
   "mimetype": "text/x-python",
   "name": "python",
   "nbconvert_exporter": "python",
   "pygments_lexer": "ipython3",
   "version": "3.11.1"
  }
 },
 "nbformat": 4,
 "nbformat_minor": 4
}
